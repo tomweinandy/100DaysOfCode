{
 "cells": [
  {
   "cell_type": "markdown",
   "source": [
    "## Weeks 1-2: Back to the Basics :|\n",
    "* You can type the integer 1MM as 1_000_000 and it is still type int\n",
    "* 8/4 will become a float but 8//4 will become an int\n",
    "* int(2.6) will cast the float as an int *without rounding*, i.e., becomes 2\n",
    "* draw.io is a useful drawing tool for making flow charts\n",
    "* % is the modulo and shows the remainder (e.g., 7 % 2 == 1)\n",
    "* Python prefers spaces to tabs, and as of Python 3, the two cannot be intermixed\n",
    "* An indentation is made up of 4 spaces\n",
    "* Break exits a loop while continue restarts the loop\n",
    "* re.sub(r'[^a-zA-Z0-9]', '', string) removes non-alphanumeric items from string\n",
    "* Names: def function(parameter=argument)\n",
    "* A \"positional argument\" is like (parameter1, parameter2) but a \"keyword argument is (parameter=argument)\n",
    "* Functions can return multiple results (e.g., def fun(a, b): / a += 1 / b += 1/ return a, b / new_a, new_b = fun(1, 2)\n",
    "* Recursion is when you call a function within a function\n",
    "* The local and global scope of methods is part of a namespace\n",
    "* Python does not have block scope (e.g., variables defined within an if statement do not have different scope)\n",
    "* Avoid modifying global scope\n",
    "* Global constants by convention written is all caps (e.g., PI, CREDENTIALS)\n",
    "* https://pythontutor.com/visualize.html#mode=edit is a useful debugging tool"
   ],
   "metadata": {
    "collapsed": false,
    "pycharm": {
     "name": "#%% md\n"
    }
   },
   "outputs": [],
   "execution_count": 1
  },
  {
   "cell_type": "markdown",
   "source": [
    "## Weeks 3-?\n",
    "* PEP 8 is the conventional style guide for Python"
   ],
   "metadata": {
    "collapsed": false
   }
  },
  {
   "cell_type": "code",
   "execution_count": null,
   "outputs": [],
   "source": [],
   "metadata": {
    "collapsed": false,
    "pycharm": {
     "name": "#%%\n"
    }
   }
  }
 ],
 "metadata": {
  "kernelspec": {
   "display_name": "Python 3",
   "language": "python",
   "name": "python3"
  },
  "language_info": {
   "codemirror_mode": {
    "name": "ipython",
    "version": 2
   },
   "file_extension": ".py",
   "mimetype": "text/x-python",
   "name": "python",
   "nbconvert_exporter": "python",
   "pygments_lexer": "ipython2",
   "version": "2.7.6"
  }
 },
 "nbformat": 4,
 "nbformat_minor": 0
}