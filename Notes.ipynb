{
 "cells": [
  {
   "cell_type": "markdown",
   "source": [
    "## Beginner: Back to the basics :(\n",
    "* You can type the integer 1MM as 1_000_000 and it is still type int\n",
    "* 8/4 will become a float but 8//4 will become an int\n",
    "* int(2.6) will cast the float as an int *without rounding*, i.e., becomes 2\n",
    "* draw.io is a useful drawing tool for making flow charts\n",
    "* % is the modulo and shows the remainder (e.g., 7 % 2 == 1)\n",
    "* Python prefers spaces to tabs, and as of Python 3, the two cannot be intermixed\n",
    "* An indentation is made up of 4 spaces\n",
    "* Break exits a loop while continue restarts the loop\n",
    "* re.sub(r'[^a-zA-Z0-9]', '', string) removes non-alphanumeric items from string\n",
    "* Names: def function(parameter=argument)\n",
    "* A \"positional argument\" is like (parameter1, parameter2) but a \"keyword argument is (parameter=argument)\n",
    "* Functions can return multiple results (e.g., def fun(a, b): / a += 1 / b += 1/ return a, b / new_a, new_b = fun(1, 2)\n",
    "* Recursion is when you call a function within a function\n",
    "* The local and global scope of methods is part of a namespace\n",
    "* Python does not have block scope (e.g., variables defined within an if statement do not have different scope)\n",
    "* Avoid modifying global scope\n",
    "* Global constants by convention written is all caps (e.g., PI, CREDENTIALS)\n",
    "* https://pythontutor.com/visualize.html#mode=edit is a useful debugging tool"
   ],
   "metadata": {
    "collapsed": false
   }
  },
  {
   "cell_type": "markdown",
   "source": [
    "## Intermediate: Getting better with my OOP\n",
    "* PEP 8 is the conventional style guide for Python\n",
    "* Add two digits to num = 0.1 in an f-string by print(f'{num:.2f}')\n",
    "* A modeled object (a la OOP) has attributes and methods\n",
    "* A class is a blueprint used to create objects\n",
    "* Classes are written by convention in Pascal case"
   ],
   "metadata": {
    "collapsed": false
   }
  },
  {
   "cell_type": "code",
   "execution_count": 1,
   "outputs": [],
   "source": [
    "# Intro to object-oriented programming with the turtle class\n",
    "# https://docs.python.org/3/library/turtle.html\n",
    "from turtle import Turtle, Screen\n",
    "\n",
    "franklin = Turtle()\n",
    "franklin.shape('turtle')\n",
    "franklin.color('red')\n",
    "franklin.forward(100)\n",
    "\n",
    "my_screen = Screen()\n",
    "my_screen.exitonclick()"
   ],
   "metadata": {
    "collapsed": false,
    "pycharm": {
     "name": "#%%\n"
    }
   }
  },
  {
   "cell_type": "markdown",
   "source": [
    "* pypi.org (Python Package Index) is useful for package searches\n",
    "* A third way to install packages is going PyCharm -> Preferences -> Project: my_project_name -> Python Interpreter -> +\n",
    "* Access underlying python file of a package by right-clicking package name -> Go To -> Implementation(s)"
   ],
   "metadata": {
    "collapsed": false
   }
  },
  {
   "cell_type": "code",
   "execution_count": 12,
   "outputs": [
    {
     "name": "stdout",
     "output_type": "stream",
     "text": [
      "+------------+----------+\n",
      "| Pokemon    | Type     |\n",
      "+------------+----------+\n",
      "| Pikachu    | Electric |\n",
      "| Squirtle   | Water    |\n",
      "| Charmander | Fire     |\n",
      "+------------+----------+\n"
     ]
    }
   ],
   "source": [
    "from prettytable import PrettyTable\n",
    "\n",
    "table = PrettyTable()\n",
    "table.add_column('Pokemon', ['Pikachu', 'Squirtle', 'Charmander'])\n",
    "table.add_column('Type', ['Electric', 'Water', 'Fire'])\n",
    "table.align = 'l' #align is an attribute in the PrettyTable class\n",
    "\n",
    "print(table)"
   ],
   "metadata": {
    "collapsed": false,
    "pycharm": {
     "name": "#%%\n"
    }
   }
  },
  {
   "cell_type": "markdown",
   "source": [
    "* If a Class is a blueprint, then the Constructor (aka initializing) are the specifications for that blueprint\n",
    "* \"The attributes are the thing that an object had and the methods are the things that an object does.\"\n",
    "* Code -> Auto-Indent Lines is a cool featrure"
   ],
   "metadata": {
    "collapsed": false
   }
  },
  {
   "cell_type": "code",
   "execution_count": 4,
   "outputs": [
    {
     "name": "stdout",
     "output_type": "stream",
     "text": [
      "0\n",
      "1\n"
     ]
    }
   ],
   "source": [
    "# Example from Day 17\n",
    "class User:\n",
    "    def __init__(self, user_id, username):\n",
    "        self.id = user_id\n",
    "        self.username = username\n",
    "        self.followers = 0\n",
    "        self.following = 0\n",
    "\n",
    "    def follow(self, user):\n",
    "        user.followers += 1\n",
    "        self.following += 1\n",
    "\n",
    "user1 = User('001', 'aaron')\n",
    "user2 = User('002', 'tom')\n",
    "\n",
    "print(user1.following)\n",
    "user1.follow(user2)\n",
    "print(user1.following)\n"
   ],
   "metadata": {
    "collapsed": false,
    "pycharm": {
     "name": "#%%\n"
    }
   }
  },
  {
   "cell_type": "code",
   "execution_count": 13,
   "outputs": [
    {
     "name": "stdout",
     "output_type": "stream",
     "text": [
      "&quot;Hello world!&quot;\n"
     ]
    },
    {
     "data": {
      "text/plain": "'\"Hello world!\"'"
     },
     "execution_count": 13,
     "metadata": {},
     "output_type": "execute_result"
    }
   ],
   "source": [
    "# Removed parsing/encoding issue with quotation marks (among others)\n",
    "import html.parser\n",
    "text = '&quot;Hello world!&quot;'\n",
    "print(text)\n",
    "html.unescape(text)"
   ],
   "metadata": {
    "collapsed": false,
    "pycharm": {
     "name": "#%%\n"
    }
   }
  },
  {
   "cell_type": "markdown",
   "source": [
    "* Functions used as inputs should not include parentheses\n",
    "* A class can inherit the properties of another class. E.g., class Fish(Animal): / def __init__(self): / super().__init__()\n",
    "* Slicing is defined by [at_starting_position:before_ending_position:increment], e.g., [::2] returns every other item from a list and [::-1] returns the list in reverse\n",
    "* Modes when opening a file: read (r, default), write (w), append (a)\n",
    "* Using <with open('my_file.txt') as file> is better than <file = open('my_file.txt')> because the latter then needs to use <file.close()> or else it will use up memory\n",
    "* Opening a non-existent file in write mode will create a new file\n",
    "* List comprehension (e.g., [new_item for item in list]) is rather unique to the Python language\n",
    "* Convert a dataframe to a dictionary using {index:row for (row, index) in df.interrows()}\n",
    "* Shift F6 is the refactor shortcut on a Mac"
   ],
   "metadata": {
    "collapsed": false
   }
  },
  {
   "cell_type": "code",
   "execution_count": 3,
   "outputs": [
    {
     "data": {
      "text/plain": "55"
     },
     "execution_count": 3,
     "metadata": {},
     "output_type": "execute_result"
    }
   ],
   "source": [
    "# An example of a function with unlimited positional arguments\n",
    "def add(*args):\n",
    "    total = 0\n",
    "    for n in args:  # args is a tuple\n",
    "        total += n\n",
    "    return total\n",
    "\n",
    "add(1, 2, 3, 4, 5, 6, 7, 8, 9, 10)"
   ],
   "metadata": {
    "collapsed": false,
    "pycharm": {
     "name": "#%%\n"
    }
   }
  },
  {
   "cell_type": "code",
   "execution_count": 6,
   "outputs": [
    {
     "name": "stdout",
     "output_type": "stream",
     "text": [
      "{'add': 3, 'multiply': 5}\n",
      "add 3\n",
      "multiply 5\n",
      "3\n"
     ]
    }
   ],
   "source": [
    "# An example of a function with unlimited keyword arguments\n",
    "def calculate(**kwargs):\n",
    "    print(kwargs)\n",
    "    for key, value in kwargs.items():\n",
    "        print(key, value)\n",
    "    print(kwargs['add'])\n",
    "\n",
    "calculate(add=3, multiply=5)"
   ],
   "metadata": {
    "collapsed": false,
    "pycharm": {
     "name": "#%%\n"
    }
   }
  },
  {
   "cell_type": "code",
   "execution_count": 10,
   "outputs": [
    {
     "name": "stdout",
     "output_type": "stream",
     "text": [
      "None\n"
     ]
    }
   ],
   "source": [
    "# kwargs are useful in defining classes\n",
    "class Car:\n",
    "    def __init__(self, **kw):\n",
    "        # kw.get() is useful because it will return None if not specificed\n",
    "        self.make = kw.get('make')\n",
    "        self.model = kw.get('model')\n",
    "\n",
    "my_car = Car(make='Kia')\n",
    "print(my_car.model)"
   ],
   "metadata": {
    "collapsed": false,
    "pycharm": {
     "name": "#%%\n"
    }
   }
  },
  {
   "cell_type": "markdown",
   "source": [
    "* Tkinter has three layout managers\n",
    "    * *pack* just packs everything together in a vaguely logical order\n",
    "    * *place* assigns a widget to an x, y coordinate\n",
    "    * *grid* assigns a widget to a column, row; however, this is relative to other components\n",
    "* colorhunt.co is useful for picking a pallet of colors with associated hex codes.\n",
    "* Python is \"strongly typed\", meaning it records the data type of a saved variable.\n",
    "* Python is also \"dynamically typed\", meaning the variable type can be changed if the variable changes (e.g., a=2, a='2').\n",
    "* Types of errors:\n",
    "    * try: something that might cause an exception\n",
    "    * except: do this If there was an exception\n",
    "    * else: do this if there were no exceptions\n",
    "    * finally: do this no matter what happens\n",
    "* PEP 8 recommends \"except\" to be followed by an error type"
   ],
   "metadata": {
    "collapsed": false
   }
  },
  {
   "cell_type": "code",
   "execution_count": 3,
   "outputs": [],
   "source": [],
   "metadata": {
    "collapsed": false,
    "pycharm": {
     "name": "#%%\n"
    }
   }
  },
  {
   "cell_type": "code",
   "execution_count": null,
   "outputs": [],
   "source": [],
   "metadata": {
    "collapsed": false,
    "pycharm": {
     "name": "#%%\n"
    }
   }
  },
  {
   "cell_type": "code",
   "execution_count": null,
   "outputs": [],
   "source": [],
   "metadata": {
    "collapsed": false,
    "pycharm": {
     "name": "#%%\n"
    }
   }
  },
  {
   "cell_type": "code",
   "execution_count": null,
   "outputs": [],
   "source": [],
   "metadata": {
    "collapsed": false,
    "pycharm": {
     "name": "#%%\n"
    }
   }
  },
  {
   "cell_type": "code",
   "execution_count": 10,
   "outputs": [],
   "source": [],
   "metadata": {
    "collapsed": false,
    "pycharm": {
     "name": "#%%\n"
    }
   }
  },
  {
   "cell_type": "code",
   "execution_count": null,
   "outputs": [],
   "source": [],
   "metadata": {
    "collapsed": false,
    "pycharm": {
     "name": "#%%\n"
    }
   }
  }
 ],
 "metadata": {
  "kernelspec": {
   "display_name": "Python 3",
   "language": "python",
   "name": "python3"
  },
  "language_info": {
   "codemirror_mode": {
    "name": "ipython",
    "version": 2
   },
   "file_extension": ".py",
   "mimetype": "text/x-python",
   "name": "python",
   "nbconvert_exporter": "python",
   "pygments_lexer": "ipython2",
   "version": "2.7.6"
  }
 },
 "nbformat": 4,
 "nbformat_minor": 0
}