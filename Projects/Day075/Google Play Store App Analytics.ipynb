{
 "nbformat": 4,
 "nbformat_minor": 0,
 "metadata": {
  "kernelspec": {
   "display_name": "Python 3",
   "language": "python",
   "name": "python3"
  },
  "language_info": {
   "codemirror_mode": {
    "name": "ipython",
    "version": 3
   },
   "file_extension": ".py",
   "mimetype": "text/x-python",
   "name": "python",
   "nbconvert_exporter": "python",
   "pygments_lexer": "ipython3",
   "version": "3.7.3"
  },
  "colab": {
   "name": "Google Play Store App Analytics (start).ipynb",
   "provenance": [],
   "toc_visible": true
  }
 },
 "cells": [
  {
   "cell_type": "markdown",
   "metadata": {
    "dc": {
     "key": "4"
    },
    "run_control": {
     "frozen": true
    },
    "tags": [
     "context"
    ],
    "id": "-Sxae4jbdiT2"
   },
   "source": [
    "# Introduction\n",
    "\n",
    "In this notebook, we will do a comprehensive analysis of the Android app market by comparing thousands of apps in the Google Play store."
   ]
  },
  {
   "cell_type": "markdown",
   "metadata": {
    "id": "sDT5lMxadiT3"
   },
   "source": [
    "# About the Dataset of Google Play Store Apps & Reviews"
   ]
  },
  {
   "cell_type": "markdown",
   "metadata": {
    "id": "5CiydsdNdiT3"
   },
   "source": [
    "**Data Source:** <br>\n",
    "App and review data was scraped from the Google Play Store by Lavanya Gupta in 2018. Original files listed [here](\n",
    "https://www.kaggle.com/lava18/google-play-store-apps)."
   ]
  },
  {
   "cell_type": "markdown",
   "metadata": {
    "id": "BBKBNy4UdiT4"
   },
   "source": [
    "# Import Statements"
   ]
  },
  {
   "cell_type": "code",
   "metadata": {
    "id": "_5mfFH4_diT4",
    "executionInfo": {
     "status": "ok",
     "timestamp": 1602234478794,
     "user_tz": -60,
     "elapsed": 594,
     "user": {
      "displayName": "Philipp Muellauer",
      "photoUrl": "https://lh3.googleusercontent.com/a-/AOh14GjjWitgsmZ0M9Wmzf-SRYD005WcMGhejWWHMUiZnFw=s64",
      "userId": "02749974243016517270"
     }
    }
   },
   "source": [
    "import pandas as pd\n",
    "import plotly.express as px"
   ],
   "execution_count": 57,
   "outputs": []
  },
  {
   "cell_type": "markdown",
   "metadata": {
    "id": "KegC9nPDdiT7"
   },
   "source": [
    "# Notebook Presentation"
   ]
  },
  {
   "cell_type": "code",
   "metadata": {
    "id": "WPL7rhJndiT7"
   },
   "source": [
    "# Show numeric output in decimal format e.g., 2.15\n",
    "pd.options.display.float_format = '{:,.2f}'.format"
   ],
   "execution_count": 31,
   "outputs": []
  },
  {
   "cell_type": "markdown",
   "metadata": {
    "id": "Uc9LOZu9diT-"
   },
   "source": [
    "# Read the Dataset"
   ]
  },
  {
   "cell_type": "code",
   "metadata": {
    "id": "zU0Zisv_diT-",
    "executionInfo": {
     "status": "error",
     "timestamp": 1602234486357,
     "user_tz": -60,
     "elapsed": 441,
     "user": {
      "displayName": "Philipp Muellauer",
      "photoUrl": "https://lh3.googleusercontent.com/a-/AOh14GjjWitgsmZ0M9Wmzf-SRYD005WcMGhejWWHMUiZnFw=s64",
      "userId": "02749974243016517270"
     }
    },
    "outputId": "f88a917e-30a1-45a4-b17a-ab21e557913c",
    "colab": {
     "base_uri": "https://localhost:8080/",
     "height": 375
    }
   },
   "source": [
    "df_apps = pd.read_csv('apps.csv')"
   ],
   "execution_count": 32,
   "outputs": []
  },
  {
   "cell_type": "markdown",
   "metadata": {
    "id": "iKvSUwQldiUA"
   },
   "source": [
    "# Data Cleaning"
   ]
  },
  {
   "cell_type": "markdown",
   "metadata": {
    "id": "MWTzYZIds5L9"
   },
   "source": [
    "**Challenge**: How many rows and columns does `df_apps` have? What are the column names? Look at a random sample of 5 different rows with [.sample()](https://pandas.pydata.org/pandas-docs/stable/reference/api/pandas.DataFrame.sample.html)."
   ]
  },
  {
   "cell_type": "code",
   "metadata": {
    "id": "HJI7UsPrnuRf"
   },
   "source": [
    "df_apps.shape"
   ],
   "execution_count": 33,
   "outputs": [
    {
     "data": {
      "text/plain": "(10841, 12)"
     },
     "execution_count": 33,
     "metadata": {},
     "output_type": "execute_result"
    }
   ]
  },
  {
   "cell_type": "code",
   "metadata": {
    "id": "fKXFjPkmnuYA"
   },
   "source": [
    "df_apps.columns"
   ],
   "execution_count": 34,
   "outputs": [
    {
     "data": {
      "text/plain": "Index(['App', 'Category', 'Rating', 'Reviews', 'Size_MBs', 'Installs', 'Type',\n       'Price', 'Content_Rating', 'Genres', 'Last_Updated', 'Android_Ver'],\n      dtype='object')"
     },
     "execution_count": 34,
     "metadata": {},
     "output_type": "execute_result"
    }
   ]
  },
  {
   "cell_type": "code",
   "metadata": {
    "id": "MUluaHF5nueH"
   },
   "source": [
    "df_apps.sample(5)"
   ],
   "execution_count": 35,
   "outputs": [
    {
     "data": {
      "text/plain": "                                 App   Category  Rating  Reviews  Size_MBs  \\\n4252        Sniper Traning for CS GO       GAME    3.20      655     14.00   \n8033  MARCA - Diario Líder Deportivo     SPORTS    3.90    76340     14.00   \n3788           Paramedic Pocket Prep    MEDICAL    4.30      460     13.00   \n801                     Mukwonago AH    MEDICAL     NaN        1     29.00   \n5764               Socrative Teacher  EDUCATION    3.90     1239      1.80   \n\n       Installs  Type Price Content_Rating     Genres   Last_Updated  \\\n4252     50,000  Free     0           Teen     Action   May 18, 2016   \n8033  5,000,000  Free     0       Everyone     Sports  July 25, 2018   \n3788     10,000  Free     0       Everyone    Medical  July 12, 2018   \n801         100  Free     0       Everyone    Medical  June 29, 2017   \n5764    100,000  Free     0       Everyone  Education  July 29, 2016   \n\n       Android_Ver  \n4252    4.0 and up  \n8033    4.1 and up  \n3788    4.4 and up  \n801   4.0.3 and up  \n5764    3.2 and up  ",
      "text/html": "<div>\n<style scoped>\n    .dataframe tbody tr th:only-of-type {\n        vertical-align: middle;\n    }\n\n    .dataframe tbody tr th {\n        vertical-align: top;\n    }\n\n    .dataframe thead th {\n        text-align: right;\n    }\n</style>\n<table border=\"1\" class=\"dataframe\">\n  <thead>\n    <tr style=\"text-align: right;\">\n      <th></th>\n      <th>App</th>\n      <th>Category</th>\n      <th>Rating</th>\n      <th>Reviews</th>\n      <th>Size_MBs</th>\n      <th>Installs</th>\n      <th>Type</th>\n      <th>Price</th>\n      <th>Content_Rating</th>\n      <th>Genres</th>\n      <th>Last_Updated</th>\n      <th>Android_Ver</th>\n    </tr>\n  </thead>\n  <tbody>\n    <tr>\n      <th>4252</th>\n      <td>Sniper Traning for CS GO</td>\n      <td>GAME</td>\n      <td>3.20</td>\n      <td>655</td>\n      <td>14.00</td>\n      <td>50,000</td>\n      <td>Free</td>\n      <td>0</td>\n      <td>Teen</td>\n      <td>Action</td>\n      <td>May 18, 2016</td>\n      <td>4.0 and up</td>\n    </tr>\n    <tr>\n      <th>8033</th>\n      <td>MARCA - Diario Líder Deportivo</td>\n      <td>SPORTS</td>\n      <td>3.90</td>\n      <td>76340</td>\n      <td>14.00</td>\n      <td>5,000,000</td>\n      <td>Free</td>\n      <td>0</td>\n      <td>Everyone</td>\n      <td>Sports</td>\n      <td>July 25, 2018</td>\n      <td>4.1 and up</td>\n    </tr>\n    <tr>\n      <th>3788</th>\n      <td>Paramedic Pocket Prep</td>\n      <td>MEDICAL</td>\n      <td>4.30</td>\n      <td>460</td>\n      <td>13.00</td>\n      <td>10,000</td>\n      <td>Free</td>\n      <td>0</td>\n      <td>Everyone</td>\n      <td>Medical</td>\n      <td>July 12, 2018</td>\n      <td>4.4 and up</td>\n    </tr>\n    <tr>\n      <th>801</th>\n      <td>Mukwonago AH</td>\n      <td>MEDICAL</td>\n      <td>NaN</td>\n      <td>1</td>\n      <td>29.00</td>\n      <td>100</td>\n      <td>Free</td>\n      <td>0</td>\n      <td>Everyone</td>\n      <td>Medical</td>\n      <td>June 29, 2017</td>\n      <td>4.0.3 and up</td>\n    </tr>\n    <tr>\n      <th>5764</th>\n      <td>Socrative Teacher</td>\n      <td>EDUCATION</td>\n      <td>3.90</td>\n      <td>1239</td>\n      <td>1.80</td>\n      <td>100,000</td>\n      <td>Free</td>\n      <td>0</td>\n      <td>Everyone</td>\n      <td>Education</td>\n      <td>July 29, 2016</td>\n      <td>3.2 and up</td>\n    </tr>\n  </tbody>\n</table>\n</div>"
     },
     "execution_count": 35,
     "metadata": {},
     "output_type": "execute_result"
    }
   ]
  },
  {
   "cell_type": "markdown",
   "metadata": {
    "id": "Hh81sMcvdiUI"
   },
   "source": [
    "### Drop Unused Columns\n",
    "\n",
    "**Challenge**: Remove the columns called `Last_Updated` and `Android_Version` from the DataFrame. We will not use these columns. "
   ]
  },
  {
   "cell_type": "code",
   "metadata": {
    "id": "t7EMSKAOnyzI"
   },
   "source": [
    "df_apps_short = df_apps.drop(columns=['Last_Updated', 'Android_Ver'])"
   ],
   "execution_count": 36,
   "outputs": []
  },
  {
   "cell_type": "markdown",
   "metadata": {
    "id": "YQGe1DIKdiUM"
   },
   "source": [
    "### Find and Remove NaN values in Ratings\n",
    "\n",
    "**Challenge**: How may rows have a NaN value (not-a-number) in the Ratings column? Create DataFrame called `df_apps_clean` that does not include these rows. "
   ]
  },
  {
   "cell_type": "code",
   "metadata": {
    "id": "grcP1IOZn1Wv"
   },
   "source": [
    "df_apps_clean = df_apps_short.dropna(subset=['Rating'])"
   ],
   "execution_count": 37,
   "outputs": []
  },
  {
   "cell_type": "code",
   "metadata": {
    "id": "IbQnnPaUn1Pw"
   },
   "source": [
    "df_apps_clean.shape"
   ],
   "execution_count": 38,
   "outputs": [
    {
     "data": {
      "text/plain": "(9367, 10)"
     },
     "execution_count": 38,
     "metadata": {},
     "output_type": "execute_result"
    }
   ]
  },
  {
   "cell_type": "markdown",
   "metadata": {
    "id": "pD26SWlxdiUV"
   },
   "source": [
    "### Find and Remove Duplicates\n",
    "\n",
    "**Challenge**: Are there any duplicates in data? Check for duplicates using the [.duplicated()](https://pandas.pydata.org/pandas-docs/stable/reference/api/pandas.DataFrame.duplicated.html) function. How many entries can you find for the \"Instagram\" app? Use [.drop_duplicates()](https://pandas.pydata.org/pandas-docs/stable/reference/api/pandas.DataFrame.drop_duplicates.html) to remove any duplicates from `df_apps_clean`. \n"
   ]
  },
  {
   "cell_type": "code",
   "execution_count": 39,
   "outputs": [
    {
     "data": {
      "text/plain": "             App Category  Rating   Reviews  Size_MBs       Installs  Type  \\\n10806  Instagram   SOCIAL    4.50  66577313      5.30  1,000,000,000  Free   \n10808  Instagram   SOCIAL    4.50  66577446      5.30  1,000,000,000  Free   \n10809  Instagram   SOCIAL    4.50  66577313      5.30  1,000,000,000  Free   \n10810  Instagram   SOCIAL    4.50  66509917      5.30  1,000,000,000  Free   \n\n      Price Content_Rating  Genres  \n10806     0           Teen  Social  \n10808     0           Teen  Social  \n10809     0           Teen  Social  \n10810     0           Teen  Social  ",
      "text/html": "<div>\n<style scoped>\n    .dataframe tbody tr th:only-of-type {\n        vertical-align: middle;\n    }\n\n    .dataframe tbody tr th {\n        vertical-align: top;\n    }\n\n    .dataframe thead th {\n        text-align: right;\n    }\n</style>\n<table border=\"1\" class=\"dataframe\">\n  <thead>\n    <tr style=\"text-align: right;\">\n      <th></th>\n      <th>App</th>\n      <th>Category</th>\n      <th>Rating</th>\n      <th>Reviews</th>\n      <th>Size_MBs</th>\n      <th>Installs</th>\n      <th>Type</th>\n      <th>Price</th>\n      <th>Content_Rating</th>\n      <th>Genres</th>\n    </tr>\n  </thead>\n  <tbody>\n    <tr>\n      <th>10806</th>\n      <td>Instagram</td>\n      <td>SOCIAL</td>\n      <td>4.50</td>\n      <td>66577313</td>\n      <td>5.30</td>\n      <td>1,000,000,000</td>\n      <td>Free</td>\n      <td>0</td>\n      <td>Teen</td>\n      <td>Social</td>\n    </tr>\n    <tr>\n      <th>10808</th>\n      <td>Instagram</td>\n      <td>SOCIAL</td>\n      <td>4.50</td>\n      <td>66577446</td>\n      <td>5.30</td>\n      <td>1,000,000,000</td>\n      <td>Free</td>\n      <td>0</td>\n      <td>Teen</td>\n      <td>Social</td>\n    </tr>\n    <tr>\n      <th>10809</th>\n      <td>Instagram</td>\n      <td>SOCIAL</td>\n      <td>4.50</td>\n      <td>66577313</td>\n      <td>5.30</td>\n      <td>1,000,000,000</td>\n      <td>Free</td>\n      <td>0</td>\n      <td>Teen</td>\n      <td>Social</td>\n    </tr>\n    <tr>\n      <th>10810</th>\n      <td>Instagram</td>\n      <td>SOCIAL</td>\n      <td>4.50</td>\n      <td>66509917</td>\n      <td>5.30</td>\n      <td>1,000,000,000</td>\n      <td>Free</td>\n      <td>0</td>\n      <td>Teen</td>\n      <td>Social</td>\n    </tr>\n  </tbody>\n</table>\n</div>"
     },
     "execution_count": 39,
     "metadata": {},
     "output_type": "execute_result"
    }
   ],
   "source": [
    "df_apps_clean[df_apps_clean['App']=='Instagram']"
   ],
   "metadata": {
    "collapsed": false,
    "pycharm": {
     "name": "#%%\n"
    }
   }
  },
  {
   "cell_type": "code",
   "metadata": {
    "id": "lE7X6KG3n5pR"
   },
   "source": [
    "df_apps_clean.duplicated().sum()"
   ],
   "execution_count": 40,
   "outputs": [
    {
     "data": {
      "text/plain": "476"
     },
     "execution_count": 40,
     "metadata": {},
     "output_type": "execute_result"
    }
   ]
  },
  {
   "cell_type": "code",
   "execution_count": 41,
   "outputs": [
    {
     "data": {
      "text/plain": "1168"
     },
     "execution_count": 41,
     "metadata": {},
     "output_type": "execute_result"
    }
   ],
   "source": [
    "df_apps_clean.duplicated(subset=['App', 'Type', 'Price']).sum()"
   ],
   "metadata": {
    "collapsed": false,
    "pycharm": {
     "name": "#%%\n"
    }
   }
  },
  {
   "cell_type": "code",
   "metadata": {
    "id": "GK2rP7wgn53-"
   },
   "source": [
    "df_apps_dedupe = df_apps_clean.drop_duplicates(subset=['App', 'Type', 'Price'])"
   ],
   "execution_count": 42,
   "outputs": []
  },
  {
   "cell_type": "code",
   "metadata": {
    "id": "AagS_wgWn5ib"
   },
   "source": [
    "df_apps_dedupe.shape"
   ],
   "execution_count": 43,
   "outputs": [
    {
     "data": {
      "text/plain": "(8199, 10)"
     },
     "execution_count": 43,
     "metadata": {},
     "output_type": "execute_result"
    }
   ]
  },
  {
   "cell_type": "markdown",
   "metadata": {
    "id": "GJrM69CfdiUh"
   },
   "source": [
    "# Find Highest Rated Apps\n",
    "\n",
    "**Challenge**: Identify which apps are the highest rated. What problem might you encounter if you rely exclusively on ratings alone to determine the quality of an app?"
   ]
  },
  {
   "cell_type": "code",
   "metadata": {
    "id": "rp7vFHBMn7st"
   },
   "source": [
    "df_apps_dedupe.sort_values(['Rating', 'Reviews'], ascending=False)"
   ],
   "execution_count": 46,
   "outputs": [
    {
     "data": {
      "text/plain": "                                                    App      Category  Rating  \\\n2095                                         Ríos de Fe     LIFESTYLE    5.00   \n2438  FD Calculator (EMI, SIP, RD & Loan Eligilibility)       FINANCE    5.00   \n3115                                         Oración CX     LIFESTYLE    5.00   \n2107                     Barisal University App-BU Face        FAMILY    5.00   \n2069                                         Master E.K        FAMILY    5.00   \n...                                                 ...           ...     ...   \n728                       Truck Driving Test Class 3 BC        FAMILY    1.00   \n1208                                     Thistletown CI  PRODUCTIVITY    1.00   \n1271                                             MbH BM       MEDICAL    1.00   \n1314                                        CR Magazine      BUSINESS    1.00   \n2416                   BJ Bridge Standard American 2018          GAME    1.00   \n\n      Reviews  Size_MBs Installs  Type  Price Content_Rating        Genres  \n2095      141     15.00    1,000  Free      0       Everyone     Lifestyle  \n2438      104      2.30    1,000  Free      0       Everyone       Finance  \n3115      103      3.80    5,000  Free      0       Everyone     Lifestyle  \n2107      100     10.00    1,000  Free      0       Everyone     Education  \n2069       90     19.00    1,000  Free      0       Everyone     Education  \n...       ...       ...      ...   ...    ...            ...           ...  \n728         1      2.00       50  Paid  $1.49       Everyone     Education  \n1208        1      6.60      100  Free      0       Everyone  Productivity  \n1271        1      2.30      100  Free      0       Everyone       Medical  \n1314        1      7.80      100  Free      0       Everyone      Business  \n2416        1      4.90    1,000  Free      0       Everyone          Card  \n\n[8199 rows x 10 columns]",
      "text/html": "<div>\n<style scoped>\n    .dataframe tbody tr th:only-of-type {\n        vertical-align: middle;\n    }\n\n    .dataframe tbody tr th {\n        vertical-align: top;\n    }\n\n    .dataframe thead th {\n        text-align: right;\n    }\n</style>\n<table border=\"1\" class=\"dataframe\">\n  <thead>\n    <tr style=\"text-align: right;\">\n      <th></th>\n      <th>App</th>\n      <th>Category</th>\n      <th>Rating</th>\n      <th>Reviews</th>\n      <th>Size_MBs</th>\n      <th>Installs</th>\n      <th>Type</th>\n      <th>Price</th>\n      <th>Content_Rating</th>\n      <th>Genres</th>\n    </tr>\n  </thead>\n  <tbody>\n    <tr>\n      <th>2095</th>\n      <td>Ríos de Fe</td>\n      <td>LIFESTYLE</td>\n      <td>5.00</td>\n      <td>141</td>\n      <td>15.00</td>\n      <td>1,000</td>\n      <td>Free</td>\n      <td>0</td>\n      <td>Everyone</td>\n      <td>Lifestyle</td>\n    </tr>\n    <tr>\n      <th>2438</th>\n      <td>FD Calculator (EMI, SIP, RD &amp; Loan Eligilibility)</td>\n      <td>FINANCE</td>\n      <td>5.00</td>\n      <td>104</td>\n      <td>2.30</td>\n      <td>1,000</td>\n      <td>Free</td>\n      <td>0</td>\n      <td>Everyone</td>\n      <td>Finance</td>\n    </tr>\n    <tr>\n      <th>3115</th>\n      <td>Oración CX</td>\n      <td>LIFESTYLE</td>\n      <td>5.00</td>\n      <td>103</td>\n      <td>3.80</td>\n      <td>5,000</td>\n      <td>Free</td>\n      <td>0</td>\n      <td>Everyone</td>\n      <td>Lifestyle</td>\n    </tr>\n    <tr>\n      <th>2107</th>\n      <td>Barisal University App-BU Face</td>\n      <td>FAMILY</td>\n      <td>5.00</td>\n      <td>100</td>\n      <td>10.00</td>\n      <td>1,000</td>\n      <td>Free</td>\n      <td>0</td>\n      <td>Everyone</td>\n      <td>Education</td>\n    </tr>\n    <tr>\n      <th>2069</th>\n      <td>Master E.K</td>\n      <td>FAMILY</td>\n      <td>5.00</td>\n      <td>90</td>\n      <td>19.00</td>\n      <td>1,000</td>\n      <td>Free</td>\n      <td>0</td>\n      <td>Everyone</td>\n      <td>Education</td>\n    </tr>\n    <tr>\n      <th>...</th>\n      <td>...</td>\n      <td>...</td>\n      <td>...</td>\n      <td>...</td>\n      <td>...</td>\n      <td>...</td>\n      <td>...</td>\n      <td>...</td>\n      <td>...</td>\n      <td>...</td>\n    </tr>\n    <tr>\n      <th>728</th>\n      <td>Truck Driving Test Class 3 BC</td>\n      <td>FAMILY</td>\n      <td>1.00</td>\n      <td>1</td>\n      <td>2.00</td>\n      <td>50</td>\n      <td>Paid</td>\n      <td>$1.49</td>\n      <td>Everyone</td>\n      <td>Education</td>\n    </tr>\n    <tr>\n      <th>1208</th>\n      <td>Thistletown CI</td>\n      <td>PRODUCTIVITY</td>\n      <td>1.00</td>\n      <td>1</td>\n      <td>6.60</td>\n      <td>100</td>\n      <td>Free</td>\n      <td>0</td>\n      <td>Everyone</td>\n      <td>Productivity</td>\n    </tr>\n    <tr>\n      <th>1271</th>\n      <td>MbH BM</td>\n      <td>MEDICAL</td>\n      <td>1.00</td>\n      <td>1</td>\n      <td>2.30</td>\n      <td>100</td>\n      <td>Free</td>\n      <td>0</td>\n      <td>Everyone</td>\n      <td>Medical</td>\n    </tr>\n    <tr>\n      <th>1314</th>\n      <td>CR Magazine</td>\n      <td>BUSINESS</td>\n      <td>1.00</td>\n      <td>1</td>\n      <td>7.80</td>\n      <td>100</td>\n      <td>Free</td>\n      <td>0</td>\n      <td>Everyone</td>\n      <td>Business</td>\n    </tr>\n    <tr>\n      <th>2416</th>\n      <td>BJ Bridge Standard American 2018</td>\n      <td>GAME</td>\n      <td>1.00</td>\n      <td>1</td>\n      <td>4.90</td>\n      <td>1,000</td>\n      <td>Free</td>\n      <td>0</td>\n      <td>Everyone</td>\n      <td>Card</td>\n    </tr>\n  </tbody>\n</table>\n<p>8199 rows × 10 columns</p>\n</div>"
     },
     "execution_count": 46,
     "metadata": {},
     "output_type": "execute_result"
    }
   ]
  },
  {
   "cell_type": "code",
   "execution_count": 47,
   "outputs": [
    {
     "name": "stdout",
     "output_type": "stream",
     "text": [
      "Ratings alone are not enough to measure app quality because an app with one download and a 5-star review would not be considered high quality.\n"
     ]
    }
   ],
   "source": [
    "print('Ratings alone are not enough to measure app quality because an app with one download and a 5-star review would not be considered high quality.')"
   ],
   "metadata": {
    "collapsed": false,
    "pycharm": {
     "name": "#%%\n"
    }
   }
  },
  {
   "cell_type": "markdown",
   "metadata": {
    "id": "28o1Tro4diUi"
   },
   "source": [
    "# Find 5 Largest Apps in terms of Size (MBs)\n",
    "\n",
    "**Challenge**: What's the size in megabytes (MB) of the largest Android apps in the Google Play Store. Based on the data, do you think there could be limit in place or can developers make apps as large as they please? "
   ]
  },
  {
   "cell_type": "code",
   "metadata": {
    "id": "n5r0pJCOn9Vu"
   },
   "source": [
    "df_apps_dedupe.sort_values('Size_MBs', ascending=False)"
   ],
   "execution_count": 48,
   "outputs": [
    {
     "data": {
      "text/plain": "                                  App            Category  Rating  Reviews  \\\n9942   Talking Babsy Baby: Baby Games           LIFESTYLE    4.00   140995   \n10687          Hungry Shark Evolution                GAME    4.50  6074334   \n9943            Miami crime simulator                GAME    4.00   254518   \n9944     Gangster Town: Vice District              FAMILY    4.30    65146   \n3144                       Vi Trainer  HEALTH_AND_FITNESS    3.60      124   \n...                               ...                 ...     ...      ...   \n2648      Ad Remove Plugin for App2SD        PRODUCTIVITY    4.10       66   \n5798                 ExDialer PRO Key       COMMUNICATION    4.50     5474   \n2684     My baby firework (Remove ad)              FAMILY    4.10       30   \n7966             Market Update Helper  LIBRARIES_AND_DEMO    4.10    20145   \n4696              Essential Resources  LIBRARIES_AND_DEMO    4.60      237   \n\n       Size_MBs     Installs  Type  Price Content_Rating  \\\n9942     100.00   10,000,000  Free      0       Everyone   \n10687    100.00  100,000,000  Free      0           Teen   \n9943     100.00   10,000,000  Free      0     Mature 17+   \n9944     100.00   10,000,000  Free      0     Mature 17+   \n3144     100.00        5,000  Free      0       Everyone   \n...         ...          ...   ...    ...            ...   \n2648       0.02        1,000  Paid  $1.29       Everyone   \n5798       0.02      100,000  Paid  $3.99       Everyone   \n2684       0.01        1,000  Paid  $0.99       Everyone   \n7966       0.01    1,000,000  Free      0       Everyone   \n4696       0.01       50,000  Free      0       Everyone   \n\n                       Genres  \n9942   Lifestyle;Pretend Play  \n10687                  Arcade  \n9943                   Action  \n9944               Simulation  \n3144         Health & Fitness  \n...                       ...  \n2648             Productivity  \n5798            Communication  \n2684            Entertainment  \n7966         Libraries & Demo  \n4696         Libraries & Demo  \n\n[8199 rows x 10 columns]",
      "text/html": "<div>\n<style scoped>\n    .dataframe tbody tr th:only-of-type {\n        vertical-align: middle;\n    }\n\n    .dataframe tbody tr th {\n        vertical-align: top;\n    }\n\n    .dataframe thead th {\n        text-align: right;\n    }\n</style>\n<table border=\"1\" class=\"dataframe\">\n  <thead>\n    <tr style=\"text-align: right;\">\n      <th></th>\n      <th>App</th>\n      <th>Category</th>\n      <th>Rating</th>\n      <th>Reviews</th>\n      <th>Size_MBs</th>\n      <th>Installs</th>\n      <th>Type</th>\n      <th>Price</th>\n      <th>Content_Rating</th>\n      <th>Genres</th>\n    </tr>\n  </thead>\n  <tbody>\n    <tr>\n      <th>9942</th>\n      <td>Talking Babsy Baby: Baby Games</td>\n      <td>LIFESTYLE</td>\n      <td>4.00</td>\n      <td>140995</td>\n      <td>100.00</td>\n      <td>10,000,000</td>\n      <td>Free</td>\n      <td>0</td>\n      <td>Everyone</td>\n      <td>Lifestyle;Pretend Play</td>\n    </tr>\n    <tr>\n      <th>10687</th>\n      <td>Hungry Shark Evolution</td>\n      <td>GAME</td>\n      <td>4.50</td>\n      <td>6074334</td>\n      <td>100.00</td>\n      <td>100,000,000</td>\n      <td>Free</td>\n      <td>0</td>\n      <td>Teen</td>\n      <td>Arcade</td>\n    </tr>\n    <tr>\n      <th>9943</th>\n      <td>Miami crime simulator</td>\n      <td>GAME</td>\n      <td>4.00</td>\n      <td>254518</td>\n      <td>100.00</td>\n      <td>10,000,000</td>\n      <td>Free</td>\n      <td>0</td>\n      <td>Mature 17+</td>\n      <td>Action</td>\n    </tr>\n    <tr>\n      <th>9944</th>\n      <td>Gangster Town: Vice District</td>\n      <td>FAMILY</td>\n      <td>4.30</td>\n      <td>65146</td>\n      <td>100.00</td>\n      <td>10,000,000</td>\n      <td>Free</td>\n      <td>0</td>\n      <td>Mature 17+</td>\n      <td>Simulation</td>\n    </tr>\n    <tr>\n      <th>3144</th>\n      <td>Vi Trainer</td>\n      <td>HEALTH_AND_FITNESS</td>\n      <td>3.60</td>\n      <td>124</td>\n      <td>100.00</td>\n      <td>5,000</td>\n      <td>Free</td>\n      <td>0</td>\n      <td>Everyone</td>\n      <td>Health &amp; Fitness</td>\n    </tr>\n    <tr>\n      <th>...</th>\n      <td>...</td>\n      <td>...</td>\n      <td>...</td>\n      <td>...</td>\n      <td>...</td>\n      <td>...</td>\n      <td>...</td>\n      <td>...</td>\n      <td>...</td>\n      <td>...</td>\n    </tr>\n    <tr>\n      <th>2648</th>\n      <td>Ad Remove Plugin for App2SD</td>\n      <td>PRODUCTIVITY</td>\n      <td>4.10</td>\n      <td>66</td>\n      <td>0.02</td>\n      <td>1,000</td>\n      <td>Paid</td>\n      <td>$1.29</td>\n      <td>Everyone</td>\n      <td>Productivity</td>\n    </tr>\n    <tr>\n      <th>5798</th>\n      <td>ExDialer PRO Key</td>\n      <td>COMMUNICATION</td>\n      <td>4.50</td>\n      <td>5474</td>\n      <td>0.02</td>\n      <td>100,000</td>\n      <td>Paid</td>\n      <td>$3.99</td>\n      <td>Everyone</td>\n      <td>Communication</td>\n    </tr>\n    <tr>\n      <th>2684</th>\n      <td>My baby firework (Remove ad)</td>\n      <td>FAMILY</td>\n      <td>4.10</td>\n      <td>30</td>\n      <td>0.01</td>\n      <td>1,000</td>\n      <td>Paid</td>\n      <td>$0.99</td>\n      <td>Everyone</td>\n      <td>Entertainment</td>\n    </tr>\n    <tr>\n      <th>7966</th>\n      <td>Market Update Helper</td>\n      <td>LIBRARIES_AND_DEMO</td>\n      <td>4.10</td>\n      <td>20145</td>\n      <td>0.01</td>\n      <td>1,000,000</td>\n      <td>Free</td>\n      <td>0</td>\n      <td>Everyone</td>\n      <td>Libraries &amp; Demo</td>\n    </tr>\n    <tr>\n      <th>4696</th>\n      <td>Essential Resources</td>\n      <td>LIBRARIES_AND_DEMO</td>\n      <td>4.60</td>\n      <td>237</td>\n      <td>0.01</td>\n      <td>50,000</td>\n      <td>Free</td>\n      <td>0</td>\n      <td>Everyone</td>\n      <td>Libraries &amp; Demo</td>\n    </tr>\n  </tbody>\n</table>\n<p>8199 rows × 10 columns</p>\n</div>"
     },
     "execution_count": 48,
     "metadata": {},
     "output_type": "execute_result"
    }
   ]
  },
  {
   "cell_type": "code",
   "execution_count": 49,
   "outputs": [
    {
     "name": "stdout",
     "output_type": "stream",
     "text": [
      "It looks like there is a 100MB cap on the size an app can be.\n"
     ]
    }
   ],
   "source": [
    "print('It looks like there is a 100MB cap on the size an app can be.')"
   ],
   "metadata": {
    "collapsed": false,
    "pycharm": {
     "name": "#%%\n"
    }
   }
  },
  {
   "cell_type": "markdown",
   "metadata": {
    "id": "C3gTckh7diUk"
   },
   "source": [
    "# Find the 5 App with Most Reviews\n",
    "\n",
    "**Challenge**: Which apps have the highest number of reviews? Are there any paid apps among the top 50?"
   ]
  },
  {
   "cell_type": "code",
   "metadata": {
    "id": "TLt98G0Sn_De"
   },
   "source": [
    "df_apps_dedupe.sort_values('Reviews', ascending=False)"
   ],
   "execution_count": 50,
   "outputs": [
    {
     "data": {
      "text/plain": "                                                  App            Category  \\\n10805                                        Facebook              SOCIAL   \n10785                              WhatsApp Messenger       COMMUNICATION   \n10806                                       Instagram              SOCIAL   \n10784        Messenger – Text and Video Chat for Free       COMMUNICATION   \n10650                                  Clash of Clans                GAME   \n...                                               ...                 ...   \n453                               Wowkwis aq Ka'qaquj              FAMILY   \n462                                            CB Fit  HEALTH_AND_FITNESS   \n901                   ES Billing System (Offline App)        PRODUCTIVITY   \n1416   Ek Kahani Aisi Bhi Season 3 - The Horror Story              FAMILY   \n1100                                     Chenoweth AH             MEDICAL   \n\n       Rating   Reviews  Size_MBs       Installs  Type Price Content_Rating  \\\n10805    4.10  78158306      5.30  1,000,000,000  Free     0           Teen   \n10785    4.40  69119316      3.50  1,000,000,000  Free     0       Everyone   \n10806    4.50  66577313      5.30  1,000,000,000  Free     0           Teen   \n10784    4.00  56642847      3.50  1,000,000,000  Free     0       Everyone   \n10650    4.60  44891723     98.00    100,000,000  Free     0   Everyone 10+   \n...       ...       ...       ...            ...   ...   ...            ...   \n453      5.00         1     49.00             10  Free     0       Everyone   \n462      5.00         1      7.80             10  Free     0       Everyone   \n901      5.00         1      4.20            100  Free     0       Everyone   \n1416     3.00         1      5.80            100  Free     0           Teen   \n1100     5.00         1     27.00            100  Free     0       Everyone   \n\n                    Genres  \n10805               Social  \n10785        Communication  \n10806               Social  \n10784        Communication  \n10650             Strategy  \n...                    ...  \n453    Education;Education  \n462       Health & Fitness  \n901           Productivity  \n1416         Entertainment  \n1100               Medical  \n\n[8199 rows x 10 columns]",
      "text/html": "<div>\n<style scoped>\n    .dataframe tbody tr th:only-of-type {\n        vertical-align: middle;\n    }\n\n    .dataframe tbody tr th {\n        vertical-align: top;\n    }\n\n    .dataframe thead th {\n        text-align: right;\n    }\n</style>\n<table border=\"1\" class=\"dataframe\">\n  <thead>\n    <tr style=\"text-align: right;\">\n      <th></th>\n      <th>App</th>\n      <th>Category</th>\n      <th>Rating</th>\n      <th>Reviews</th>\n      <th>Size_MBs</th>\n      <th>Installs</th>\n      <th>Type</th>\n      <th>Price</th>\n      <th>Content_Rating</th>\n      <th>Genres</th>\n    </tr>\n  </thead>\n  <tbody>\n    <tr>\n      <th>10805</th>\n      <td>Facebook</td>\n      <td>SOCIAL</td>\n      <td>4.10</td>\n      <td>78158306</td>\n      <td>5.30</td>\n      <td>1,000,000,000</td>\n      <td>Free</td>\n      <td>0</td>\n      <td>Teen</td>\n      <td>Social</td>\n    </tr>\n    <tr>\n      <th>10785</th>\n      <td>WhatsApp Messenger</td>\n      <td>COMMUNICATION</td>\n      <td>4.40</td>\n      <td>69119316</td>\n      <td>3.50</td>\n      <td>1,000,000,000</td>\n      <td>Free</td>\n      <td>0</td>\n      <td>Everyone</td>\n      <td>Communication</td>\n    </tr>\n    <tr>\n      <th>10806</th>\n      <td>Instagram</td>\n      <td>SOCIAL</td>\n      <td>4.50</td>\n      <td>66577313</td>\n      <td>5.30</td>\n      <td>1,000,000,000</td>\n      <td>Free</td>\n      <td>0</td>\n      <td>Teen</td>\n      <td>Social</td>\n    </tr>\n    <tr>\n      <th>10784</th>\n      <td>Messenger – Text and Video Chat for Free</td>\n      <td>COMMUNICATION</td>\n      <td>4.00</td>\n      <td>56642847</td>\n      <td>3.50</td>\n      <td>1,000,000,000</td>\n      <td>Free</td>\n      <td>0</td>\n      <td>Everyone</td>\n      <td>Communication</td>\n    </tr>\n    <tr>\n      <th>10650</th>\n      <td>Clash of Clans</td>\n      <td>GAME</td>\n      <td>4.60</td>\n      <td>44891723</td>\n      <td>98.00</td>\n      <td>100,000,000</td>\n      <td>Free</td>\n      <td>0</td>\n      <td>Everyone 10+</td>\n      <td>Strategy</td>\n    </tr>\n    <tr>\n      <th>...</th>\n      <td>...</td>\n      <td>...</td>\n      <td>...</td>\n      <td>...</td>\n      <td>...</td>\n      <td>...</td>\n      <td>...</td>\n      <td>...</td>\n      <td>...</td>\n      <td>...</td>\n    </tr>\n    <tr>\n      <th>453</th>\n      <td>Wowkwis aq Ka'qaquj</td>\n      <td>FAMILY</td>\n      <td>5.00</td>\n      <td>1</td>\n      <td>49.00</td>\n      <td>10</td>\n      <td>Free</td>\n      <td>0</td>\n      <td>Everyone</td>\n      <td>Education;Education</td>\n    </tr>\n    <tr>\n      <th>462</th>\n      <td>CB Fit</td>\n      <td>HEALTH_AND_FITNESS</td>\n      <td>5.00</td>\n      <td>1</td>\n      <td>7.80</td>\n      <td>10</td>\n      <td>Free</td>\n      <td>0</td>\n      <td>Everyone</td>\n      <td>Health &amp; Fitness</td>\n    </tr>\n    <tr>\n      <th>901</th>\n      <td>ES Billing System (Offline App)</td>\n      <td>PRODUCTIVITY</td>\n      <td>5.00</td>\n      <td>1</td>\n      <td>4.20</td>\n      <td>100</td>\n      <td>Free</td>\n      <td>0</td>\n      <td>Everyone</td>\n      <td>Productivity</td>\n    </tr>\n    <tr>\n      <th>1416</th>\n      <td>Ek Kahani Aisi Bhi Season 3 - The Horror Story</td>\n      <td>FAMILY</td>\n      <td>3.00</td>\n      <td>1</td>\n      <td>5.80</td>\n      <td>100</td>\n      <td>Free</td>\n      <td>0</td>\n      <td>Teen</td>\n      <td>Entertainment</td>\n    </tr>\n    <tr>\n      <th>1100</th>\n      <td>Chenoweth AH</td>\n      <td>MEDICAL</td>\n      <td>5.00</td>\n      <td>1</td>\n      <td>27.00</td>\n      <td>100</td>\n      <td>Free</td>\n      <td>0</td>\n      <td>Everyone</td>\n      <td>Medical</td>\n    </tr>\n  </tbody>\n</table>\n<p>8199 rows × 10 columns</p>\n</div>"
     },
     "execution_count": 50,
     "metadata": {},
     "output_type": "execute_result"
    }
   ]
  },
  {
   "cell_type": "code",
   "execution_count": 53,
   "outputs": [
    {
     "data": {
      "text/plain": "                                                     App            Category  \\\n10805                                           Facebook              SOCIAL   \n10649                                Asphalt 8: Airborne                GAME   \n10388           Minion Rush: Despicable Me Official Game                GAME   \n10694                                            Yes day                GAME   \n10695                                            Hay Day              FAMILY   \n10644                           Dream League Soccer 2018                GAME   \n10696                                  My Talking Angela                GAME   \n10660             VivaVideo - Video Editor & Photo Movie       VIDEO_PLAYERS   \n10786                       Google Chrome: Fast & Secure       COMMUNICATION   \n10817                          Maps - Navigate & Explore    TRAVEL_AND_LOCAL   \n10672                                  Hill Climb Racing                GAME   \n10734                                      Facebook Lite              SOCIAL   \n10699                          Mobile Legends: Bang Bang                GAME   \n10785                                 WhatsApp Messenger       COMMUNICATION   \n10322  Battery Doctor-Battery Life Saver & Battery Co...               TOOLS   \n10396                                     Piano Tiles 2™                GAME   \n10777                                       Temple Run 2                GAME   \n10822                                             Google               TOOLS   \n10359  Truecaller: Caller ID, SMS spam blocking & Dialer       COMMUNICATION   \n10711                         SHAREit - Transfer & Share               TOOLS   \n10389   Sniper 3D Gun Shooter: Free Shooting Games - FPS                GAME   \n10676                                   Farm Heroes Saga                GAME   \n10576   PicsArt Photo Studio: Collage Maker & Pic Editor         PHOTOGRAPHY   \n10461  PhotoGrid: Video & Pic Collage Maker, Photo Ed...         PHOTOGRAPHY   \n10628                                         Pokémon GO                GAME   \n10792                      Skype - free IM & video calls       COMMUNICATION   \n10717                                                Pou                GAME   \n10724                        LINE: Free Calls & Messages       COMMUNICATION   \n10806                                          Instagram              SOCIAL   \n10784           Messenger – Text and Video Chat for Free       COMMUNICATION   \n10650                                     Clash of Clans                GAME   \n10744            Clean Master- Space Cleaner & Antivirus               TOOLS   \n10835                                     Subway Surfers                GAME   \n10828                                            YouTube       VIDEO_PLAYERS   \n10746  Security Master - Antivirus, VPN, AppLock, Boo...               TOOLS   \n10584                                       Clash Royale                GAME   \n10763                                   Candy Crush Saga                GAME   \n10770        UC Browser - Fast Download Private & Secure       COMMUNICATION   \n10735                                           Snapchat              SOCIAL   \n10489    360 Security - Free Antivirus, Booster, Cleaner               TOOLS   \n10731                                     My Talking Tom                GAME   \n10594                                        8 Ball Pool                GAME   \n10302  DU Battery Saver - Battery Charger & Battery Life               TOOLS   \n10354                        BBM - Free Calls & Messages       COMMUNICATION   \n10549  Cache Cleaner-DU Speed Booster (booster & clea...               TOOLS   \n10757                                            Twitter  NEWS_AND_MAGAZINES   \n10721                                    Viber Messenger       COMMUNICATION   \n10578                                     Shadow Fight 2                GAME   \n10813                                      Google Photos         PHOTOGRAPHY   \n10502   GO Launcher - 3D parallax Themes & HD Wallpapers     PERSONALIZATION   \n\n       Rating   Reviews  Size_MBs       Installs  Type Price Content_Rating  \\\n10805    4.10  78158306      5.30  1,000,000,000  Free     0           Teen   \n10649    4.50   8389714     92.00    100,000,000  Free     0           Teen   \n10388    4.50  10216538     36.00    100,000,000  Free     0   Everyone 10+   \n10694    4.50  10055521     94.00    100,000,000  Free     0       Everyone   \n10695    4.50  10053186     94.00    100,000,000  Free     0       Everyone   \n10644    4.60   9882639     74.00    100,000,000  Free     0       Everyone   \n10696    4.50   9881829     99.00    100,000,000  Free     0       Everyone   \n10660    4.60   9879473     40.00    100,000,000  Free     0           Teen   \n10786    4.30   9642995      3.50  1,000,000,000  Free     0       Everyone   \n10817    4.30   9235155     12.00  1,000,000,000  Free     0       Everyone   \n10672    4.40   8923587     63.00    100,000,000  Free     0       Everyone   \n10734    4.30   8606259      5.30    500,000,000  Free     0           Teen   \n10699    4.40   8219586     99.00    100,000,000  Free     0           Teen   \n10785    4.40  69119316      3.50  1,000,000,000  Free     0       Everyone   \n10322    4.50   8190074     17.00    100,000,000  Free     0       Everyone   \n10396    4.70   8118880     36.00    100,000,000  Free     0       Everyone   \n10777    4.30   8118609     62.00    500,000,000  Free     0       Everyone   \n10822    4.40   8033493      3.40  1,000,000,000  Free     0       Everyone   \n10359    4.50   7820209      3.50    100,000,000  Free     0       Everyone   \n10711    4.60   7790693     17.00    500,000,000  Free     0       Everyone   \n10389    4.60   7671249     36.00    100,000,000  Free     0     Mature 17+   \n10676    4.40   7614130     70.00    100,000,000  Free     0       Everyone   \n10576    4.50   7594559     34.00    100,000,000  Free     0           Teen   \n10461    4.60   7529865      6.90    100,000,000  Free     0       Everyone   \n10628    4.10  10424925     85.00    100,000,000  Free     0       Everyone   \n10792    4.10  10484169      3.50  1,000,000,000  Free     0       Everyone   \n10717    4.30  10485308     24.00    500,000,000  Free     0       Everyone   \n10724    4.20  10790289      3.50    500,000,000  Free     0       Everyone   \n10806    4.50  66577313      5.30  1,000,000,000  Free     0           Teen   \n10784    4.00  56642847      3.50  1,000,000,000  Free     0       Everyone   \n10650    4.60  44891723     98.00    100,000,000  Free     0   Everyone 10+   \n10744    4.70  42916526      3.40    500,000,000  Free     0       Everyone   \n10835    4.50  27722264     76.00  1,000,000,000  Free     0   Everyone 10+   \n10828    4.30  25655305      4.65  1,000,000,000  Free     0           Teen   \n10746    4.70  24900999      3.40    500,000,000  Free     0       Everyone   \n10584    4.60  23133508     97.00    100,000,000  Free     0   Everyone 10+   \n10763    4.40  22426677     74.00    500,000,000  Free     0       Everyone   \n10770    4.50  17712922     40.00    500,000,000  Free     0           Teen   \n10735    4.00  17014787      5.30    500,000,000  Free     0           Teen   \n10489    4.60  16771865      3.40    100,000,000  Free     0       Everyone   \n10731    4.50  14891223     36.00    500,000,000  Free     0       Everyone   \n10594    4.50  14198297     52.00    100,000,000  Free     0       Everyone   \n10302    4.50  13479633     14.00    100,000,000  Free     0       Everyone   \n10354    4.30  12842860      3.50    100,000,000  Free     0       Everyone   \n10549    4.50  12759663     15.00    100,000,000  Free     0       Everyone   \n10757    4.30  11667403      6.30    500,000,000  Free     0     Mature 17+   \n10721    4.30  11334799      3.50    500,000,000  Free     0       Everyone   \n10578    4.60  10979062     88.00    100,000,000  Free     0   Everyone 10+   \n10813    4.50  10858556      6.90  1,000,000,000  Free     0       Everyone   \n10502    4.50   7464996      6.15    100,000,000  Free     0       Everyone   \n\n                          Genres  \n10805                     Social  \n10649                     Racing  \n10388  Casual;Action & Adventure  \n10694                     Casual  \n10695                     Casual  \n10644                     Sports  \n10696                     Casual  \n10660    Video Players & Editors  \n10786              Communication  \n10817             Travel & Local  \n10672                     Racing  \n10734                     Social  \n10699                     Action  \n10785              Communication  \n10322                      Tools  \n10396                     Arcade  \n10777                     Action  \n10822                      Tools  \n10359              Communication  \n10711                      Tools  \n10389                     Action  \n10676                     Casual  \n10576                Photography  \n10461                Photography  \n10628                  Adventure  \n10792              Communication  \n10717                     Casual  \n10724              Communication  \n10806                     Social  \n10784              Communication  \n10650                   Strategy  \n10744                      Tools  \n10835                     Arcade  \n10828    Video Players & Editors  \n10746                      Tools  \n10584                   Strategy  \n10763                     Casual  \n10770              Communication  \n10735                     Social  \n10489                      Tools  \n10731                     Casual  \n10594                     Sports  \n10302                      Tools  \n10354              Communication  \n10549                      Tools  \n10757           News & Magazines  \n10721              Communication  \n10578                     Action  \n10813                Photography  \n10502            Personalization  ",
      "text/html": "<div>\n<style scoped>\n    .dataframe tbody tr th:only-of-type {\n        vertical-align: middle;\n    }\n\n    .dataframe tbody tr th {\n        vertical-align: top;\n    }\n\n    .dataframe thead th {\n        text-align: right;\n    }\n</style>\n<table border=\"1\" class=\"dataframe\">\n  <thead>\n    <tr style=\"text-align: right;\">\n      <th></th>\n      <th>App</th>\n      <th>Category</th>\n      <th>Rating</th>\n      <th>Reviews</th>\n      <th>Size_MBs</th>\n      <th>Installs</th>\n      <th>Type</th>\n      <th>Price</th>\n      <th>Content_Rating</th>\n      <th>Genres</th>\n    </tr>\n  </thead>\n  <tbody>\n    <tr>\n      <th>10805</th>\n      <td>Facebook</td>\n      <td>SOCIAL</td>\n      <td>4.10</td>\n      <td>78158306</td>\n      <td>5.30</td>\n      <td>1,000,000,000</td>\n      <td>Free</td>\n      <td>0</td>\n      <td>Teen</td>\n      <td>Social</td>\n    </tr>\n    <tr>\n      <th>10649</th>\n      <td>Asphalt 8: Airborne</td>\n      <td>GAME</td>\n      <td>4.50</td>\n      <td>8389714</td>\n      <td>92.00</td>\n      <td>100,000,000</td>\n      <td>Free</td>\n      <td>0</td>\n      <td>Teen</td>\n      <td>Racing</td>\n    </tr>\n    <tr>\n      <th>10388</th>\n      <td>Minion Rush: Despicable Me Official Game</td>\n      <td>GAME</td>\n      <td>4.50</td>\n      <td>10216538</td>\n      <td>36.00</td>\n      <td>100,000,000</td>\n      <td>Free</td>\n      <td>0</td>\n      <td>Everyone 10+</td>\n      <td>Casual;Action &amp; Adventure</td>\n    </tr>\n    <tr>\n      <th>10694</th>\n      <td>Yes day</td>\n      <td>GAME</td>\n      <td>4.50</td>\n      <td>10055521</td>\n      <td>94.00</td>\n      <td>100,000,000</td>\n      <td>Free</td>\n      <td>0</td>\n      <td>Everyone</td>\n      <td>Casual</td>\n    </tr>\n    <tr>\n      <th>10695</th>\n      <td>Hay Day</td>\n      <td>FAMILY</td>\n      <td>4.50</td>\n      <td>10053186</td>\n      <td>94.00</td>\n      <td>100,000,000</td>\n      <td>Free</td>\n      <td>0</td>\n      <td>Everyone</td>\n      <td>Casual</td>\n    </tr>\n    <tr>\n      <th>10644</th>\n      <td>Dream League Soccer 2018</td>\n      <td>GAME</td>\n      <td>4.60</td>\n      <td>9882639</td>\n      <td>74.00</td>\n      <td>100,000,000</td>\n      <td>Free</td>\n      <td>0</td>\n      <td>Everyone</td>\n      <td>Sports</td>\n    </tr>\n    <tr>\n      <th>10696</th>\n      <td>My Talking Angela</td>\n      <td>GAME</td>\n      <td>4.50</td>\n      <td>9881829</td>\n      <td>99.00</td>\n      <td>100,000,000</td>\n      <td>Free</td>\n      <td>0</td>\n      <td>Everyone</td>\n      <td>Casual</td>\n    </tr>\n    <tr>\n      <th>10660</th>\n      <td>VivaVideo - Video Editor &amp; Photo Movie</td>\n      <td>VIDEO_PLAYERS</td>\n      <td>4.60</td>\n      <td>9879473</td>\n      <td>40.00</td>\n      <td>100,000,000</td>\n      <td>Free</td>\n      <td>0</td>\n      <td>Teen</td>\n      <td>Video Players &amp; Editors</td>\n    </tr>\n    <tr>\n      <th>10786</th>\n      <td>Google Chrome: Fast &amp; Secure</td>\n      <td>COMMUNICATION</td>\n      <td>4.30</td>\n      <td>9642995</td>\n      <td>3.50</td>\n      <td>1,000,000,000</td>\n      <td>Free</td>\n      <td>0</td>\n      <td>Everyone</td>\n      <td>Communication</td>\n    </tr>\n    <tr>\n      <th>10817</th>\n      <td>Maps - Navigate &amp; Explore</td>\n      <td>TRAVEL_AND_LOCAL</td>\n      <td>4.30</td>\n      <td>9235155</td>\n      <td>12.00</td>\n      <td>1,000,000,000</td>\n      <td>Free</td>\n      <td>0</td>\n      <td>Everyone</td>\n      <td>Travel &amp; Local</td>\n    </tr>\n    <tr>\n      <th>10672</th>\n      <td>Hill Climb Racing</td>\n      <td>GAME</td>\n      <td>4.40</td>\n      <td>8923587</td>\n      <td>63.00</td>\n      <td>100,000,000</td>\n      <td>Free</td>\n      <td>0</td>\n      <td>Everyone</td>\n      <td>Racing</td>\n    </tr>\n    <tr>\n      <th>10734</th>\n      <td>Facebook Lite</td>\n      <td>SOCIAL</td>\n      <td>4.30</td>\n      <td>8606259</td>\n      <td>5.30</td>\n      <td>500,000,000</td>\n      <td>Free</td>\n      <td>0</td>\n      <td>Teen</td>\n      <td>Social</td>\n    </tr>\n    <tr>\n      <th>10699</th>\n      <td>Mobile Legends: Bang Bang</td>\n      <td>GAME</td>\n      <td>4.40</td>\n      <td>8219586</td>\n      <td>99.00</td>\n      <td>100,000,000</td>\n      <td>Free</td>\n      <td>0</td>\n      <td>Teen</td>\n      <td>Action</td>\n    </tr>\n    <tr>\n      <th>10785</th>\n      <td>WhatsApp Messenger</td>\n      <td>COMMUNICATION</td>\n      <td>4.40</td>\n      <td>69119316</td>\n      <td>3.50</td>\n      <td>1,000,000,000</td>\n      <td>Free</td>\n      <td>0</td>\n      <td>Everyone</td>\n      <td>Communication</td>\n    </tr>\n    <tr>\n      <th>10322</th>\n      <td>Battery Doctor-Battery Life Saver &amp; Battery Co...</td>\n      <td>TOOLS</td>\n      <td>4.50</td>\n      <td>8190074</td>\n      <td>17.00</td>\n      <td>100,000,000</td>\n      <td>Free</td>\n      <td>0</td>\n      <td>Everyone</td>\n      <td>Tools</td>\n    </tr>\n    <tr>\n      <th>10396</th>\n      <td>Piano Tiles 2™</td>\n      <td>GAME</td>\n      <td>4.70</td>\n      <td>8118880</td>\n      <td>36.00</td>\n      <td>100,000,000</td>\n      <td>Free</td>\n      <td>0</td>\n      <td>Everyone</td>\n      <td>Arcade</td>\n    </tr>\n    <tr>\n      <th>10777</th>\n      <td>Temple Run 2</td>\n      <td>GAME</td>\n      <td>4.30</td>\n      <td>8118609</td>\n      <td>62.00</td>\n      <td>500,000,000</td>\n      <td>Free</td>\n      <td>0</td>\n      <td>Everyone</td>\n      <td>Action</td>\n    </tr>\n    <tr>\n      <th>10822</th>\n      <td>Google</td>\n      <td>TOOLS</td>\n      <td>4.40</td>\n      <td>8033493</td>\n      <td>3.40</td>\n      <td>1,000,000,000</td>\n      <td>Free</td>\n      <td>0</td>\n      <td>Everyone</td>\n      <td>Tools</td>\n    </tr>\n    <tr>\n      <th>10359</th>\n      <td>Truecaller: Caller ID, SMS spam blocking &amp; Dialer</td>\n      <td>COMMUNICATION</td>\n      <td>4.50</td>\n      <td>7820209</td>\n      <td>3.50</td>\n      <td>100,000,000</td>\n      <td>Free</td>\n      <td>0</td>\n      <td>Everyone</td>\n      <td>Communication</td>\n    </tr>\n    <tr>\n      <th>10711</th>\n      <td>SHAREit - Transfer &amp; Share</td>\n      <td>TOOLS</td>\n      <td>4.60</td>\n      <td>7790693</td>\n      <td>17.00</td>\n      <td>500,000,000</td>\n      <td>Free</td>\n      <td>0</td>\n      <td>Everyone</td>\n      <td>Tools</td>\n    </tr>\n    <tr>\n      <th>10389</th>\n      <td>Sniper 3D Gun Shooter: Free Shooting Games - FPS</td>\n      <td>GAME</td>\n      <td>4.60</td>\n      <td>7671249</td>\n      <td>36.00</td>\n      <td>100,000,000</td>\n      <td>Free</td>\n      <td>0</td>\n      <td>Mature 17+</td>\n      <td>Action</td>\n    </tr>\n    <tr>\n      <th>10676</th>\n      <td>Farm Heroes Saga</td>\n      <td>GAME</td>\n      <td>4.40</td>\n      <td>7614130</td>\n      <td>70.00</td>\n      <td>100,000,000</td>\n      <td>Free</td>\n      <td>0</td>\n      <td>Everyone</td>\n      <td>Casual</td>\n    </tr>\n    <tr>\n      <th>10576</th>\n      <td>PicsArt Photo Studio: Collage Maker &amp; Pic Editor</td>\n      <td>PHOTOGRAPHY</td>\n      <td>4.50</td>\n      <td>7594559</td>\n      <td>34.00</td>\n      <td>100,000,000</td>\n      <td>Free</td>\n      <td>0</td>\n      <td>Teen</td>\n      <td>Photography</td>\n    </tr>\n    <tr>\n      <th>10461</th>\n      <td>PhotoGrid: Video &amp; Pic Collage Maker, Photo Ed...</td>\n      <td>PHOTOGRAPHY</td>\n      <td>4.60</td>\n      <td>7529865</td>\n      <td>6.90</td>\n      <td>100,000,000</td>\n      <td>Free</td>\n      <td>0</td>\n      <td>Everyone</td>\n      <td>Photography</td>\n    </tr>\n    <tr>\n      <th>10628</th>\n      <td>Pokémon GO</td>\n      <td>GAME</td>\n      <td>4.10</td>\n      <td>10424925</td>\n      <td>85.00</td>\n      <td>100,000,000</td>\n      <td>Free</td>\n      <td>0</td>\n      <td>Everyone</td>\n      <td>Adventure</td>\n    </tr>\n    <tr>\n      <th>10792</th>\n      <td>Skype - free IM &amp; video calls</td>\n      <td>COMMUNICATION</td>\n      <td>4.10</td>\n      <td>10484169</td>\n      <td>3.50</td>\n      <td>1,000,000,000</td>\n      <td>Free</td>\n      <td>0</td>\n      <td>Everyone</td>\n      <td>Communication</td>\n    </tr>\n    <tr>\n      <th>10717</th>\n      <td>Pou</td>\n      <td>GAME</td>\n      <td>4.30</td>\n      <td>10485308</td>\n      <td>24.00</td>\n      <td>500,000,000</td>\n      <td>Free</td>\n      <td>0</td>\n      <td>Everyone</td>\n      <td>Casual</td>\n    </tr>\n    <tr>\n      <th>10724</th>\n      <td>LINE: Free Calls &amp; Messages</td>\n      <td>COMMUNICATION</td>\n      <td>4.20</td>\n      <td>10790289</td>\n      <td>3.50</td>\n      <td>500,000,000</td>\n      <td>Free</td>\n      <td>0</td>\n      <td>Everyone</td>\n      <td>Communication</td>\n    </tr>\n    <tr>\n      <th>10806</th>\n      <td>Instagram</td>\n      <td>SOCIAL</td>\n      <td>4.50</td>\n      <td>66577313</td>\n      <td>5.30</td>\n      <td>1,000,000,000</td>\n      <td>Free</td>\n      <td>0</td>\n      <td>Teen</td>\n      <td>Social</td>\n    </tr>\n    <tr>\n      <th>10784</th>\n      <td>Messenger – Text and Video Chat for Free</td>\n      <td>COMMUNICATION</td>\n      <td>4.00</td>\n      <td>56642847</td>\n      <td>3.50</td>\n      <td>1,000,000,000</td>\n      <td>Free</td>\n      <td>0</td>\n      <td>Everyone</td>\n      <td>Communication</td>\n    </tr>\n    <tr>\n      <th>10650</th>\n      <td>Clash of Clans</td>\n      <td>GAME</td>\n      <td>4.60</td>\n      <td>44891723</td>\n      <td>98.00</td>\n      <td>100,000,000</td>\n      <td>Free</td>\n      <td>0</td>\n      <td>Everyone 10+</td>\n      <td>Strategy</td>\n    </tr>\n    <tr>\n      <th>10744</th>\n      <td>Clean Master- Space Cleaner &amp; Antivirus</td>\n      <td>TOOLS</td>\n      <td>4.70</td>\n      <td>42916526</td>\n      <td>3.40</td>\n      <td>500,000,000</td>\n      <td>Free</td>\n      <td>0</td>\n      <td>Everyone</td>\n      <td>Tools</td>\n    </tr>\n    <tr>\n      <th>10835</th>\n      <td>Subway Surfers</td>\n      <td>GAME</td>\n      <td>4.50</td>\n      <td>27722264</td>\n      <td>76.00</td>\n      <td>1,000,000,000</td>\n      <td>Free</td>\n      <td>0</td>\n      <td>Everyone 10+</td>\n      <td>Arcade</td>\n    </tr>\n    <tr>\n      <th>10828</th>\n      <td>YouTube</td>\n      <td>VIDEO_PLAYERS</td>\n      <td>4.30</td>\n      <td>25655305</td>\n      <td>4.65</td>\n      <td>1,000,000,000</td>\n      <td>Free</td>\n      <td>0</td>\n      <td>Teen</td>\n      <td>Video Players &amp; Editors</td>\n    </tr>\n    <tr>\n      <th>10746</th>\n      <td>Security Master - Antivirus, VPN, AppLock, Boo...</td>\n      <td>TOOLS</td>\n      <td>4.70</td>\n      <td>24900999</td>\n      <td>3.40</td>\n      <td>500,000,000</td>\n      <td>Free</td>\n      <td>0</td>\n      <td>Everyone</td>\n      <td>Tools</td>\n    </tr>\n    <tr>\n      <th>10584</th>\n      <td>Clash Royale</td>\n      <td>GAME</td>\n      <td>4.60</td>\n      <td>23133508</td>\n      <td>97.00</td>\n      <td>100,000,000</td>\n      <td>Free</td>\n      <td>0</td>\n      <td>Everyone 10+</td>\n      <td>Strategy</td>\n    </tr>\n    <tr>\n      <th>10763</th>\n      <td>Candy Crush Saga</td>\n      <td>GAME</td>\n      <td>4.40</td>\n      <td>22426677</td>\n      <td>74.00</td>\n      <td>500,000,000</td>\n      <td>Free</td>\n      <td>0</td>\n      <td>Everyone</td>\n      <td>Casual</td>\n    </tr>\n    <tr>\n      <th>10770</th>\n      <td>UC Browser - Fast Download Private &amp; Secure</td>\n      <td>COMMUNICATION</td>\n      <td>4.50</td>\n      <td>17712922</td>\n      <td>40.00</td>\n      <td>500,000,000</td>\n      <td>Free</td>\n      <td>0</td>\n      <td>Teen</td>\n      <td>Communication</td>\n    </tr>\n    <tr>\n      <th>10735</th>\n      <td>Snapchat</td>\n      <td>SOCIAL</td>\n      <td>4.00</td>\n      <td>17014787</td>\n      <td>5.30</td>\n      <td>500,000,000</td>\n      <td>Free</td>\n      <td>0</td>\n      <td>Teen</td>\n      <td>Social</td>\n    </tr>\n    <tr>\n      <th>10489</th>\n      <td>360 Security - Free Antivirus, Booster, Cleaner</td>\n      <td>TOOLS</td>\n      <td>4.60</td>\n      <td>16771865</td>\n      <td>3.40</td>\n      <td>100,000,000</td>\n      <td>Free</td>\n      <td>0</td>\n      <td>Everyone</td>\n      <td>Tools</td>\n    </tr>\n    <tr>\n      <th>10731</th>\n      <td>My Talking Tom</td>\n      <td>GAME</td>\n      <td>4.50</td>\n      <td>14891223</td>\n      <td>36.00</td>\n      <td>500,000,000</td>\n      <td>Free</td>\n      <td>0</td>\n      <td>Everyone</td>\n      <td>Casual</td>\n    </tr>\n    <tr>\n      <th>10594</th>\n      <td>8 Ball Pool</td>\n      <td>GAME</td>\n      <td>4.50</td>\n      <td>14198297</td>\n      <td>52.00</td>\n      <td>100,000,000</td>\n      <td>Free</td>\n      <td>0</td>\n      <td>Everyone</td>\n      <td>Sports</td>\n    </tr>\n    <tr>\n      <th>10302</th>\n      <td>DU Battery Saver - Battery Charger &amp; Battery Life</td>\n      <td>TOOLS</td>\n      <td>4.50</td>\n      <td>13479633</td>\n      <td>14.00</td>\n      <td>100,000,000</td>\n      <td>Free</td>\n      <td>0</td>\n      <td>Everyone</td>\n      <td>Tools</td>\n    </tr>\n    <tr>\n      <th>10354</th>\n      <td>BBM - Free Calls &amp; Messages</td>\n      <td>COMMUNICATION</td>\n      <td>4.30</td>\n      <td>12842860</td>\n      <td>3.50</td>\n      <td>100,000,000</td>\n      <td>Free</td>\n      <td>0</td>\n      <td>Everyone</td>\n      <td>Communication</td>\n    </tr>\n    <tr>\n      <th>10549</th>\n      <td>Cache Cleaner-DU Speed Booster (booster &amp; clea...</td>\n      <td>TOOLS</td>\n      <td>4.50</td>\n      <td>12759663</td>\n      <td>15.00</td>\n      <td>100,000,000</td>\n      <td>Free</td>\n      <td>0</td>\n      <td>Everyone</td>\n      <td>Tools</td>\n    </tr>\n    <tr>\n      <th>10757</th>\n      <td>Twitter</td>\n      <td>NEWS_AND_MAGAZINES</td>\n      <td>4.30</td>\n      <td>11667403</td>\n      <td>6.30</td>\n      <td>500,000,000</td>\n      <td>Free</td>\n      <td>0</td>\n      <td>Mature 17+</td>\n      <td>News &amp; Magazines</td>\n    </tr>\n    <tr>\n      <th>10721</th>\n      <td>Viber Messenger</td>\n      <td>COMMUNICATION</td>\n      <td>4.30</td>\n      <td>11334799</td>\n      <td>3.50</td>\n      <td>500,000,000</td>\n      <td>Free</td>\n      <td>0</td>\n      <td>Everyone</td>\n      <td>Communication</td>\n    </tr>\n    <tr>\n      <th>10578</th>\n      <td>Shadow Fight 2</td>\n      <td>GAME</td>\n      <td>4.60</td>\n      <td>10979062</td>\n      <td>88.00</td>\n      <td>100,000,000</td>\n      <td>Free</td>\n      <td>0</td>\n      <td>Everyone 10+</td>\n      <td>Action</td>\n    </tr>\n    <tr>\n      <th>10813</th>\n      <td>Google Photos</td>\n      <td>PHOTOGRAPHY</td>\n      <td>4.50</td>\n      <td>10858556</td>\n      <td>6.90</td>\n      <td>1,000,000,000</td>\n      <td>Free</td>\n      <td>0</td>\n      <td>Everyone</td>\n      <td>Photography</td>\n    </tr>\n    <tr>\n      <th>10502</th>\n      <td>GO Launcher - 3D parallax Themes &amp; HD Wallpapers</td>\n      <td>PERSONALIZATION</td>\n      <td>4.50</td>\n      <td>7464996</td>\n      <td>6.15</td>\n      <td>100,000,000</td>\n      <td>Free</td>\n      <td>0</td>\n      <td>Everyone</td>\n      <td>Personalization</td>\n    </tr>\n  </tbody>\n</table>\n</div>"
     },
     "execution_count": 53,
     "metadata": {},
     "output_type": "execute_result"
    }
   ],
   "source": [
    "df_apps_top = df_apps_dedupe.sort_values('Reviews', ascending=False)\n",
    "df_apps_top.head(50).sort_values('Price', ascending=False)"
   ],
   "metadata": {
    "collapsed": false,
    "pycharm": {
     "name": "#%%\n"
    }
   }
  },
  {
   "cell_type": "code",
   "execution_count": 54,
   "outputs": [
    {
     "name": "stdout",
     "output_type": "stream",
     "text": [
      "There are no paid apps in the top 50\n"
     ]
    }
   ],
   "source": [
    "print('There are no paid apps in the top 50')"
   ],
   "metadata": {
    "collapsed": false,
    "pycharm": {
     "name": "#%%\n"
    }
   }
  },
  {
   "cell_type": "markdown",
   "metadata": {
    "id": "BFoRqpezjebe"
   },
   "source": [
    "# Plotly Pie and Donut Charts - Visualise Categorical Data: Content Ratings"
   ]
  },
  {
   "cell_type": "code",
   "metadata": {
    "id": "c0IIxNGnoFKM"
   },
   "source": [
    "ratings = df_apps_dedupe['Content_Rating'].value_counts()\n",
    "ratings"
   ],
   "execution_count": 56,
   "outputs": [
    {
     "data": {
      "text/plain": "Everyone           6621\nTeen                912\nMature 17+          357\nEveryone 10+        305\nAdults only 18+       3\nUnrated               1\nName: Content_Rating, dtype: int64"
     },
     "execution_count": 56,
     "metadata": {},
     "output_type": "execute_result"
    }
   ]
  },
  {
   "cell_type": "code",
   "metadata": {
    "id": "TSiV6ZkjoFVg"
   },
   "source": [
    "fig = px.pie(labels=ratings.index, values=ratings.values, title='Content Rating', names=ratings.index, hole=0.6)\n",
    "fig.update_traces(textposition='outside', textfont_size=15, textinfo='percent+label')\n",
    "fig.show()"
   ],
   "execution_count": 62,
   "outputs": [
    {
     "data": {
      "application/vnd.plotly.v1+json": {
       "data": [
        {
         "domain": {
          "x": [
           0.0,
           1.0
          ],
          "y": [
           0.0,
           1.0
          ]
         },
         "hole": 0.6,
         "hovertemplate": "label=%{label}<br>value=%{value}<extra></extra>",
         "labels": [
          "Everyone",
          "Teen",
          "Mature 17+",
          "Everyone 10+",
          "Adults only 18+",
          "Unrated"
         ],
         "legendgroup": "",
         "name": "",
         "showlegend": true,
         "values": [
          6621,
          912,
          357,
          305,
          3,
          1
         ],
         "type": "pie",
         "textfont": {
          "size": 15
         },
         "textinfo": "percent+label",
         "textposition": "outside"
        }
       ],
       "layout": {
        "template": {
         "data": {
          "histogram2dcontour": [
           {
            "type": "histogram2dcontour",
            "colorbar": {
             "outlinewidth": 0,
             "ticks": ""
            },
            "colorscale": [
             [
              0.0,
              "#0d0887"
             ],
             [
              0.1111111111111111,
              "#46039f"
             ],
             [
              0.2222222222222222,
              "#7201a8"
             ],
             [
              0.3333333333333333,
              "#9c179e"
             ],
             [
              0.4444444444444444,
              "#bd3786"
             ],
             [
              0.5555555555555556,
              "#d8576b"
             ],
             [
              0.6666666666666666,
              "#ed7953"
             ],
             [
              0.7777777777777778,
              "#fb9f3a"
             ],
             [
              0.8888888888888888,
              "#fdca26"
             ],
             [
              1.0,
              "#f0f921"
             ]
            ]
           }
          ],
          "choropleth": [
           {
            "type": "choropleth",
            "colorbar": {
             "outlinewidth": 0,
             "ticks": ""
            }
           }
          ],
          "histogram2d": [
           {
            "type": "histogram2d",
            "colorbar": {
             "outlinewidth": 0,
             "ticks": ""
            },
            "colorscale": [
             [
              0.0,
              "#0d0887"
             ],
             [
              0.1111111111111111,
              "#46039f"
             ],
             [
              0.2222222222222222,
              "#7201a8"
             ],
             [
              0.3333333333333333,
              "#9c179e"
             ],
             [
              0.4444444444444444,
              "#bd3786"
             ],
             [
              0.5555555555555556,
              "#d8576b"
             ],
             [
              0.6666666666666666,
              "#ed7953"
             ],
             [
              0.7777777777777778,
              "#fb9f3a"
             ],
             [
              0.8888888888888888,
              "#fdca26"
             ],
             [
              1.0,
              "#f0f921"
             ]
            ]
           }
          ],
          "heatmap": [
           {
            "type": "heatmap",
            "colorbar": {
             "outlinewidth": 0,
             "ticks": ""
            },
            "colorscale": [
             [
              0.0,
              "#0d0887"
             ],
             [
              0.1111111111111111,
              "#46039f"
             ],
             [
              0.2222222222222222,
              "#7201a8"
             ],
             [
              0.3333333333333333,
              "#9c179e"
             ],
             [
              0.4444444444444444,
              "#bd3786"
             ],
             [
              0.5555555555555556,
              "#d8576b"
             ],
             [
              0.6666666666666666,
              "#ed7953"
             ],
             [
              0.7777777777777778,
              "#fb9f3a"
             ],
             [
              0.8888888888888888,
              "#fdca26"
             ],
             [
              1.0,
              "#f0f921"
             ]
            ]
           }
          ],
          "heatmapgl": [
           {
            "type": "heatmapgl",
            "colorbar": {
             "outlinewidth": 0,
             "ticks": ""
            },
            "colorscale": [
             [
              0.0,
              "#0d0887"
             ],
             [
              0.1111111111111111,
              "#46039f"
             ],
             [
              0.2222222222222222,
              "#7201a8"
             ],
             [
              0.3333333333333333,
              "#9c179e"
             ],
             [
              0.4444444444444444,
              "#bd3786"
             ],
             [
              0.5555555555555556,
              "#d8576b"
             ],
             [
              0.6666666666666666,
              "#ed7953"
             ],
             [
              0.7777777777777778,
              "#fb9f3a"
             ],
             [
              0.8888888888888888,
              "#fdca26"
             ],
             [
              1.0,
              "#f0f921"
             ]
            ]
           }
          ],
          "contourcarpet": [
           {
            "type": "contourcarpet",
            "colorbar": {
             "outlinewidth": 0,
             "ticks": ""
            }
           }
          ],
          "contour": [
           {
            "type": "contour",
            "colorbar": {
             "outlinewidth": 0,
             "ticks": ""
            },
            "colorscale": [
             [
              0.0,
              "#0d0887"
             ],
             [
              0.1111111111111111,
              "#46039f"
             ],
             [
              0.2222222222222222,
              "#7201a8"
             ],
             [
              0.3333333333333333,
              "#9c179e"
             ],
             [
              0.4444444444444444,
              "#bd3786"
             ],
             [
              0.5555555555555556,
              "#d8576b"
             ],
             [
              0.6666666666666666,
              "#ed7953"
             ],
             [
              0.7777777777777778,
              "#fb9f3a"
             ],
             [
              0.8888888888888888,
              "#fdca26"
             ],
             [
              1.0,
              "#f0f921"
             ]
            ]
           }
          ],
          "surface": [
           {
            "type": "surface",
            "colorbar": {
             "outlinewidth": 0,
             "ticks": ""
            },
            "colorscale": [
             [
              0.0,
              "#0d0887"
             ],
             [
              0.1111111111111111,
              "#46039f"
             ],
             [
              0.2222222222222222,
              "#7201a8"
             ],
             [
              0.3333333333333333,
              "#9c179e"
             ],
             [
              0.4444444444444444,
              "#bd3786"
             ],
             [
              0.5555555555555556,
              "#d8576b"
             ],
             [
              0.6666666666666666,
              "#ed7953"
             ],
             [
              0.7777777777777778,
              "#fb9f3a"
             ],
             [
              0.8888888888888888,
              "#fdca26"
             ],
             [
              1.0,
              "#f0f921"
             ]
            ]
           }
          ],
          "mesh3d": [
           {
            "type": "mesh3d",
            "colorbar": {
             "outlinewidth": 0,
             "ticks": ""
            }
           }
          ],
          "scatter": [
           {
            "fillpattern": {
             "fillmode": "overlay",
             "size": 10,
             "solidity": 0.2
            },
            "type": "scatter"
           }
          ],
          "parcoords": [
           {
            "type": "parcoords",
            "line": {
             "colorbar": {
              "outlinewidth": 0,
              "ticks": ""
             }
            }
           }
          ],
          "scatterpolargl": [
           {
            "type": "scatterpolargl",
            "marker": {
             "colorbar": {
              "outlinewidth": 0,
              "ticks": ""
             }
            }
           }
          ],
          "bar": [
           {
            "error_x": {
             "color": "#2a3f5f"
            },
            "error_y": {
             "color": "#2a3f5f"
            },
            "marker": {
             "line": {
              "color": "#E5ECF6",
              "width": 0.5
             },
             "pattern": {
              "fillmode": "overlay",
              "size": 10,
              "solidity": 0.2
             }
            },
            "type": "bar"
           }
          ],
          "scattergeo": [
           {
            "type": "scattergeo",
            "marker": {
             "colorbar": {
              "outlinewidth": 0,
              "ticks": ""
             }
            }
           }
          ],
          "scatterpolar": [
           {
            "type": "scatterpolar",
            "marker": {
             "colorbar": {
              "outlinewidth": 0,
              "ticks": ""
             }
            }
           }
          ],
          "histogram": [
           {
            "marker": {
             "pattern": {
              "fillmode": "overlay",
              "size": 10,
              "solidity": 0.2
             }
            },
            "type": "histogram"
           }
          ],
          "scattergl": [
           {
            "type": "scattergl",
            "marker": {
             "colorbar": {
              "outlinewidth": 0,
              "ticks": ""
             }
            }
           }
          ],
          "scatter3d": [
           {
            "type": "scatter3d",
            "line": {
             "colorbar": {
              "outlinewidth": 0,
              "ticks": ""
             }
            },
            "marker": {
             "colorbar": {
              "outlinewidth": 0,
              "ticks": ""
             }
            }
           }
          ],
          "scattermapbox": [
           {
            "type": "scattermapbox",
            "marker": {
             "colorbar": {
              "outlinewidth": 0,
              "ticks": ""
             }
            }
           }
          ],
          "scatterternary": [
           {
            "type": "scatterternary",
            "marker": {
             "colorbar": {
              "outlinewidth": 0,
              "ticks": ""
             }
            }
           }
          ],
          "scattercarpet": [
           {
            "type": "scattercarpet",
            "marker": {
             "colorbar": {
              "outlinewidth": 0,
              "ticks": ""
             }
            }
           }
          ],
          "carpet": [
           {
            "aaxis": {
             "endlinecolor": "#2a3f5f",
             "gridcolor": "white",
             "linecolor": "white",
             "minorgridcolor": "white",
             "startlinecolor": "#2a3f5f"
            },
            "baxis": {
             "endlinecolor": "#2a3f5f",
             "gridcolor": "white",
             "linecolor": "white",
             "minorgridcolor": "white",
             "startlinecolor": "#2a3f5f"
            },
            "type": "carpet"
           }
          ],
          "table": [
           {
            "cells": {
             "fill": {
              "color": "#EBF0F8"
             },
             "line": {
              "color": "white"
             }
            },
            "header": {
             "fill": {
              "color": "#C8D4E3"
             },
             "line": {
              "color": "white"
             }
            },
            "type": "table"
           }
          ],
          "barpolar": [
           {
            "marker": {
             "line": {
              "color": "#E5ECF6",
              "width": 0.5
             },
             "pattern": {
              "fillmode": "overlay",
              "size": 10,
              "solidity": 0.2
             }
            },
            "type": "barpolar"
           }
          ],
          "pie": [
           {
            "automargin": true,
            "type": "pie"
           }
          ]
         },
         "layout": {
          "autotypenumbers": "strict",
          "colorway": [
           "#636efa",
           "#EF553B",
           "#00cc96",
           "#ab63fa",
           "#FFA15A",
           "#19d3f3",
           "#FF6692",
           "#B6E880",
           "#FF97FF",
           "#FECB52"
          ],
          "font": {
           "color": "#2a3f5f"
          },
          "hovermode": "closest",
          "hoverlabel": {
           "align": "left"
          },
          "paper_bgcolor": "white",
          "plot_bgcolor": "#E5ECF6",
          "polar": {
           "bgcolor": "#E5ECF6",
           "angularaxis": {
            "gridcolor": "white",
            "linecolor": "white",
            "ticks": ""
           },
           "radialaxis": {
            "gridcolor": "white",
            "linecolor": "white",
            "ticks": ""
           }
          },
          "ternary": {
           "bgcolor": "#E5ECF6",
           "aaxis": {
            "gridcolor": "white",
            "linecolor": "white",
            "ticks": ""
           },
           "baxis": {
            "gridcolor": "white",
            "linecolor": "white",
            "ticks": ""
           },
           "caxis": {
            "gridcolor": "white",
            "linecolor": "white",
            "ticks": ""
           }
          },
          "coloraxis": {
           "colorbar": {
            "outlinewidth": 0,
            "ticks": ""
           }
          },
          "colorscale": {
           "sequential": [
            [
             0.0,
             "#0d0887"
            ],
            [
             0.1111111111111111,
             "#46039f"
            ],
            [
             0.2222222222222222,
             "#7201a8"
            ],
            [
             0.3333333333333333,
             "#9c179e"
            ],
            [
             0.4444444444444444,
             "#bd3786"
            ],
            [
             0.5555555555555556,
             "#d8576b"
            ],
            [
             0.6666666666666666,
             "#ed7953"
            ],
            [
             0.7777777777777778,
             "#fb9f3a"
            ],
            [
             0.8888888888888888,
             "#fdca26"
            ],
            [
             1.0,
             "#f0f921"
            ]
           ],
           "sequentialminus": [
            [
             0.0,
             "#0d0887"
            ],
            [
             0.1111111111111111,
             "#46039f"
            ],
            [
             0.2222222222222222,
             "#7201a8"
            ],
            [
             0.3333333333333333,
             "#9c179e"
            ],
            [
             0.4444444444444444,
             "#bd3786"
            ],
            [
             0.5555555555555556,
             "#d8576b"
            ],
            [
             0.6666666666666666,
             "#ed7953"
            ],
            [
             0.7777777777777778,
             "#fb9f3a"
            ],
            [
             0.8888888888888888,
             "#fdca26"
            ],
            [
             1.0,
             "#f0f921"
            ]
           ],
           "diverging": [
            [
             0,
             "#8e0152"
            ],
            [
             0.1,
             "#c51b7d"
            ],
            [
             0.2,
             "#de77ae"
            ],
            [
             0.3,
             "#f1b6da"
            ],
            [
             0.4,
             "#fde0ef"
            ],
            [
             0.5,
             "#f7f7f7"
            ],
            [
             0.6,
             "#e6f5d0"
            ],
            [
             0.7,
             "#b8e186"
            ],
            [
             0.8,
             "#7fbc41"
            ],
            [
             0.9,
             "#4d9221"
            ],
            [
             1,
             "#276419"
            ]
           ]
          },
          "xaxis": {
           "gridcolor": "white",
           "linecolor": "white",
           "ticks": "",
           "title": {
            "standoff": 15
           },
           "zerolinecolor": "white",
           "automargin": true,
           "zerolinewidth": 2
          },
          "yaxis": {
           "gridcolor": "white",
           "linecolor": "white",
           "ticks": "",
           "title": {
            "standoff": 15
           },
           "zerolinecolor": "white",
           "automargin": true,
           "zerolinewidth": 2
          },
          "scene": {
           "xaxis": {
            "backgroundcolor": "#E5ECF6",
            "gridcolor": "white",
            "linecolor": "white",
            "showbackground": true,
            "ticks": "",
            "zerolinecolor": "white",
            "gridwidth": 2
           },
           "yaxis": {
            "backgroundcolor": "#E5ECF6",
            "gridcolor": "white",
            "linecolor": "white",
            "showbackground": true,
            "ticks": "",
            "zerolinecolor": "white",
            "gridwidth": 2
           },
           "zaxis": {
            "backgroundcolor": "#E5ECF6",
            "gridcolor": "white",
            "linecolor": "white",
            "showbackground": true,
            "ticks": "",
            "zerolinecolor": "white",
            "gridwidth": 2
           }
          },
          "shapedefaults": {
           "line": {
            "color": "#2a3f5f"
           }
          },
          "annotationdefaults": {
           "arrowcolor": "#2a3f5f",
           "arrowhead": 0,
           "arrowwidth": 1
          },
          "geo": {
           "bgcolor": "white",
           "landcolor": "#E5ECF6",
           "subunitcolor": "white",
           "showland": true,
           "showlakes": true,
           "lakecolor": "white"
          },
          "title": {
           "x": 0.05
          },
          "mapbox": {
           "style": "light"
          }
         }
        },
        "legend": {
         "tracegroupgap": 0
        },
        "title": {
         "text": "Content Rating"
        }
       },
       "config": {
        "plotlyServerURL": "https://plot.ly"
       }
      },
      "text/html": "<div>                            <div id=\"c90d4682-51c2-4fcd-a787-196f82eae2a7\" class=\"plotly-graph-div\" style=\"height:525px; width:100%;\"></div>            <script type=\"text/javascript\">                require([\"plotly\"], function(Plotly) {                    window.PLOTLYENV=window.PLOTLYENV || {};                                    if (document.getElementById(\"c90d4682-51c2-4fcd-a787-196f82eae2a7\")) {                    Plotly.newPlot(                        \"c90d4682-51c2-4fcd-a787-196f82eae2a7\",                        [{\"domain\":{\"x\":[0.0,1.0],\"y\":[0.0,1.0]},\"hole\":0.6,\"hovertemplate\":\"label=%{label}<br>value=%{value}<extra></extra>\",\"labels\":[\"Everyone\",\"Teen\",\"Mature 17+\",\"Everyone 10+\",\"Adults only 18+\",\"Unrated\"],\"legendgroup\":\"\",\"name\":\"\",\"showlegend\":true,\"values\":[6621,912,357,305,3,1],\"type\":\"pie\",\"textfont\":{\"size\":15},\"textinfo\":\"percent+label\",\"textposition\":\"outside\"}],                        {\"template\":{\"data\":{\"histogram2dcontour\":[{\"type\":\"histogram2dcontour\",\"colorbar\":{\"outlinewidth\":0,\"ticks\":\"\"},\"colorscale\":[[0.0,\"#0d0887\"],[0.1111111111111111,\"#46039f\"],[0.2222222222222222,\"#7201a8\"],[0.3333333333333333,\"#9c179e\"],[0.4444444444444444,\"#bd3786\"],[0.5555555555555556,\"#d8576b\"],[0.6666666666666666,\"#ed7953\"],[0.7777777777777778,\"#fb9f3a\"],[0.8888888888888888,\"#fdca26\"],[1.0,\"#f0f921\"]]}],\"choropleth\":[{\"type\":\"choropleth\",\"colorbar\":{\"outlinewidth\":0,\"ticks\":\"\"}}],\"histogram2d\":[{\"type\":\"histogram2d\",\"colorbar\":{\"outlinewidth\":0,\"ticks\":\"\"},\"colorscale\":[[0.0,\"#0d0887\"],[0.1111111111111111,\"#46039f\"],[0.2222222222222222,\"#7201a8\"],[0.3333333333333333,\"#9c179e\"],[0.4444444444444444,\"#bd3786\"],[0.5555555555555556,\"#d8576b\"],[0.6666666666666666,\"#ed7953\"],[0.7777777777777778,\"#fb9f3a\"],[0.8888888888888888,\"#fdca26\"],[1.0,\"#f0f921\"]]}],\"heatmap\":[{\"type\":\"heatmap\",\"colorbar\":{\"outlinewidth\":0,\"ticks\":\"\"},\"colorscale\":[[0.0,\"#0d0887\"],[0.1111111111111111,\"#46039f\"],[0.2222222222222222,\"#7201a8\"],[0.3333333333333333,\"#9c179e\"],[0.4444444444444444,\"#bd3786\"],[0.5555555555555556,\"#d8576b\"],[0.6666666666666666,\"#ed7953\"],[0.7777777777777778,\"#fb9f3a\"],[0.8888888888888888,\"#fdca26\"],[1.0,\"#f0f921\"]]}],\"heatmapgl\":[{\"type\":\"heatmapgl\",\"colorbar\":{\"outlinewidth\":0,\"ticks\":\"\"},\"colorscale\":[[0.0,\"#0d0887\"],[0.1111111111111111,\"#46039f\"],[0.2222222222222222,\"#7201a8\"],[0.3333333333333333,\"#9c179e\"],[0.4444444444444444,\"#bd3786\"],[0.5555555555555556,\"#d8576b\"],[0.6666666666666666,\"#ed7953\"],[0.7777777777777778,\"#fb9f3a\"],[0.8888888888888888,\"#fdca26\"],[1.0,\"#f0f921\"]]}],\"contourcarpet\":[{\"type\":\"contourcarpet\",\"colorbar\":{\"outlinewidth\":0,\"ticks\":\"\"}}],\"contour\":[{\"type\":\"contour\",\"colorbar\":{\"outlinewidth\":0,\"ticks\":\"\"},\"colorscale\":[[0.0,\"#0d0887\"],[0.1111111111111111,\"#46039f\"],[0.2222222222222222,\"#7201a8\"],[0.3333333333333333,\"#9c179e\"],[0.4444444444444444,\"#bd3786\"],[0.5555555555555556,\"#d8576b\"],[0.6666666666666666,\"#ed7953\"],[0.7777777777777778,\"#fb9f3a\"],[0.8888888888888888,\"#fdca26\"],[1.0,\"#f0f921\"]]}],\"surface\":[{\"type\":\"surface\",\"colorbar\":{\"outlinewidth\":0,\"ticks\":\"\"},\"colorscale\":[[0.0,\"#0d0887\"],[0.1111111111111111,\"#46039f\"],[0.2222222222222222,\"#7201a8\"],[0.3333333333333333,\"#9c179e\"],[0.4444444444444444,\"#bd3786\"],[0.5555555555555556,\"#d8576b\"],[0.6666666666666666,\"#ed7953\"],[0.7777777777777778,\"#fb9f3a\"],[0.8888888888888888,\"#fdca26\"],[1.0,\"#f0f921\"]]}],\"mesh3d\":[{\"type\":\"mesh3d\",\"colorbar\":{\"outlinewidth\":0,\"ticks\":\"\"}}],\"scatter\":[{\"fillpattern\":{\"fillmode\":\"overlay\",\"size\":10,\"solidity\":0.2},\"type\":\"scatter\"}],\"parcoords\":[{\"type\":\"parcoords\",\"line\":{\"colorbar\":{\"outlinewidth\":0,\"ticks\":\"\"}}}],\"scatterpolargl\":[{\"type\":\"scatterpolargl\",\"marker\":{\"colorbar\":{\"outlinewidth\":0,\"ticks\":\"\"}}}],\"bar\":[{\"error_x\":{\"color\":\"#2a3f5f\"},\"error_y\":{\"color\":\"#2a3f5f\"},\"marker\":{\"line\":{\"color\":\"#E5ECF6\",\"width\":0.5},\"pattern\":{\"fillmode\":\"overlay\",\"size\":10,\"solidity\":0.2}},\"type\":\"bar\"}],\"scattergeo\":[{\"type\":\"scattergeo\",\"marker\":{\"colorbar\":{\"outlinewidth\":0,\"ticks\":\"\"}}}],\"scatterpolar\":[{\"type\":\"scatterpolar\",\"marker\":{\"colorbar\":{\"outlinewidth\":0,\"ticks\":\"\"}}}],\"histogram\":[{\"marker\":{\"pattern\":{\"fillmode\":\"overlay\",\"size\":10,\"solidity\":0.2}},\"type\":\"histogram\"}],\"scattergl\":[{\"type\":\"scattergl\",\"marker\":{\"colorbar\":{\"outlinewidth\":0,\"ticks\":\"\"}}}],\"scatter3d\":[{\"type\":\"scatter3d\",\"line\":{\"colorbar\":{\"outlinewidth\":0,\"ticks\":\"\"}},\"marker\":{\"colorbar\":{\"outlinewidth\":0,\"ticks\":\"\"}}}],\"scattermapbox\":[{\"type\":\"scattermapbox\",\"marker\":{\"colorbar\":{\"outlinewidth\":0,\"ticks\":\"\"}}}],\"scatterternary\":[{\"type\":\"scatterternary\",\"marker\":{\"colorbar\":{\"outlinewidth\":0,\"ticks\":\"\"}}}],\"scattercarpet\":[{\"type\":\"scattercarpet\",\"marker\":{\"colorbar\":{\"outlinewidth\":0,\"ticks\":\"\"}}}],\"carpet\":[{\"aaxis\":{\"endlinecolor\":\"#2a3f5f\",\"gridcolor\":\"white\",\"linecolor\":\"white\",\"minorgridcolor\":\"white\",\"startlinecolor\":\"#2a3f5f\"},\"baxis\":{\"endlinecolor\":\"#2a3f5f\",\"gridcolor\":\"white\",\"linecolor\":\"white\",\"minorgridcolor\":\"white\",\"startlinecolor\":\"#2a3f5f\"},\"type\":\"carpet\"}],\"table\":[{\"cells\":{\"fill\":{\"color\":\"#EBF0F8\"},\"line\":{\"color\":\"white\"}},\"header\":{\"fill\":{\"color\":\"#C8D4E3\"},\"line\":{\"color\":\"white\"}},\"type\":\"table\"}],\"barpolar\":[{\"marker\":{\"line\":{\"color\":\"#E5ECF6\",\"width\":0.5},\"pattern\":{\"fillmode\":\"overlay\",\"size\":10,\"solidity\":0.2}},\"type\":\"barpolar\"}],\"pie\":[{\"automargin\":true,\"type\":\"pie\"}]},\"layout\":{\"autotypenumbers\":\"strict\",\"colorway\":[\"#636efa\",\"#EF553B\",\"#00cc96\",\"#ab63fa\",\"#FFA15A\",\"#19d3f3\",\"#FF6692\",\"#B6E880\",\"#FF97FF\",\"#FECB52\"],\"font\":{\"color\":\"#2a3f5f\"},\"hovermode\":\"closest\",\"hoverlabel\":{\"align\":\"left\"},\"paper_bgcolor\":\"white\",\"plot_bgcolor\":\"#E5ECF6\",\"polar\":{\"bgcolor\":\"#E5ECF6\",\"angularaxis\":{\"gridcolor\":\"white\",\"linecolor\":\"white\",\"ticks\":\"\"},\"radialaxis\":{\"gridcolor\":\"white\",\"linecolor\":\"white\",\"ticks\":\"\"}},\"ternary\":{\"bgcolor\":\"#E5ECF6\",\"aaxis\":{\"gridcolor\":\"white\",\"linecolor\":\"white\",\"ticks\":\"\"},\"baxis\":{\"gridcolor\":\"white\",\"linecolor\":\"white\",\"ticks\":\"\"},\"caxis\":{\"gridcolor\":\"white\",\"linecolor\":\"white\",\"ticks\":\"\"}},\"coloraxis\":{\"colorbar\":{\"outlinewidth\":0,\"ticks\":\"\"}},\"colorscale\":{\"sequential\":[[0.0,\"#0d0887\"],[0.1111111111111111,\"#46039f\"],[0.2222222222222222,\"#7201a8\"],[0.3333333333333333,\"#9c179e\"],[0.4444444444444444,\"#bd3786\"],[0.5555555555555556,\"#d8576b\"],[0.6666666666666666,\"#ed7953\"],[0.7777777777777778,\"#fb9f3a\"],[0.8888888888888888,\"#fdca26\"],[1.0,\"#f0f921\"]],\"sequentialminus\":[[0.0,\"#0d0887\"],[0.1111111111111111,\"#46039f\"],[0.2222222222222222,\"#7201a8\"],[0.3333333333333333,\"#9c179e\"],[0.4444444444444444,\"#bd3786\"],[0.5555555555555556,\"#d8576b\"],[0.6666666666666666,\"#ed7953\"],[0.7777777777777778,\"#fb9f3a\"],[0.8888888888888888,\"#fdca26\"],[1.0,\"#f0f921\"]],\"diverging\":[[0,\"#8e0152\"],[0.1,\"#c51b7d\"],[0.2,\"#de77ae\"],[0.3,\"#f1b6da\"],[0.4,\"#fde0ef\"],[0.5,\"#f7f7f7\"],[0.6,\"#e6f5d0\"],[0.7,\"#b8e186\"],[0.8,\"#7fbc41\"],[0.9,\"#4d9221\"],[1,\"#276419\"]]},\"xaxis\":{\"gridcolor\":\"white\",\"linecolor\":\"white\",\"ticks\":\"\",\"title\":{\"standoff\":15},\"zerolinecolor\":\"white\",\"automargin\":true,\"zerolinewidth\":2},\"yaxis\":{\"gridcolor\":\"white\",\"linecolor\":\"white\",\"ticks\":\"\",\"title\":{\"standoff\":15},\"zerolinecolor\":\"white\",\"automargin\":true,\"zerolinewidth\":2},\"scene\":{\"xaxis\":{\"backgroundcolor\":\"#E5ECF6\",\"gridcolor\":\"white\",\"linecolor\":\"white\",\"showbackground\":true,\"ticks\":\"\",\"zerolinecolor\":\"white\",\"gridwidth\":2},\"yaxis\":{\"backgroundcolor\":\"#E5ECF6\",\"gridcolor\":\"white\",\"linecolor\":\"white\",\"showbackground\":true,\"ticks\":\"\",\"zerolinecolor\":\"white\",\"gridwidth\":2},\"zaxis\":{\"backgroundcolor\":\"#E5ECF6\",\"gridcolor\":\"white\",\"linecolor\":\"white\",\"showbackground\":true,\"ticks\":\"\",\"zerolinecolor\":\"white\",\"gridwidth\":2}},\"shapedefaults\":{\"line\":{\"color\":\"#2a3f5f\"}},\"annotationdefaults\":{\"arrowcolor\":\"#2a3f5f\",\"arrowhead\":0,\"arrowwidth\":1},\"geo\":{\"bgcolor\":\"white\",\"landcolor\":\"#E5ECF6\",\"subunitcolor\":\"white\",\"showland\":true,\"showlakes\":true,\"lakecolor\":\"white\"},\"title\":{\"x\":0.05},\"mapbox\":{\"style\":\"light\"}}},\"legend\":{\"tracegroupgap\":0},\"title\":{\"text\":\"Content Rating\"}},                        {\"responsive\": true}                    ).then(function(){\n                            \nvar gd = document.getElementById('c90d4682-51c2-4fcd-a787-196f82eae2a7');\nvar x = new MutationObserver(function (mutations, observer) {{\n        var display = window.getComputedStyle(gd).display;\n        if (!display || display === 'none') {{\n            console.log([gd, 'removed!']);\n            Plotly.purge(gd);\n            observer.disconnect();\n        }}\n}});\n\n// Listen for the removal of the full notebook cells\nvar notebookContainer = gd.closest('#notebook-container');\nif (notebookContainer) {{\n    x.observe(notebookContainer, {childList: true});\n}}\n\n// Listen for the clearing of the current output cell\nvar outputEl = gd.closest('.output');\nif (outputEl) {{\n    x.observe(outputEl, {childList: true});\n}}\n\n                        })                };                });            </script>        </div>"
     },
     "metadata": {},
     "output_type": "display_data"
    }
   ]
  },
  {
   "cell_type": "markdown",
   "metadata": {
    "id": "RoPpW37xdiUm"
   },
   "source": [
    "# Numeric Type Conversion: Examine the Number of Installs\n",
    "\n",
    "**Challenge**: How many apps had over 1 billion (that's right - BILLION) installations? How many apps just had a single install? \n",
    "\n",
    "Check the datatype of the Installs column.\n",
    "\n",
    "Count the number of apps at each level of installations. \n",
    "\n",
    "Convert the number of installations (the Installs column) to a numeric data type. Hint: this is a 2-step process. You'll have make sure you remove non-numeric characters first. "
   ]
  },
  {
   "cell_type": "code",
   "metadata": {
    "id": "uTNyWsPboJLq"
   },
   "source": [
    ""
   ],
   "execution_count": 42,
   "outputs": []
  },
  {
   "cell_type": "code",
   "metadata": {
    "id": "yzR49fYcoJRI"
   },
   "source": [
    ""
   ],
   "execution_count": 42,
   "outputs": []
  },
  {
   "cell_type": "code",
   "metadata": {
    "id": "cFjptR-JoJOE"
   },
   "source": [
    ""
   ],
   "execution_count": 42,
   "outputs": []
  },
  {
   "cell_type": "code",
   "metadata": {
    "id": "8AMmxKHgoJGT"
   },
   "source": [
    ""
   ],
   "execution_count": 42,
   "outputs": []
  },
  {
   "cell_type": "markdown",
   "metadata": {
    "id": "7T4sfNpFdiUv"
   },
   "source": [
    "# Find the Most Expensive Apps, Filter out the Junk, and Calculate a (ballpark) Sales Revenue Estimate\n",
    "\n",
    "Let's examine the Price column more closely.\n",
    "\n",
    "**Challenge**: Convert the price column to numeric data. Then investigate the top 20 most expensive apps in the dataset.\n",
    "\n",
    "Remove all apps that cost more than $250 from the `df_apps_clean` DataFrame.\n",
    "\n",
    "Add a column called 'Revenue_Estimate' to the DataFrame. This column should hold the price of the app times the number of installs. What are the top 10 highest grossing paid apps according to this estimate? Out of the top 10 highest grossing paid apps, how many are games?\n"
   ]
  },
  {
   "cell_type": "code",
   "metadata": {
    "id": "CqhX2WCJoQEp"
   },
   "source": [
    ""
   ],
   "execution_count": 42,
   "outputs": []
  },
  {
   "cell_type": "markdown",
   "metadata": {
    "id": "Rgposh-CdiU4"
   },
   "source": [
    "### The most expensive apps sub $250"
   ]
  },
  {
   "cell_type": "code",
   "metadata": {
    "id": "c8_n8z8XoUML"
   },
   "source": [
    ""
   ],
   "execution_count": 42,
   "outputs": []
  },
  {
   "cell_type": "markdown",
   "metadata": {
    "id": "VGu85CLb4OOH"
   },
   "source": [
    "### Highest Grossing Paid Apps (ballpark estimate)"
   ]
  },
  {
   "cell_type": "code",
   "metadata": {
    "id": "3mDi45iIoVzE"
   },
   "source": [
    ""
   ],
   "execution_count": 42,
   "outputs": []
  },
  {
   "cell_type": "markdown",
   "metadata": {
    "dc": {
     "key": "18"
    },
    "run_control": {
     "frozen": true
    },
    "tags": [
     "context"
    ],
    "id": "lvpM2MyTdiU6"
   },
   "source": [
    "# Plotly Bar Charts & Scatter Plots: Analysing App Categories"
   ]
  },
  {
   "cell_type": "code",
   "metadata": {
    "id": "3L6hK0aLoYxY"
   },
   "source": [
    ""
   ],
   "execution_count": 42,
   "outputs": []
  },
  {
   "cell_type": "code",
   "metadata": {
    "id": "mg50Ts9joYz1"
   },
   "source": [
    ""
   ],
   "execution_count": 42,
   "outputs": []
  },
  {
   "cell_type": "code",
   "metadata": {
    "id": "WZZizlGjoYfn"
   },
   "source": [
    ""
   ],
   "execution_count": 42,
   "outputs": []
  },
  {
   "cell_type": "markdown",
   "metadata": {
    "id": "0tTurR7qdiU9"
   },
   "source": [
    "### Vertical Bar Chart - Highest Competition (Number of Apps)"
   ]
  },
  {
   "cell_type": "code",
   "metadata": {
    "id": "SFSMH00AoaMB"
   },
   "source": [
    ""
   ],
   "execution_count": 42,
   "outputs": []
  },
  {
   "cell_type": "markdown",
   "metadata": {
    "id": "57mowetLdiU_"
   },
   "source": [
    "### Horizontal Bar Chart - Most Popular Categories (Highest Downloads)"
   ]
  },
  {
   "cell_type": "code",
   "metadata": {
    "id": "zHO7eTJmocLm"
   },
   "source": [
    ""
   ],
   "execution_count": 42,
   "outputs": []
  },
  {
   "cell_type": "code",
   "metadata": {
    "id": "h7aUARLtocCy"
   },
   "source": [
    ""
   ],
   "execution_count": 42,
   "outputs": []
  },
  {
   "cell_type": "markdown",
   "metadata": {
    "id": "Uxk24qMk8vrz"
   },
   "source": [
    "### Category Concentration - Downloads vs. Competition\n",
    "\n",
    "**Challenge**: \n",
    "* First, create a DataFrame that has the number of apps in one column and the number of installs in another:\n",
    "\n",
    "<img src=https://imgur.com/uQRSlXi.png width=\"350\">\n",
    "\n",
    "* Then use the [plotly express examples from the documentation](https://plotly.com/python/line-and-scatter/) alongside the [.scatter() API reference](https://plotly.com/python-api-reference/generated/plotly.express.scatter.html)to create scatter plot that looks like this. \n",
    "\n",
    "<img src=https://imgur.com/cHsqh6a.png>\n",
    "\n",
    "*Hint*: Use the size, hover_name and color parameters in .scatter(). To scale the yaxis, call .update_layout() and specify that the yaxis should be on a log-scale like so: yaxis=dict(type='log') "
   ]
  },
  {
   "cell_type": "code",
   "metadata": {
    "id": "tVvGPDY7oe5A"
   },
   "source": [
    ""
   ],
   "execution_count": 42,
   "outputs": []
  },
  {
   "cell_type": "markdown",
   "metadata": {
    "id": "dmXDF75WdiVC"
   },
   "source": [
    "# Extracting Nested Data from a Column\n",
    "\n",
    "**Challenge**: How many different types of genres are there? Can an app belong to more than one genre? Check what happens when you use .value_counts() on a column with nested values? See if you can work around this problem by using the .split() function and the DataFrame's [.stack() method](https://pandas.pydata.org/pandas-docs/stable/reference/api/pandas.DataFrame.stack.html). \n"
   ]
  },
  {
   "cell_type": "code",
   "metadata": {
    "id": "3Lo69kS6ogdm"
   },
   "source": [
    ""
   ],
   "execution_count": 42,
   "outputs": []
  },
  {
   "cell_type": "markdown",
   "metadata": {
    "id": "F3zaKvfydiVI"
   },
   "source": [
    "# Colour Scales in Plotly Charts - Competition in Genres"
   ]
  },
  {
   "cell_type": "markdown",
   "metadata": {
    "id": "Ucw6RT59diVK"
   },
   "source": [
    "**Challenge**: Can you create this chart with the Series containing the genre data? \n",
    "\n",
    "<img src=https://imgur.com/DbcoQli.png width=400>\n",
    "\n",
    "Try experimenting with the built in colour scales in Plotly. You can find a full list [here](https://plotly.com/python/builtin-colorscales/). \n",
    "\n",
    "* Find a way to set the colour scale using the color_continuous_scale parameter. \n",
    "* Find a way to make the color axis disappear by using coloraxis_showscale. "
   ]
  },
  {
   "cell_type": "code",
   "metadata": {
    "id": "c5xbfMgxojoA"
   },
   "source": [
    ""
   ],
   "execution_count": 42,
   "outputs": []
  },
  {
   "cell_type": "markdown",
   "metadata": {
    "id": "BIWG_10PyIzL"
   },
   "source": [
    "# Grouped Bar Charts: Free vs. Paid Apps per Category"
   ]
  },
  {
   "cell_type": "code",
   "metadata": {
    "id": "ANMs7xywolDH"
   },
   "source": [
    ""
   ],
   "execution_count": 42,
   "outputs": []
  },
  {
   "cell_type": "markdown",
   "metadata": {
    "id": "wmRXm0TW1e_Z"
   },
   "source": [
    "**Challenge**: Use the plotly express bar [chart examples](https://plotly.com/python/bar-charts/#bar-chart-with-sorted-or-ordered-categories) and the [.bar() API reference](https://plotly.com/python-api-reference/generated/plotly.express.bar.html#plotly.express.bar) to create this bar chart: \n",
    "\n",
    "<img src=https://imgur.com/LE0XCxA.png>\n",
    "\n",
    "You'll want to use the `df_free_vs_paid` DataFrame that you created above that has the total number of free and paid apps per category. \n",
    "\n",
    "See if you can figure out how to get the look above by changing the `categoryorder` to 'total descending' as outlined in the documentation here [here](https://plotly.com/python/categorical-axes/#automatically-sorting-categories-by-name-or-total-value). "
   ]
  },
  {
   "cell_type": "code",
   "metadata": {
    "id": "tqOntrS7onGt"
   },
   "source": [
    ""
   ],
   "execution_count": 42,
   "outputs": []
  },
  {
   "cell_type": "markdown",
   "metadata": {
    "id": "nbYh2tU-VZ-i"
   },
   "source": [
    "# Plotly Box Plots: Lost Downloads for Paid Apps\n",
    "\n",
    "**Challenge**: Create a box plot that shows the number of Installs for free versus paid apps. How does the median number of installations compare? Is the difference large or small?\n",
    "\n",
    "Use the [Box Plots Guide](https://plotly.com/python/box-plots/) and the [.box API reference](https://plotly.com/python-api-reference/generated/plotly.express.box.html) to create the following chart. \n",
    "\n",
    "<img src=https://imgur.com/uVsECT3.png>\n"
   ]
  },
  {
   "cell_type": "code",
   "metadata": {
    "id": "Jip3hMZ7oqLS"
   },
   "source": [
    ""
   ],
   "execution_count": 42,
   "outputs": []
  },
  {
   "cell_type": "markdown",
   "metadata": {
    "id": "Xi2NaEBPVNrP"
   },
   "source": [
    "# Plotly Box Plots: Revenue by App Category\n",
    "\n",
    "**Challenge**: See if you can generate the chart below: \n",
    "\n",
    "<img src=https://imgur.com/v4CiNqX.png>\n",
    "\n",
    "Looking at the hover text, how much does the median app earn in the Tools category? If developing an Android app costs $30,000 or thereabouts, does the average photography app recoup its development costs?\n",
    "\n",
    "Hint: I've used 'min ascending' to sort the categories. "
   ]
  },
  {
   "cell_type": "code",
   "metadata": {
    "id": "W1iVoT8Dos7x"
   },
   "source": [
    ""
   ],
   "execution_count": 42,
   "outputs": []
  },
  {
   "cell_type": "markdown",
   "metadata": {
    "id": "uT32ylj4WS9B"
   },
   "source": [
    "# How Much Can You Charge? Examine Paid App Pricing Strategies by Category\n",
    "\n",
    "**Challenge**: What is the median price price for a paid app? Then compare pricing by category by creating another box plot. But this time examine the prices (instead of the revenue estimates) of the paid apps. I recommend using `{categoryorder':'max descending'}` to sort the categories."
   ]
  },
  {
   "cell_type": "code",
   "metadata": {
    "id": "AdBr0TUhouqs"
   },
   "source": [
    ""
   ],
   "execution_count": 42,
   "outputs": []
  },
  {
   "cell_type": "code",
   "metadata": {
    "id": "bJnABRw3ovwr"
   },
   "source": [
    ""
   ],
   "execution_count": 42,
   "outputs": []
  },
  {
   "cell_type": "code",
   "metadata": {
    "id": "zSXVSlVyQ4Kz"
   },
   "source": [
    ""
   ],
   "execution_count": 42,
   "outputs": []
  }
 ]
}