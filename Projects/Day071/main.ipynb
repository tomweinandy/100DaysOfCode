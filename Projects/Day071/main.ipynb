{
 "cells": [
  {
   "cell_type": "markdown",
   "metadata": {
    "collapsed": true,
    "pycharm": {
     "name": "#%% md\n"
    }
   },
   "source": [
    "Day 70: Salaries by Major Pandas Data Exploration"
   ]
  },
  {
   "cell_type": "code",
   "execution_count": 55,
   "outputs": [
    {
     "data": {
      "text/plain": "     Undergraduate Major  Starting Median Salary  Mid-Career Median Salary  \\\n0             Accounting               46,000.00                 77,100.00   \n1  Aerospace Engineering               57,700.00                101,000.00   \n2            Agriculture               42,600.00                 71,900.00   \n3           Anthropology               36,800.00                 61,500.00   \n4           Architecture               41,600.00                 76,800.00   \n\n   Mid-Career 10th Percentile Salary  Mid-Career 90th Percentile Salary  \\\n0                          42,200.00                         152,000.00   \n1                          64,300.00                         161,000.00   \n2                          36,300.00                         150,000.00   \n3                          33,800.00                         138,000.00   \n4                          50,600.00                         136,000.00   \n\n      Group  \n0  Business  \n1      STEM  \n2  Business  \n3      HASS  \n4  Business  ",
      "text/html": "<div>\n<style scoped>\n    .dataframe tbody tr th:only-of-type {\n        vertical-align: middle;\n    }\n\n    .dataframe tbody tr th {\n        vertical-align: top;\n    }\n\n    .dataframe thead th {\n        text-align: right;\n    }\n</style>\n<table border=\"1\" class=\"dataframe\">\n  <thead>\n    <tr style=\"text-align: right;\">\n      <th></th>\n      <th>Undergraduate Major</th>\n      <th>Starting Median Salary</th>\n      <th>Mid-Career Median Salary</th>\n      <th>Mid-Career 10th Percentile Salary</th>\n      <th>Mid-Career 90th Percentile Salary</th>\n      <th>Group</th>\n    </tr>\n  </thead>\n  <tbody>\n    <tr>\n      <th>0</th>\n      <td>Accounting</td>\n      <td>46,000.00</td>\n      <td>77,100.00</td>\n      <td>42,200.00</td>\n      <td>152,000.00</td>\n      <td>Business</td>\n    </tr>\n    <tr>\n      <th>1</th>\n      <td>Aerospace Engineering</td>\n      <td>57,700.00</td>\n      <td>101,000.00</td>\n      <td>64,300.00</td>\n      <td>161,000.00</td>\n      <td>STEM</td>\n    </tr>\n    <tr>\n      <th>2</th>\n      <td>Agriculture</td>\n      <td>42,600.00</td>\n      <td>71,900.00</td>\n      <td>36,300.00</td>\n      <td>150,000.00</td>\n      <td>Business</td>\n    </tr>\n    <tr>\n      <th>3</th>\n      <td>Anthropology</td>\n      <td>36,800.00</td>\n      <td>61,500.00</td>\n      <td>33,800.00</td>\n      <td>138,000.00</td>\n      <td>HASS</td>\n    </tr>\n    <tr>\n      <th>4</th>\n      <td>Architecture</td>\n      <td>41,600.00</td>\n      <td>76,800.00</td>\n      <td>50,600.00</td>\n      <td>136,000.00</td>\n      <td>Business</td>\n    </tr>\n  </tbody>\n</table>\n</div>"
     },
     "execution_count": 55,
     "metadata": {},
     "output_type": "execute_result"
    }
   ],
   "source": [
    "import pandas as pd\n",
    "\n",
    "df = pd.read_csv('salaries_by_college_major.csv')\n",
    "df.head()"
   ],
   "metadata": {
    "collapsed": false,
    "pycharm": {
     "name": "#%%\n"
    }
   }
  },
  {
   "cell_type": "code",
   "execution_count": 56,
   "outputs": [
    {
     "name": "stdout",
     "output_type": "stream",
     "text": [
      "There are 51 rows\n",
      "There are 6 columns\n",
      "The columns are: ['Undergraduate Major', 'Starting Median Salary', 'Mid-Career Median Salary', 'Mid-Career 10th Percentile Salary', 'Mid-Career 90th Percentile Salary', 'Group']\n"
     ]
    }
   ],
   "source": [
    "# How many rows does our dataframe have?\n",
    "rows = len(df)\n",
    "print(f'There are {rows} rows')\n",
    "\n",
    "# How many columns does it have?\n",
    "cols = len(df.columns)\n",
    "print(f'There are {cols} columns')\n",
    "\n",
    "# What are the labels for the columns? Do the columns have names?\n",
    "col_names = list(df.columns)\n",
    "print(f'The columns are: {col_names}')"
   ],
   "metadata": {
    "collapsed": false,
    "pycharm": {
     "name": "#%%\n"
    }
   }
  },
  {
   "cell_type": "code",
   "execution_count": 57,
   "outputs": [
    {
     "name": "stdout",
     "output_type": "stream",
     "text": [
      "The last value is missing\n"
     ]
    },
    {
     "data": {
      "text/plain": "    Undergraduate Major  Starting Median Salary  Mid-Career Median Salary  \\\n0                 False                   False                     False   \n1                 False                   False                     False   \n2                 False                   False                     False   \n3                 False                   False                     False   \n4                 False                   False                     False   \n5                 False                   False                     False   \n6                 False                   False                     False   \n7                 False                   False                     False   \n8                 False                   False                     False   \n9                 False                   False                     False   \n10                False                   False                     False   \n11                False                   False                     False   \n12                False                   False                     False   \n13                False                   False                     False   \n14                False                   False                     False   \n15                False                   False                     False   \n16                False                   False                     False   \n17                False                   False                     False   \n18                False                   False                     False   \n19                False                   False                     False   \n20                False                   False                     False   \n21                False                   False                     False   \n22                False                   False                     False   \n23                False                   False                     False   \n24                False                   False                     False   \n25                False                   False                     False   \n26                False                   False                     False   \n27                False                   False                     False   \n28                False                   False                     False   \n29                False                   False                     False   \n30                False                   False                     False   \n31                False                   False                     False   \n32                False                   False                     False   \n33                False                   False                     False   \n34                False                   False                     False   \n35                False                   False                     False   \n36                False                   False                     False   \n37                False                   False                     False   \n38                False                   False                     False   \n39                False                   False                     False   \n40                False                   False                     False   \n41                False                   False                     False   \n42                False                   False                     False   \n43                False                   False                     False   \n44                False                   False                     False   \n45                False                   False                     False   \n46                False                   False                     False   \n47                False                   False                     False   \n48                False                   False                     False   \n49                False                   False                     False   \n50                False                    True                      True   \n\n    Mid-Career 10th Percentile Salary  Mid-Career 90th Percentile Salary  \\\n0                               False                              False   \n1                               False                              False   \n2                               False                              False   \n3                               False                              False   \n4                               False                              False   \n5                               False                              False   \n6                               False                              False   \n7                               False                              False   \n8                               False                              False   \n9                               False                              False   \n10                              False                              False   \n11                              False                              False   \n12                              False                              False   \n13                              False                              False   \n14                              False                              False   \n15                              False                              False   \n16                              False                              False   \n17                              False                              False   \n18                              False                              False   \n19                              False                              False   \n20                              False                              False   \n21                              False                              False   \n22                              False                              False   \n23                              False                              False   \n24                              False                              False   \n25                              False                              False   \n26                              False                              False   \n27                              False                              False   \n28                              False                              False   \n29                              False                              False   \n30                              False                              False   \n31                              False                              False   \n32                              False                              False   \n33                              False                              False   \n34                              False                              False   \n35                              False                              False   \n36                              False                              False   \n37                              False                              False   \n38                              False                              False   \n39                              False                              False   \n40                              False                              False   \n41                              False                              False   \n42                              False                              False   \n43                              False                              False   \n44                              False                              False   \n45                              False                              False   \n46                              False                              False   \n47                              False                              False   \n48                              False                              False   \n49                              False                              False   \n50                               True                               True   \n\n    Group  \n0   False  \n1   False  \n2   False  \n3   False  \n4   False  \n5   False  \n6   False  \n7   False  \n8   False  \n9   False  \n10  False  \n11  False  \n12  False  \n13  False  \n14  False  \n15  False  \n16  False  \n17  False  \n18  False  \n19  False  \n20  False  \n21  False  \n22  False  \n23  False  \n24  False  \n25  False  \n26  False  \n27  False  \n28  False  \n29  False  \n30  False  \n31  False  \n32  False  \n33  False  \n34  False  \n35  False  \n36  False  \n37  False  \n38  False  \n39  False  \n40  False  \n41  False  \n42  False  \n43  False  \n44  False  \n45  False  \n46  False  \n47  False  \n48  False  \n49  False  \n50   True  ",
      "text/html": "<div>\n<style scoped>\n    .dataframe tbody tr th:only-of-type {\n        vertical-align: middle;\n    }\n\n    .dataframe tbody tr th {\n        vertical-align: top;\n    }\n\n    .dataframe thead th {\n        text-align: right;\n    }\n</style>\n<table border=\"1\" class=\"dataframe\">\n  <thead>\n    <tr style=\"text-align: right;\">\n      <th></th>\n      <th>Undergraduate Major</th>\n      <th>Starting Median Salary</th>\n      <th>Mid-Career Median Salary</th>\n      <th>Mid-Career 10th Percentile Salary</th>\n      <th>Mid-Career 90th Percentile Salary</th>\n      <th>Group</th>\n    </tr>\n  </thead>\n  <tbody>\n    <tr>\n      <th>0</th>\n      <td>False</td>\n      <td>False</td>\n      <td>False</td>\n      <td>False</td>\n      <td>False</td>\n      <td>False</td>\n    </tr>\n    <tr>\n      <th>1</th>\n      <td>False</td>\n      <td>False</td>\n      <td>False</td>\n      <td>False</td>\n      <td>False</td>\n      <td>False</td>\n    </tr>\n    <tr>\n      <th>2</th>\n      <td>False</td>\n      <td>False</td>\n      <td>False</td>\n      <td>False</td>\n      <td>False</td>\n      <td>False</td>\n    </tr>\n    <tr>\n      <th>3</th>\n      <td>False</td>\n      <td>False</td>\n      <td>False</td>\n      <td>False</td>\n      <td>False</td>\n      <td>False</td>\n    </tr>\n    <tr>\n      <th>4</th>\n      <td>False</td>\n      <td>False</td>\n      <td>False</td>\n      <td>False</td>\n      <td>False</td>\n      <td>False</td>\n    </tr>\n    <tr>\n      <th>5</th>\n      <td>False</td>\n      <td>False</td>\n      <td>False</td>\n      <td>False</td>\n      <td>False</td>\n      <td>False</td>\n    </tr>\n    <tr>\n      <th>6</th>\n      <td>False</td>\n      <td>False</td>\n      <td>False</td>\n      <td>False</td>\n      <td>False</td>\n      <td>False</td>\n    </tr>\n    <tr>\n      <th>7</th>\n      <td>False</td>\n      <td>False</td>\n      <td>False</td>\n      <td>False</td>\n      <td>False</td>\n      <td>False</td>\n    </tr>\n    <tr>\n      <th>8</th>\n      <td>False</td>\n      <td>False</td>\n      <td>False</td>\n      <td>False</td>\n      <td>False</td>\n      <td>False</td>\n    </tr>\n    <tr>\n      <th>9</th>\n      <td>False</td>\n      <td>False</td>\n      <td>False</td>\n      <td>False</td>\n      <td>False</td>\n      <td>False</td>\n    </tr>\n    <tr>\n      <th>10</th>\n      <td>False</td>\n      <td>False</td>\n      <td>False</td>\n      <td>False</td>\n      <td>False</td>\n      <td>False</td>\n    </tr>\n    <tr>\n      <th>11</th>\n      <td>False</td>\n      <td>False</td>\n      <td>False</td>\n      <td>False</td>\n      <td>False</td>\n      <td>False</td>\n    </tr>\n    <tr>\n      <th>12</th>\n      <td>False</td>\n      <td>False</td>\n      <td>False</td>\n      <td>False</td>\n      <td>False</td>\n      <td>False</td>\n    </tr>\n    <tr>\n      <th>13</th>\n      <td>False</td>\n      <td>False</td>\n      <td>False</td>\n      <td>False</td>\n      <td>False</td>\n      <td>False</td>\n    </tr>\n    <tr>\n      <th>14</th>\n      <td>False</td>\n      <td>False</td>\n      <td>False</td>\n      <td>False</td>\n      <td>False</td>\n      <td>False</td>\n    </tr>\n    <tr>\n      <th>15</th>\n      <td>False</td>\n      <td>False</td>\n      <td>False</td>\n      <td>False</td>\n      <td>False</td>\n      <td>False</td>\n    </tr>\n    <tr>\n      <th>16</th>\n      <td>False</td>\n      <td>False</td>\n      <td>False</td>\n      <td>False</td>\n      <td>False</td>\n      <td>False</td>\n    </tr>\n    <tr>\n      <th>17</th>\n      <td>False</td>\n      <td>False</td>\n      <td>False</td>\n      <td>False</td>\n      <td>False</td>\n      <td>False</td>\n    </tr>\n    <tr>\n      <th>18</th>\n      <td>False</td>\n      <td>False</td>\n      <td>False</td>\n      <td>False</td>\n      <td>False</td>\n      <td>False</td>\n    </tr>\n    <tr>\n      <th>19</th>\n      <td>False</td>\n      <td>False</td>\n      <td>False</td>\n      <td>False</td>\n      <td>False</td>\n      <td>False</td>\n    </tr>\n    <tr>\n      <th>20</th>\n      <td>False</td>\n      <td>False</td>\n      <td>False</td>\n      <td>False</td>\n      <td>False</td>\n      <td>False</td>\n    </tr>\n    <tr>\n      <th>21</th>\n      <td>False</td>\n      <td>False</td>\n      <td>False</td>\n      <td>False</td>\n      <td>False</td>\n      <td>False</td>\n    </tr>\n    <tr>\n      <th>22</th>\n      <td>False</td>\n      <td>False</td>\n      <td>False</td>\n      <td>False</td>\n      <td>False</td>\n      <td>False</td>\n    </tr>\n    <tr>\n      <th>23</th>\n      <td>False</td>\n      <td>False</td>\n      <td>False</td>\n      <td>False</td>\n      <td>False</td>\n      <td>False</td>\n    </tr>\n    <tr>\n      <th>24</th>\n      <td>False</td>\n      <td>False</td>\n      <td>False</td>\n      <td>False</td>\n      <td>False</td>\n      <td>False</td>\n    </tr>\n    <tr>\n      <th>25</th>\n      <td>False</td>\n      <td>False</td>\n      <td>False</td>\n      <td>False</td>\n      <td>False</td>\n      <td>False</td>\n    </tr>\n    <tr>\n      <th>26</th>\n      <td>False</td>\n      <td>False</td>\n      <td>False</td>\n      <td>False</td>\n      <td>False</td>\n      <td>False</td>\n    </tr>\n    <tr>\n      <th>27</th>\n      <td>False</td>\n      <td>False</td>\n      <td>False</td>\n      <td>False</td>\n      <td>False</td>\n      <td>False</td>\n    </tr>\n    <tr>\n      <th>28</th>\n      <td>False</td>\n      <td>False</td>\n      <td>False</td>\n      <td>False</td>\n      <td>False</td>\n      <td>False</td>\n    </tr>\n    <tr>\n      <th>29</th>\n      <td>False</td>\n      <td>False</td>\n      <td>False</td>\n      <td>False</td>\n      <td>False</td>\n      <td>False</td>\n    </tr>\n    <tr>\n      <th>30</th>\n      <td>False</td>\n      <td>False</td>\n      <td>False</td>\n      <td>False</td>\n      <td>False</td>\n      <td>False</td>\n    </tr>\n    <tr>\n      <th>31</th>\n      <td>False</td>\n      <td>False</td>\n      <td>False</td>\n      <td>False</td>\n      <td>False</td>\n      <td>False</td>\n    </tr>\n    <tr>\n      <th>32</th>\n      <td>False</td>\n      <td>False</td>\n      <td>False</td>\n      <td>False</td>\n      <td>False</td>\n      <td>False</td>\n    </tr>\n    <tr>\n      <th>33</th>\n      <td>False</td>\n      <td>False</td>\n      <td>False</td>\n      <td>False</td>\n      <td>False</td>\n      <td>False</td>\n    </tr>\n    <tr>\n      <th>34</th>\n      <td>False</td>\n      <td>False</td>\n      <td>False</td>\n      <td>False</td>\n      <td>False</td>\n      <td>False</td>\n    </tr>\n    <tr>\n      <th>35</th>\n      <td>False</td>\n      <td>False</td>\n      <td>False</td>\n      <td>False</td>\n      <td>False</td>\n      <td>False</td>\n    </tr>\n    <tr>\n      <th>36</th>\n      <td>False</td>\n      <td>False</td>\n      <td>False</td>\n      <td>False</td>\n      <td>False</td>\n      <td>False</td>\n    </tr>\n    <tr>\n      <th>37</th>\n      <td>False</td>\n      <td>False</td>\n      <td>False</td>\n      <td>False</td>\n      <td>False</td>\n      <td>False</td>\n    </tr>\n    <tr>\n      <th>38</th>\n      <td>False</td>\n      <td>False</td>\n      <td>False</td>\n      <td>False</td>\n      <td>False</td>\n      <td>False</td>\n    </tr>\n    <tr>\n      <th>39</th>\n      <td>False</td>\n      <td>False</td>\n      <td>False</td>\n      <td>False</td>\n      <td>False</td>\n      <td>False</td>\n    </tr>\n    <tr>\n      <th>40</th>\n      <td>False</td>\n      <td>False</td>\n      <td>False</td>\n      <td>False</td>\n      <td>False</td>\n      <td>False</td>\n    </tr>\n    <tr>\n      <th>41</th>\n      <td>False</td>\n      <td>False</td>\n      <td>False</td>\n      <td>False</td>\n      <td>False</td>\n      <td>False</td>\n    </tr>\n    <tr>\n      <th>42</th>\n      <td>False</td>\n      <td>False</td>\n      <td>False</td>\n      <td>False</td>\n      <td>False</td>\n      <td>False</td>\n    </tr>\n    <tr>\n      <th>43</th>\n      <td>False</td>\n      <td>False</td>\n      <td>False</td>\n      <td>False</td>\n      <td>False</td>\n      <td>False</td>\n    </tr>\n    <tr>\n      <th>44</th>\n      <td>False</td>\n      <td>False</td>\n      <td>False</td>\n      <td>False</td>\n      <td>False</td>\n      <td>False</td>\n    </tr>\n    <tr>\n      <th>45</th>\n      <td>False</td>\n      <td>False</td>\n      <td>False</td>\n      <td>False</td>\n      <td>False</td>\n      <td>False</td>\n    </tr>\n    <tr>\n      <th>46</th>\n      <td>False</td>\n      <td>False</td>\n      <td>False</td>\n      <td>False</td>\n      <td>False</td>\n      <td>False</td>\n    </tr>\n    <tr>\n      <th>47</th>\n      <td>False</td>\n      <td>False</td>\n      <td>False</td>\n      <td>False</td>\n      <td>False</td>\n      <td>False</td>\n    </tr>\n    <tr>\n      <th>48</th>\n      <td>False</td>\n      <td>False</td>\n      <td>False</td>\n      <td>False</td>\n      <td>False</td>\n      <td>False</td>\n    </tr>\n    <tr>\n      <th>49</th>\n      <td>False</td>\n      <td>False</td>\n      <td>False</td>\n      <td>False</td>\n      <td>False</td>\n      <td>False</td>\n    </tr>\n    <tr>\n      <th>50</th>\n      <td>False</td>\n      <td>True</td>\n      <td>True</td>\n      <td>True</td>\n      <td>True</td>\n      <td>True</td>\n    </tr>\n  </tbody>\n</table>\n</div>"
     },
     "execution_count": 57,
     "metadata": {},
     "output_type": "execute_result"
    }
   ],
   "source": [
    "# Are there any missing values in our dataframe? Does our dataframe contain any bad data?\n",
    "print('The last value is missing')\n",
    "df.isna()"
   ],
   "metadata": {
    "collapsed": false,
    "pycharm": {
     "name": "#%%\n"
    }
   }
  },
  {
   "cell_type": "code",
   "execution_count": 58,
   "outputs": [
    {
     "data": {
      "text/plain": "   Undergraduate Major  Starting Median Salary  Mid-Career Median Salary  \\\n45   Political Science               40,800.00                 78,200.00   \n46          Psychology               35,900.00                 60,400.00   \n47            Religion               34,100.00                 52,000.00   \n48           Sociology               36,500.00                 58,200.00   \n49             Spanish               34,000.00                 53,100.00   \n\n    Mid-Career 10th Percentile Salary  Mid-Career 90th Percentile Salary Group  \n45                          41,200.00                         168,000.00  HASS  \n46                          31,600.00                         127,000.00  HASS  \n47                          29,700.00                          96,400.00  HASS  \n48                          30,700.00                         118,000.00  HASS  \n49                          31,000.00                          96,400.00  HASS  ",
      "text/html": "<div>\n<style scoped>\n    .dataframe tbody tr th:only-of-type {\n        vertical-align: middle;\n    }\n\n    .dataframe tbody tr th {\n        vertical-align: top;\n    }\n\n    .dataframe thead th {\n        text-align: right;\n    }\n</style>\n<table border=\"1\" class=\"dataframe\">\n  <thead>\n    <tr style=\"text-align: right;\">\n      <th></th>\n      <th>Undergraduate Major</th>\n      <th>Starting Median Salary</th>\n      <th>Mid-Career Median Salary</th>\n      <th>Mid-Career 10th Percentile Salary</th>\n      <th>Mid-Career 90th Percentile Salary</th>\n      <th>Group</th>\n    </tr>\n  </thead>\n  <tbody>\n    <tr>\n      <th>45</th>\n      <td>Political Science</td>\n      <td>40,800.00</td>\n      <td>78,200.00</td>\n      <td>41,200.00</td>\n      <td>168,000.00</td>\n      <td>HASS</td>\n    </tr>\n    <tr>\n      <th>46</th>\n      <td>Psychology</td>\n      <td>35,900.00</td>\n      <td>60,400.00</td>\n      <td>31,600.00</td>\n      <td>127,000.00</td>\n      <td>HASS</td>\n    </tr>\n    <tr>\n      <th>47</th>\n      <td>Religion</td>\n      <td>34,100.00</td>\n      <td>52,000.00</td>\n      <td>29,700.00</td>\n      <td>96,400.00</td>\n      <td>HASS</td>\n    </tr>\n    <tr>\n      <th>48</th>\n      <td>Sociology</td>\n      <td>36,500.00</td>\n      <td>58,200.00</td>\n      <td>30,700.00</td>\n      <td>118,000.00</td>\n      <td>HASS</td>\n    </tr>\n    <tr>\n      <th>49</th>\n      <td>Spanish</td>\n      <td>34,000.00</td>\n      <td>53,100.00</td>\n      <td>31,000.00</td>\n      <td>96,400.00</td>\n      <td>HASS</td>\n    </tr>\n  </tbody>\n</table>\n</div>"
     },
     "execution_count": 58,
     "metadata": {},
     "output_type": "execute_result"
    }
   ],
   "source": [
    "# Drop the last row with missing data\n",
    "df2 = df.dropna()\n",
    "df2.tail()"
   ],
   "metadata": {
    "collapsed": false,
    "pycharm": {
     "name": "#%%\n"
    }
   }
  },
  {
   "cell_type": "code",
   "execution_count": 59,
   "outputs": [
    {
     "name": "stdout",
     "output_type": "stream",
     "text": [
      "Physician Assistant has the highest starting median salary at $74300.0\n"
     ]
    }
   ],
   "source": [
    "# Find the highest starting salary\n",
    "max_id_start = df2['Starting Median Salary'].idxmax()\n",
    "max_major_start = df2['Undergraduate Major'].loc[max_id_start]\n",
    "max_amount_start = df2['Starting Median Salary'].loc[max_id_start]\n",
    "\n",
    "print(f'{max_major_start} has the highest starting median salary at ${max_amount_start}')"
   ],
   "metadata": {
    "collapsed": false,
    "pycharm": {
     "name": "#%%\n"
    }
   }
  },
  {
   "cell_type": "code",
   "execution_count": 60,
   "outputs": [
    {
     "data": {
      "text/plain": "                     Undergraduate Major  Starting Median Salary  \\\n0                             Accounting               46,000.00   \n1                  Aerospace Engineering               57,700.00   \n2                            Agriculture               42,600.00   \n3                           Anthropology               36,800.00   \n4                           Architecture               41,600.00   \n5                            Art History               35,800.00   \n6                                Biology               38,800.00   \n7                    Business Management               43,000.00   \n8                   Chemical Engineering               63,200.00   \n9                              Chemistry               42,600.00   \n10                     Civil Engineering               53,900.00   \n11                        Communications               38,100.00   \n12                  Computer Engineering               61,400.00   \n13                      Computer Science               55,900.00   \n14                          Construction               53,700.00   \n15                      Criminal Justice               35,000.00   \n16                                 Drama               35,900.00   \n17                             Economics               50,100.00   \n18                             Education               34,900.00   \n19                Electrical Engineering               60,900.00   \n20                               English               38,000.00   \n21                                  Film               37,900.00   \n22                               Finance               47,900.00   \n23                              Forestry               39,100.00   \n24                             Geography               41,200.00   \n25                               Geology               43,500.00   \n26                        Graphic Design               35,700.00   \n27            Health Care Administration               38,800.00   \n28                               History               39,200.00   \n29                 Hospitality & Tourism               37,800.00   \n30                Industrial Engineering               57,700.00   \n31           Information Technology (IT)               49,100.00   \n32                       Interior Design               36,100.00   \n33               International Relations               40,900.00   \n34                            Journalism               35,600.00   \n35  Management Information Systems (MIS)               49,200.00   \n36                             Marketing               40,800.00   \n37                                  Math               45,400.00   \n38                Mechanical Engineering               57,900.00   \n39                                 Music               35,900.00   \n40                               Nursing               54,200.00   \n41                             Nutrition               39,900.00   \n42                            Philosophy               39,900.00   \n43                   Physician Assistant               74,300.00   \n44                               Physics               50,300.00   \n45                     Political Science               40,800.00   \n46                            Psychology               35,900.00   \n47                              Religion               34,100.00   \n48                             Sociology               36,500.00   \n49                               Spanish               34,000.00   \n\n    Mid-Career Median Salary  Mid-Career 10th Percentile Salary  \\\n0                  77,100.00                          42,200.00   \n1                 101,000.00                          64,300.00   \n2                  71,900.00                          36,300.00   \n3                  61,500.00                          33,800.00   \n4                  76,800.00                          50,600.00   \n5                  64,900.00                          28,800.00   \n6                  64,800.00                          36,900.00   \n7                  72,100.00                          38,800.00   \n8                 107,000.00                          71,900.00   \n9                  79,900.00                          45,300.00   \n10                 90,500.00                          63,400.00   \n11                 70,000.00                          37,500.00   \n12                105,000.00                          66,100.00   \n13                 95,500.00                          56,000.00   \n14                 88,900.00                          56,300.00   \n15                 56,300.00                          32,200.00   \n16                 56,900.00                          36,700.00   \n17                 98,600.00                          50,600.00   \n18                 52,000.00                          29,300.00   \n19                103,000.00                          69,300.00   \n20                 64,700.00                          33,400.00   \n21                 68,500.00                          33,900.00   \n22                 88,300.00                          47,200.00   \n23                 62,600.00                          41,000.00   \n24                 65,500.00                          40,000.00   \n25                 79,500.00                          45,000.00   \n26                 59,800.00                          36,000.00   \n27                 60,600.00                          34,600.00   \n28                 71,000.00                          37,000.00   \n29                 57,500.00                          35,500.00   \n30                 94,700.00                          57,100.00   \n31                 74,800.00                          44,500.00   \n32                 53,200.00                          35,700.00   \n33                 80,900.00                          38,200.00   \n34                 66,700.00                          38,400.00   \n35                 82,300.00                          45,300.00   \n36                 79,600.00                          42,100.00   \n37                 92,400.00                          45,200.00   \n38                 93,600.00                          63,700.00   \n39                 55,000.00                          26,700.00   \n40                 67,000.00                          47,600.00   \n41                 55,300.00                          33,900.00   \n42                 81,200.00                          35,500.00   \n43                 91,700.00                          66,400.00   \n44                 97,300.00                          56,000.00   \n45                 78,200.00                          41,200.00   \n46                 60,400.00                          31,600.00   \n47                 52,000.00                          29,700.00   \n48                 58,200.00                          30,700.00   \n49                 53,100.00                          31,000.00   \n\n    Mid-Career 90th Percentile Salary     Group  \n0                          152,000.00  Business  \n1                          161,000.00      STEM  \n2                          150,000.00  Business  \n3                          138,000.00      HASS  \n4                          136,000.00  Business  \n5                          125,000.00      HASS  \n6                          135,000.00      STEM  \n7                          147,000.00  Business  \n8                          194,000.00      STEM  \n9                          148,000.00      STEM  \n10                         148,000.00      STEM  \n11                         143,000.00      HASS  \n12                         162,000.00      STEM  \n13                         154,000.00      STEM  \n14                         171,000.00  Business  \n15                         107,000.00      HASS  \n16                         153,000.00      HASS  \n17                         210,000.00  Business  \n18                         102,000.00      HASS  \n19                         168,000.00      STEM  \n20                         133,000.00      HASS  \n21                         136,000.00      HASS  \n22                         195,000.00  Business  \n23                         111,000.00  Business  \n24                         132,000.00      HASS  \n25                         156,000.00      STEM  \n26                         112,000.00      HASS  \n27                         101,000.00  Business  \n28                         149,000.00      HASS  \n29                         124,000.00  Business  \n30                         173,000.00      STEM  \n31                         129,000.00      STEM  \n32                         107,000.00      HASS  \n33                         157,000.00      HASS  \n34                         145,000.00      HASS  \n35                         146,000.00      STEM  \n36                         175,000.00  Business  \n37                         183,000.00      STEM  \n38                         163,000.00      STEM  \n39                         134,000.00      HASS  \n40                          98,300.00  Business  \n41                          99,200.00      HASS  \n42                         168,000.00      HASS  \n43                         124,000.00      STEM  \n44                         178,000.00      STEM  \n45                         168,000.00      HASS  \n46                         127,000.00      HASS  \n47                          96,400.00      HASS  \n48                         118,000.00      HASS  \n49                          96,400.00      HASS  ",
      "text/html": "<div>\n<style scoped>\n    .dataframe tbody tr th:only-of-type {\n        vertical-align: middle;\n    }\n\n    .dataframe tbody tr th {\n        vertical-align: top;\n    }\n\n    .dataframe thead th {\n        text-align: right;\n    }\n</style>\n<table border=\"1\" class=\"dataframe\">\n  <thead>\n    <tr style=\"text-align: right;\">\n      <th></th>\n      <th>Undergraduate Major</th>\n      <th>Starting Median Salary</th>\n      <th>Mid-Career Median Salary</th>\n      <th>Mid-Career 10th Percentile Salary</th>\n      <th>Mid-Career 90th Percentile Salary</th>\n      <th>Group</th>\n    </tr>\n  </thead>\n  <tbody>\n    <tr>\n      <th>0</th>\n      <td>Accounting</td>\n      <td>46,000.00</td>\n      <td>77,100.00</td>\n      <td>42,200.00</td>\n      <td>152,000.00</td>\n      <td>Business</td>\n    </tr>\n    <tr>\n      <th>1</th>\n      <td>Aerospace Engineering</td>\n      <td>57,700.00</td>\n      <td>101,000.00</td>\n      <td>64,300.00</td>\n      <td>161,000.00</td>\n      <td>STEM</td>\n    </tr>\n    <tr>\n      <th>2</th>\n      <td>Agriculture</td>\n      <td>42,600.00</td>\n      <td>71,900.00</td>\n      <td>36,300.00</td>\n      <td>150,000.00</td>\n      <td>Business</td>\n    </tr>\n    <tr>\n      <th>3</th>\n      <td>Anthropology</td>\n      <td>36,800.00</td>\n      <td>61,500.00</td>\n      <td>33,800.00</td>\n      <td>138,000.00</td>\n      <td>HASS</td>\n    </tr>\n    <tr>\n      <th>4</th>\n      <td>Architecture</td>\n      <td>41,600.00</td>\n      <td>76,800.00</td>\n      <td>50,600.00</td>\n      <td>136,000.00</td>\n      <td>Business</td>\n    </tr>\n    <tr>\n      <th>5</th>\n      <td>Art History</td>\n      <td>35,800.00</td>\n      <td>64,900.00</td>\n      <td>28,800.00</td>\n      <td>125,000.00</td>\n      <td>HASS</td>\n    </tr>\n    <tr>\n      <th>6</th>\n      <td>Biology</td>\n      <td>38,800.00</td>\n      <td>64,800.00</td>\n      <td>36,900.00</td>\n      <td>135,000.00</td>\n      <td>STEM</td>\n    </tr>\n    <tr>\n      <th>7</th>\n      <td>Business Management</td>\n      <td>43,000.00</td>\n      <td>72,100.00</td>\n      <td>38,800.00</td>\n      <td>147,000.00</td>\n      <td>Business</td>\n    </tr>\n    <tr>\n      <th>8</th>\n      <td>Chemical Engineering</td>\n      <td>63,200.00</td>\n      <td>107,000.00</td>\n      <td>71,900.00</td>\n      <td>194,000.00</td>\n      <td>STEM</td>\n    </tr>\n    <tr>\n      <th>9</th>\n      <td>Chemistry</td>\n      <td>42,600.00</td>\n      <td>79,900.00</td>\n      <td>45,300.00</td>\n      <td>148,000.00</td>\n      <td>STEM</td>\n    </tr>\n    <tr>\n      <th>10</th>\n      <td>Civil Engineering</td>\n      <td>53,900.00</td>\n      <td>90,500.00</td>\n      <td>63,400.00</td>\n      <td>148,000.00</td>\n      <td>STEM</td>\n    </tr>\n    <tr>\n      <th>11</th>\n      <td>Communications</td>\n      <td>38,100.00</td>\n      <td>70,000.00</td>\n      <td>37,500.00</td>\n      <td>143,000.00</td>\n      <td>HASS</td>\n    </tr>\n    <tr>\n      <th>12</th>\n      <td>Computer Engineering</td>\n      <td>61,400.00</td>\n      <td>105,000.00</td>\n      <td>66,100.00</td>\n      <td>162,000.00</td>\n      <td>STEM</td>\n    </tr>\n    <tr>\n      <th>13</th>\n      <td>Computer Science</td>\n      <td>55,900.00</td>\n      <td>95,500.00</td>\n      <td>56,000.00</td>\n      <td>154,000.00</td>\n      <td>STEM</td>\n    </tr>\n    <tr>\n      <th>14</th>\n      <td>Construction</td>\n      <td>53,700.00</td>\n      <td>88,900.00</td>\n      <td>56,300.00</td>\n      <td>171,000.00</td>\n      <td>Business</td>\n    </tr>\n    <tr>\n      <th>15</th>\n      <td>Criminal Justice</td>\n      <td>35,000.00</td>\n      <td>56,300.00</td>\n      <td>32,200.00</td>\n      <td>107,000.00</td>\n      <td>HASS</td>\n    </tr>\n    <tr>\n      <th>16</th>\n      <td>Drama</td>\n      <td>35,900.00</td>\n      <td>56,900.00</td>\n      <td>36,700.00</td>\n      <td>153,000.00</td>\n      <td>HASS</td>\n    </tr>\n    <tr>\n      <th>17</th>\n      <td>Economics</td>\n      <td>50,100.00</td>\n      <td>98,600.00</td>\n      <td>50,600.00</td>\n      <td>210,000.00</td>\n      <td>Business</td>\n    </tr>\n    <tr>\n      <th>18</th>\n      <td>Education</td>\n      <td>34,900.00</td>\n      <td>52,000.00</td>\n      <td>29,300.00</td>\n      <td>102,000.00</td>\n      <td>HASS</td>\n    </tr>\n    <tr>\n      <th>19</th>\n      <td>Electrical Engineering</td>\n      <td>60,900.00</td>\n      <td>103,000.00</td>\n      <td>69,300.00</td>\n      <td>168,000.00</td>\n      <td>STEM</td>\n    </tr>\n    <tr>\n      <th>20</th>\n      <td>English</td>\n      <td>38,000.00</td>\n      <td>64,700.00</td>\n      <td>33,400.00</td>\n      <td>133,000.00</td>\n      <td>HASS</td>\n    </tr>\n    <tr>\n      <th>21</th>\n      <td>Film</td>\n      <td>37,900.00</td>\n      <td>68,500.00</td>\n      <td>33,900.00</td>\n      <td>136,000.00</td>\n      <td>HASS</td>\n    </tr>\n    <tr>\n      <th>22</th>\n      <td>Finance</td>\n      <td>47,900.00</td>\n      <td>88,300.00</td>\n      <td>47,200.00</td>\n      <td>195,000.00</td>\n      <td>Business</td>\n    </tr>\n    <tr>\n      <th>23</th>\n      <td>Forestry</td>\n      <td>39,100.00</td>\n      <td>62,600.00</td>\n      <td>41,000.00</td>\n      <td>111,000.00</td>\n      <td>Business</td>\n    </tr>\n    <tr>\n      <th>24</th>\n      <td>Geography</td>\n      <td>41,200.00</td>\n      <td>65,500.00</td>\n      <td>40,000.00</td>\n      <td>132,000.00</td>\n      <td>HASS</td>\n    </tr>\n    <tr>\n      <th>25</th>\n      <td>Geology</td>\n      <td>43,500.00</td>\n      <td>79,500.00</td>\n      <td>45,000.00</td>\n      <td>156,000.00</td>\n      <td>STEM</td>\n    </tr>\n    <tr>\n      <th>26</th>\n      <td>Graphic Design</td>\n      <td>35,700.00</td>\n      <td>59,800.00</td>\n      <td>36,000.00</td>\n      <td>112,000.00</td>\n      <td>HASS</td>\n    </tr>\n    <tr>\n      <th>27</th>\n      <td>Health Care Administration</td>\n      <td>38,800.00</td>\n      <td>60,600.00</td>\n      <td>34,600.00</td>\n      <td>101,000.00</td>\n      <td>Business</td>\n    </tr>\n    <tr>\n      <th>28</th>\n      <td>History</td>\n      <td>39,200.00</td>\n      <td>71,000.00</td>\n      <td>37,000.00</td>\n      <td>149,000.00</td>\n      <td>HASS</td>\n    </tr>\n    <tr>\n      <th>29</th>\n      <td>Hospitality &amp; Tourism</td>\n      <td>37,800.00</td>\n      <td>57,500.00</td>\n      <td>35,500.00</td>\n      <td>124,000.00</td>\n      <td>Business</td>\n    </tr>\n    <tr>\n      <th>30</th>\n      <td>Industrial Engineering</td>\n      <td>57,700.00</td>\n      <td>94,700.00</td>\n      <td>57,100.00</td>\n      <td>173,000.00</td>\n      <td>STEM</td>\n    </tr>\n    <tr>\n      <th>31</th>\n      <td>Information Technology (IT)</td>\n      <td>49,100.00</td>\n      <td>74,800.00</td>\n      <td>44,500.00</td>\n      <td>129,000.00</td>\n      <td>STEM</td>\n    </tr>\n    <tr>\n      <th>32</th>\n      <td>Interior Design</td>\n      <td>36,100.00</td>\n      <td>53,200.00</td>\n      <td>35,700.00</td>\n      <td>107,000.00</td>\n      <td>HASS</td>\n    </tr>\n    <tr>\n      <th>33</th>\n      <td>International Relations</td>\n      <td>40,900.00</td>\n      <td>80,900.00</td>\n      <td>38,200.00</td>\n      <td>157,000.00</td>\n      <td>HASS</td>\n    </tr>\n    <tr>\n      <th>34</th>\n      <td>Journalism</td>\n      <td>35,600.00</td>\n      <td>66,700.00</td>\n      <td>38,400.00</td>\n      <td>145,000.00</td>\n      <td>HASS</td>\n    </tr>\n    <tr>\n      <th>35</th>\n      <td>Management Information Systems (MIS)</td>\n      <td>49,200.00</td>\n      <td>82,300.00</td>\n      <td>45,300.00</td>\n      <td>146,000.00</td>\n      <td>STEM</td>\n    </tr>\n    <tr>\n      <th>36</th>\n      <td>Marketing</td>\n      <td>40,800.00</td>\n      <td>79,600.00</td>\n      <td>42,100.00</td>\n      <td>175,000.00</td>\n      <td>Business</td>\n    </tr>\n    <tr>\n      <th>37</th>\n      <td>Math</td>\n      <td>45,400.00</td>\n      <td>92,400.00</td>\n      <td>45,200.00</td>\n      <td>183,000.00</td>\n      <td>STEM</td>\n    </tr>\n    <tr>\n      <th>38</th>\n      <td>Mechanical Engineering</td>\n      <td>57,900.00</td>\n      <td>93,600.00</td>\n      <td>63,700.00</td>\n      <td>163,000.00</td>\n      <td>STEM</td>\n    </tr>\n    <tr>\n      <th>39</th>\n      <td>Music</td>\n      <td>35,900.00</td>\n      <td>55,000.00</td>\n      <td>26,700.00</td>\n      <td>134,000.00</td>\n      <td>HASS</td>\n    </tr>\n    <tr>\n      <th>40</th>\n      <td>Nursing</td>\n      <td>54,200.00</td>\n      <td>67,000.00</td>\n      <td>47,600.00</td>\n      <td>98,300.00</td>\n      <td>Business</td>\n    </tr>\n    <tr>\n      <th>41</th>\n      <td>Nutrition</td>\n      <td>39,900.00</td>\n      <td>55,300.00</td>\n      <td>33,900.00</td>\n      <td>99,200.00</td>\n      <td>HASS</td>\n    </tr>\n    <tr>\n      <th>42</th>\n      <td>Philosophy</td>\n      <td>39,900.00</td>\n      <td>81,200.00</td>\n      <td>35,500.00</td>\n      <td>168,000.00</td>\n      <td>HASS</td>\n    </tr>\n    <tr>\n      <th>43</th>\n      <td>Physician Assistant</td>\n      <td>74,300.00</td>\n      <td>91,700.00</td>\n      <td>66,400.00</td>\n      <td>124,000.00</td>\n      <td>STEM</td>\n    </tr>\n    <tr>\n      <th>44</th>\n      <td>Physics</td>\n      <td>50,300.00</td>\n      <td>97,300.00</td>\n      <td>56,000.00</td>\n      <td>178,000.00</td>\n      <td>STEM</td>\n    </tr>\n    <tr>\n      <th>45</th>\n      <td>Political Science</td>\n      <td>40,800.00</td>\n      <td>78,200.00</td>\n      <td>41,200.00</td>\n      <td>168,000.00</td>\n      <td>HASS</td>\n    </tr>\n    <tr>\n      <th>46</th>\n      <td>Psychology</td>\n      <td>35,900.00</td>\n      <td>60,400.00</td>\n      <td>31,600.00</td>\n      <td>127,000.00</td>\n      <td>HASS</td>\n    </tr>\n    <tr>\n      <th>47</th>\n      <td>Religion</td>\n      <td>34,100.00</td>\n      <td>52,000.00</td>\n      <td>29,700.00</td>\n      <td>96,400.00</td>\n      <td>HASS</td>\n    </tr>\n    <tr>\n      <th>48</th>\n      <td>Sociology</td>\n      <td>36,500.00</td>\n      <td>58,200.00</td>\n      <td>30,700.00</td>\n      <td>118,000.00</td>\n      <td>HASS</td>\n    </tr>\n    <tr>\n      <th>49</th>\n      <td>Spanish</td>\n      <td>34,000.00</td>\n      <td>53,100.00</td>\n      <td>31,000.00</td>\n      <td>96,400.00</td>\n      <td>HASS</td>\n    </tr>\n  </tbody>\n</table>\n</div>"
     },
     "execution_count": 60,
     "metadata": {},
     "output_type": "execute_result"
    }
   ],
   "source": [
    "df2"
   ],
   "metadata": {
    "collapsed": false,
    "pycharm": {
     "name": "#%%\n"
    }
   }
  },
  {
   "cell_type": "code",
   "execution_count": 61,
   "outputs": [
    {
     "name": "stdout",
     "output_type": "stream",
     "text": [
      "Physician Assistant has the highest starting median salary at $74300.0\n"
     ]
    }
   ],
   "source": [
    "# Find the highest starting salary\n",
    "max_id = df2['Starting Median Salary'].idxmax()\n",
    "max_major = df2['Undergraduate Major'].loc[max_id]\n",
    "max_amount = df2['Starting Median Salary'].loc[max_id]\n",
    "\n",
    "print(f'{max_major} has the highest starting median salary at ${max_amount}')"
   ],
   "metadata": {
    "collapsed": false,
    "pycharm": {
     "name": "#%%\n"
    }
   }
  },
  {
   "cell_type": "code",
   "execution_count": 62,
   "outputs": [
    {
     "name": "stdout",
     "output_type": "stream",
     "text": [
      "Chemical Engineering has the highest starting median salary at $107000.0\n"
     ]
    }
   ],
   "source": [
    "# What college major has the highest mid-career salary? How much do graduates with this major earn? (Mid-career is defined as having 10+ years of experience).\n",
    "max_id_mid = df2['Mid-Career Median Salary'].idxmax()\n",
    "max_major_mid = df2['Undergraduate Major'].loc[max_id_mid]\n",
    "max_amount_mid = df2['Mid-Career Median Salary'].loc[max_id_mid]\n",
    "\n",
    "print(f'{max_major_mid} has the highest starting median salary at ${max_amount_mid}')"
   ],
   "metadata": {
    "collapsed": false,
    "pycharm": {
     "name": "#%%\n"
    }
   }
  },
  {
   "cell_type": "code",
   "execution_count": 63,
   "outputs": [
    {
     "name": "stdout",
     "output_type": "stream",
     "text": [
      "Spanish has the lowest starting median salary at $34000.0\n"
     ]
    }
   ],
   "source": [
    "# Which college major has the lowest starting salary and how much do graduates earn after university?\n",
    "min_id = df2['Starting Median Salary'].idxmin()\n",
    "min_major = df2['Undergraduate Major'].loc[min_id]\n",
    "min_amount = df2['Starting Median Salary'].loc[min_id]\n",
    "\n",
    "print(f'{min_major} has the lowest starting median salary at ${min_amount}')"
   ],
   "metadata": {
    "collapsed": false,
    "pycharm": {
     "name": "#%%\n"
    }
   }
  },
  {
   "cell_type": "code",
   "execution_count": 64,
   "outputs": [
    {
     "name": "stdout",
     "output_type": "stream",
     "text": [
      "Education has the lowest mid-career median salary at $52000.0\n"
     ]
    }
   ],
   "source": [
    "#Which college major has the lowest mid-career salary and how much can people expect to earn with this degree?\n",
    "min_id = df2['Mid-Career Median Salary'].idxmin()\n",
    "min_major = df2['Undergraduate Major'].loc[min_id]\n",
    "min_amount = df2['Mid-Career Median Salary'].loc[min_id]\n",
    "\n",
    "print(f'{min_major} has the lowest mid-career median salary at ${min_amount}')"
   ],
   "metadata": {
    "collapsed": false,
    "pycharm": {
     "name": "#%%\n"
    }
   }
  },
  {
   "cell_type": "code",
   "execution_count": 65,
   "outputs": [
    {
     "data": {
      "text/plain": "     Undergraduate Major  Starting Median Salary  Mid-Career Median Salary  \\\n0             Accounting               46,000.00                 77,100.00   \n1  Aerospace Engineering               57,700.00                101,000.00   \n2            Agriculture               42,600.00                 71,900.00   \n3           Anthropology               36,800.00                 61,500.00   \n4           Architecture               41,600.00                 76,800.00   \n\n   Mid-Career 10th Percentile Salary  Mid-Career 90th Percentile Salary  \\\n0                          42,200.00                         152,000.00   \n1                          64,300.00                         161,000.00   \n2                          36,300.00                         150,000.00   \n3                          33,800.00                         138,000.00   \n4                          50,600.00                         136,000.00   \n\n      Group     Spread  \n0  Business 109,800.00  \n1      STEM  96,700.00  \n2  Business 113,700.00  \n3      HASS 104,200.00  \n4  Business  85,400.00  ",
      "text/html": "<div>\n<style scoped>\n    .dataframe tbody tr th:only-of-type {\n        vertical-align: middle;\n    }\n\n    .dataframe tbody tr th {\n        vertical-align: top;\n    }\n\n    .dataframe thead th {\n        text-align: right;\n    }\n</style>\n<table border=\"1\" class=\"dataframe\">\n  <thead>\n    <tr style=\"text-align: right;\">\n      <th></th>\n      <th>Undergraduate Major</th>\n      <th>Starting Median Salary</th>\n      <th>Mid-Career Median Salary</th>\n      <th>Mid-Career 10th Percentile Salary</th>\n      <th>Mid-Career 90th Percentile Salary</th>\n      <th>Group</th>\n      <th>Spread</th>\n    </tr>\n  </thead>\n  <tbody>\n    <tr>\n      <th>0</th>\n      <td>Accounting</td>\n      <td>46,000.00</td>\n      <td>77,100.00</td>\n      <td>42,200.00</td>\n      <td>152,000.00</td>\n      <td>Business</td>\n      <td>109,800.00</td>\n    </tr>\n    <tr>\n      <th>1</th>\n      <td>Aerospace Engineering</td>\n      <td>57,700.00</td>\n      <td>101,000.00</td>\n      <td>64,300.00</td>\n      <td>161,000.00</td>\n      <td>STEM</td>\n      <td>96,700.00</td>\n    </tr>\n    <tr>\n      <th>2</th>\n      <td>Agriculture</td>\n      <td>42,600.00</td>\n      <td>71,900.00</td>\n      <td>36,300.00</td>\n      <td>150,000.00</td>\n      <td>Business</td>\n      <td>113,700.00</td>\n    </tr>\n    <tr>\n      <th>3</th>\n      <td>Anthropology</td>\n      <td>36,800.00</td>\n      <td>61,500.00</td>\n      <td>33,800.00</td>\n      <td>138,000.00</td>\n      <td>HASS</td>\n      <td>104,200.00</td>\n    </tr>\n    <tr>\n      <th>4</th>\n      <td>Architecture</td>\n      <td>41,600.00</td>\n      <td>76,800.00</td>\n      <td>50,600.00</td>\n      <td>136,000.00</td>\n      <td>Business</td>\n      <td>85,400.00</td>\n    </tr>\n  </tbody>\n</table>\n</div>"
     },
     "execution_count": 65,
     "metadata": {},
     "output_type": "execute_result"
    }
   ],
   "source": [
    "# Create a \"Spread\" column\n",
    "df3 = df2.copy()\n",
    "df3['Spread'] = df3['Mid-Career 90th Percentile Salary'] - df3['Mid-Career 10th Percentile Salary']\n",
    "df3.head()"
   ],
   "metadata": {
    "collapsed": false,
    "pycharm": {
     "name": "#%%\n"
    }
   }
  },
  {
   "cell_type": "code",
   "execution_count": 66,
   "outputs": [
    {
     "data": {
      "text/plain": "     Undergraduate Major  Starting Median Salary  Mid-Career Median Salary  \\\n17             Economics               50,100.00                 98,600.00   \n22               Finance               47,900.00                 88,300.00   \n8   Chemical Engineering               63,200.00                107,000.00   \n37                  Math               45,400.00                 92,400.00   \n44               Physics               50,300.00                 97,300.00   \n\n    Mid-Career 10th Percentile Salary  Mid-Career 90th Percentile Salary  \\\n17                          50,600.00                         210,000.00   \n22                          47,200.00                         195,000.00   \n8                           71,900.00                         194,000.00   \n37                          45,200.00                         183,000.00   \n44                          56,000.00                         178,000.00   \n\n       Group     Spread  \n17  Business 159,400.00  \n22  Business 147,800.00  \n8       STEM 122,100.00  \n37      STEM 137,800.00  \n44      STEM 122,000.00  ",
      "text/html": "<div>\n<style scoped>\n    .dataframe tbody tr th:only-of-type {\n        vertical-align: middle;\n    }\n\n    .dataframe tbody tr th {\n        vertical-align: top;\n    }\n\n    .dataframe thead th {\n        text-align: right;\n    }\n</style>\n<table border=\"1\" class=\"dataframe\">\n  <thead>\n    <tr style=\"text-align: right;\">\n      <th></th>\n      <th>Undergraduate Major</th>\n      <th>Starting Median Salary</th>\n      <th>Mid-Career Median Salary</th>\n      <th>Mid-Career 10th Percentile Salary</th>\n      <th>Mid-Career 90th Percentile Salary</th>\n      <th>Group</th>\n      <th>Spread</th>\n    </tr>\n  </thead>\n  <tbody>\n    <tr>\n      <th>17</th>\n      <td>Economics</td>\n      <td>50,100.00</td>\n      <td>98,600.00</td>\n      <td>50,600.00</td>\n      <td>210,000.00</td>\n      <td>Business</td>\n      <td>159,400.00</td>\n    </tr>\n    <tr>\n      <th>22</th>\n      <td>Finance</td>\n      <td>47,900.00</td>\n      <td>88,300.00</td>\n      <td>47,200.00</td>\n      <td>195,000.00</td>\n      <td>Business</td>\n      <td>147,800.00</td>\n    </tr>\n    <tr>\n      <th>8</th>\n      <td>Chemical Engineering</td>\n      <td>63,200.00</td>\n      <td>107,000.00</td>\n      <td>71,900.00</td>\n      <td>194,000.00</td>\n      <td>STEM</td>\n      <td>122,100.00</td>\n    </tr>\n    <tr>\n      <th>37</th>\n      <td>Math</td>\n      <td>45,400.00</td>\n      <td>92,400.00</td>\n      <td>45,200.00</td>\n      <td>183,000.00</td>\n      <td>STEM</td>\n      <td>137,800.00</td>\n    </tr>\n    <tr>\n      <th>44</th>\n      <td>Physics</td>\n      <td>50,300.00</td>\n      <td>97,300.00</td>\n      <td>56,000.00</td>\n      <td>178,000.00</td>\n      <td>STEM</td>\n      <td>122,000.00</td>\n    </tr>\n  </tbody>\n</table>\n</div>"
     },
     "execution_count": 66,
     "metadata": {},
     "output_type": "execute_result"
    }
   ],
   "source": [
    "# Degrees with highest mid-career salaries\n",
    "df3.sort_values('Mid-Career 90th Percentile Salary', ascending=False).head()"
   ],
   "metadata": {
    "collapsed": false,
    "pycharm": {
     "name": "#%%\n"
    }
   }
  },
  {
   "cell_type": "code",
   "execution_count": 67,
   "outputs": [
    {
     "data": {
      "text/plain": "   Undergraduate Major  Starting Median Salary  Mid-Career Median Salary  \\\n17           Economics               50,100.00                 98,600.00   \n22             Finance               47,900.00                 88,300.00   \n37                Math               45,400.00                 92,400.00   \n36           Marketing               40,800.00                 79,600.00   \n42          Philosophy               39,900.00                 81,200.00   \n\n    Mid-Career 10th Percentile Salary  Mid-Career 90th Percentile Salary  \\\n17                          50,600.00                         210,000.00   \n22                          47,200.00                         195,000.00   \n37                          45,200.00                         183,000.00   \n36                          42,100.00                         175,000.00   \n42                          35,500.00                         168,000.00   \n\n       Group     Spread  \n17  Business 159,400.00  \n22  Business 147,800.00  \n37      STEM 137,800.00  \n36  Business 132,900.00  \n42      HASS 132,500.00  ",
      "text/html": "<div>\n<style scoped>\n    .dataframe tbody tr th:only-of-type {\n        vertical-align: middle;\n    }\n\n    .dataframe tbody tr th {\n        vertical-align: top;\n    }\n\n    .dataframe thead th {\n        text-align: right;\n    }\n</style>\n<table border=\"1\" class=\"dataframe\">\n  <thead>\n    <tr style=\"text-align: right;\">\n      <th></th>\n      <th>Undergraduate Major</th>\n      <th>Starting Median Salary</th>\n      <th>Mid-Career Median Salary</th>\n      <th>Mid-Career 10th Percentile Salary</th>\n      <th>Mid-Career 90th Percentile Salary</th>\n      <th>Group</th>\n      <th>Spread</th>\n    </tr>\n  </thead>\n  <tbody>\n    <tr>\n      <th>17</th>\n      <td>Economics</td>\n      <td>50,100.00</td>\n      <td>98,600.00</td>\n      <td>50,600.00</td>\n      <td>210,000.00</td>\n      <td>Business</td>\n      <td>159,400.00</td>\n    </tr>\n    <tr>\n      <th>22</th>\n      <td>Finance</td>\n      <td>47,900.00</td>\n      <td>88,300.00</td>\n      <td>47,200.00</td>\n      <td>195,000.00</td>\n      <td>Business</td>\n      <td>147,800.00</td>\n    </tr>\n    <tr>\n      <th>37</th>\n      <td>Math</td>\n      <td>45,400.00</td>\n      <td>92,400.00</td>\n      <td>45,200.00</td>\n      <td>183,000.00</td>\n      <td>STEM</td>\n      <td>137,800.00</td>\n    </tr>\n    <tr>\n      <th>36</th>\n      <td>Marketing</td>\n      <td>40,800.00</td>\n      <td>79,600.00</td>\n      <td>42,100.00</td>\n      <td>175,000.00</td>\n      <td>Business</td>\n      <td>132,900.00</td>\n    </tr>\n    <tr>\n      <th>42</th>\n      <td>Philosophy</td>\n      <td>39,900.00</td>\n      <td>81,200.00</td>\n      <td>35,500.00</td>\n      <td>168,000.00</td>\n      <td>HASS</td>\n      <td>132,500.00</td>\n    </tr>\n  </tbody>\n</table>\n</div>"
     },
     "execution_count": 67,
     "metadata": {},
     "output_type": "execute_result"
    }
   ],
   "source": [
    "# Degrees with highest salary spreads\n",
    "df3.sort_values('Spread', ascending=False).head()"
   ],
   "metadata": {
    "collapsed": false,
    "pycharm": {
     "name": "#%%\n"
    }
   }
  },
  {
   "cell_type": "code",
   "execution_count": 68,
   "outputs": [
    {
     "data": {
      "text/plain": "          Starting Median Salary  Mid-Career Median Salary  \\\nGroup                                                        \nBusiness               44,633.33                 75,083.33   \nHASS                   37,186.36                 62,968.18   \nSTEM                   53,862.50                 90,812.50   \n\n          Mid-Career 10th Percentile Salary  \\\nGroup                                         \nBusiness                          43,566.67   \nHASS                              34,145.45   \nSTEM                              56,025.00   \n\n          Mid-Career 90th Percentile Salary     Spread  \nGroup                                                   \nBusiness                         147,525.00 103,958.33  \nHASS                             129,363.64  95,218.18  \nSTEM                             157,625.00 101,600.00  ",
      "text/html": "<div>\n<style scoped>\n    .dataframe tbody tr th:only-of-type {\n        vertical-align: middle;\n    }\n\n    .dataframe tbody tr th {\n        vertical-align: top;\n    }\n\n    .dataframe thead th {\n        text-align: right;\n    }\n</style>\n<table border=\"1\" class=\"dataframe\">\n  <thead>\n    <tr style=\"text-align: right;\">\n      <th></th>\n      <th>Starting Median Salary</th>\n      <th>Mid-Career Median Salary</th>\n      <th>Mid-Career 10th Percentile Salary</th>\n      <th>Mid-Career 90th Percentile Salary</th>\n      <th>Spread</th>\n    </tr>\n    <tr>\n      <th>Group</th>\n      <th></th>\n      <th></th>\n      <th></th>\n      <th></th>\n      <th></th>\n    </tr>\n  </thead>\n  <tbody>\n    <tr>\n      <th>Business</th>\n      <td>44,633.33</td>\n      <td>75,083.33</td>\n      <td>43,566.67</td>\n      <td>147,525.00</td>\n      <td>103,958.33</td>\n    </tr>\n    <tr>\n      <th>HASS</th>\n      <td>37,186.36</td>\n      <td>62,968.18</td>\n      <td>34,145.45</td>\n      <td>129,363.64</td>\n      <td>95,218.18</td>\n    </tr>\n    <tr>\n      <th>STEM</th>\n      <td>53,862.50</td>\n      <td>90,812.50</td>\n      <td>56,025.00</td>\n      <td>157,625.00</td>\n      <td>101,600.00</td>\n    </tr>\n  </tbody>\n</table>\n</div>"
     },
     "execution_count": 68,
     "metadata": {},
     "output_type": "execute_result"
    }
   ],
   "source": [
    "# Change format\n",
    "pd.options.display.float_format = '{:,.2f}'.format\n",
    "\n",
    "# Group salaries by degree group\n",
    "df4 = df3.groupby('Group').mean()\n",
    "df4"
   ],
   "metadata": {
    "collapsed": false,
    "pycharm": {
     "name": "#%%\n"
    }
   }
  },
  {
   "cell_type": "code",
   "execution_count": 68,
   "outputs": [],
   "source": [],
   "metadata": {
    "collapsed": false,
    "pycharm": {
     "name": "#%%\n"
    }
   }
  }
 ],
 "metadata": {
  "kernelspec": {
   "display_name": "Python 3",
   "language": "python",
   "name": "python3"
  },
  "language_info": {
   "codemirror_mode": {
    "name": "ipython",
    "version": 2
   },
   "file_extension": ".py",
   "mimetype": "text/x-python",
   "name": "python",
   "nbconvert_exporter": "python",
   "pygments_lexer": "ipython2",
   "version": "2.7.6"
  }
 },
 "nbformat": 4,
 "nbformat_minor": 0
}