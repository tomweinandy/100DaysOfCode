{
 "nbformat": 4,
 "nbformat_minor": 0,
 "metadata": {
  "kernelspec": {
   "display_name": "Python 3",
   "language": "python",
   "name": "python3"
  },
  "language_info": {
   "codemirror_mode": {
    "name": "ipython",
    "version": 3
   },
   "file_extension": ".py",
   "mimetype": "text/x-python",
   "name": "python",
   "nbconvert_exporter": "python",
   "pygments_lexer": "ipython3",
   "version": "3.7.9"
  },
  "colab": {
   "name": "Multivariable Regression and Valuation Model (start).ipynb",
   "provenance": [],
   "toc_visible": true
  }
 },
 "cells": [
  {
   "cell_type": "markdown",
   "source": [],
   "metadata": {
    "collapsed": false
   }
  },
  {
   "cell_type": "markdown",
   "metadata": {
    "id": "s_HZblvdCRka"
   },
   "source": [
    "<img src=https://i.imgur.com/WKQ0nH2.jpg height=350>\n",
    "\n",
    "# Setup and Context\n"
   ]
  },
  {
   "cell_type": "markdown",
   "metadata": {
    "id": "WAGWVzc2Cdu7"
   },
   "source": [
    "### Introduction\n",
    "\n",
    "Welcome to Boston Massachusetts in the 1970s! Imagine you're working for a real estate development company. Your company wants to value any residential project before they start. You are tasked with building a model that can provide a price estimate based on a home's characteristics like:\n",
    "* The number of rooms\n",
    "* The distance to employment centres\n",
    "* How rich or poor the area is\n",
    "* How many students there are per teacher in local schools etc\n",
    "\n",
    "<img src=https://i.imgur.com/WfUSSP7.png height=350>\n",
    "\n",
    "To accomplish your task you will:\n",
    "\n",
    "1. Analyse and explore the Boston house price data\n",
    "2. Split your data for training and testing\n",
    "3. Run a Multivariable Regression\n",
    "4. Evaluate how your model's coefficients and residuals\n",
    "5. Use data transformation to improve your model performance\n",
    "6. Use your model to estimate a property price"
   ]
  },
  {
   "cell_type": "markdown",
   "metadata": {
    "id": "yAiLrvQiCs5h"
   },
   "source": [
    "### Upgrade plotly (only Google Colab Notebook)\n",
    "\n",
    "Google Colab may not be running the latest version of plotly. If you're working in Google Colab, uncomment the line below, run the cell, and restart your notebook server. "
   ]
  },
  {
   "cell_type": "code",
   "metadata": {
    "id": "o5G1mC4dCmcI"
   },
   "source": [
    "# %pip install --upgrade plotly"
   ],
   "execution_count": null,
   "outputs": []
  },
  {
   "cell_type": "markdown",
   "metadata": {
    "id": "Qg7IDCTd-d2h"
   },
   "source": [
    "###  Import Statements\n"
   ]
  },
  {
   "cell_type": "code",
   "metadata": {
    "id": "3iYmJ3Fb-d2i"
   },
   "source": [
    "import pandas as pd\n",
    "import numpy as np\n",
    "\n",
    "import seaborn as sns\n",
    "import plotly.express as px\n",
    "import matplotlib.pyplot as plt\n",
    "\n",
    "from sklearn.linear_model import LinearRegression\n",
    "from sklearn import datasets\n",
    "# TODO: Add missing import statements"
   ],
   "execution_count": 1,
   "outputs": []
  },
  {
   "cell_type": "markdown",
   "metadata": {
    "id": "YexUjiVdC0Oe"
   },
   "source": [
    "### Notebook Presentation"
   ]
  },
  {
   "cell_type": "code",
   "metadata": {
    "id": "AUvdOhPIC4Me"
   },
   "source": [
    "pd.options.display.float_format = '{:,.2f}'.format"
   ],
   "execution_count": 2,
   "outputs": []
  },
  {
   "cell_type": "markdown",
   "metadata": {
    "id": "VRlvO4zw-d2l"
   },
   "source": [
    "# Load the Data\n",
    "\n",
    "The first column in the .csv file just has the row numbers, so it will be used as the index."
   ]
  },
  {
   "cell_type": "code",
   "metadata": {
    "id": "GlG_B81bYakP"
   },
   "source": [
    "df = pd.read_csv('boston.csv', index_col=0)"
   ],
   "execution_count": 67,
   "outputs": []
  },
  {
   "cell_type": "markdown",
   "metadata": {
    "id": "JKyJsSdEChd-"
   },
   "source": [
    "### Understand the Boston House Price Dataset\n",
    "\n",
    "---------------------------\n",
    "\n",
    "**Characteristics:**  \n",
    "\n",
    "    :Number of Instances: 506 \n",
    "\n",
    "    :Number of Attributes: 13 numeric/categorical predictive. The Median Value (attribute 14) is the target.\n",
    "\n",
    "    :Attribute Information (in order):\n",
    "        1. CRIM     per capita crime rate by town\n",
    "        2. ZN       proportion of residential land zoned for lots over 25,000 sq.ft.\n",
    "        3. INDUS    proportion of non-retail business acres per town\n",
    "        4. CHAS     Charles River dummy variable (= 1 if tract bounds river; 0 otherwise)\n",
    "        5. NOX      nitric oxides concentration (parts per 10 million)\n",
    "        6. RM       average number of rooms per dwelling\n",
    "        7. AGE      proportion of owner-occupied units built prior to 1940\n",
    "        8. DIS      weighted distances to five Boston employment centres\n",
    "        9. RAD      index of accessibility to radial highways\n",
    "        10. TAX      full-value property-tax rate per $10,000\n",
    "        11. PTRATIO  pupil-teacher ratio by town\n",
    "        12. B        1000(Bk - 0.63)^2 where Bk is the proportion of blacks by town\n",
    "        13. LSTAT    % lower status of the population\n",
    "        14. PRICE     Median value of owner-occupied homes in $1000's\n",
    "        \n",
    "    :Missing Attribute Values: None\n",
    "\n",
    "    :Creator: Harrison, D. and Rubinfeld, D.L.\n",
    "\n",
    "This is a copy of [UCI ML housing dataset](https://archive.ics.uci.edu/ml/machine-learning-databases/housing/). This dataset was taken from the StatLib library which is maintained at Carnegie Mellon University. You can find the [original research paper here](https://deepblue.lib.umich.edu/bitstream/handle/2027.42/22636/0000186.pdf?sequence=1&isAllowed=y). \n"
   ]
  },
  {
   "cell_type": "markdown",
   "metadata": {
    "id": "DTICpcuYD6BP"
   },
   "source": [
    "# Preliminary Data Exploration 🔎\n",
    "\n",
    "**Challenge**\n",
    "\n",
    "* What is the shape of `data`? \n",
    "* How many rows and columns does it have?\n",
    "* What are the column names?\n",
    "* Are there any NaN values or duplicates?"
   ]
  },
  {
   "cell_type": "code",
   "execution_count": 76,
   "outputs": [
    {
     "data": {
      "text/plain": "     CRIM    ZN  INDUS  CHAS  NOX   RM   AGE  DIS  RAD    TAX  PTRATIO      B  \\\n0    0.01 18.00   2.31  0.00 0.54 6.58 65.20 4.09 1.00 296.00    15.30 396.90   \n1    0.03  0.00   7.07  0.00 0.47 6.42 78.90 4.97 2.00 242.00    17.80 396.90   \n2    0.03  0.00   7.07  0.00 0.47 7.18 61.10 4.97 2.00 242.00    17.80 392.83   \n3    0.03  0.00   2.18  0.00 0.46 7.00 45.80 6.06 3.00 222.00    18.70 394.63   \n4    0.07  0.00   2.18  0.00 0.46 7.15 54.20 6.06 3.00 222.00    18.70 396.90   \n..    ...   ...    ...   ...  ...  ...   ...  ...  ...    ...      ...    ...   \n501  0.06  0.00  11.93  0.00 0.57 6.59 69.10 2.48 1.00 273.00    21.00 391.99   \n502  0.05  0.00  11.93  0.00 0.57 6.12 76.70 2.29 1.00 273.00    21.00 396.90   \n503  0.06  0.00  11.93  0.00 0.57 6.98 91.00 2.17 1.00 273.00    21.00 396.90   \n504  0.11  0.00  11.93  0.00 0.57 6.79 89.30 2.39 1.00 273.00    21.00 393.45   \n505  0.05  0.00  11.93  0.00 0.57 6.03 80.80 2.50 1.00 273.00    21.00 396.90   \n\n     LSTAT  PRICE  \n0     4.98  24.00  \n1     9.14  21.60  \n2     4.03  34.70  \n3     2.94  33.40  \n4     5.33  36.20  \n..     ...    ...  \n501   9.67  22.40  \n502   9.08  20.60  \n503   5.64  23.90  \n504   6.48  22.00  \n505   7.88  11.90  \n\n[506 rows x 14 columns]",
      "text/html": "<div>\n<style scoped>\n    .dataframe tbody tr th:only-of-type {\n        vertical-align: middle;\n    }\n\n    .dataframe tbody tr th {\n        vertical-align: top;\n    }\n\n    .dataframe thead th {\n        text-align: right;\n    }\n</style>\n<table border=\"1\" class=\"dataframe\">\n  <thead>\n    <tr style=\"text-align: right;\">\n      <th></th>\n      <th>CRIM</th>\n      <th>ZN</th>\n      <th>INDUS</th>\n      <th>CHAS</th>\n      <th>NOX</th>\n      <th>RM</th>\n      <th>AGE</th>\n      <th>DIS</th>\n      <th>RAD</th>\n      <th>TAX</th>\n      <th>PTRATIO</th>\n      <th>B</th>\n      <th>LSTAT</th>\n      <th>PRICE</th>\n    </tr>\n  </thead>\n  <tbody>\n    <tr>\n      <th>0</th>\n      <td>0.01</td>\n      <td>18.00</td>\n      <td>2.31</td>\n      <td>0.00</td>\n      <td>0.54</td>\n      <td>6.58</td>\n      <td>65.20</td>\n      <td>4.09</td>\n      <td>1.00</td>\n      <td>296.00</td>\n      <td>15.30</td>\n      <td>396.90</td>\n      <td>4.98</td>\n      <td>24.00</td>\n    </tr>\n    <tr>\n      <th>1</th>\n      <td>0.03</td>\n      <td>0.00</td>\n      <td>7.07</td>\n      <td>0.00</td>\n      <td>0.47</td>\n      <td>6.42</td>\n      <td>78.90</td>\n      <td>4.97</td>\n      <td>2.00</td>\n      <td>242.00</td>\n      <td>17.80</td>\n      <td>396.90</td>\n      <td>9.14</td>\n      <td>21.60</td>\n    </tr>\n    <tr>\n      <th>2</th>\n      <td>0.03</td>\n      <td>0.00</td>\n      <td>7.07</td>\n      <td>0.00</td>\n      <td>0.47</td>\n      <td>7.18</td>\n      <td>61.10</td>\n      <td>4.97</td>\n      <td>2.00</td>\n      <td>242.00</td>\n      <td>17.80</td>\n      <td>392.83</td>\n      <td>4.03</td>\n      <td>34.70</td>\n    </tr>\n    <tr>\n      <th>3</th>\n      <td>0.03</td>\n      <td>0.00</td>\n      <td>2.18</td>\n      <td>0.00</td>\n      <td>0.46</td>\n      <td>7.00</td>\n      <td>45.80</td>\n      <td>6.06</td>\n      <td>3.00</td>\n      <td>222.00</td>\n      <td>18.70</td>\n      <td>394.63</td>\n      <td>2.94</td>\n      <td>33.40</td>\n    </tr>\n    <tr>\n      <th>4</th>\n      <td>0.07</td>\n      <td>0.00</td>\n      <td>2.18</td>\n      <td>0.00</td>\n      <td>0.46</td>\n      <td>7.15</td>\n      <td>54.20</td>\n      <td>6.06</td>\n      <td>3.00</td>\n      <td>222.00</td>\n      <td>18.70</td>\n      <td>396.90</td>\n      <td>5.33</td>\n      <td>36.20</td>\n    </tr>\n    <tr>\n      <th>...</th>\n      <td>...</td>\n      <td>...</td>\n      <td>...</td>\n      <td>...</td>\n      <td>...</td>\n      <td>...</td>\n      <td>...</td>\n      <td>...</td>\n      <td>...</td>\n      <td>...</td>\n      <td>...</td>\n      <td>...</td>\n      <td>...</td>\n      <td>...</td>\n    </tr>\n    <tr>\n      <th>501</th>\n      <td>0.06</td>\n      <td>0.00</td>\n      <td>11.93</td>\n      <td>0.00</td>\n      <td>0.57</td>\n      <td>6.59</td>\n      <td>69.10</td>\n      <td>2.48</td>\n      <td>1.00</td>\n      <td>273.00</td>\n      <td>21.00</td>\n      <td>391.99</td>\n      <td>9.67</td>\n      <td>22.40</td>\n    </tr>\n    <tr>\n      <th>502</th>\n      <td>0.05</td>\n      <td>0.00</td>\n      <td>11.93</td>\n      <td>0.00</td>\n      <td>0.57</td>\n      <td>6.12</td>\n      <td>76.70</td>\n      <td>2.29</td>\n      <td>1.00</td>\n      <td>273.00</td>\n      <td>21.00</td>\n      <td>396.90</td>\n      <td>9.08</td>\n      <td>20.60</td>\n    </tr>\n    <tr>\n      <th>503</th>\n      <td>0.06</td>\n      <td>0.00</td>\n      <td>11.93</td>\n      <td>0.00</td>\n      <td>0.57</td>\n      <td>6.98</td>\n      <td>91.00</td>\n      <td>2.17</td>\n      <td>1.00</td>\n      <td>273.00</td>\n      <td>21.00</td>\n      <td>396.90</td>\n      <td>5.64</td>\n      <td>23.90</td>\n    </tr>\n    <tr>\n      <th>504</th>\n      <td>0.11</td>\n      <td>0.00</td>\n      <td>11.93</td>\n      <td>0.00</td>\n      <td>0.57</td>\n      <td>6.79</td>\n      <td>89.30</td>\n      <td>2.39</td>\n      <td>1.00</td>\n      <td>273.00</td>\n      <td>21.00</td>\n      <td>393.45</td>\n      <td>6.48</td>\n      <td>22.00</td>\n    </tr>\n    <tr>\n      <th>505</th>\n      <td>0.05</td>\n      <td>0.00</td>\n      <td>11.93</td>\n      <td>0.00</td>\n      <td>0.57</td>\n      <td>6.03</td>\n      <td>80.80</td>\n      <td>2.50</td>\n      <td>1.00</td>\n      <td>273.00</td>\n      <td>21.00</td>\n      <td>396.90</td>\n      <td>7.88</td>\n      <td>11.90</td>\n    </tr>\n  </tbody>\n</table>\n<p>506 rows × 14 columns</p>\n</div>"
     },
     "execution_count": 76,
     "metadata": {},
     "output_type": "execute_result"
    }
   ],
   "source": [
    "df"
   ],
   "metadata": {
    "collapsed": false,
    "pycharm": {
     "name": "#%%\n"
    }
   }
  },
  {
   "cell_type": "markdown",
   "metadata": {
    "id": "N0hzZhBA-d2_"
   },
   "source": [
    "## Data Cleaning - Check for Missing Values and Duplicates"
   ]
  },
  {
   "cell_type": "code",
   "metadata": {
    "id": "m6d8j8H289F0"
   },
   "source": [
    "df.info()"
   ],
   "execution_count": 77,
   "outputs": [
    {
     "name": "stdout",
     "output_type": "stream",
     "text": [
      "<class 'pandas.core.frame.DataFrame'>\n",
      "Int64Index: 506 entries, 0 to 505\n",
      "Data columns (total 14 columns):\n",
      " #   Column   Non-Null Count  Dtype  \n",
      "---  ------   --------------  -----  \n",
      " 0   CRIM     506 non-null    float64\n",
      " 1   ZN       506 non-null    float64\n",
      " 2   INDUS    506 non-null    float64\n",
      " 3   CHAS     506 non-null    float64\n",
      " 4   NOX      506 non-null    float64\n",
      " 5   RM       506 non-null    float64\n",
      " 6   AGE      506 non-null    float64\n",
      " 7   DIS      506 non-null    float64\n",
      " 8   RAD      506 non-null    float64\n",
      " 9   TAX      506 non-null    float64\n",
      " 10  PTRATIO  506 non-null    float64\n",
      " 11  B        506 non-null    float64\n",
      " 12  LSTAT    506 non-null    float64\n",
      " 13  PRICE    506 non-null    float64\n",
      "dtypes: float64(14)\n",
      "memory usage: 59.3 KB\n"
     ]
    }
   ]
  },
  {
   "cell_type": "code",
   "metadata": {
    "id": "_PjhwDz889IW"
   },
   "source": [
    "df.duplicated().values.any()"
   ],
   "execution_count": 78,
   "outputs": [
    {
     "data": {
      "text/plain": "False"
     },
     "execution_count": 78,
     "metadata": {},
     "output_type": "execute_result"
    }
   ]
  },
  {
   "cell_type": "markdown",
   "metadata": {
    "id": "2ZvNWb0EGsuP"
   },
   "source": [
    "## Descriptive Statistics\n",
    "\n",
    "**Challenge**\n",
    "\n",
    "* How many students are there per teacher on average?\n",
    "* What is the average price of a home in the dataset?\n",
    "* What is the `CHAS` feature? \n",
    "* What are the minimum and the maximum value of the `CHAS` and why?\n",
    "* What is the maximum and the minimum number of rooms per dwelling in the dataset?"
   ]
  },
  {
   "cell_type": "code",
   "execution_count": 83,
   "outputs": [
    {
     "data": {
      "text/plain": "        CRIM     ZN  INDUS   CHAS    NOX     RM    AGE    DIS    RAD    TAX  \\\ncount 506.00 506.00 506.00 506.00 506.00 506.00 506.00 506.00 506.00 506.00   \nmean    3.61  11.36  11.14   0.07   0.55   6.28  68.57   3.80   9.55 408.24   \nstd     8.60  23.32   6.86   0.25   0.12   0.70  28.15   2.11   8.71 168.54   \nmin     0.01   0.00   0.46   0.00   0.39   3.56   2.90   1.13   1.00 187.00   \n25%     0.08   0.00   5.19   0.00   0.45   5.89  45.02   2.10   4.00 279.00   \n50%     0.26   0.00   9.69   0.00   0.54   6.21  77.50   3.21   5.00 330.00   \n75%     3.68  12.50  18.10   0.00   0.62   6.62  94.07   5.19  24.00 666.00   \nmax    88.98 100.00  27.74   1.00   0.87   8.78 100.00  12.13  24.00 711.00   \n\n       PTRATIO      B  LSTAT  PRICE  \ncount   506.00 506.00 506.00 506.00  \nmean     18.46 356.67  12.65  22.53  \nstd       2.16  91.29   7.14   9.20  \nmin      12.60   0.32   1.73   5.00  \n25%      17.40 375.38   6.95  17.02  \n50%      19.05 391.44  11.36  21.20  \n75%      20.20 396.23  16.96  25.00  \nmax      22.00 396.90  37.97  50.00  ",
      "text/html": "<div>\n<style scoped>\n    .dataframe tbody tr th:only-of-type {\n        vertical-align: middle;\n    }\n\n    .dataframe tbody tr th {\n        vertical-align: top;\n    }\n\n    .dataframe thead th {\n        text-align: right;\n    }\n</style>\n<table border=\"1\" class=\"dataframe\">\n  <thead>\n    <tr style=\"text-align: right;\">\n      <th></th>\n      <th>CRIM</th>\n      <th>ZN</th>\n      <th>INDUS</th>\n      <th>CHAS</th>\n      <th>NOX</th>\n      <th>RM</th>\n      <th>AGE</th>\n      <th>DIS</th>\n      <th>RAD</th>\n      <th>TAX</th>\n      <th>PTRATIO</th>\n      <th>B</th>\n      <th>LSTAT</th>\n      <th>PRICE</th>\n    </tr>\n  </thead>\n  <tbody>\n    <tr>\n      <th>count</th>\n      <td>506.00</td>\n      <td>506.00</td>\n      <td>506.00</td>\n      <td>506.00</td>\n      <td>506.00</td>\n      <td>506.00</td>\n      <td>506.00</td>\n      <td>506.00</td>\n      <td>506.00</td>\n      <td>506.00</td>\n      <td>506.00</td>\n      <td>506.00</td>\n      <td>506.00</td>\n      <td>506.00</td>\n    </tr>\n    <tr>\n      <th>mean</th>\n      <td>3.61</td>\n      <td>11.36</td>\n      <td>11.14</td>\n      <td>0.07</td>\n      <td>0.55</td>\n      <td>6.28</td>\n      <td>68.57</td>\n      <td>3.80</td>\n      <td>9.55</td>\n      <td>408.24</td>\n      <td>18.46</td>\n      <td>356.67</td>\n      <td>12.65</td>\n      <td>22.53</td>\n    </tr>\n    <tr>\n      <th>std</th>\n      <td>8.60</td>\n      <td>23.32</td>\n      <td>6.86</td>\n      <td>0.25</td>\n      <td>0.12</td>\n      <td>0.70</td>\n      <td>28.15</td>\n      <td>2.11</td>\n      <td>8.71</td>\n      <td>168.54</td>\n      <td>2.16</td>\n      <td>91.29</td>\n      <td>7.14</td>\n      <td>9.20</td>\n    </tr>\n    <tr>\n      <th>min</th>\n      <td>0.01</td>\n      <td>0.00</td>\n      <td>0.46</td>\n      <td>0.00</td>\n      <td>0.39</td>\n      <td>3.56</td>\n      <td>2.90</td>\n      <td>1.13</td>\n      <td>1.00</td>\n      <td>187.00</td>\n      <td>12.60</td>\n      <td>0.32</td>\n      <td>1.73</td>\n      <td>5.00</td>\n    </tr>\n    <tr>\n      <th>25%</th>\n      <td>0.08</td>\n      <td>0.00</td>\n      <td>5.19</td>\n      <td>0.00</td>\n      <td>0.45</td>\n      <td>5.89</td>\n      <td>45.02</td>\n      <td>2.10</td>\n      <td>4.00</td>\n      <td>279.00</td>\n      <td>17.40</td>\n      <td>375.38</td>\n      <td>6.95</td>\n      <td>17.02</td>\n    </tr>\n    <tr>\n      <th>50%</th>\n      <td>0.26</td>\n      <td>0.00</td>\n      <td>9.69</td>\n      <td>0.00</td>\n      <td>0.54</td>\n      <td>6.21</td>\n      <td>77.50</td>\n      <td>3.21</td>\n      <td>5.00</td>\n      <td>330.00</td>\n      <td>19.05</td>\n      <td>391.44</td>\n      <td>11.36</td>\n      <td>21.20</td>\n    </tr>\n    <tr>\n      <th>75%</th>\n      <td>3.68</td>\n      <td>12.50</td>\n      <td>18.10</td>\n      <td>0.00</td>\n      <td>0.62</td>\n      <td>6.62</td>\n      <td>94.07</td>\n      <td>5.19</td>\n      <td>24.00</td>\n      <td>666.00</td>\n      <td>20.20</td>\n      <td>396.23</td>\n      <td>16.96</td>\n      <td>25.00</td>\n    </tr>\n    <tr>\n      <th>max</th>\n      <td>88.98</td>\n      <td>100.00</td>\n      <td>27.74</td>\n      <td>1.00</td>\n      <td>0.87</td>\n      <td>8.78</td>\n      <td>100.00</td>\n      <td>12.13</td>\n      <td>24.00</td>\n      <td>711.00</td>\n      <td>22.00</td>\n      <td>396.90</td>\n      <td>37.97</td>\n      <td>50.00</td>\n    </tr>\n  </tbody>\n</table>\n</div>"
     },
     "execution_count": 83,
     "metadata": {},
     "output_type": "execute_result"
    }
   ],
   "source": [
    "df.describe()"
   ],
   "metadata": {
    "collapsed": false,
    "pycharm": {
     "name": "#%%\n"
    }
   }
  },
  {
   "cell_type": "code",
   "metadata": {
    "id": "Qmf-vAdK8_he"
   },
   "source": [
    "print('PTRATIO (pupil-teacher ratio) has an average value of 18.46.')\n",
    "print('Average home price is $22,530 (but this seem either implausible or a very old dataset).')\n",
    "print('CHAS is a dummy for Charles River location (min: 0, max: 1).')\n",
    "print('There are a max of 8.78 and min of 3.56 rooms per dwelling.')"
   ],
   "execution_count": 89,
   "outputs": [
    {
     "name": "stdout",
     "output_type": "stream",
     "text": [
      "PTRATIO (pupil-teacher ratio) has an average value of 18.46.\n",
      "Average home price is 22.53 (documentation says it is in $1,000, but that does not seem plausible).\n",
      "CHAS is a dummy for Charles River location (min: 0, max: 1).\n",
      "There are a max of 8.78 and min of 3.56 rooms per dwelling.\n"
     ]
    }
   ]
  },
  {
   "cell_type": "markdown",
   "metadata": {
    "collapsed": true,
    "id": "v5U4hAo_-d3D"
   },
   "source": [
    "## Visualise the Features\n",
    "\n",
    "**Challenge**: Having looked at some descriptive statistics, visualise the data for your model. Use [Seaborn's `.displot()`](https://seaborn.pydata.org/generated/seaborn.displot.html#seaborn.displot) to create a bar chart and superimpose the Kernel Density Estimate (KDE) for the following variables: \n",
    "* PRICE: The home price in thousands.\n",
    "* RM: the average number of rooms per owner unit.\n",
    "* DIS: the weighted distance to the 5 Boston employment centres i.e., the estimated length of the commute.\n",
    "* RAD: the index of accessibility to highways. \n",
    "\n",
    "Try setting the `aspect` parameter to `2` for a better picture. \n",
    "\n",
    "What do you notice in the distributions of the data? "
   ]
  },
  {
   "cell_type": "markdown",
   "metadata": {
    "id": "eRGb4b7bkQbe"
   },
   "source": [
    "#### House Prices 💰"
   ]
  },
  {
   "cell_type": "code",
   "metadata": {
    "id": "A85hcxas9BhW"
   },
   "source": [
    "sns.displot(df['PRICE'], kde=True, aspect=2)\n",
    "\n",
    "print(\"Price appears to have a normal distribution with a positive skew and as well as a local peak at the around $50k (maybe due to variable truncation?). This reminds me of the elephant curve (https://en.wikipedia.org/wiki/The_Elephant_Curve).\")"
   ],
   "execution_count": 98,
   "outputs": [
    {
     "name": "stdout",
     "output_type": "stream",
     "text": [
      "Price appears to have a normal distribution with a positive skew and as well as a local peak at the around $50k (maybe due to variable truncation?). This seems to be a less-extreme version of the elephant curve (https://en.wikipedia.org/wiki/The_Elephant_Curve).\n"
     ]
    },
    {
     "data": {
      "text/plain": "<Figure size 720x360 with 1 Axes>",
      "image/png": "[encoded data removed]"
     },
     "metadata": {
      "needs_background": "light"
     },
     "output_type": "display_data"
    }
   ]
  },
  {
   "cell_type": "markdown",
   "metadata": {
    "id": "0mqTPLQMlxxz"
   },
   "source": [
    "#### Distance to Employment - Length of Commute 🚗"
   ]
  },
  {
   "cell_type": "code",
   "metadata": {
    "id": "U38tDs119DBe"
   },
   "source": [
    "sns.displot(df['RM'], kde=True, aspect=2)\n",
    "\n",
    "print(\"Normal distribution with a slight right skew. Most estimated commutes are more than six (miles?) and there are few communities with estimated commutes less than 4 or greater than 8. I have some concerns with how this variable is constructed and would rather see proximity to the nearest employment center. Currently, the variable is more-so measuring city centrality.\")"
   ],
   "execution_count": 100,
   "outputs": [
    {
     "name": "stdout",
     "output_type": "stream",
     "text": [
      "Normal distribution with a slight right skew. Most estimated commutes are more than six (miles?) and there are few communities with estimated commutes less than 4 or greater than 8. I have some concerns with how this variable is constructed and would rather see proximity to the nearest employment center. Currently, the variable is more-so measuring city centrality.\n"
     ]
    },
    {
     "data": {
      "text/plain": "<Figure size 720x360 with 1 Axes>",
      "image/png": "[encoded data removed]"
     },
     "metadata": {
      "needs_background": "light"
     },
     "output_type": "display_data"
    }
   ]
  },
  {
   "cell_type": "markdown",
   "metadata": {
    "id": "6nMMsL9DkUl9"
   },
   "source": [
    "#### Number of Rooms"
   ]
  },
  {
   "cell_type": "code",
   "metadata": {
    "id": "vfmHNdzL9Ef-"
   },
   "source": [
    "sns.displot(df['RAD'], kde=True, aspect=2)\n",
    "\n",
    "print(\"The left aspect of the distribution is intuitive with most communities having average homes with between 1 and 10 rooms. However, it is unclear why there is a spike around 24.\")"
   ],
   "execution_count": 97,
   "outputs": [
    {
     "data": {
      "text/plain": "<seaborn.axisgrid.FacetGrid at 0x7f7fb7739748>"
     },
     "execution_count": 97,
     "metadata": {},
     "output_type": "execute_result"
    },
    {
     "data": {
      "text/plain": "<Figure size 720x360 with 1 Axes>",
      "image/png": "[encoded data removed]"
     },
     "metadata": {
      "needs_background": "light"
     },
     "output_type": "display_data"
    }
   ]
  },
  {
   "cell_type": "markdown",
   "metadata": {
    "id": "1Sz47c2UkXXw"
   },
   "source": [
    "#### Access to Highways 🛣"
   ]
  },
  {
   "cell_type": "code",
   "metadata": {
    "id": "zKpT7wD39HGU"
   },
   "source": [
    "sns.displot(df['PRICE'], kde=True, aspect=2)"
   ],
   "execution_count": null,
   "outputs": []
  },
  {
   "cell_type": "markdown",
   "metadata": {
    "id": "oxep6lvqkbwe"
   },
   "source": [
    "#### Next to the River? ⛵️\n",
    "\n",
    "**Challenge**\n",
    "\n",
    "Create a bar chart with plotly for CHAS to show many more homes are away from the river versus next to it. The bar chart should look something like this:\n",
    "\n",
    "<img src=https://i.imgur.com/AHwoQ6l.png height=350>\n",
    "\n",
    "You can make your life easier by providing a list of values for the x-axis (e.g., `x=['No', 'Yes']`)"
   ]
  },
  {
   "cell_type": "code",
   "metadata": {
    "id": "2244H8hx9NV_"
   },
   "source": [
    "charles = df['CHAS'].value_counts()\n",
    "\n",
    "bar = px.bar(y=charles,\n",
    "             x=['No', 'Yes'],\n",
    "             color=charles,\n",
    "             color_continuous_scale=px.colors.sequential.haline,\n",
    "             title='Number of Communities by Proximity to Charles River')\n",
    "\n",
    "bar.update_layout(xaxis_title='',\n",
    "                  yaxis_title='',\n",
    "                  coloraxis_showscale=False)\n",
    "\n",
    "bar.show()"
   ],
   "execution_count": 141,
   "outputs": [
    {
     "data": {
      "application/vnd.plotly.v1+json": {
       "data": [
        {
         "alignmentgroup": "True",
         "hovertemplate": "x=%{x}<br>y=%{y}<br>color=%{marker.color}<extra></extra>",
         "legendgroup": "",
         "marker": {
          "color": [
           471,
           35
          ],
          "coloraxis": "coloraxis",
          "pattern": {
           "shape": ""
          }
         },
         "name": "",
         "offsetgroup": "",
         "orientation": "v",
         "showlegend": false,
         "textposition": "auto",
         "x": [
          "No",
          "Yes"
         ],
         "xaxis": "x",
         "y": [
          471,
          35
         ],
         "yaxis": "y",
         "type": "bar"
        }
       ],
       "layout": {
        "template": {
         "data": {
          "histogram2dcontour": [
           {
            "type": "histogram2dcontour",
            "colorbar": {
             "outlinewidth": 0,
             "ticks": ""
            },
            "colorscale": [
             [
              0.0,
              "#0d0887"
             ],
             [
              0.1111111111111111,
              "#46039f"
             ],
             [
              0.2222222222222222,
              "#7201a8"
             ],
             [
              0.3333333333333333,
              "#9c179e"
             ],
             [
              0.4444444444444444,
              "#bd3786"
             ],
             [
              0.5555555555555556,
              "#d8576b"
             ],
             [
              0.6666666666666666,
              "#ed7953"
             ],
             [
              0.7777777777777778,
              "#fb9f3a"
             ],
             [
              0.8888888888888888,
              "#fdca26"
             ],
             [
              1.0,
              "#f0f921"
             ]
            ]
           }
          ],
          "choropleth": [
           {
            "type": "choropleth",
            "colorbar": {
             "outlinewidth": 0,
             "ticks": ""
            }
           }
          ],
          "histogram2d": [
           {
            "type": "histogram2d",
            "colorbar": {
             "outlinewidth": 0,
             "ticks": ""
            },
            "colorscale": [
             [
              0.0,
              "#0d0887"
             ],
             [
              0.1111111111111111,
              "#46039f"
             ],
             [
              0.2222222222222222,
              "#7201a8"
             ],
             [
              0.3333333333333333,
              "#9c179e"
             ],
             [
              0.4444444444444444,
              "#bd3786"
             ],
             [
              0.5555555555555556,
              "#d8576b"
             ],
             [
              0.6666666666666666,
              "#ed7953"
             ],
             [
              0.7777777777777778,
              "#fb9f3a"
             ],
             [
              0.8888888888888888,
              "#fdca26"
             ],
             [
              1.0,
              "#f0f921"
             ]
            ]
           }
          ],
          "heatmap": [
           {
            "type": "heatmap",
            "colorbar": {
             "outlinewidth": 0,
             "ticks": ""
            },
            "colorscale": [
             [
              0.0,
              "#0d0887"
             ],
             [
              0.1111111111111111,
              "#46039f"
             ],
             [
              0.2222222222222222,
              "#7201a8"
             ],
             [
              0.3333333333333333,
              "#9c179e"
             ],
             [
              0.4444444444444444,
              "#bd3786"
             ],
             [
              0.5555555555555556,
              "#d8576b"
             ],
             [
              0.6666666666666666,
              "#ed7953"
             ],
             [
              0.7777777777777778,
              "#fb9f3a"
             ],
             [
              0.8888888888888888,
              "#fdca26"
             ],
             [
              1.0,
              "#f0f921"
             ]
            ]
           }
          ],
          "heatmapgl": [
           {
            "type": "heatmapgl",
            "colorbar": {
             "outlinewidth": 0,
             "ticks": ""
            },
            "colorscale": [
             [
              0.0,
              "#0d0887"
             ],
             [
              0.1111111111111111,
              "#46039f"
             ],
             [
              0.2222222222222222,
              "#7201a8"
             ],
             [
              0.3333333333333333,
              "#9c179e"
             ],
             [
              0.4444444444444444,
              "#bd3786"
             ],
             [
              0.5555555555555556,
              "#d8576b"
             ],
             [
              0.6666666666666666,
              "#ed7953"
             ],
             [
              0.7777777777777778,
              "#fb9f3a"
             ],
             [
              0.8888888888888888,
              "#fdca26"
             ],
             [
              1.0,
              "#f0f921"
             ]
            ]
           }
          ],
          "contourcarpet": [
           {
            "type": "contourcarpet",
            "colorbar": {
             "outlinewidth": 0,
             "ticks": ""
            }
           }
          ],
          "contour": [
           {
            "type": "contour",
            "colorbar": {
             "outlinewidth": 0,
             "ticks": ""
            },
            "colorscale": [
             [
              0.0,
              "#0d0887"
             ],
             [
              0.1111111111111111,
              "#46039f"
             ],
             [
              0.2222222222222222,
              "#7201a8"
             ],
             [
              0.3333333333333333,
              "#9c179e"
             ],
             [
              0.4444444444444444,
              "#bd3786"
             ],
             [
              0.5555555555555556,
              "#d8576b"
             ],
             [
              0.6666666666666666,
              "#ed7953"
             ],
             [
              0.7777777777777778,
              "#fb9f3a"
             ],
             [
              0.8888888888888888,
              "#fdca26"
             ],
             [
              1.0,
              "#f0f921"
             ]
            ]
           }
          ],
          "surface": [
           {
            "type": "surface",
            "colorbar": {
             "outlinewidth": 0,
             "ticks": ""
            },
            "colorscale": [
             [
              0.0,
              "#0d0887"
             ],
             [
              0.1111111111111111,
              "#46039f"
             ],
             [
              0.2222222222222222,
              "#7201a8"
             ],
             [
              0.3333333333333333,
              "#9c179e"
             ],
             [
              0.4444444444444444,
              "#bd3786"
             ],
             [
              0.5555555555555556,
              "#d8576b"
             ],
             [
              0.6666666666666666,
              "#ed7953"
             ],
             [
              0.7777777777777778,
              "#fb9f3a"
             ],
             [
              0.8888888888888888,
              "#fdca26"
             ],
             [
              1.0,
              "#f0f921"
             ]
            ]
           }
          ],
          "mesh3d": [
           {
            "type": "mesh3d",
            "colorbar": {
             "outlinewidth": 0,
             "ticks": ""
            }
           }
          ],
          "scatter": [
           {
            "fillpattern": {
             "fillmode": "overlay",
             "size": 10,
             "solidity": 0.2
            },
            "type": "scatter"
           }
          ],
          "parcoords": [
           {
            "type": "parcoords",
            "line": {
             "colorbar": {
              "outlinewidth": 0,
              "ticks": ""
             }
            }
           }
          ],
          "scatterpolargl": [
           {
            "type": "scatterpolargl",
            "marker": {
             "colorbar": {
              "outlinewidth": 0,
              "ticks": ""
             }
            }
           }
          ],
          "bar": [
           {
            "error_x": {
             "color": "#2a3f5f"
            },
            "error_y": {
             "color": "#2a3f5f"
            },
            "marker": {
             "line": {
              "color": "#E5ECF6",
              "width": 0.5
             },
             "pattern": {
              "fillmode": "overlay",
              "size": 10,
              "solidity": 0.2
             }
            },
            "type": "bar"
           }
          ],
          "scattergeo": [
           {
            "type": "scattergeo",
            "marker": {
             "colorbar": {
              "outlinewidth": 0,
              "ticks": ""
             }
            }
           }
          ],
          "scatterpolar": [
           {
            "type": "scatterpolar",
            "marker": {
             "colorbar": {
              "outlinewidth": 0,
              "ticks": ""
             }
            }
           }
          ],
          "histogram": [
           {
            "marker": {
             "pattern": {
              "fillmode": "overlay",
              "size": 10,
              "solidity": 0.2
             }
            },
            "type": "histogram"
           }
          ],
          "scattergl": [
           {
            "type": "scattergl",
            "marker": {
             "colorbar": {
              "outlinewidth": 0,
              "ticks": ""
             }
            }
           }
          ],
          "scatter3d": [
           {
            "type": "scatter3d",
            "line": {
             "colorbar": {
              "outlinewidth": 0,
              "ticks": ""
             }
            },
            "marker": {
             "colorbar": {
              "outlinewidth": 0,
              "ticks": ""
             }
            }
           }
          ],
          "scattermapbox": [
           {
            "type": "scattermapbox",
            "marker": {
             "colorbar": {
              "outlinewidth": 0,
              "ticks": ""
             }
            }
           }
          ],
          "scatterternary": [
           {
            "type": "scatterternary",
            "marker": {
             "colorbar": {
              "outlinewidth": 0,
              "ticks": ""
             }
            }
           }
          ],
          "scattercarpet": [
           {
            "type": "scattercarpet",
            "marker": {
             "colorbar": {
              "outlinewidth": 0,
              "ticks": ""
             }
            }
           }
          ],
          "carpet": [
           {
            "aaxis": {
             "endlinecolor": "#2a3f5f",
             "gridcolor": "white",
             "linecolor": "white",
             "minorgridcolor": "white",
             "startlinecolor": "#2a3f5f"
            },
            "baxis": {
             "endlinecolor": "#2a3f5f",
             "gridcolor": "white",
             "linecolor": "white",
             "minorgridcolor": "white",
             "startlinecolor": "#2a3f5f"
            },
            "type": "carpet"
           }
          ],
          "table": [
           {
            "cells": {
             "fill": {
              "color": "#EBF0F8"
             },
             "line": {
              "color": "white"
             }
            },
            "header": {
             "fill": {
              "color": "#C8D4E3"
             },
             "line": {
              "color": "white"
             }
            },
            "type": "table"
           }
          ],
          "barpolar": [
           {
            "marker": {
             "line": {
              "color": "#E5ECF6",
              "width": 0.5
             },
             "pattern": {
              "fillmode": "overlay",
              "size": 10,
              "solidity": 0.2
             }
            },
            "type": "barpolar"
           }
          ],
          "pie": [
           {
            "automargin": true,
            "type": "pie"
           }
          ]
         },
         "layout": {
          "autotypenumbers": "strict",
          "colorway": [
           "#636efa",
           "#EF553B",
           "#00cc96",
           "#ab63fa",
           "#FFA15A",
           "#19d3f3",
           "#FF6692",
           "#B6E880",
           "#FF97FF",
           "#FECB52"
          ],
          "font": {
           "color": "#2a3f5f"
          },
          "hovermode": "closest",
          "hoverlabel": {
           "align": "left"
          },
          "paper_bgcolor": "white",
          "plot_bgcolor": "#E5ECF6",
          "polar": {
           "bgcolor": "#E5ECF6",
           "angularaxis": {
            "gridcolor": "white",
            "linecolor": "white",
            "ticks": ""
           },
           "radialaxis": {
            "gridcolor": "white",
            "linecolor": "white",
            "ticks": ""
           }
          },
          "ternary": {
           "bgcolor": "#E5ECF6",
           "aaxis": {
            "gridcolor": "white",
            "linecolor": "white",
            "ticks": ""
           },
           "baxis": {
            "gridcolor": "white",
            "linecolor": "white",
            "ticks": ""
           },
           "caxis": {
            "gridcolor": "white",
            "linecolor": "white",
            "ticks": ""
           }
          },
          "coloraxis": {
           "colorbar": {
            "outlinewidth": 0,
            "ticks": ""
           }
          },
          "colorscale": {
           "sequential": [
            [
             0.0,
             "#0d0887"
            ],
            [
             0.1111111111111111,
             "#46039f"
            ],
            [
             0.2222222222222222,
             "#7201a8"
            ],
            [
             0.3333333333333333,
             "#9c179e"
            ],
            [
             0.4444444444444444,
             "#bd3786"
            ],
            [
             0.5555555555555556,
             "#d8576b"
            ],
            [
             0.6666666666666666,
             "#ed7953"
            ],
            [
             0.7777777777777778,
             "#fb9f3a"
            ],
            [
             0.8888888888888888,
             "#fdca26"
            ],
            [
             1.0,
             "#f0f921"
            ]
           ],
           "sequentialminus": [
            [
             0.0,
             "#0d0887"
            ],
            [
             0.1111111111111111,
             "#46039f"
            ],
            [
             0.2222222222222222,
             "#7201a8"
            ],
            [
             0.3333333333333333,
             "#9c179e"
            ],
            [
             0.4444444444444444,
             "#bd3786"
            ],
            [
             0.5555555555555556,
             "#d8576b"
            ],
            [
             0.6666666666666666,
             "#ed7953"
            ],
            [
             0.7777777777777778,
             "#fb9f3a"
            ],
            [
             0.8888888888888888,
             "#fdca26"
            ],
            [
             1.0,
             "#f0f921"
            ]
           ],
           "diverging": [
            [
             0,
             "#8e0152"
            ],
            [
             0.1,
             "#c51b7d"
            ],
            [
             0.2,
             "#de77ae"
            ],
            [
             0.3,
             "#f1b6da"
            ],
            [
             0.4,
             "#fde0ef"
            ],
            [
             0.5,
             "#f7f7f7"
            ],
            [
             0.6,
             "#e6f5d0"
            ],
            [
             0.7,
             "#b8e186"
            ],
            [
             0.8,
             "#7fbc41"
            ],
            [
             0.9,
             "#4d9221"
            ],
            [
             1,
             "#276419"
            ]
           ]
          },
          "xaxis": {
           "gridcolor": "white",
           "linecolor": "white",
           "ticks": "",
           "title": {
            "standoff": 15
           },
           "zerolinecolor": "white",
           "automargin": true,
           "zerolinewidth": 2
          },
          "yaxis": {
           "gridcolor": "white",
           "linecolor": "white",
           "ticks": "",
           "title": {
            "standoff": 15
           },
           "zerolinecolor": "white",
           "automargin": true,
           "zerolinewidth": 2
          },
          "scene": {
           "xaxis": {
            "backgroundcolor": "#E5ECF6",
            "gridcolor": "white",
            "linecolor": "white",
            "showbackground": true,
            "ticks": "",
            "zerolinecolor": "white",
            "gridwidth": 2
           },
           "yaxis": {
            "backgroundcolor": "#E5ECF6",
            "gridcolor": "white",
            "linecolor": "white",
            "showbackground": true,
            "ticks": "",
            "zerolinecolor": "white",
            "gridwidth": 2
           },
           "zaxis": {
            "backgroundcolor": "#E5ECF6",
            "gridcolor": "white",
            "linecolor": "white",
            "showbackground": true,
            "ticks": "",
            "zerolinecolor": "white",
            "gridwidth": 2
           }
          },
          "shapedefaults": {
           "line": {
            "color": "#2a3f5f"
           }
          },
          "annotationdefaults": {
           "arrowcolor": "#2a3f5f",
           "arrowhead": 0,
           "arrowwidth": 1
          },
          "geo": {
           "bgcolor": "white",
           "landcolor": "#E5ECF6",
           "subunitcolor": "white",
           "showland": true,
           "showlakes": true,
           "lakecolor": "white"
          },
          "title": {
           "x": 0.05
          },
          "mapbox": {
           "style": "light"
          }
         }
        },
        "xaxis": {
         "anchor": "y",
         "domain": [
          0.0,
          1.0
         ],
         "title": {
          "text": ""
         }
        },
        "yaxis": {
         "anchor": "x",
         "domain": [
          0.0,
          1.0
         ],
         "title": {
          "text": ""
         }
        },
        "coloraxis": {
         "colorbar": {
          "title": {
           "text": "color"
          }
         },
         "colorscale": [
          [
           0.0,
           "rgb(41, 24, 107)"
          ],
          [
           0.09090909090909091,
           "rgb(42, 35, 160)"
          ],
          [
           0.18181818181818182,
           "rgb(15, 71, 153)"
          ],
          [
           0.2727272727272727,
           "rgb(18, 95, 142)"
          ],
          [
           0.36363636363636365,
           "rgb(38, 116, 137)"
          ],
          [
           0.45454545454545453,
           "rgb(53, 136, 136)"
          ],
          [
           0.5454545454545454,
           "rgb(65, 157, 133)"
          ],
          [
           0.6363636363636364,
           "rgb(81, 178, 124)"
          ],
          [
           0.7272727272727273,
           "rgb(111, 198, 107)"
          ],
          [
           0.8181818181818182,
           "rgb(160, 214, 91)"
          ],
          [
           0.9090909090909091,
           "rgb(212, 225, 112)"
          ],
          [
           1.0,
           "rgb(253, 238, 153)"
          ]
         ],
         "showscale": false
        },
        "legend": {
         "tracegroupgap": 0
        },
        "title": {
         "text": "Number of Communities by Proximity to Charles River"
        },
        "barmode": "relative"
       },
       "config": {
        "plotlyServerURL": "https://plot.ly"
       }
      },
      "text/html": "<div>                            <div id=\"223c9d59-5de4-443b-a151-8a296c0f982a\" class=\"plotly-graph-div\" style=\"height:525px; width:100%;\"></div>            <script type=\"text/javascript\">                require([\"plotly\"], function(Plotly) {                    window.PLOTLYENV=window.PLOTLYENV || {};                                    if (document.getElementById(\"223c9d59-5de4-443b-a151-8a296c0f982a\")) {                    Plotly.newPlot(                        \"223c9d59-5de4-443b-a151-8a296c0f982a\",                        [{\"alignmentgroup\":\"True\",\"hovertemplate\":\"x=%{x}<br>y=%{y}<br>color=%{marker.color}<extra></extra>\",\"legendgroup\":\"\",\"marker\":{\"color\":[471,35],\"coloraxis\":\"coloraxis\",\"pattern\":{\"shape\":\"\"}},\"name\":\"\",\"offsetgroup\":\"\",\"orientation\":\"v\",\"showlegend\":false,\"textposition\":\"auto\",\"x\":[\"No\",\"Yes\"],\"xaxis\":\"x\",\"y\":[471,35],\"yaxis\":\"y\",\"type\":\"bar\"}],                        {\"template\":{\"data\":{\"histogram2dcontour\":[{\"type\":\"histogram2dcontour\",\"colorbar\":{\"outlinewidth\":0,\"ticks\":\"\"},\"colorscale\":[[0.0,\"#0d0887\"],[0.1111111111111111,\"#46039f\"],[0.2222222222222222,\"#7201a8\"],[0.3333333333333333,\"#9c179e\"],[0.4444444444444444,\"#bd3786\"],[0.5555555555555556,\"#d8576b\"],[0.6666666666666666,\"#ed7953\"],[0.7777777777777778,\"#fb9f3a\"],[0.8888888888888888,\"#fdca26\"],[1.0,\"#f0f921\"]]}],\"choropleth\":[{\"type\":\"choropleth\",\"colorbar\":{\"outlinewidth\":0,\"ticks\":\"\"}}],\"histogram2d\":[{\"type\":\"histogram2d\",\"colorbar\":{\"outlinewidth\":0,\"ticks\":\"\"},\"colorscale\":[[0.0,\"#0d0887\"],[0.1111111111111111,\"#46039f\"],[0.2222222222222222,\"#7201a8\"],[0.3333333333333333,\"#9c179e\"],[0.4444444444444444,\"#bd3786\"],[0.5555555555555556,\"#d8576b\"],[0.6666666666666666,\"#ed7953\"],[0.7777777777777778,\"#fb9f3a\"],[0.8888888888888888,\"#fdca26\"],[1.0,\"#f0f921\"]]}],\"heatmap\":[{\"type\":\"heatmap\",\"colorbar\":{\"outlinewidth\":0,\"ticks\":\"\"},\"colorscale\":[[0.0,\"#0d0887\"],[0.1111111111111111,\"#46039f\"],[0.2222222222222222,\"#7201a8\"],[0.3333333333333333,\"#9c179e\"],[0.4444444444444444,\"#bd3786\"],[0.5555555555555556,\"#d8576b\"],[0.6666666666666666,\"#ed7953\"],[0.7777777777777778,\"#fb9f3a\"],[0.8888888888888888,\"#fdca26\"],[1.0,\"#f0f921\"]]}],\"heatmapgl\":[{\"type\":\"heatmapgl\",\"colorbar\":{\"outlinewidth\":0,\"ticks\":\"\"},\"colorscale\":[[0.0,\"#0d0887\"],[0.1111111111111111,\"#46039f\"],[0.2222222222222222,\"#7201a8\"],[0.3333333333333333,\"#9c179e\"],[0.4444444444444444,\"#bd3786\"],[0.5555555555555556,\"#d8576b\"],[0.6666666666666666,\"#ed7953\"],[0.7777777777777778,\"#fb9f3a\"],[0.8888888888888888,\"#fdca26\"],[1.0,\"#f0f921\"]]}],\"contourcarpet\":[{\"type\":\"contourcarpet\",\"colorbar\":{\"outlinewidth\":0,\"ticks\":\"\"}}],\"contour\":[{\"type\":\"contour\",\"colorbar\":{\"outlinewidth\":0,\"ticks\":\"\"},\"colorscale\":[[0.0,\"#0d0887\"],[0.1111111111111111,\"#46039f\"],[0.2222222222222222,\"#7201a8\"],[0.3333333333333333,\"#9c179e\"],[0.4444444444444444,\"#bd3786\"],[0.5555555555555556,\"#d8576b\"],[0.6666666666666666,\"#ed7953\"],[0.7777777777777778,\"#fb9f3a\"],[0.8888888888888888,\"#fdca26\"],[1.0,\"#f0f921\"]]}],\"surface\":[{\"type\":\"surface\",\"colorbar\":{\"outlinewidth\":0,\"ticks\":\"\"},\"colorscale\":[[0.0,\"#0d0887\"],[0.1111111111111111,\"#46039f\"],[0.2222222222222222,\"#7201a8\"],[0.3333333333333333,\"#9c179e\"],[0.4444444444444444,\"#bd3786\"],[0.5555555555555556,\"#d8576b\"],[0.6666666666666666,\"#ed7953\"],[0.7777777777777778,\"#fb9f3a\"],[0.8888888888888888,\"#fdca26\"],[1.0,\"#f0f921\"]]}],\"mesh3d\":[{\"type\":\"mesh3d\",\"colorbar\":{\"outlinewidth\":0,\"ticks\":\"\"}}],\"scatter\":[{\"fillpattern\":{\"fillmode\":\"overlay\",\"size\":10,\"solidity\":0.2},\"type\":\"scatter\"}],\"parcoords\":[{\"type\":\"parcoords\",\"line\":{\"colorbar\":{\"outlinewidth\":0,\"ticks\":\"\"}}}],\"scatterpolargl\":[{\"type\":\"scatterpolargl\",\"marker\":{\"colorbar\":{\"outlinewidth\":0,\"ticks\":\"\"}}}],\"bar\":[{\"error_x\":{\"color\":\"#2a3f5f\"},\"error_y\":{\"color\":\"#2a3f5f\"},\"marker\":{\"line\":{\"color\":\"#E5ECF6\",\"width\":0.5},\"pattern\":{\"fillmode\":\"overlay\",\"size\":10,\"solidity\":0.2}},\"type\":\"bar\"}],\"scattergeo\":[{\"type\":\"scattergeo\",\"marker\":{\"colorbar\":{\"outlinewidth\":0,\"ticks\":\"\"}}}],\"scatterpolar\":[{\"type\":\"scatterpolar\",\"marker\":{\"colorbar\":{\"outlinewidth\":0,\"ticks\":\"\"}}}],\"histogram\":[{\"marker\":{\"pattern\":{\"fillmode\":\"overlay\",\"size\":10,\"solidity\":0.2}},\"type\":\"histogram\"}],\"scattergl\":[{\"type\":\"scattergl\",\"marker\":{\"colorbar\":{\"outlinewidth\":0,\"ticks\":\"\"}}}],\"scatter3d\":[{\"type\":\"scatter3d\",\"line\":{\"colorbar\":{\"outlinewidth\":0,\"ticks\":\"\"}},\"marker\":{\"colorbar\":{\"outlinewidth\":0,\"ticks\":\"\"}}}],\"scattermapbox\":[{\"type\":\"scattermapbox\",\"marker\":{\"colorbar\":{\"outlinewidth\":0,\"ticks\":\"\"}}}],\"scatterternary\":[{\"type\":\"scatterternary\",\"marker\":{\"colorbar\":{\"outlinewidth\":0,\"ticks\":\"\"}}}],\"scattercarpet\":[{\"type\":\"scattercarpet\",\"marker\":{\"colorbar\":{\"outlinewidth\":0,\"ticks\":\"\"}}}],\"carpet\":[{\"aaxis\":{\"endlinecolor\":\"#2a3f5f\",\"gridcolor\":\"white\",\"linecolor\":\"white\",\"minorgridcolor\":\"white\",\"startlinecolor\":\"#2a3f5f\"},\"baxis\":{\"endlinecolor\":\"#2a3f5f\",\"gridcolor\":\"white\",\"linecolor\":\"white\",\"minorgridcolor\":\"white\",\"startlinecolor\":\"#2a3f5f\"},\"type\":\"carpet\"}],\"table\":[{\"cells\":{\"fill\":{\"color\":\"#EBF0F8\"},\"line\":{\"color\":\"white\"}},\"header\":{\"fill\":{\"color\":\"#C8D4E3\"},\"line\":{\"color\":\"white\"}},\"type\":\"table\"}],\"barpolar\":[{\"marker\":{\"line\":{\"color\":\"#E5ECF6\",\"width\":0.5},\"pattern\":{\"fillmode\":\"overlay\",\"size\":10,\"solidity\":0.2}},\"type\":\"barpolar\"}],\"pie\":[{\"automargin\":true,\"type\":\"pie\"}]},\"layout\":{\"autotypenumbers\":\"strict\",\"colorway\":[\"#636efa\",\"#EF553B\",\"#00cc96\",\"#ab63fa\",\"#FFA15A\",\"#19d3f3\",\"#FF6692\",\"#B6E880\",\"#FF97FF\",\"#FECB52\"],\"font\":{\"color\":\"#2a3f5f\"},\"hovermode\":\"closest\",\"hoverlabel\":{\"align\":\"left\"},\"paper_bgcolor\":\"white\",\"plot_bgcolor\":\"#E5ECF6\",\"polar\":{\"bgcolor\":\"#E5ECF6\",\"angularaxis\":{\"gridcolor\":\"white\",\"linecolor\":\"white\",\"ticks\":\"\"},\"radialaxis\":{\"gridcolor\":\"white\",\"linecolor\":\"white\",\"ticks\":\"\"}},\"ternary\":{\"bgcolor\":\"#E5ECF6\",\"aaxis\":{\"gridcolor\":\"white\",\"linecolor\":\"white\",\"ticks\":\"\"},\"baxis\":{\"gridcolor\":\"white\",\"linecolor\":\"white\",\"ticks\":\"\"},\"caxis\":{\"gridcolor\":\"white\",\"linecolor\":\"white\",\"ticks\":\"\"}},\"coloraxis\":{\"colorbar\":{\"outlinewidth\":0,\"ticks\":\"\"}},\"colorscale\":{\"sequential\":[[0.0,\"#0d0887\"],[0.1111111111111111,\"#46039f\"],[0.2222222222222222,\"#7201a8\"],[0.3333333333333333,\"#9c179e\"],[0.4444444444444444,\"#bd3786\"],[0.5555555555555556,\"#d8576b\"],[0.6666666666666666,\"#ed7953\"],[0.7777777777777778,\"#fb9f3a\"],[0.8888888888888888,\"#fdca26\"],[1.0,\"#f0f921\"]],\"sequentialminus\":[[0.0,\"#0d0887\"],[0.1111111111111111,\"#46039f\"],[0.2222222222222222,\"#7201a8\"],[0.3333333333333333,\"#9c179e\"],[0.4444444444444444,\"#bd3786\"],[0.5555555555555556,\"#d8576b\"],[0.6666666666666666,\"#ed7953\"],[0.7777777777777778,\"#fb9f3a\"],[0.8888888888888888,\"#fdca26\"],[1.0,\"#f0f921\"]],\"diverging\":[[0,\"#8e0152\"],[0.1,\"#c51b7d\"],[0.2,\"#de77ae\"],[0.3,\"#f1b6da\"],[0.4,\"#fde0ef\"],[0.5,\"#f7f7f7\"],[0.6,\"#e6f5d0\"],[0.7,\"#b8e186\"],[0.8,\"#7fbc41\"],[0.9,\"#4d9221\"],[1,\"#276419\"]]},\"xaxis\":{\"gridcolor\":\"white\",\"linecolor\":\"white\",\"ticks\":\"\",\"title\":{\"standoff\":15},\"zerolinecolor\":\"white\",\"automargin\":true,\"zerolinewidth\":2},\"yaxis\":{\"gridcolor\":\"white\",\"linecolor\":\"white\",\"ticks\":\"\",\"title\":{\"standoff\":15},\"zerolinecolor\":\"white\",\"automargin\":true,\"zerolinewidth\":2},\"scene\":{\"xaxis\":{\"backgroundcolor\":\"#E5ECF6\",\"gridcolor\":\"white\",\"linecolor\":\"white\",\"showbackground\":true,\"ticks\":\"\",\"zerolinecolor\":\"white\",\"gridwidth\":2},\"yaxis\":{\"backgroundcolor\":\"#E5ECF6\",\"gridcolor\":\"white\",\"linecolor\":\"white\",\"showbackground\":true,\"ticks\":\"\",\"zerolinecolor\":\"white\",\"gridwidth\":2},\"zaxis\":{\"backgroundcolor\":\"#E5ECF6\",\"gridcolor\":\"white\",\"linecolor\":\"white\",\"showbackground\":true,\"ticks\":\"\",\"zerolinecolor\":\"white\",\"gridwidth\":2}},\"shapedefaults\":{\"line\":{\"color\":\"#2a3f5f\"}},\"annotationdefaults\":{\"arrowcolor\":\"#2a3f5f\",\"arrowhead\":0,\"arrowwidth\":1},\"geo\":{\"bgcolor\":\"white\",\"landcolor\":\"#E5ECF6\",\"subunitcolor\":\"white\",\"showland\":true,\"showlakes\":true,\"lakecolor\":\"white\"},\"title\":{\"x\":0.05},\"mapbox\":{\"style\":\"light\"}}},\"xaxis\":{\"anchor\":\"y\",\"domain\":[0.0,1.0],\"title\":{\"text\":\"\"}},\"yaxis\":{\"anchor\":\"x\",\"domain\":[0.0,1.0],\"title\":{\"text\":\"\"}},\"coloraxis\":{\"colorbar\":{\"title\":{\"text\":\"color\"}},\"colorscale\":[[0.0,\"rgb(41, 24, 107)\"],[0.09090909090909091,\"rgb(42, 35, 160)\"],[0.18181818181818182,\"rgb(15, 71, 153)\"],[0.2727272727272727,\"rgb(18, 95, 142)\"],[0.36363636363636365,\"rgb(38, 116, 137)\"],[0.45454545454545453,\"rgb(53, 136, 136)\"],[0.5454545454545454,\"rgb(65, 157, 133)\"],[0.6363636363636364,\"rgb(81, 178, 124)\"],[0.7272727272727273,\"rgb(111, 198, 107)\"],[0.8181818181818182,\"rgb(160, 214, 91)\"],[0.9090909090909091,\"rgb(212, 225, 112)\"],[1.0,\"rgb(253, 238, 153)\"]],\"showscale\":false},\"legend\":{\"tracegroupgap\":0},\"title\":{\"text\":\"Number of Communities by Proximity to Charles River\"},\"barmode\":\"relative\"},                        {\"responsive\": true}                    ).then(function(){\n                            \nvar gd = document.getElementById('223c9d59-5de4-443b-a151-8a296c0f982a');\nvar x = new MutationObserver(function (mutations, observer) {{\n        var display = window.getComputedStyle(gd).display;\n        if (!display || display === 'none') {{\n            console.log([gd, 'removed!']);\n            Plotly.purge(gd);\n            observer.disconnect();\n        }}\n}});\n\n// Listen for the removal of the full notebook cells\nvar notebookContainer = gd.closest('#notebook-container');\nif (notebookContainer) {{\n    x.observe(notebookContainer, {childList: true});\n}}\n\n// Listen for the clearing of the current output cell\nvar outputEl = gd.closest('.output');\nif (outputEl) {{\n    x.observe(outputEl, {childList: true});\n}}\n\n                        })                };                });            </script>        </div>"
     },
     "metadata": {},
     "output_type": "display_data"
    }
   ]
  },
  {
   "cell_type": "markdown",
   "metadata": {
    "id": "l_M1pqzVUas7"
   },
   "source": [
    "# Understand the Relationships in the Data"
   ]
  },
  {
   "cell_type": "markdown",
   "metadata": {
    "id": "PbMSfXfOqA5R"
   },
   "source": [
    "### Run a Pair Plot\n",
    "\n",
    "**Challenge**\n",
    "\n",
    "There might be some relationships in the data that we should know about. Before you run the code, make some predictions:\n",
    "\n",
    "* What would you expect the relationship to be between pollution (NOX) and the distance to employment (DIS)? \n",
    "* What kind of relationship do you expect between the number of rooms (RM) and the home value (PRICE)?\n",
    "* What about the amount of poverty in an area (LSTAT) and home prices? \n",
    "\n",
    "Run a [Seaborn `.pairplot()`](https://seaborn.pydata.org/generated/seaborn.pairplot.html?highlight=pairplot#seaborn.pairplot) to visualise all the relationships at the same time. Note, this is a big task and can take 1-2 minutes! After it's finished check your intuition regarding the questions above on the `pairplot`. "
   ]
  },
  {
   "cell_type": "code",
   "metadata": {
    "id": "nmtQZb_79RQA"
   },
   "source": [
    ""
   ],
   "execution_count": null,
   "outputs": []
  },
  {
   "cell_type": "code",
   "metadata": {
    "id": "OCeEv6ba9Rec"
   },
   "source": [
    ""
   ],
   "execution_count": null,
   "outputs": []
  },
  {
   "cell_type": "markdown",
   "metadata": {
    "id": "roOODvUVu6pk"
   },
   "source": [
    "**Challenge**\n",
    "\n",
    "Use [Seaborn's `.jointplot()`](https://seaborn.pydata.org/generated/seaborn.jointplot.html) to look at some of the relationships in more detail. Create a jointplot for:\n",
    "\n",
    "* DIS and NOX\n",
    "* INDUS vs NOX\n",
    "* LSTAT vs RM\n",
    "* LSTAT vs PRICE\n",
    "* RM vs PRICE\n",
    "\n",
    "Try adding some opacity or `alpha` to the scatter plots using keyword arguments under `joint_kws`."
   ]
  },
  {
   "cell_type": "markdown",
   "metadata": {
    "id": "_OQZTKQOma5A"
   },
   "source": [
    "#### Distance from Employment vs. Pollution\n",
    "\n",
    "**Challenge**: \n",
    "\n",
    "Compare DIS (Distance from employment) with NOX (Nitric Oxide Pollution) using Seaborn's `.jointplot()`. Does pollution go up or down as the distance increases? "
   ]
  },
  {
   "cell_type": "code",
   "metadata": {
    "id": "dToSDGBU9ThU"
   },
   "source": [
    ""
   ],
   "execution_count": null,
   "outputs": []
  },
  {
   "cell_type": "markdown",
   "metadata": {
    "id": "wKc6vwxCsbxz"
   },
   "source": [
    "#### Proportion of Non-Retail Industry 🏭🏭🏭 versus Pollution \n",
    "\n",
    "**Challenge**: \n",
    "\n",
    "Compare INDUS (the proportion of non-retail industry i.e., factories) with NOX (Nitric Oxide Pollution) using Seaborn's `.jointplot()`. Does pollution go up or down as there is a higher proportion of industry?"
   ]
  },
  {
   "cell_type": "code",
   "metadata": {
    "id": "Pvmo-IDC9VaM"
   },
   "source": [
    ""
   ],
   "execution_count": null,
   "outputs": []
  },
  {
   "cell_type": "markdown",
   "metadata": {
    "id": "ssO_ouF2r8bj"
   },
   "source": [
    "#### % of Lower Income Population vs Average Number of Rooms\n",
    "\n",
    "**Challenge** \n",
    "\n",
    "Compare LSTAT (proportion of lower-income population) with RM (number of rooms) using Seaborn's `.jointplot()`. How does the number of rooms per dwelling vary with the poverty of area? Do homes have more or fewer rooms when LSTAT is low?"
   ]
  },
  {
   "cell_type": "code",
   "metadata": {
    "id": "bP9nLYo69W3E"
   },
   "source": [
    ""
   ],
   "execution_count": null,
   "outputs": []
  },
  {
   "cell_type": "markdown",
   "metadata": {
    "id": "Fs-5lByYr3tH"
   },
   "source": [
    "#### % of Lower Income Population versus Home Price\n",
    "\n",
    "**Challenge**\n",
    "\n",
    "Compare LSTAT with PRICE using Seaborn's `.jointplot()`. How does the proportion of the lower-income population in an area affect home prices?"
   ]
  },
  {
   "cell_type": "code",
   "metadata": {
    "id": "qzDPv2mA9ZLS"
   },
   "source": [
    ""
   ],
   "execution_count": null,
   "outputs": []
  },
  {
   "cell_type": "markdown",
   "metadata": {
    "id": "_qMWIrs9sIGn"
   },
   "source": [
    "#### Number of Rooms versus Home Value\n",
    "\n",
    "**Challenge** \n",
    "\n",
    "Compare RM (number of rooms) with PRICE using Seaborn's `.jointplot()`. You can probably guess how the number of rooms affects home prices. 😊 "
   ]
  },
  {
   "cell_type": "code",
   "metadata": {
    "id": "OKiSjKor9a7l"
   },
   "source": [
    ""
   ],
   "execution_count": null,
   "outputs": []
  },
  {
   "cell_type": "markdown",
   "metadata": {
    "collapsed": true,
    "id": "QBQWGOph-d36"
   },
   "source": [
    "# Split Training & Test Dataset\n",
    "\n",
    "We *can't* use all 506 entries in our dataset to train our model. The reason is that we want to evaluate our model on data that it hasn't seen yet (i.e., out-of-sample data). That way we can get a better idea of its performance in the real world. \n",
    "\n",
    "**Challenge**\n",
    "\n",
    "* Import the [`train_test_split()` function](https://scikit-learn.org/stable/modules/generated/sklearn.model_selection.train_test_split.html) from sklearn\n",
    "* Create 4 subsets: X_train, X_test, y_train, y_test\n",
    "* Split the training and testing data roughly 80/20. \n",
    "* To get the same random split every time you run your notebook use `random_state=10`. This helps us get the same results every time and avoid confusion while we're learning. \n",
    "\n",
    "\n",
    "Hint: Remember, your **target** is your home PRICE, and your **features** are all the other columns you'll use to predict the price. \n"
   ]
  },
  {
   "cell_type": "code",
   "metadata": {
    "id": "e9o1cpLr9dKl"
   },
   "source": [
    ""
   ],
   "execution_count": null,
   "outputs": []
  },
  {
   "cell_type": "code",
   "metadata": {
    "id": "0kfcVnfy9ffj"
   },
   "source": [
    ""
   ],
   "execution_count": null,
   "outputs": []
  },
  {
   "cell_type": "markdown",
   "metadata": {
    "id": "durruvRj-d3-"
   },
   "source": [
    "# Multivariable Regression\n",
    "\n",
    "In a previous lesson, we had a linear model with only a single feature (our movie budgets). This time we have a total of 13 features. Therefore, our Linear Regression model will have the following form:\n",
    "\n",
    "$$ PR \\hat ICE = \\theta _0 + \\theta _1 RM + \\theta _2 NOX + \\theta _3 DIS + \\theta _4 CHAS ... + \\theta _{13} LSTAT$$"
   ]
  },
  {
   "cell_type": "markdown",
   "metadata": {
    "id": "7bO6LDl7yzlw"
   },
   "source": [
    "### Run Your First Regression\n",
    "\n",
    "**Challenge**\n",
    "\n",
    "Use sklearn to run the regression on the training dataset. How high is the r-squared for the regression on the training data?"
   ]
  },
  {
   "cell_type": "code",
   "metadata": {
    "id": "-H1x3WmG9guW"
   },
   "source": [
    ""
   ],
   "execution_count": null,
   "outputs": []
  },
  {
   "cell_type": "code",
   "metadata": {
    "id": "u6NKCvUK9iEP"
   },
   "source": [
    ""
   ],
   "execution_count": null,
   "outputs": []
  },
  {
   "cell_type": "markdown",
   "metadata": {
    "id": "bKc6g5-5dzOt"
   },
   "source": [
    "### Evaluate the Coefficients of the Model\n",
    "\n",
    "Here we do a sense check on our regression coefficients. The first thing to look for is if the coefficients have the expected sign (positive or negative). \n",
    "\n",
    "**Challenge** Print out the coefficients (the thetas in the equation above) for the features. Hint: You'll see a nice table if you stick the coefficients in a DataFrame. \n",
    "\n",
    "* We already saw that RM on its own had a positive relation to PRICE based on the scatter plot. Is RM's coefficient also positive?\n",
    "* What is the sign on the LSAT coefficient? Does it match your intuition and the scatter plot above?\n",
    "* Check the other coefficients. Do they have the expected sign?\n",
    "* Based on the coefficients, how much more expensive is a room with 6 rooms compared to a room with 5 rooms? According to the model, what is the premium you would have to pay for an extra room? "
   ]
  },
  {
   "cell_type": "code",
   "metadata": {
    "id": "VUV-Vp1Y9jVA"
   },
   "source": [
    ""
   ],
   "execution_count": null,
   "outputs": []
  },
  {
   "cell_type": "code",
   "metadata": {
    "id": "km0UbcMM9ldH"
   },
   "source": [
    ""
   ],
   "execution_count": null,
   "outputs": []
  },
  {
   "cell_type": "markdown",
   "metadata": {
    "id": "3sSyKszdy998"
   },
   "source": [
    "### Analyse the Estimated Values & Regression Residuals\n",
    "\n",
    "The next step is to evaluate our regression. How good our regression is depends not only on the r-squared. It also depends on the **residuals** - the difference between the model's predictions ($\\hat y_i$) and the true values ($y_i$) inside `y_train`. \n",
    "\n",
    "```\n",
    "predicted_values = regr.predict(X_train)\n",
    "residuals = (y_train - predicted_values)\n",
    "```\n",
    "\n",
    "**Challenge**: Create two scatter plots.\n",
    "\n",
    "The first plot should be actual values (`y_train`) against the predicted value values: \n",
    "\n",
    "<img src=https://i.imgur.com/YMttBNV.png height=350>\n",
    "\n",
    "The cyan line in the middle shows `y_train` against `y_train`. If the predictions had been 100% accurate then all the dots would be on this line. The further away the dots are from the line, the worse the prediction was. That makes the distance to the cyan line, you guessed it, our residuals 😊\n",
    "\n",
    "\n",
    "The second plot should be the residuals against the predicted prices. Here's what we're looking for: \n",
    "\n",
    "<img src=https://i.imgur.com/HphsBsj.png height=350>\n",
    "\n"
   ]
  },
  {
   "cell_type": "code",
   "metadata": {
    "id": "7nEqMTRn9owC"
   },
   "source": [
    ""
   ],
   "execution_count": null,
   "outputs": []
  },
  {
   "cell_type": "code",
   "metadata": {
    "id": "TlGpvVo29oiH"
   },
   "source": [
    ""
   ],
   "execution_count": null,
   "outputs": []
  },
  {
   "cell_type": "markdown",
   "metadata": {
    "id": "R0L9JFSFGmIq"
   },
   "source": [
    "Why do we want to look at the residuals? We want to check that they look random. Why? The residuals represent the errors of our model. If there's a pattern in our errors, then our model has a systematic bias.\n",
    "\n",
    "We can analyse the distribution of the residuals. In particular, we're interested in the **skew** and the **mean**.\n",
    "\n",
    "In an ideal case, what we want is something close to a normal distribution. A normal distribution has a skewness of 0 and a mean of 0. A skew of 0 means that the distribution is symmetrical - the bell curve is not lopsided or biased to one side. Here's what a normal distribution looks like: \n",
    "\n",
    "<img src=https://i.imgur.com/7QBqDtO.png height=400>\n",
    "\n",
    "**Challenge**\n",
    "\n",
    "* Calculate the mean and the skewness of the residuals. \n",
    "* Again, use Seaborn's `.displot()` to create a histogram and superimpose the Kernel Density Estimate (KDE)\n",
    "* Is the skewness different from zero? If so, by how much? \n",
    "* Is the mean different from zero?"
   ]
  },
  {
   "cell_type": "code",
   "metadata": {
    "id": "sXmE_Sn49tGl"
   },
   "source": [
    ""
   ],
   "execution_count": null,
   "outputs": []
  },
  {
   "cell_type": "code",
   "metadata": {
    "id": "4rJo2D8t9rhX"
   },
   "source": [
    ""
   ],
   "execution_count": null,
   "outputs": []
  },
  {
   "cell_type": "markdown",
   "metadata": {
    "id": "kC8e42hvdYTd"
   },
   "source": [
    "### Data Transformations for a Better Fit\n",
    "\n",
    "We have two options at this point: \n",
    "\n",
    "1. Change our model entirely. Perhaps a linear model is not appropriate. \n",
    "2. Transform our data to make it fit better with our linear model. \n",
    "\n",
    "Let's try a data transformation approach. \n",
    "\n",
    "**Challenge**\n",
    "\n",
    "Investigate if the target `data['PRICE']` could be a suitable candidate for a log transformation. \n",
    "\n",
    "* Use Seaborn's `.displot()` to show a histogram and KDE of the price data. \n",
    "* Calculate the skew of that distribution.\n",
    "* Use [NumPy's `log()` function](https://numpy.org/doc/stable/reference/generated/numpy.log.html) to create a Series that has the log prices\n",
    "* Plot the log prices using Seaborn's `.displot()` and calculate the skew. \n",
    "* Which distribution has a skew that's closer to zero? \n"
   ]
  },
  {
   "cell_type": "code",
   "metadata": {
    "id": "A4vZt4WP9udK"
   },
   "source": [
    ""
   ],
   "execution_count": null,
   "outputs": []
  },
  {
   "cell_type": "code",
   "metadata": {
    "id": "tp7ILTQt9xje"
   },
   "source": [
    ""
   ],
   "execution_count": null,
   "outputs": []
  },
  {
   "cell_type": "code",
   "metadata": {
    "id": "WGrqnjom9xa1"
   },
   "source": [
    ""
   ],
   "execution_count": null,
   "outputs": []
  },
  {
   "cell_type": "markdown",
   "metadata": {
    "id": "ZK2fGAwsisxg"
   },
   "source": [
    "#### How does the log transformation work?\n",
    "\n",
    "Using a log transformation does not affect every price equally. Large prices are affected more than smaller prices in the dataset. Here's how the prices are \"compressed\" by the log transformation:\n",
    "\n",
    "<img src=https://i.imgur.com/TH8sK1Q.png height=200>\n",
    "\n",
    "We can see this when we plot the actual prices against the (transformed) log prices. "
   ]
  },
  {
   "cell_type": "code",
   "metadata": {
    "id": "3LFw0fshk6js",
    "outputId": "c0e12e68-5685-443e-b98f-3e6bd800333e",
    "colab": {
     "base_uri": "https://localhost:8080/",
     "height": 511
    }
   },
   "source": [
    "plt.figure(dpi=150)\n",
    "plt.scatter(data.PRICE, np.log(data.PRICE))\n",
    "\n",
    "plt.title('Mapping the Original Price to a Log Price')\n",
    "plt.ylabel('Log Price')\n",
    "plt.xlabel('Actual $ Price in 000s')\n",
    "plt.show()"
   ],
   "execution_count": null,
   "outputs": [
    {
     "output_type": "display_data",
     "data": {
      "image/png": "[encoded data removed]",
      "text/plain": [
       "<Figure size 900x600 with 1 Axes>"
      ]
     },
     "metadata": {
      "tags": [],
      "needs_background": "light"
     }
    }
   ]
  },
  {
   "cell_type": "markdown",
   "metadata": {
    "id": "s6CjqfUD-d4L"
   },
   "source": [
    "## Regression using Log Prices\n",
    "\n",
    "Using log prices instead, our model has changed to:\n",
    "\n",
    "$$ \\log (PR \\hat ICE) = \\theta _0 + \\theta _1 RM + \\theta _2 NOX + \\theta_3 DIS + \\theta _4 CHAS + ... + \\theta _{13} LSTAT $$\n",
    "\n",
    "**Challenge**: \n",
    "\n",
    "* Use `train_test_split()` with the same random state as before to make the results comparable. \n",
    "* Run a second regression, but this time use the transformed target data. \n",
    "* What is the r-squared of the regression on the training data? \n",
    "* Have we improved the fit of our model compared to before based on this measure?\n"
   ]
  },
  {
   "cell_type": "code",
   "metadata": {
    "id": "R_491bN0-KnS"
   },
   "source": [
    ""
   ],
   "execution_count": null,
   "outputs": []
  },
  {
   "cell_type": "code",
   "metadata": {
    "id": "323lcb3l-LKG"
   },
   "source": [
    ""
   ],
   "execution_count": null,
   "outputs": []
  },
  {
   "cell_type": "markdown",
   "metadata": {
    "id": "Y8xboGOl-d4P"
   },
   "source": [
    "## Evaluating Coefficients with Log Prices\n",
    "\n",
    "**Challenge**: Print out the coefficients of the new regression model. \n",
    "\n",
    "* Do the coefficients still have the expected sign? \n",
    "* Is being next to the river a positive based on the data?\n",
    "* How does the quality of the schools affect property prices? What happens to prices as there are more students per teacher? \n",
    "\n",
    "Hint: Use a DataFrame to make the output look pretty. "
   ]
  },
  {
   "cell_type": "code",
   "metadata": {
    "id": "TqavcsE5-NPT"
   },
   "source": [
    ""
   ],
   "execution_count": null,
   "outputs": []
  },
  {
   "cell_type": "code",
   "metadata": {
    "id": "gJvGhjh5-Oo6"
   },
   "source": [
    ""
   ],
   "execution_count": null,
   "outputs": []
  },
  {
   "cell_type": "markdown",
   "metadata": {
    "collapsed": true,
    "id": "wbRgqfEt-d4e"
   },
   "source": [
    "## Regression with Log Prices & Residual Plots\n",
    "\n",
    "**Challenge**: \n",
    "\n",
    "* Copy-paste the cell where you've created scatter plots of the actual versus the predicted home prices as well as the residuals versus the predicted values. \n",
    "* Add 2 more plots to the cell so that you can compare the regression outcomes with the log prices side by side. \n",
    "* Use `indigo` as the colour for the original regression and `navy` for the color using log prices."
   ]
  },
  {
   "cell_type": "code",
   "metadata": {
    "id": "pdZ2HKay-PZ4"
   },
   "source": [
    ""
   ],
   "execution_count": null,
   "outputs": []
  },
  {
   "cell_type": "code",
   "metadata": {
    "id": "HcOMwwZR-SE1"
   },
   "source": [
    ""
   ],
   "execution_count": null,
   "outputs": []
  },
  {
   "cell_type": "markdown",
   "metadata": {
    "id": "mkU3fgx3tl1w"
   },
   "source": [
    "**Challenge**: \n",
    "\n",
    "Calculate the mean and the skew for the residuals using log prices. Are the mean and skew closer to 0 for the regression using log prices?"
   ]
  },
  {
   "cell_type": "code",
   "metadata": {
    "id": "HHPF_CEl-Si2"
   },
   "source": [
    ""
   ],
   "execution_count": null,
   "outputs": []
  },
  {
   "cell_type": "code",
   "metadata": {
    "id": "NhnUFYah-TzG"
   },
   "source": [
    ""
   ],
   "execution_count": null,
   "outputs": []
  },
  {
   "cell_type": "markdown",
   "metadata": {
    "id": "hfbvfrJmfmiR"
   },
   "source": [
    "# Compare Out of Sample Performance\n",
    "\n",
    "The *real* test is how our model performs on data that it has not \"seen\" yet. This is where our `X_test` comes in. \n",
    "\n",
    "**Challenge**\n",
    "\n",
    "Compare the r-squared of the two models on the test dataset. Which model does better? Is the r-squared higher or lower than for the training dataset? Why?"
   ]
  },
  {
   "cell_type": "code",
   "metadata": {
    "id": "otZnpoaD-VIw"
   },
   "source": [
    ""
   ],
   "execution_count": null,
   "outputs": []
  },
  {
   "cell_type": "code",
   "metadata": {
    "id": "dXcMlHDy-VYe"
   },
   "source": [
    ""
   ],
   "execution_count": null,
   "outputs": []
  },
  {
   "cell_type": "markdown",
   "metadata": {
    "id": "vb5Dxrmq41lt"
   },
   "source": [
    "# Predict a Property's Value using the Regression Coefficients\n",
    "\n",
    "Our preferred model now has an equation that looks like this:\n",
    "\n",
    "$$ \\log (PR \\hat ICE) = \\theta _0 + \\theta _1 RM + \\theta _2 NOX + \\theta_3 DIS + \\theta _4 CHAS + ... + \\theta _{13} LSTAT $$\n",
    "\n",
    "The average property has the mean value for all its charactistics:"
   ]
  },
  {
   "cell_type": "code",
   "metadata": {
    "id": "6cZzYDIl44Gk",
    "outputId": "b54ee47d-385d-441e-8c80-4a5ec9801214",
    "colab": {
     "base_uri": "https://localhost:8080/",
     "height": 100
    }
   },
   "source": [
    "# Starting Point: Average Values in the Dataset\n",
    "features = data.drop(['PRICE'], axis=1)\n",
    "average_vals = features.mean().values\n",
    "property_stats = pd.DataFrame(data=average_vals.reshape(1, len(features.columns)), \n",
    "                              columns=features.columns)\n",
    "property_stats"
   ],
   "execution_count": null,
   "outputs": [
    {
     "output_type": "execute_result",
     "data": {
      "text/html": [
       "<div>\n",
       "<style scoped>\n",
       "    .dataframe tbody tr th:only-of-type {\n",
       "        vertical-align: middle;\n",
       "    }\n",
       "\n",
       "    .dataframe tbody tr th {\n",
       "        vertical-align: top;\n",
       "    }\n",
       "\n",
       "    .dataframe thead th {\n",
       "        text-align: right;\n",
       "    }\n",
       "</style>\n",
       "<table border=\"1\" class=\"dataframe\">\n",
       "  <thead>\n",
       "    <tr style=\"text-align: right;\">\n",
       "      <th></th>\n",
       "      <th>CRIM</th>\n",
       "      <th>ZN</th>\n",
       "      <th>INDUS</th>\n",
       "      <th>CHAS</th>\n",
       "      <th>NOX</th>\n",
       "      <th>RM</th>\n",
       "      <th>AGE</th>\n",
       "      <th>DIS</th>\n",
       "      <th>RAD</th>\n",
       "      <th>TAX</th>\n",
       "      <th>PTRATIO</th>\n",
       "      <th>B</th>\n",
       "      <th>LSTAT</th>\n",
       "    </tr>\n",
       "  </thead>\n",
       "  <tbody>\n",
       "    <tr>\n",
       "      <th>0</th>\n",
       "      <td>3.61</td>\n",
       "      <td>11.36</td>\n",
       "      <td>11.14</td>\n",
       "      <td>0.07</td>\n",
       "      <td>0.55</td>\n",
       "      <td>6.28</td>\n",
       "      <td>68.57</td>\n",
       "      <td>3.80</td>\n",
       "      <td>9.55</td>\n",
       "      <td>408.24</td>\n",
       "      <td>18.46</td>\n",
       "      <td>356.67</td>\n",
       "      <td>12.65</td>\n",
       "    </tr>\n",
       "  </tbody>\n",
       "</table>\n",
       "</div>"
      ],
      "text/plain": [
       "   CRIM    ZN  INDUS  CHAS  NOX   RM  ...  DIS  RAD    TAX  PTRATIO      B  LSTAT\n",
       "0  3.61 11.36  11.14  0.07 0.55 6.28  ... 3.80 9.55 408.24    18.46 356.67  12.65\n",
       "\n",
       "[1 rows x 13 columns]"
      ]
     },
     "metadata": {
      "tags": []
     },
     "execution_count": 41
    }
   ]
  },
  {
   "cell_type": "markdown",
   "metadata": {
    "id": "SRDxU5GrvKz-"
   },
   "source": [
    "**Challenge**\n",
    "\n",
    "Predict how much the average property is worth using the stats above. What is the log price estimate and what is the dollar estimate? You'll have to [reverse the log transformation with `.exp()`](https://numpy.org/doc/stable/reference/generated/numpy.exp.html?highlight=exp#numpy.exp) to find the dollar value. "
   ]
  },
  {
   "cell_type": "code",
   "metadata": {
    "id": "Y3uzO0LN-hnF"
   },
   "source": [
    ""
   ],
   "execution_count": null,
   "outputs": []
  },
  {
   "cell_type": "code",
   "metadata": {
    "id": "4Tskv8Zs-hcj"
   },
   "source": [
    ""
   ],
   "execution_count": null,
   "outputs": []
  },
  {
   "cell_type": "markdown",
   "metadata": {
    "id": "tmy1b_uNc1M7"
   },
   "source": [
    "**Challenge**\n",
    "\n",
    "Keeping the average values for CRIM, RAD, INDUS and others, value a property with the following characteristics:"
   ]
  },
  {
   "cell_type": "code",
   "metadata": {
    "id": "Qfv1eqvmAjML"
   },
   "source": [
    "# Define Property Characteristics\n",
    "next_to_river = True\n",
    "nr_rooms = 8\n",
    "students_per_classroom = 20 \n",
    "distance_to_town = 5\n",
    "pollution = data.NOX.quantile(q=0.75) # high\n",
    "amount_of_poverty =  data.LSTAT.quantile(q=0.25) # low"
   ],
   "execution_count": null,
   "outputs": []
  },
  {
   "cell_type": "code",
   "metadata": {
    "id": "VjMZyxl--joy"
   },
   "source": [
    "# Solution:\n",
    "\n"
   ],
   "execution_count": null,
   "outputs": []
  },
  {
   "cell_type": "code",
   "metadata": {
    "id": "gRYX5n0hgeD_"
   },
   "source": [
    ""
   ],
   "execution_count": null,
   "outputs": []
  }
 ]
}