{
 "cells": [
  {
   "cell_type": "markdown",
   "metadata": {},
   "source": [
    "# Introduction"
   ]
  },
  {
   "cell_type": "markdown",
   "metadata": {},
   "source": [
    "Google Trends gives us an estimate of search volume. Let's explore if search popularity relates to other kinds of data. Perhaps there are patterns in Google's search volume and the price of Bitcoin or a hot stock like Tesla. Perhaps search volume for the term \"Unemployment Benefits\" can tell us something about the actual unemployment rate? \n",
    "\n",
    "Data Sources: <br>\n",
    "<ul>\n",
    "<li> <a href=\"https://fred.stlouisfed.org/series/UNRATE/\">Unemployment Rate from FRED</a></li>\n",
    "<li> <a href=\"https://trends.google.com/trends/explore\">Google Trends</a> </li>  \n",
    "<li> <a href=\"https://finance.yahoo.com/quote/TSLA/history?p=TSLA\">Yahoo Finance for Tesla Stock Price</a> </li>    \n",
    "<li> <a href=\"https://finance.yahoo.com/quote/BTC-USD/history?p=BTC-USD\">Yahoo Finance for Bitcoin Stock Price</a> </li>\n",
    "</ul>"
   ]
  },
  {
   "cell_type": "markdown",
   "metadata": {},
   "source": [
    "# Import Statements"
   ]
  },
  {
   "cell_type": "code",
   "execution_count": 1,
   "metadata": {},
   "outputs": [],
   "source": [
    "import pandas as pd\n",
    "import matplotlib.pyplot as plt"
   ]
  },
  {
   "cell_type": "markdown",
   "metadata": {},
   "source": [
    "# Read the Data\n",
    "\n",
    "Download and add the .csv files to the same folder as your notebook."
   ]
  },
  {
   "cell_type": "code",
   "execution_count": 2,
   "metadata": {},
   "outputs": [],
   "source": [
    "df_tesla = pd.read_csv('TESLA Search Trend vs Price.csv')\n",
    "df_btc_search = pd.read_csv('Bitcoin Search Trend.csv')\n",
    "df_btc_price = pd.read_csv('Daily Bitcoin Price.csv')\n",
    "df_unemployment = pd.read_csv('UE Benefits Search vs UE Rate 2004-19.csv')"
   ]
  },
  {
   "cell_type": "markdown",
   "metadata": {},
   "source": [
    "# Data Exploration"
   ]
  },
  {
   "cell_type": "markdown",
   "metadata": {},
   "source": [
    "### Tesla"
   ]
  },
  {
   "cell_type": "markdown",
   "metadata": {},
   "source": [
    "**Challenge**: <br>\n",
    "<ul>\n",
    "<li>What are the shapes of the dataframes? </li>\n",
    "<li>How many rows and columns? </li>\n",
    "<li>What are the column names? </li>\n",
    "<li>Complete the f-string to show the largest/smallest number in the search data column</li> \n",
    "<li>Try the <code>.describe()</code> function to see some useful descriptive statistics</li>\n",
    "<li>What is the periodicity of the time series data (daily, weekly, monthly)? </li>\n",
    "<li>What does a value of 100 in the Google Trend search popularity actually mean?</li>\n",
    "</ul>"
   ]
  },
  {
   "cell_type": "code",
   "execution_count": 8,
   "metadata": {},
   "outputs": [
    {
     "name": "stdout",
     "output_type": "stream",
     "text": [
      "There are 124 rows and 3 columns in df_tesla\n"
     ]
    }
   ],
   "source": [
    "print(f'There are {len(df_tesla)} rows and {len(df_tesla.columns)} columns in df_tesla')"
   ]
  },
  {
   "cell_type": "code",
   "execution_count": 11,
   "outputs": [
    {
     "data": {
      "text/plain": "Index(['MONTH', 'TSLA_WEB_SEARCH', 'TSLA_USD_CLOSE'], dtype='object')"
     },
     "execution_count": 11,
     "metadata": {},
     "output_type": "execute_result"
    }
   ],
   "source": [
    "df_tesla.columns"
   ],
   "metadata": {
    "collapsed": false,
    "pycharm": {
     "name": "#%%\n"
    }
   }
  },
  {
   "cell_type": "code",
   "execution_count": 7,
   "metadata": {},
   "outputs": [
    {
     "name": "stdout",
     "output_type": "stream",
     "text": [
      "Largest value for Tesla in Web Search: 31\n",
      "Smallest value for Tesla in Web Search: 2\n"
     ]
    }
   ],
   "source": [
    "print(f'Largest value for Tesla in Web Search: {df_tesla[\"TSLA_WEB_SEARCH\"].max()}')\n",
    "print(f'Smallest value for Tesla in Web Search: {df_tesla[\"TSLA_WEB_SEARCH\"].min()}')"
   ]
  },
  {
   "cell_type": "code",
   "execution_count": 13,
   "metadata": {},
   "outputs": [
    {
     "data": {
      "text/plain": "       TSLA_WEB_SEARCH  TSLA_USD_CLOSE\ncount       124.000000      124.000000\nmean          8.725806       50.962145\nstd           5.870332       65.908389\nmin           2.000000        3.896000\n25%           3.750000        7.352500\n50%           8.000000       44.653000\n75%          12.000000       58.991999\nmax          31.000000      498.320007",
      "text/html": "<div>\n<style scoped>\n    .dataframe tbody tr th:only-of-type {\n        vertical-align: middle;\n    }\n\n    .dataframe tbody tr th {\n        vertical-align: top;\n    }\n\n    .dataframe thead th {\n        text-align: right;\n    }\n</style>\n<table border=\"1\" class=\"dataframe\">\n  <thead>\n    <tr style=\"text-align: right;\">\n      <th></th>\n      <th>TSLA_WEB_SEARCH</th>\n      <th>TSLA_USD_CLOSE</th>\n    </tr>\n  </thead>\n  <tbody>\n    <tr>\n      <th>count</th>\n      <td>124.000000</td>\n      <td>124.000000</td>\n    </tr>\n    <tr>\n      <th>mean</th>\n      <td>8.725806</td>\n      <td>50.962145</td>\n    </tr>\n    <tr>\n      <th>std</th>\n      <td>5.870332</td>\n      <td>65.908389</td>\n    </tr>\n    <tr>\n      <th>min</th>\n      <td>2.000000</td>\n      <td>3.896000</td>\n    </tr>\n    <tr>\n      <th>25%</th>\n      <td>3.750000</td>\n      <td>7.352500</td>\n    </tr>\n    <tr>\n      <th>50%</th>\n      <td>8.000000</td>\n      <td>44.653000</td>\n    </tr>\n    <tr>\n      <th>75%</th>\n      <td>12.000000</td>\n      <td>58.991999</td>\n    </tr>\n    <tr>\n      <th>max</th>\n      <td>31.000000</td>\n      <td>498.320007</td>\n    </tr>\n  </tbody>\n</table>\n</div>"
     },
     "execution_count": 13,
     "metadata": {},
     "output_type": "execute_result"
    }
   ],
   "source": [
    "df_tesla.describe()"
   ]
  },
  {
   "cell_type": "code",
   "execution_count": 21,
   "outputs": [
    {
     "name": "stdout",
     "output_type": "stream",
     "text": [
      "The data is monthly and 100 in Google Trends is the max value of the search index (this is true for all our data sources).\n"
     ]
    }
   ],
   "source": [
    "print('The data is monthly and 100 in Google Trends is the max value of the search index (this is true for all our data sources, except for Bitcoin price, which is daily).')"
   ],
   "metadata": {
    "collapsed": false,
    "pycharm": {
     "name": "#%%\n"
    }
   }
  },
  {
   "cell_type": "markdown",
   "metadata": {},
   "source": [
    "### Unemployment Data"
   ]
  },
  {
   "cell_type": "code",
   "execution_count": 17,
   "metadata": {},
   "outputs": [
    {
     "name": "stdout",
     "output_type": "stream",
     "text": [
      "There are 181 rows and 3 columns in df_unemployment\n"
     ]
    }
   ],
   "source": [
    "print(f'There are {len(df_unemployment)} rows and {len(df_unemployment.columns)} columns in df_unemployment')"
   ]
  },
  {
   "cell_type": "code",
   "execution_count": 25,
   "outputs": [
    {
     "data": {
      "text/plain": "Index(['MONTH', 'UE_BENEFITS_WEB_SEARCH', 'UNRATE'], dtype='object')"
     },
     "execution_count": 25,
     "metadata": {},
     "output_type": "execute_result"
    }
   ],
   "source": [
    "df_unemployment.columns"
   ],
   "metadata": {
    "collapsed": false,
    "pycharm": {
     "name": "#%%\n"
    }
   }
  },
  {
   "cell_type": "code",
   "execution_count": 20,
   "metadata": {},
   "outputs": [
    {
     "name": "stdout",
     "output_type": "stream",
     "text": [
      "Largest value for \"Unemployment Benefits\" in Web Search: 100\n"
     ]
    }
   ],
   "source": [
    "print(f'Largest value for \"Unemployment Benefits\" '\n",
    "      f'in Web Search: {df_unemployment[\"UE_BENEFITS_WEB_SEARCH\"].max()}')"
   ]
  },
  {
   "cell_type": "code",
   "execution_count": 19,
   "outputs": [
    {
     "data": {
      "text/plain": "       UE_BENEFITS_WEB_SEARCH      UNRATE\ncount              181.000000  181.000000\nmean                35.110497    6.217680\nstd                 20.484925    1.891859\nmin                 14.000000    3.700000\n25%                 21.000000    4.700000\n50%                 26.000000    5.400000\n75%                 45.000000    7.800000\nmax                100.000000   10.000000",
      "text/html": "<div>\n<style scoped>\n    .dataframe tbody tr th:only-of-type {\n        vertical-align: middle;\n    }\n\n    .dataframe tbody tr th {\n        vertical-align: top;\n    }\n\n    .dataframe thead th {\n        text-align: right;\n    }\n</style>\n<table border=\"1\" class=\"dataframe\">\n  <thead>\n    <tr style=\"text-align: right;\">\n      <th></th>\n      <th>UE_BENEFITS_WEB_SEARCH</th>\n      <th>UNRATE</th>\n    </tr>\n  </thead>\n  <tbody>\n    <tr>\n      <th>count</th>\n      <td>181.000000</td>\n      <td>181.000000</td>\n    </tr>\n    <tr>\n      <th>mean</th>\n      <td>35.110497</td>\n      <td>6.217680</td>\n    </tr>\n    <tr>\n      <th>std</th>\n      <td>20.484925</td>\n      <td>1.891859</td>\n    </tr>\n    <tr>\n      <th>min</th>\n      <td>14.000000</td>\n      <td>3.700000</td>\n    </tr>\n    <tr>\n      <th>25%</th>\n      <td>21.000000</td>\n      <td>4.700000</td>\n    </tr>\n    <tr>\n      <th>50%</th>\n      <td>26.000000</td>\n      <td>5.400000</td>\n    </tr>\n    <tr>\n      <th>75%</th>\n      <td>45.000000</td>\n      <td>7.800000</td>\n    </tr>\n    <tr>\n      <th>max</th>\n      <td>100.000000</td>\n      <td>10.000000</td>\n    </tr>\n  </tbody>\n</table>\n</div>"
     },
     "execution_count": 19,
     "metadata": {},
     "output_type": "execute_result"
    }
   ],
   "source": [
    "df_unemployment.describe()"
   ],
   "metadata": {
    "collapsed": false,
    "pycharm": {
     "name": "#%%\n"
    }
   }
  },
  {
   "cell_type": "markdown",
   "metadata": {},
   "source": [
    "### Bitcoin"
   ]
  },
  {
   "cell_type": "code",
   "execution_count": 28,
   "outputs": [
    {
     "data": {
      "text/plain": "            DATE         CLOSE        VOLUME\n0     2014-09-17    457.334015  2.105680e+07\n1     2014-09-18    424.440002  3.448320e+07\n2     2014-09-19    394.795990  3.791970e+07\n3     2014-09-20    408.903992  3.686360e+07\n4     2014-09-21    398.821014  2.658010e+07\n...          ...           ...           ...\n2199  2020-09-24  10745.548828  2.301754e+10\n2200  2020-09-25  10702.290039  2.123255e+10\n2201  2020-09-26  10754.437500  1.810501e+10\n2202  2020-09-27  10774.426758  1.801688e+10\n2203  2020-09-28  10912.536133  2.122653e+10\n\n[2204 rows x 3 columns]",
      "text/html": "<div>\n<style scoped>\n    .dataframe tbody tr th:only-of-type {\n        vertical-align: middle;\n    }\n\n    .dataframe tbody tr th {\n        vertical-align: top;\n    }\n\n    .dataframe thead th {\n        text-align: right;\n    }\n</style>\n<table border=\"1\" class=\"dataframe\">\n  <thead>\n    <tr style=\"text-align: right;\">\n      <th></th>\n      <th>DATE</th>\n      <th>CLOSE</th>\n      <th>VOLUME</th>\n    </tr>\n  </thead>\n  <tbody>\n    <tr>\n      <th>0</th>\n      <td>2014-09-17</td>\n      <td>457.334015</td>\n      <td>2.105680e+07</td>\n    </tr>\n    <tr>\n      <th>1</th>\n      <td>2014-09-18</td>\n      <td>424.440002</td>\n      <td>3.448320e+07</td>\n    </tr>\n    <tr>\n      <th>2</th>\n      <td>2014-09-19</td>\n      <td>394.795990</td>\n      <td>3.791970e+07</td>\n    </tr>\n    <tr>\n      <th>3</th>\n      <td>2014-09-20</td>\n      <td>408.903992</td>\n      <td>3.686360e+07</td>\n    </tr>\n    <tr>\n      <th>4</th>\n      <td>2014-09-21</td>\n      <td>398.821014</td>\n      <td>2.658010e+07</td>\n    </tr>\n    <tr>\n      <th>...</th>\n      <td>...</td>\n      <td>...</td>\n      <td>...</td>\n    </tr>\n    <tr>\n      <th>2199</th>\n      <td>2020-09-24</td>\n      <td>10745.548828</td>\n      <td>2.301754e+10</td>\n    </tr>\n    <tr>\n      <th>2200</th>\n      <td>2020-09-25</td>\n      <td>10702.290039</td>\n      <td>2.123255e+10</td>\n    </tr>\n    <tr>\n      <th>2201</th>\n      <td>2020-09-26</td>\n      <td>10754.437500</td>\n      <td>1.810501e+10</td>\n    </tr>\n    <tr>\n      <th>2202</th>\n      <td>2020-09-27</td>\n      <td>10774.426758</td>\n      <td>1.801688e+10</td>\n    </tr>\n    <tr>\n      <th>2203</th>\n      <td>2020-09-28</td>\n      <td>10912.536133</td>\n      <td>2.122653e+10</td>\n    </tr>\n  </tbody>\n</table>\n<p>2204 rows × 3 columns</p>\n</div>"
     },
     "execution_count": 28,
     "metadata": {},
     "output_type": "execute_result"
    }
   ],
   "source": [
    "df_btc_price"
   ],
   "metadata": {
    "collapsed": false,
    "pycharm": {
     "name": "#%%\n"
    }
   }
  },
  {
   "cell_type": "code",
   "execution_count": 27,
   "outputs": [
    {
     "data": {
      "text/plain": "            DATE         CLOSE        VOLUME\n0     2014-09-17    457.334015  2.105680e+07\n1     2014-09-18    424.440002  3.448320e+07\n2     2014-09-19    394.795990  3.791970e+07\n3     2014-09-20    408.903992  3.686360e+07\n4     2014-09-21    398.821014  2.658010e+07\n...          ...           ...           ...\n2199  2020-09-24  10745.548828  2.301754e+10\n2200  2020-09-25  10702.290039  2.123255e+10\n2201  2020-09-26  10754.437500  1.810501e+10\n2202  2020-09-27  10774.426758  1.801688e+10\n2203  2020-09-28  10912.536133  2.122653e+10\n\n[2204 rows x 3 columns]",
      "text/html": "<div>\n<style scoped>\n    .dataframe tbody tr th:only-of-type {\n        vertical-align: middle;\n    }\n\n    .dataframe tbody tr th {\n        vertical-align: top;\n    }\n\n    .dataframe thead th {\n        text-align: right;\n    }\n</style>\n<table border=\"1\" class=\"dataframe\">\n  <thead>\n    <tr style=\"text-align: right;\">\n      <th></th>\n      <th>DATE</th>\n      <th>CLOSE</th>\n      <th>VOLUME</th>\n    </tr>\n  </thead>\n  <tbody>\n    <tr>\n      <th>0</th>\n      <td>2014-09-17</td>\n      <td>457.334015</td>\n      <td>2.105680e+07</td>\n    </tr>\n    <tr>\n      <th>1</th>\n      <td>2014-09-18</td>\n      <td>424.440002</td>\n      <td>3.448320e+07</td>\n    </tr>\n    <tr>\n      <th>2</th>\n      <td>2014-09-19</td>\n      <td>394.795990</td>\n      <td>3.791970e+07</td>\n    </tr>\n    <tr>\n      <th>3</th>\n      <td>2014-09-20</td>\n      <td>408.903992</td>\n      <td>3.686360e+07</td>\n    </tr>\n    <tr>\n      <th>4</th>\n      <td>2014-09-21</td>\n      <td>398.821014</td>\n      <td>2.658010e+07</td>\n    </tr>\n    <tr>\n      <th>...</th>\n      <td>...</td>\n      <td>...</td>\n      <td>...</td>\n    </tr>\n    <tr>\n      <th>2199</th>\n      <td>2020-09-24</td>\n      <td>10745.548828</td>\n      <td>2.301754e+10</td>\n    </tr>\n    <tr>\n      <th>2200</th>\n      <td>2020-09-25</td>\n      <td>10702.290039</td>\n      <td>2.123255e+10</td>\n    </tr>\n    <tr>\n      <th>2201</th>\n      <td>2020-09-26</td>\n      <td>10754.437500</td>\n      <td>1.810501e+10</td>\n    </tr>\n    <tr>\n      <th>2202</th>\n      <td>2020-09-27</td>\n      <td>10774.426758</td>\n      <td>1.801688e+10</td>\n    </tr>\n    <tr>\n      <th>2203</th>\n      <td>2020-09-28</td>\n      <td>10912.536133</td>\n      <td>2.122653e+10</td>\n    </tr>\n  </tbody>\n</table>\n<p>2204 rows × 3 columns</p>\n</div>"
     },
     "execution_count": 27,
     "metadata": {},
     "output_type": "execute_result"
    }
   ],
   "source": [
    "df_btc_price"
   ],
   "metadata": {
    "collapsed": false,
    "pycharm": {
     "name": "#%%\n"
    }
   }
  },
  {
   "cell_type": "code",
   "execution_count": 29,
   "metadata": {},
   "outputs": [
    {
     "name": "stdout",
     "output_type": "stream",
     "text": [
      "There are 73 rows and 2 columns in df_btc_search\n",
      "There are 2204 rows and 3 columns in df_btc_price\n"
     ]
    }
   ],
   "source": [
    "print(f'There are {len(df_btc_search)} rows and {len(df_btc_search.columns)} columns in df_btc_search')\n",
    "print(f'There are {len(df_btc_price)} rows and {len(df_btc_price.columns)} columns in df_btc_price')"
   ]
  },
  {
   "cell_type": "code",
   "execution_count": 32,
   "metadata": {},
   "outputs": [
    {
     "name": "stdout",
     "output_type": "stream",
     "text": [
      "Index(['MONTH', 'BTC_NEWS_SEARCH'], dtype='object')\n",
      "Index(['DATE', 'CLOSE', 'VOLUME'], dtype='object')\n"
     ]
    }
   ],
   "source": [
    "print(df_btc_search.columns)\n",
    "print(df_btc_price.columns)"
   ]
  },
  {
   "cell_type": "code",
   "execution_count": 33,
   "metadata": {},
   "outputs": [
    {
     "name": "stdout",
     "output_type": "stream",
     "text": [
      "largest BTC News Search: 100\n"
     ]
    }
   ],
   "source": [
    "print(f'largest BTC News Search: {df_btc_search[\"BTC_NEWS_SEARCH\"].max()}')"
   ]
  },
  {
   "cell_type": "code",
   "execution_count": 34,
   "outputs": [
    {
     "data": {
      "text/plain": "       BTC_NEWS_SEARCH\ncount        73.000000\nmean         15.013699\nstd          15.146959\nmin           3.000000\n25%           5.000000\n50%          14.000000\n75%          18.000000\nmax         100.000000",
      "text/html": "<div>\n<style scoped>\n    .dataframe tbody tr th:only-of-type {\n        vertical-align: middle;\n    }\n\n    .dataframe tbody tr th {\n        vertical-align: top;\n    }\n\n    .dataframe thead th {\n        text-align: right;\n    }\n</style>\n<table border=\"1\" class=\"dataframe\">\n  <thead>\n    <tr style=\"text-align: right;\">\n      <th></th>\n      <th>BTC_NEWS_SEARCH</th>\n    </tr>\n  </thead>\n  <tbody>\n    <tr>\n      <th>count</th>\n      <td>73.000000</td>\n    </tr>\n    <tr>\n      <th>mean</th>\n      <td>15.013699</td>\n    </tr>\n    <tr>\n      <th>std</th>\n      <td>15.146959</td>\n    </tr>\n    <tr>\n      <th>min</th>\n      <td>3.000000</td>\n    </tr>\n    <tr>\n      <th>25%</th>\n      <td>5.000000</td>\n    </tr>\n    <tr>\n      <th>50%</th>\n      <td>14.000000</td>\n    </tr>\n    <tr>\n      <th>75%</th>\n      <td>18.000000</td>\n    </tr>\n    <tr>\n      <th>max</th>\n      <td>100.000000</td>\n    </tr>\n  </tbody>\n</table>\n</div>"
     },
     "execution_count": 34,
     "metadata": {},
     "output_type": "execute_result"
    }
   ],
   "source": [
    "df_btc_search.describe()"
   ],
   "metadata": {
    "collapsed": false,
    "pycharm": {
     "name": "#%%\n"
    }
   }
  },
  {
   "cell_type": "code",
   "execution_count": 35,
   "outputs": [
    {
     "data": {
      "text/plain": "              CLOSE        VOLUME\ncount   2203.000000  2.203000e+03\nmean    4429.421245  8.043622e+09\nstd     4148.150071  1.176529e+10\nmin      178.102997  5.914570e+06\n25%      433.629502  6.029915e+07\n50%     3637.520020  2.018890e+09\n75%     7997.372803  1.322478e+10\nmax    19497.400391  7.415677e+10",
      "text/html": "<div>\n<style scoped>\n    .dataframe tbody tr th:only-of-type {\n        vertical-align: middle;\n    }\n\n    .dataframe tbody tr th {\n        vertical-align: top;\n    }\n\n    .dataframe thead th {\n        text-align: right;\n    }\n</style>\n<table border=\"1\" class=\"dataframe\">\n  <thead>\n    <tr style=\"text-align: right;\">\n      <th></th>\n      <th>CLOSE</th>\n      <th>VOLUME</th>\n    </tr>\n  </thead>\n  <tbody>\n    <tr>\n      <th>count</th>\n      <td>2203.000000</td>\n      <td>2.203000e+03</td>\n    </tr>\n    <tr>\n      <th>mean</th>\n      <td>4429.421245</td>\n      <td>8.043622e+09</td>\n    </tr>\n    <tr>\n      <th>std</th>\n      <td>4148.150071</td>\n      <td>1.176529e+10</td>\n    </tr>\n    <tr>\n      <th>min</th>\n      <td>178.102997</td>\n      <td>5.914570e+06</td>\n    </tr>\n    <tr>\n      <th>25%</th>\n      <td>433.629502</td>\n      <td>6.029915e+07</td>\n    </tr>\n    <tr>\n      <th>50%</th>\n      <td>3637.520020</td>\n      <td>2.018890e+09</td>\n    </tr>\n    <tr>\n      <th>75%</th>\n      <td>7997.372803</td>\n      <td>1.322478e+10</td>\n    </tr>\n    <tr>\n      <th>max</th>\n      <td>19497.400391</td>\n      <td>7.415677e+10</td>\n    </tr>\n  </tbody>\n</table>\n</div>"
     },
     "execution_count": 35,
     "metadata": {},
     "output_type": "execute_result"
    }
   ],
   "source": [
    "df_btc_price.describe()"
   ],
   "metadata": {
    "collapsed": false,
    "pycharm": {
     "name": "#%%\n"
    }
   }
  },
  {
   "cell_type": "markdown",
   "metadata": {},
   "source": [
    "# Data Cleaning"
   ]
  },
  {
   "cell_type": "markdown",
   "metadata": {},
   "source": [
    "### Check for Missing Values"
   ]
  },
  {
   "cell_type": "markdown",
   "metadata": {},
   "source": [
    "**Challenge**: Are there any missing values in any of the dataframes? If so, which row/rows have missing values? How many missing values are there?"
   ]
  },
  {
   "cell_type": "code",
   "execution_count": 40,
   "metadata": {},
   "outputs": [
    {
     "name": "stdout",
     "output_type": "stream",
     "text": [
      "Missing values for Tesla?: False\n",
      "Missing values for U/E?: False\n",
      "Missing values for BTC Search?: False\n"
     ]
    }
   ],
   "source": [
    "print(f'Missing values for Tesla?: {df_tesla.isna().values.any()}')\n",
    "print(f'Missing values for U/E?: {df_unemployment.isna().values.any()}')\n",
    "print(f'Missing values for BTC Search?: {df_btc_search.isna().values.any()}')"
   ]
  },
  {
   "cell_type": "code",
   "execution_count": 39,
   "metadata": {},
   "outputs": [
    {
     "name": "stdout",
     "output_type": "stream",
     "text": [
      "Missing values for BTC price?: True\n"
     ]
    }
   ],
   "source": [
    "print(f'Missing values for BTC price?: {df_btc_price.isna().values.any()}')"
   ]
  },
  {
   "cell_type": "code",
   "execution_count": 46,
   "metadata": {},
   "outputs": [
    {
     "name": "stdout",
     "output_type": "stream",
     "text": [
      "Number of missing values: \n",
      "DATE      0\n",
      "CLOSE     1\n",
      "VOLUME    1\n",
      "dtype: int64\n"
     ]
    }
   ],
   "source": [
    "print(f'Number of missing values: \\n{df_btc_price.isna().sum()}')"
   ]
  },
  {
   "cell_type": "markdown",
   "metadata": {},
   "source": [
    "**Challenge**: Remove any missing values that you found."
   ]
  },
  {
   "cell_type": "code",
   "execution_count": 47,
   "metadata": {},
   "outputs": [],
   "source": [
    "df_btc_price = df_btc_price.dropna(inplace=True)"
   ]
  },
  {
   "cell_type": "markdown",
   "metadata": {},
   "source": [
    "### Convert Strings to DateTime Objects"
   ]
  },
  {
   "cell_type": "markdown",
   "metadata": {},
   "source": [
    "**Challenge**: Check the data type of the entries in the DataFrame MONTH or DATE columns. Convert any strings in to Datetime objects. Do this for all 4 DataFrames. Double check if your type conversion was successful."
   ]
  },
  {
   "cell_type": "code",
   "execution_count": 48,
   "metadata": {},
   "outputs": [
    {
     "data": {
      "text/plain": "          MONTH  TSLA_WEB_SEARCH  TSLA_USD_CLOSE\n0    2010-06-01                3        4.766000\n1    2010-07-01                3        3.988000\n2    2010-08-01                2        3.896000\n3    2010-09-01                2        4.082000\n4    2010-10-01                2        4.368000\n..          ...              ...             ...\n119  2020-05-01               16      167.000000\n120  2020-06-01               17      215.962006\n121  2020-07-01               24      286.152008\n122  2020-08-01               23      498.320007\n123  2020-09-01               31      407.339996\n\n[124 rows x 3 columns]",
      "text/html": "<div>\n<style scoped>\n    .dataframe tbody tr th:only-of-type {\n        vertical-align: middle;\n    }\n\n    .dataframe tbody tr th {\n        vertical-align: top;\n    }\n\n    .dataframe thead th {\n        text-align: right;\n    }\n</style>\n<table border=\"1\" class=\"dataframe\">\n  <thead>\n    <tr style=\"text-align: right;\">\n      <th></th>\n      <th>MONTH</th>\n      <th>TSLA_WEB_SEARCH</th>\n      <th>TSLA_USD_CLOSE</th>\n    </tr>\n  </thead>\n  <tbody>\n    <tr>\n      <th>0</th>\n      <td>2010-06-01</td>\n      <td>3</td>\n      <td>4.766000</td>\n    </tr>\n    <tr>\n      <th>1</th>\n      <td>2010-07-01</td>\n      <td>3</td>\n      <td>3.988000</td>\n    </tr>\n    <tr>\n      <th>2</th>\n      <td>2010-08-01</td>\n      <td>2</td>\n      <td>3.896000</td>\n    </tr>\n    <tr>\n      <th>3</th>\n      <td>2010-09-01</td>\n      <td>2</td>\n      <td>4.082000</td>\n    </tr>\n    <tr>\n      <th>4</th>\n      <td>2010-10-01</td>\n      <td>2</td>\n      <td>4.368000</td>\n    </tr>\n    <tr>\n      <th>...</th>\n      <td>...</td>\n      <td>...</td>\n      <td>...</td>\n    </tr>\n    <tr>\n      <th>119</th>\n      <td>2020-05-01</td>\n      <td>16</td>\n      <td>167.000000</td>\n    </tr>\n    <tr>\n      <th>120</th>\n      <td>2020-06-01</td>\n      <td>17</td>\n      <td>215.962006</td>\n    </tr>\n    <tr>\n      <th>121</th>\n      <td>2020-07-01</td>\n      <td>24</td>\n      <td>286.152008</td>\n    </tr>\n    <tr>\n      <th>122</th>\n      <td>2020-08-01</td>\n      <td>23</td>\n      <td>498.320007</td>\n    </tr>\n    <tr>\n      <th>123</th>\n      <td>2020-09-01</td>\n      <td>31</td>\n      <td>407.339996</td>\n    </tr>\n  </tbody>\n</table>\n<p>124 rows × 3 columns</p>\n</div>"
     },
     "execution_count": 48,
     "metadata": {},
     "output_type": "execute_result"
    }
   ],
   "source": [
    "df_tesla"
   ]
  },
  {
   "cell_type": "code",
   "execution_count": 53,
   "metadata": {},
   "outputs": [],
   "source": [
    "df_tesla['MONTH'] = pd.to_datetime(df_tesla['MONTH'])\n",
    "df_unemployment['MONTH'] = pd.to_datetime(df_unemployment['MONTH'])\n",
    "df_btc_search['MONTH'] = pd.to_datetime(df_btc_search['MONTH'])\n",
    "df_btc_price['DATE'] = pd.to_datetime(df_btc_price['DATE'])"
   ]
  },
  {
   "cell_type": "markdown",
   "metadata": {},
   "source": [
    "### Converting from Daily to Monthly Data\n",
    "\n",
    "[Pandas .resample() documentation](https://pandas.pydata.org/pandas-docs/stable/reference/api/pandas.DataFrame.resample.html) <br>"
   ]
  },
  {
   "cell_type": "code",
   "execution_count": 64,
   "metadata": {},
   "outputs": [],
   "source": [
    "df_btc_price = df_btc_price.set_index('DATE')\n",
    "df_btc_price = df_btc_price.resample('M').last()"
   ]
  },
  {
   "cell_type": "code",
   "execution_count": 65,
   "metadata": {},
   "outputs": [
    {
     "data": {
      "text/plain": "                   CLOSE        VOLUME\nDATE                                  \n2014-09-30    386.944000  3.470730e+07\n2014-10-31    338.321014  1.254540e+07\n2014-11-30    378.046997  9.194440e+06\n2014-12-31    320.192993  1.394290e+07\n2015-01-31    217.464005  2.334820e+07\n...                  ...           ...\n2020-05-31   9461.058594  2.777329e+10\n2020-06-30   9137.993164  1.573580e+10\n2020-07-31  11323.466797  2.316047e+10\n2020-08-31  11680.820313  2.228593e+10\n2020-09-30  10912.536133  2.122653e+10\n\n[73 rows x 2 columns]",
      "text/html": "<div>\n<style scoped>\n    .dataframe tbody tr th:only-of-type {\n        vertical-align: middle;\n    }\n\n    .dataframe tbody tr th {\n        vertical-align: top;\n    }\n\n    .dataframe thead th {\n        text-align: right;\n    }\n</style>\n<table border=\"1\" class=\"dataframe\">\n  <thead>\n    <tr style=\"text-align: right;\">\n      <th></th>\n      <th>CLOSE</th>\n      <th>VOLUME</th>\n    </tr>\n    <tr>\n      <th>DATE</th>\n      <th></th>\n      <th></th>\n    </tr>\n  </thead>\n  <tbody>\n    <tr>\n      <th>2014-09-30</th>\n      <td>386.944000</td>\n      <td>3.470730e+07</td>\n    </tr>\n    <tr>\n      <th>2014-10-31</th>\n      <td>338.321014</td>\n      <td>1.254540e+07</td>\n    </tr>\n    <tr>\n      <th>2014-11-30</th>\n      <td>378.046997</td>\n      <td>9.194440e+06</td>\n    </tr>\n    <tr>\n      <th>2014-12-31</th>\n      <td>320.192993</td>\n      <td>1.394290e+07</td>\n    </tr>\n    <tr>\n      <th>2015-01-31</th>\n      <td>217.464005</td>\n      <td>2.334820e+07</td>\n    </tr>\n    <tr>\n      <th>...</th>\n      <td>...</td>\n      <td>...</td>\n    </tr>\n    <tr>\n      <th>2020-05-31</th>\n      <td>9461.058594</td>\n      <td>2.777329e+10</td>\n    </tr>\n    <tr>\n      <th>2020-06-30</th>\n      <td>9137.993164</td>\n      <td>1.573580e+10</td>\n    </tr>\n    <tr>\n      <th>2020-07-31</th>\n      <td>11323.466797</td>\n      <td>2.316047e+10</td>\n    </tr>\n    <tr>\n      <th>2020-08-31</th>\n      <td>11680.820313</td>\n      <td>2.228593e+10</td>\n    </tr>\n    <tr>\n      <th>2020-09-30</th>\n      <td>10912.536133</td>\n      <td>2.122653e+10</td>\n    </tr>\n  </tbody>\n</table>\n<p>73 rows × 2 columns</p>\n</div>"
     },
     "execution_count": 65,
     "metadata": {},
     "output_type": "execute_result"
    }
   ],
   "source": [
    "df_btc_price"
   ]
  },
  {
   "cell_type": "markdown",
   "metadata": {},
   "source": [
    "# Data Visualisation"
   ]
  },
  {
   "cell_type": "markdown",
   "metadata": {},
   "source": [
    "### Notebook Formatting & Style Helpers"
   ]
  },
  {
   "cell_type": "code",
   "execution_count": 22,
   "metadata": {},
   "outputs": [],
   "source": [
    "# Create locators for ticks on the time axis"
   ]
  },
  {
   "cell_type": "code",
   "execution_count": 21,
   "metadata": {},
   "outputs": [],
   "source": [
    "# Register date converters to avoid warning messages"
   ]
  },
  {
   "cell_type": "markdown",
   "metadata": {},
   "source": [
    "### Tesla Stock Price v.s. Search Volume"
   ]
  },
  {
   "cell_type": "markdown",
   "metadata": {},
   "source": [
    "**Challenge:** Plot the Tesla stock price against the Tesla search volume using a line chart and two different axes. Label one axis 'TSLA Stock Price' and the other 'Search Trend'. "
   ]
  },
  {
   "cell_type": "code",
   "execution_count": null,
   "metadata": {},
   "outputs": [],
   "source": []
  },
  {
   "cell_type": "markdown",
   "metadata": {},
   "source": [
    "**Challenge**: Add colours to style the chart. This will help differentiate the two lines and the axis labels. Try using one of the blue [colour names](https://matplotlib.org/3.1.1/gallery/color/named_colors.html) for the search volume and a HEX code for a red colour for the stock price. \n",
    "<br>\n",
    "<br>\n",
    "Hint: you can colour both the [axis labels](https://matplotlib.org/3.3.2/api/text_api.html#matplotlib.text.Text) and the [lines](https://matplotlib.org/3.2.1/api/_as_gen/matplotlib.lines.Line2D.html#matplotlib.lines.Line2D) on the chart using keyword arguments (kwargs).  "
   ]
  },
  {
   "cell_type": "code",
   "execution_count": null,
   "metadata": {},
   "outputs": [],
   "source": []
  },
  {
   "cell_type": "markdown",
   "metadata": {},
   "source": [
    "**Challenge**: Make the chart larger and easier to read. \n",
    "1. Increase the figure size (e.g., to 14 by 8). \n",
    "2. Increase the font sizes for the labels and the ticks on the x-axis to 14. \n",
    "3. Rotate the text on the x-axis by 45 degrees. \n",
    "4. Make the lines on the chart thicker. \n",
    "5. Add a title that reads 'Tesla Web Search vs Price'\n",
    "6. Keep the chart looking sharp by changing the dots-per-inch or [DPI value](https://matplotlib.org/3.1.1/api/_as_gen/matplotlib.pyplot.figure.html). \n",
    "7. Set minimum and maximum values for the y and x axis. Hint: check out methods like [set_xlim()](https://matplotlib.org/3.1.1/api/_as_gen/matplotlib.axes.Axes.set_xlim.html). \n",
    "8. Finally use [plt.show()](https://matplotlib.org/3.2.1/api/_as_gen/matplotlib.pyplot.show.html) to display the chart below the cell instead of relying on the automatic notebook output."
   ]
  },
  {
   "cell_type": "code",
   "execution_count": null,
   "metadata": {},
   "outputs": [],
   "source": []
  },
  {
   "cell_type": "markdown",
   "metadata": {},
   "source": [
    "How to add tick formatting for dates on the x-axis. "
   ]
  },
  {
   "cell_type": "code",
   "execution_count": null,
   "metadata": {},
   "outputs": [],
   "source": []
  },
  {
   "cell_type": "markdown",
   "metadata": {},
   "source": [
    "### Bitcoin (BTC) Price v.s. Search Volume"
   ]
  },
  {
   "cell_type": "markdown",
   "metadata": {},
   "source": [
    "**Challenge**: Create the same chart for the Bitcoin Prices vs. Search volumes. <br>\n",
    "1. Modify the chart title to read 'Bitcoin News Search vs Resampled Price' <br>\n",
    "2. Change the y-axis label to 'BTC Price' <br>\n",
    "3. Change the y- and x-axis limits to improve the appearance <br>\n",
    "4. Investigate the [linestyles](https://matplotlib.org/3.2.1/api/_as_gen/matplotlib.pyplot.plot.html ) to make the BTC price a dashed line <br>\n",
    "5. Investigate the [marker types](https://matplotlib.org/3.2.1/api/markers_api.html) to make the search datapoints little circles <br>\n",
    "6. Were big increases in searches for Bitcoin accompanied by big increases in the price?"
   ]
  },
  {
   "cell_type": "code",
   "execution_count": null,
   "metadata": {},
   "outputs": [],
   "source": []
  },
  {
   "cell_type": "code",
   "execution_count": null,
   "metadata": {},
   "outputs": [],
   "source": []
  },
  {
   "cell_type": "markdown",
   "metadata": {},
   "source": [
    "### Unemployement Benefits Search vs. Actual Unemployment in the U.S."
   ]
  },
  {
   "cell_type": "markdown",
   "metadata": {},
   "source": [
    "**Challenge** Plot the search for \"unemployment benefits\" against the unemployment rate. \n",
    "1. Change the title to: Monthly Search of \"Unemployment Benefits\" in the U.S. vs the U/E Rate <br>\n",
    "2. Change the y-axis label to: FRED U/E Rate <br>\n",
    "3. Change the axis limits <br>\n",
    "4. Add a grey [grid](https://matplotlib.org/3.2.1/api/_as_gen/matplotlib.pyplot.grid.html) to the chart to better see the years and the U/E rate values. Use dashes for the line style<br> \n",
    "5. Can you discern any seasonality in the searches? Is there a pattern? "
   ]
  },
  {
   "cell_type": "code",
   "execution_count": null,
   "metadata": {},
   "outputs": [],
   "source": []
  },
  {
   "cell_type": "markdown",
   "metadata": {},
   "source": [
    "**Challenge**: Calculate the 3-month or 6-month rolling average for the web searches. Plot the 6-month rolling average search data against the actual unemployment. What do you see in the chart? Which line moves first?\n"
   ]
  },
  {
   "cell_type": "code",
   "execution_count": null,
   "metadata": {},
   "outputs": [],
   "source": []
  },
  {
   "cell_type": "markdown",
   "metadata": {},
   "source": [
    "### Including 2020 in Unemployment Charts"
   ]
  },
  {
   "cell_type": "markdown",
   "metadata": {},
   "source": [
    "**Challenge**: Read the data in the 'UE Benefits Search vs UE Rate 2004-20.csv' into a DataFrame. Convert the MONTH column to Pandas Datetime objects and then plot the chart. What do you see?"
   ]
  },
  {
   "cell_type": "code",
   "execution_count": null,
   "metadata": {},
   "outputs": [],
   "source": []
  },
  {
   "cell_type": "code",
   "execution_count": null,
   "metadata": {},
   "outputs": [],
   "source": []
  },
  {
   "cell_type": "code",
   "execution_count": 29,
   "metadata": {},
   "outputs": [],
   "source": []
  }
 ],
 "metadata": {
  "kernelspec": {
   "display_name": "Python 3",
   "language": "python",
   "name": "python3"
  },
  "language_info": {
   "codemirror_mode": {
    "name": "ipython",
    "version": 3
   },
   "file_extension": ".py",
   "mimetype": "text/x-python",
   "name": "python",
   "nbconvert_exporter": "python",
   "pygments_lexer": "ipython3",
   "version": "3.7.3"
  }
 },
 "nbformat": 4,
 "nbformat_minor": 2
}