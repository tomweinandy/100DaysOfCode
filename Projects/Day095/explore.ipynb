{
 "cells": [
  {
   "cell_type": "code",
   "execution_count": 1,
   "metadata": {
    "collapsed": true
   },
   "outputs": [],
   "source": [
    "import dailydata as dd"
   ]
  },
  {
   "cell_type": "code",
   "execution_count": 4,
   "outputs": [
    {
     "name": "stdout",
     "output_type": "stream",
     "text": [
      "python:2022-01-01 2022-01-31\n"
     ]
    },
    {
     "data": {
      "text/plain": "            python_unscaled  python_monthly  isPartial  scale  python\ndate                                                                 \n2022-01-01               39              39      False   0.39   15.21\n2022-01-02               43              43      False   0.43   18.49\n2022-01-03               64              64      False   0.64   40.96\n2022-01-04               72              72      False   0.72   51.84\n2022-01-05               77              77      False   0.77   59.29\n2022-01-06               72              72      False   0.72   51.84\n2022-01-07               81              81      False   0.81   65.61\n2022-01-08               54              54      False   0.54   29.16\n2022-01-09               50              50      False   0.50   25.00\n2022-01-10               79              79      False   0.79   62.41\n2022-01-11               86              86      False   0.86   73.96\n2022-01-12               89              89      False   0.89   79.21\n2022-01-13               88              88      False   0.88   77.44\n2022-01-14               75              75      False   0.75   56.25\n2022-01-15               56              56      False   0.56   31.36\n2022-01-16               51              51      False   0.51   26.01\n2022-01-17               63              63      False   0.63   39.69\n2022-01-18               82              82      False   0.82   67.24\n2022-01-19               86              86      False   0.86   73.96\n2022-01-20               95              95      False   0.95   90.25\n2022-01-21               91              91      False   0.91   82.81\n2022-01-22               66              66      False   0.66   43.56\n2022-01-23               66              66      False   0.66   43.56\n2022-01-24               99              99      False   0.99   98.01\n2022-01-25               96              96      False   0.96   92.16\n2022-01-26               98              98      False   0.98   96.04\n2022-01-27              100             100      False   1.00  100.00\n2022-01-28               96              96      False   0.96   92.16\n2022-01-29               66              66      False   0.66   43.56\n2022-01-30               62              62      False   0.62   38.44\n2022-01-31               98              98      False   0.98   96.04",
      "text/html": "<div>\n<style scoped>\n    .dataframe tbody tr th:only-of-type {\n        vertical-align: middle;\n    }\n\n    .dataframe tbody tr th {\n        vertical-align: top;\n    }\n\n    .dataframe thead th {\n        text-align: right;\n    }\n</style>\n<table border=\"1\" class=\"dataframe\">\n  <thead>\n    <tr style=\"text-align: right;\">\n      <th></th>\n      <th>python_unscaled</th>\n      <th>python_monthly</th>\n      <th>isPartial</th>\n      <th>scale</th>\n      <th>python</th>\n    </tr>\n    <tr>\n      <th>date</th>\n      <th></th>\n      <th></th>\n      <th></th>\n      <th></th>\n      <th></th>\n    </tr>\n  </thead>\n  <tbody>\n    <tr>\n      <th>2022-01-01</th>\n      <td>39</td>\n      <td>39</td>\n      <td>False</td>\n      <td>0.39</td>\n      <td>15.21</td>\n    </tr>\n    <tr>\n      <th>2022-01-02</th>\n      <td>43</td>\n      <td>43</td>\n      <td>False</td>\n      <td>0.43</td>\n      <td>18.49</td>\n    </tr>\n    <tr>\n      <th>2022-01-03</th>\n      <td>64</td>\n      <td>64</td>\n      <td>False</td>\n      <td>0.64</td>\n      <td>40.96</td>\n    </tr>\n    <tr>\n      <th>2022-01-04</th>\n      <td>72</td>\n      <td>72</td>\n      <td>False</td>\n      <td>0.72</td>\n      <td>51.84</td>\n    </tr>\n    <tr>\n      <th>2022-01-05</th>\n      <td>77</td>\n      <td>77</td>\n      <td>False</td>\n      <td>0.77</td>\n      <td>59.29</td>\n    </tr>\n    <tr>\n      <th>2022-01-06</th>\n      <td>72</td>\n      <td>72</td>\n      <td>False</td>\n      <td>0.72</td>\n      <td>51.84</td>\n    </tr>\n    <tr>\n      <th>2022-01-07</th>\n      <td>81</td>\n      <td>81</td>\n      <td>False</td>\n      <td>0.81</td>\n      <td>65.61</td>\n    </tr>\n    <tr>\n      <th>2022-01-08</th>\n      <td>54</td>\n      <td>54</td>\n      <td>False</td>\n      <td>0.54</td>\n      <td>29.16</td>\n    </tr>\n    <tr>\n      <th>2022-01-09</th>\n      <td>50</td>\n      <td>50</td>\n      <td>False</td>\n      <td>0.50</td>\n      <td>25.00</td>\n    </tr>\n    <tr>\n      <th>2022-01-10</th>\n      <td>79</td>\n      <td>79</td>\n      <td>False</td>\n      <td>0.79</td>\n      <td>62.41</td>\n    </tr>\n    <tr>\n      <th>2022-01-11</th>\n      <td>86</td>\n      <td>86</td>\n      <td>False</td>\n      <td>0.86</td>\n      <td>73.96</td>\n    </tr>\n    <tr>\n      <th>2022-01-12</th>\n      <td>89</td>\n      <td>89</td>\n      <td>False</td>\n      <td>0.89</td>\n      <td>79.21</td>\n    </tr>\n    <tr>\n      <th>2022-01-13</th>\n      <td>88</td>\n      <td>88</td>\n      <td>False</td>\n      <td>0.88</td>\n      <td>77.44</td>\n    </tr>\n    <tr>\n      <th>2022-01-14</th>\n      <td>75</td>\n      <td>75</td>\n      <td>False</td>\n      <td>0.75</td>\n      <td>56.25</td>\n    </tr>\n    <tr>\n      <th>2022-01-15</th>\n      <td>56</td>\n      <td>56</td>\n      <td>False</td>\n      <td>0.56</td>\n      <td>31.36</td>\n    </tr>\n    <tr>\n      <th>2022-01-16</th>\n      <td>51</td>\n      <td>51</td>\n      <td>False</td>\n      <td>0.51</td>\n      <td>26.01</td>\n    </tr>\n    <tr>\n      <th>2022-01-17</th>\n      <td>63</td>\n      <td>63</td>\n      <td>False</td>\n      <td>0.63</td>\n      <td>39.69</td>\n    </tr>\n    <tr>\n      <th>2022-01-18</th>\n      <td>82</td>\n      <td>82</td>\n      <td>False</td>\n      <td>0.82</td>\n      <td>67.24</td>\n    </tr>\n    <tr>\n      <th>2022-01-19</th>\n      <td>86</td>\n      <td>86</td>\n      <td>False</td>\n      <td>0.86</td>\n      <td>73.96</td>\n    </tr>\n    <tr>\n      <th>2022-01-20</th>\n      <td>95</td>\n      <td>95</td>\n      <td>False</td>\n      <td>0.95</td>\n      <td>90.25</td>\n    </tr>\n    <tr>\n      <th>2022-01-21</th>\n      <td>91</td>\n      <td>91</td>\n      <td>False</td>\n      <td>0.91</td>\n      <td>82.81</td>\n    </tr>\n    <tr>\n      <th>2022-01-22</th>\n      <td>66</td>\n      <td>66</td>\n      <td>False</td>\n      <td>0.66</td>\n      <td>43.56</td>\n    </tr>\n    <tr>\n      <th>2022-01-23</th>\n      <td>66</td>\n      <td>66</td>\n      <td>False</td>\n      <td>0.66</td>\n      <td>43.56</td>\n    </tr>\n    <tr>\n      <th>2022-01-24</th>\n      <td>99</td>\n      <td>99</td>\n      <td>False</td>\n      <td>0.99</td>\n      <td>98.01</td>\n    </tr>\n    <tr>\n      <th>2022-01-25</th>\n      <td>96</td>\n      <td>96</td>\n      <td>False</td>\n      <td>0.96</td>\n      <td>92.16</td>\n    </tr>\n    <tr>\n      <th>2022-01-26</th>\n      <td>98</td>\n      <td>98</td>\n      <td>False</td>\n      <td>0.98</td>\n      <td>96.04</td>\n    </tr>\n    <tr>\n      <th>2022-01-27</th>\n      <td>100</td>\n      <td>100</td>\n      <td>False</td>\n      <td>1.00</td>\n      <td>100.00</td>\n    </tr>\n    <tr>\n      <th>2022-01-28</th>\n      <td>96</td>\n      <td>96</td>\n      <td>False</td>\n      <td>0.96</td>\n      <td>92.16</td>\n    </tr>\n    <tr>\n      <th>2022-01-29</th>\n      <td>66</td>\n      <td>66</td>\n      <td>False</td>\n      <td>0.66</td>\n      <td>43.56</td>\n    </tr>\n    <tr>\n      <th>2022-01-30</th>\n      <td>62</td>\n      <td>62</td>\n      <td>False</td>\n      <td>0.62</td>\n      <td>38.44</td>\n    </tr>\n    <tr>\n      <th>2022-01-31</th>\n      <td>98</td>\n      <td>98</td>\n      <td>False</td>\n      <td>0.98</td>\n      <td>96.04</td>\n    </tr>\n  </tbody>\n</table>\n</div>"
     },
     "execution_count": 4,
     "metadata": {},
     "output_type": "execute_result"
    }
   ],
   "source": [
    "# Show one month of daily trends for \"python\"\n",
    "dd.get_daily_data('python', 2022, 1, 2022, 1, wait_time=5)"
   ],
   "metadata": {
    "collapsed": false,
    "pycharm": {
     "name": "#%%\n"
    }
   }
  },
  {
   "cell_type": "code",
   "execution_count": null,
   "outputs": [],
   "source": [],
   "metadata": {
    "collapsed": false,
    "pycharm": {
     "name": "#%%\n"
    }
   }
  },
  {
   "cell_type": "code",
   "execution_count": null,
   "outputs": [],
   "source": [],
   "metadata": {
    "collapsed": false,
    "pycharm": {
     "name": "#%%\n"
    }
   }
  }
 ],
 "metadata": {
  "kernelspec": {
   "display_name": "Python 3",
   "language": "python",
   "name": "python3"
  },
  "language_info": {
   "codemirror_mode": {
    "name": "ipython",
    "version": 2
   },
   "file_extension": ".py",
   "mimetype": "text/x-python",
   "name": "python",
   "nbconvert_exporter": "python",
   "pygments_lexer": "ipython2",
   "version": "2.7.6"
  }
 },
 "nbformat": 4,
 "nbformat_minor": 0
}