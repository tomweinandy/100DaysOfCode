{
 "cells": [
  {
   "cell_type": "code",
   "execution_count": 55,
   "metadata": {
    "collapsed": true
   },
   "outputs": [],
   "source": [
    "from pytrends.request import TrendReq\n",
    "import json\n",
    "import requests\n",
    "import datetime as dt"
   ]
  },
  {
   "cell_type": "markdown",
   "source": [
    "# Google Trends"
   ],
   "metadata": {
    "collapsed": false
   }
  },
  {
   "cell_type": "code",
   "execution_count": 44,
   "outputs": [],
   "source": [
    "query = 'Queen Elizabeth'\n",
    "pytrend = TrendReq()\n",
    "pytrend.build_payload(kw_list=[query])"
   ],
   "metadata": {
    "collapsed": false,
    "pycharm": {
     "name": "#%%\n"
    }
   }
  },
  {
   "cell_type": "code",
   "execution_count": 46,
   "outputs": [
    {
     "data": {
      "text/plain": "date\n2017-09-17      1\n2017-09-24      1\n2017-10-01      1\n2017-10-08      1\n2017-10-15      1\n             ... \n2022-08-07      1\n2022-08-14      2\n2022-08-21      1\n2022-08-28      2\n2022-09-04    100\nName: Queen Elizabeth, Length: 260, dtype: int64"
     },
     "execution_count": 46,
     "metadata": {},
     "output_type": "execute_result"
    }
   ],
   "source": [
    "# Historical Interest\n",
    "historical = pytrend.interest_over_time()[query]\n",
    "historical"
   ],
   "metadata": {
    "collapsed": false,
    "pycharm": {
     "name": "#%%\n"
    }
   }
  },
  {
   "cell_type": "code",
   "execution_count": 48,
   "outputs": [
    {
     "data": {
      "text/plain": "                      Queen Elizabeth\ngeoName                              \nBahrain                           100\nCanada                             50\nPuerto Rico                        50\nUnited Arab Emirates               50\nUnited Kingdom                     50\nIreland                            50\nAustralia                          50\nJamaica                            50\nMongolia                           50\nNew Zealand                        50",
      "text/html": "<div>\n<style scoped>\n    .dataframe tbody tr th:only-of-type {\n        vertical-align: middle;\n    }\n\n    .dataframe tbody tr th {\n        vertical-align: top;\n    }\n\n    .dataframe thead th {\n        text-align: right;\n    }\n</style>\n<table border=\"1\" class=\"dataframe\">\n  <thead>\n    <tr style=\"text-align: right;\">\n      <th></th>\n      <th>Queen Elizabeth</th>\n    </tr>\n    <tr>\n      <th>geoName</th>\n      <th></th>\n    </tr>\n  </thead>\n  <tbody>\n    <tr>\n      <th>Bahrain</th>\n      <td>100</td>\n    </tr>\n    <tr>\n      <th>Canada</th>\n      <td>50</td>\n    </tr>\n    <tr>\n      <th>Puerto Rico</th>\n      <td>50</td>\n    </tr>\n    <tr>\n      <th>United Arab Emirates</th>\n      <td>50</td>\n    </tr>\n    <tr>\n      <th>United Kingdom</th>\n      <td>50</td>\n    </tr>\n    <tr>\n      <th>Ireland</th>\n      <td>50</td>\n    </tr>\n    <tr>\n      <th>Australia</th>\n      <td>50</td>\n    </tr>\n    <tr>\n      <th>Jamaica</th>\n      <td>50</td>\n    </tr>\n    <tr>\n      <th>Mongolia</th>\n      <td>50</td>\n    </tr>\n    <tr>\n      <th>New Zealand</th>\n      <td>50</td>\n    </tr>\n  </tbody>\n</table>\n</div>"
     },
     "execution_count": 48,
     "metadata": {},
     "output_type": "execute_result"
    }
   ],
   "source": [
    "# Interest by Region\n",
    "regions = pytrend.interest_by_region()\n",
    "regions = regions.sort_values(by=query, ascending=False)\n",
    "regions = regions[0:10]\n",
    "regions"
   ],
   "metadata": {
    "collapsed": false,
    "pycharm": {
     "name": "#%%\n"
    }
   }
  },
  {
   "cell_type": "code",
   "execution_count": 50,
   "outputs": [
    {
     "data": {
      "text/plain": "                                   query  value\n0                    the queen elizabeth    100\n1                              the queen    100\n2            queen elizabeth nail polish     62\n3                           elizabeth ii     57\n4                     queen elizabeth ii     57\n5                    queen elizabeth age     27\n6             how old is queen elizabeth     25\n7             queen elizabeth nail color     24\n8      queen elizabeth nail polish color     22\n9               queen elizabeth hospital     21\n10                         prince philip     19\n11                            queen mary     18\n12                      queen of england     15\n13            elizabeth queen of england     15\n14  queen elizabeth favorite nail polish     15\n15              queen elizabeth children     15\n16                queen elizabeth mother     14\n17                             the crown     14\n18               queen elizabeth husband     14\n19             the crown queen elizabeth     13\n20                 young queen elizabeth     12\n21        queen elizabeth ii nail polish     12\n22                 queen elizabeth young     12\n23                        prince charles     11\n24                        queen victoria     11",
      "text/html": "<div>\n<style scoped>\n    .dataframe tbody tr th:only-of-type {\n        vertical-align: middle;\n    }\n\n    .dataframe tbody tr th {\n        vertical-align: top;\n    }\n\n    .dataframe thead th {\n        text-align: right;\n    }\n</style>\n<table border=\"1\" class=\"dataframe\">\n  <thead>\n    <tr style=\"text-align: right;\">\n      <th></th>\n      <th>query</th>\n      <th>value</th>\n    </tr>\n  </thead>\n  <tbody>\n    <tr>\n      <th>0</th>\n      <td>the queen elizabeth</td>\n      <td>100</td>\n    </tr>\n    <tr>\n      <th>1</th>\n      <td>the queen</td>\n      <td>100</td>\n    </tr>\n    <tr>\n      <th>2</th>\n      <td>queen elizabeth nail polish</td>\n      <td>62</td>\n    </tr>\n    <tr>\n      <th>3</th>\n      <td>elizabeth ii</td>\n      <td>57</td>\n    </tr>\n    <tr>\n      <th>4</th>\n      <td>queen elizabeth ii</td>\n      <td>57</td>\n    </tr>\n    <tr>\n      <th>5</th>\n      <td>queen elizabeth age</td>\n      <td>27</td>\n    </tr>\n    <tr>\n      <th>6</th>\n      <td>how old is queen elizabeth</td>\n      <td>25</td>\n    </tr>\n    <tr>\n      <th>7</th>\n      <td>queen elizabeth nail color</td>\n      <td>24</td>\n    </tr>\n    <tr>\n      <th>8</th>\n      <td>queen elizabeth nail polish color</td>\n      <td>22</td>\n    </tr>\n    <tr>\n      <th>9</th>\n      <td>queen elizabeth hospital</td>\n      <td>21</td>\n    </tr>\n    <tr>\n      <th>10</th>\n      <td>prince philip</td>\n      <td>19</td>\n    </tr>\n    <tr>\n      <th>11</th>\n      <td>queen mary</td>\n      <td>18</td>\n    </tr>\n    <tr>\n      <th>12</th>\n      <td>queen of england</td>\n      <td>15</td>\n    </tr>\n    <tr>\n      <th>13</th>\n      <td>elizabeth queen of england</td>\n      <td>15</td>\n    </tr>\n    <tr>\n      <th>14</th>\n      <td>queen elizabeth favorite nail polish</td>\n      <td>15</td>\n    </tr>\n    <tr>\n      <th>15</th>\n      <td>queen elizabeth children</td>\n      <td>15</td>\n    </tr>\n    <tr>\n      <th>16</th>\n      <td>queen elizabeth mother</td>\n      <td>14</td>\n    </tr>\n    <tr>\n      <th>17</th>\n      <td>the crown</td>\n      <td>14</td>\n    </tr>\n    <tr>\n      <th>18</th>\n      <td>queen elizabeth husband</td>\n      <td>14</td>\n    </tr>\n    <tr>\n      <th>19</th>\n      <td>the crown queen elizabeth</td>\n      <td>13</td>\n    </tr>\n    <tr>\n      <th>20</th>\n      <td>young queen elizabeth</td>\n      <td>12</td>\n    </tr>\n    <tr>\n      <th>21</th>\n      <td>queen elizabeth ii nail polish</td>\n      <td>12</td>\n    </tr>\n    <tr>\n      <th>22</th>\n      <td>queen elizabeth young</td>\n      <td>12</td>\n    </tr>\n    <tr>\n      <th>23</th>\n      <td>prince charles</td>\n      <td>11</td>\n    </tr>\n    <tr>\n      <th>24</th>\n      <td>queen victoria</td>\n      <td>11</td>\n    </tr>\n  </tbody>\n</table>\n</div>"
     },
     "execution_count": 50,
     "metadata": {},
     "output_type": "execute_result"
    }
   ],
   "source": [
    "# Related Queries\n",
    "related = pytrend.related_queries()\n",
    "related = related[query]['top']\n",
    "related"
   ],
   "metadata": {
    "collapsed": false,
    "pycharm": {
     "name": "#%%\n"
    }
   }
  },
  {
   "cell_type": "markdown",
   "source": [
    "# News API"
   ],
   "metadata": {
    "collapsed": false
   }
  },
  {
   "cell_type": "code",
   "execution_count": 56,
   "outputs": [],
   "source": [
    "# Read in credential string and save as a dictionary\n",
    "with open('../../../../Dropbox/100DaysOfCodePRIVATE/Day95Creds.json') as file:\n",
    "    creds = json.loads(file.read())\n",
    "\n",
    "NEWS_ENDPOINT = \"https://newsapi.org/v2/everything\"\n",
    "NEWS_KEY = creds['NEWS_API']\n",
    "\n",
    "# STEP 2: Fetch top three articles that mention the query\n",
    "# Use https://newsapi.org/docs/endpoints/everything\n",
    "\n",
    "today = dt.datetime.today().strftime('%Y-%m-%d')\n",
    "news_url = f'{NEWS_ENDPOINT}?q={query.lower()}&from={today}&sortBy=publishedAt&apiKey={NEWS_KEY}&language=en'\n",
    "response = requests.get(news_url)"
   ],
   "metadata": {
    "collapsed": false,
    "pycharm": {
     "name": "#%%\n"
    }
   }
  },
  {
   "cell_type": "code",
   "execution_count": 58,
   "outputs": [
    {
     "name": "stdout",
     "output_type": "stream",
     "text": [
      "News response status code: 200\n",
      "Title: Why Princess Anne is walking behind Queen's coffin - but other female royals are in car\n",
      "URL: https://www.mirror.co.uk/news/royals/princess-anne-walking-behind-queens-27969375\n",
      "Brief:The Queen's children, King Charles, Princess Anne, Prince Andrew and Prince Edward, walked in a line behind their mother's coffin as it is taken from the Palace of Holyroodhouse to the nearby St Giles' Cathedral in Edinburgh.\n",
      "\n",
      "Title: Primark to close all shops for Queen's funeral on Monday as Bank Holiday announced\n",
      "URL: https://www.mirror.co.uk/news/royals/primark-close-shops-queens-funeral-27971403\n",
      "Brief:The retailer's 191 stores will remain closed on September to give colleagues a chance to pay their respects to the late monarch. The shops will open the following day, on September 20\n",
      "\n",
      "Title: The latest university to mishandle a faculty speech controversy: CMU and the case of Professor Anya\n",
      "URL: https://leiterreports.typepad.com/blog/2022/09/the-latest-university-to-mishandle-a-faculty-speech-controversy.html\n",
      "Brief:I suppose it was inevitable that the death last week of the Queen of England would lead to a Twitter controversy, and it did. There is a full account, with screen shots, at CHE. Professor Uju Anya (Carnegie-Mellon), upon hearing...\n",
      "\n",
      "\n"
     ]
    }
   ],
   "source": [
    "# Print status, return data\n",
    "print('News response status code:', response.status_code)\n",
    "response.raise_for_status()\n",
    "news_data = response.json()\n",
    "news = news_data['articles']\n",
    "\n",
    "# Save select info from top three articles\n",
    "top_three_articles = ''\n",
    "for i in range(0, 3):\n",
    "    article = news[i]\n",
    "    top_three_articles += f'Title: {article[\"title\"]}\\nURL: {article[\"url\"]}\\nBrief:{article[\"description\"]}\\n\\n'\n",
    "print(top_three_articles)"
   ],
   "metadata": {
    "collapsed": false,
    "pycharm": {
     "name": "#%%\n"
    }
   }
  },
  {
   "cell_type": "code",
   "execution_count": null,
   "outputs": [],
   "source": [],
   "metadata": {
    "collapsed": false,
    "pycharm": {
     "name": "#%%\n"
    }
   }
  }
 ],
 "metadata": {
  "kernelspec": {
   "display_name": "Python 3",
   "language": "python",
   "name": "python3"
  },
  "language_info": {
   "codemirror_mode": {
    "name": "ipython",
    "version": 2
   },
   "file_extension": ".py",
   "mimetype": "text/x-python",
   "name": "python",
   "nbconvert_exporter": "python",
   "pygments_lexer": "ipython2",
   "version": "2.7.6"
  }
 },
 "nbformat": 4,
 "nbformat_minor": 0
}