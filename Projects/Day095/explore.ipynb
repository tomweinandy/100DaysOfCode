{
 "cells": [
  {
   "cell_type": "code",
   "execution_count": 41,
   "metadata": {
    "collapsed": true
   },
   "outputs": [],
   "source": [
    "import dailydata as dd\n",
    "import pandas as pd\n",
    "from pytrends.request import TrendReq"
   ]
  },
  {
   "cell_type": "code",
   "execution_count": 34,
   "outputs": [
    {
     "name": "stdout",
     "output_type": "stream",
     "text": [
      "python:2021-01-01 2021-01-31\n",
      "python:2021-02-01 2021-02-28\n",
      "python:2021-03-01 2021-03-31\n",
      "python:2021-04-01 2021-04-30\n",
      "python:2021-05-01 2021-05-31\n",
      "python:2021-06-01 2021-06-30\n",
      "python:2021-07-01 2021-07-31\n"
     ]
    },
    {
     "ename": "ResponseError",
     "evalue": "The request failed: Google returned a response with code 429.",
     "output_type": "error",
     "traceback": [
      "\u001B[0;31m---------------------------------------------------------------------------\u001B[0m",
      "\u001B[0;31mResponseError\u001B[0m                             Traceback (most recent call last)",
      "\u001B[0;32m/var/folders/8k/1982q0sd17v8dt4gxj5mqhk80000gn/T/ipykernel_85498/1559362720.py\u001B[0m in \u001B[0;36m<module>\u001B[0;34m\u001B[0m\n\u001B[1;32m      1\u001B[0m \u001B[0;31m# Show one month of daily trends for \"python\"\u001B[0m\u001B[0;34m\u001B[0m\u001B[0;34m\u001B[0m\u001B[0;34m\u001B[0m\u001B[0m\n\u001B[0;32m----> 2\u001B[0;31m \u001B[0mdd\u001B[0m\u001B[0;34m.\u001B[0m\u001B[0mget_daily_data\u001B[0m\u001B[0;34m(\u001B[0m\u001B[0;34m'python'\u001B[0m\u001B[0;34m,\u001B[0m \u001B[0;36m2021\u001B[0m\u001B[0;34m,\u001B[0m \u001B[0;36m1\u001B[0m\u001B[0;34m,\u001B[0m \u001B[0;36m2022\u001B[0m\u001B[0;34m,\u001B[0m \u001B[0;36m1\u001B[0m\u001B[0;34m,\u001B[0m \u001B[0mwait_time\u001B[0m\u001B[0;34m=\u001B[0m\u001B[0;36m5\u001B[0m\u001B[0;34m)\u001B[0m\u001B[0;34m\u001B[0m\u001B[0;34m\u001B[0m\u001B[0m\n\u001B[0m",
      "\u001B[0;32m~/PycharmProjects/100DaysOfCode/Projects/Day095/dailydata.py\u001B[0m in \u001B[0;36mget_daily_data\u001B[0;34m(word, start_year, start_mon, stop_year, stop_mon, geo, verbose, wait_time)\u001B[0m\n\u001B[1;32m    112\u001B[0m         \u001B[0;32mif\u001B[0m \u001B[0mverbose\u001B[0m\u001B[0;34m:\u001B[0m\u001B[0;34m\u001B[0m\u001B[0;34m\u001B[0m\u001B[0m\n\u001B[1;32m    113\u001B[0m             \u001B[0mprint\u001B[0m\u001B[0;34m(\u001B[0m\u001B[0;34mf'{word}:{timeframe}'\u001B[0m\u001B[0;34m)\u001B[0m\u001B[0;34m\u001B[0m\u001B[0;34m\u001B[0m\u001B[0m\n\u001B[0;32m--> 114\u001B[0;31m         \u001B[0mresults\u001B[0m\u001B[0;34m[\u001B[0m\u001B[0mcurrent\u001B[0m\u001B[0;34m]\u001B[0m \u001B[0;34m=\u001B[0m \u001B[0m_fetch_data\u001B[0m\u001B[0;34m(\u001B[0m\u001B[0mpytrends\u001B[0m\u001B[0;34m,\u001B[0m \u001B[0mbuild_payload\u001B[0m\u001B[0;34m,\u001B[0m \u001B[0mtimeframe\u001B[0m\u001B[0;34m)\u001B[0m\u001B[0;34m\u001B[0m\u001B[0;34m\u001B[0m\u001B[0m\n\u001B[0m\u001B[1;32m    115\u001B[0m         \u001B[0mcurrent\u001B[0m \u001B[0;34m=\u001B[0m \u001B[0mlast_date_of_month\u001B[0m \u001B[0;34m+\u001B[0m \u001B[0mtimedelta\u001B[0m\u001B[0;34m(\u001B[0m\u001B[0mdays\u001B[0m\u001B[0;34m=\u001B[0m\u001B[0;36m1\u001B[0m\u001B[0;34m)\u001B[0m\u001B[0;34m\u001B[0m\u001B[0;34m\u001B[0m\u001B[0m\n\u001B[1;32m    116\u001B[0m         \u001B[0msleep\u001B[0m\u001B[0;34m(\u001B[0m\u001B[0mwait_time\u001B[0m\u001B[0;34m)\u001B[0m  \u001B[0;31m# don't go too fast or Google will send 429s\u001B[0m\u001B[0;34m\u001B[0m\u001B[0;34m\u001B[0m\u001B[0m\n",
      "\u001B[0;32m~/PycharmProjects/100DaysOfCode/Projects/Day095/dailydata.py\u001B[0m in \u001B[0;36m_fetch_data\u001B[0;34m(pytrends, build_payload, timeframe)\u001B[0m\n\u001B[1;32m     45\u001B[0m         \u001B[0;32melse\u001B[0m\u001B[0;34m:\u001B[0m\u001B[0;34m\u001B[0m\u001B[0;34m\u001B[0m\u001B[0m\n\u001B[1;32m     46\u001B[0m             \u001B[0mfetched\u001B[0m \u001B[0;34m=\u001B[0m \u001B[0;32mTrue\u001B[0m\u001B[0;34m\u001B[0m\u001B[0;34m\u001B[0m\u001B[0m\n\u001B[0;32m---> 47\u001B[0;31m     \u001B[0;32mreturn\u001B[0m \u001B[0mpytrends\u001B[0m\u001B[0;34m.\u001B[0m\u001B[0minterest_over_time\u001B[0m\u001B[0;34m(\u001B[0m\u001B[0;34m)\u001B[0m\u001B[0;34m\u001B[0m\u001B[0;34m\u001B[0m\u001B[0m\n\u001B[0m\u001B[1;32m     48\u001B[0m \u001B[0;34m\u001B[0m\u001B[0m\n\u001B[1;32m     49\u001B[0m \u001B[0;34m\u001B[0m\u001B[0m\n",
      "\u001B[0;32m~/PycharmProjects/100DaysOfCode/venv/lib/python3.7/site-packages/pytrends/request.py\u001B[0m in \u001B[0;36minterest_over_time\u001B[0;34m(self)\u001B[0m\n\u001B[1;32m    228\u001B[0m             \u001B[0mmethod\u001B[0m\u001B[0;34m=\u001B[0m\u001B[0mTrendReq\u001B[0m\u001B[0;34m.\u001B[0m\u001B[0mGET_METHOD\u001B[0m\u001B[0;34m,\u001B[0m\u001B[0;34m\u001B[0m\u001B[0;34m\u001B[0m\u001B[0m\n\u001B[1;32m    229\u001B[0m             \u001B[0mtrim_chars\u001B[0m\u001B[0;34m=\u001B[0m\u001B[0;36m5\u001B[0m\u001B[0;34m,\u001B[0m\u001B[0;34m\u001B[0m\u001B[0;34m\u001B[0m\u001B[0m\n\u001B[0;32m--> 230\u001B[0;31m             \u001B[0mparams\u001B[0m\u001B[0;34m=\u001B[0m\u001B[0mover_time_payload\u001B[0m\u001B[0;34m,\u001B[0m\u001B[0;34m\u001B[0m\u001B[0;34m\u001B[0m\u001B[0m\n\u001B[0m\u001B[1;32m    231\u001B[0m         )\n\u001B[1;32m    232\u001B[0m \u001B[0;34m\u001B[0m\u001B[0m\n",
      "\u001B[0;32m~/PycharmProjects/100DaysOfCode/venv/lib/python3.7/site-packages/pytrends/request.py\u001B[0m in \u001B[0;36m_get_data\u001B[0;34m(self, url, method, trim_chars, **kwargs)\u001B[0m\n\u001B[1;32m    158\u001B[0m                 \u001B[0;34m'The request failed: Google returned a '\u001B[0m\u001B[0;34m\u001B[0m\u001B[0;34m\u001B[0m\u001B[0m\n\u001B[1;32m    159\u001B[0m                 \u001B[0;34m'response with code {0}.'\u001B[0m\u001B[0;34m.\u001B[0m\u001B[0mformat\u001B[0m\u001B[0;34m(\u001B[0m\u001B[0mresponse\u001B[0m\u001B[0;34m.\u001B[0m\u001B[0mstatus_code\u001B[0m\u001B[0;34m)\u001B[0m\u001B[0;34m,\u001B[0m\u001B[0;34m\u001B[0m\u001B[0;34m\u001B[0m\u001B[0m\n\u001B[0;32m--> 160\u001B[0;31m                 response=response)\n\u001B[0m\u001B[1;32m    161\u001B[0m \u001B[0;34m\u001B[0m\u001B[0m\n\u001B[1;32m    162\u001B[0m     def build_payload(self, kw_list, cat=0, timeframe='today 5-y', geo='',\n",
      "\u001B[0;31mResponseError\u001B[0m: The request failed: Google returned a response with code 429."
     ]
    }
   ],
   "source": [
    "# Show one month of daily trends for \"python\"\n",
    "dd.get_daily_data('python', 2021, 1, 2022, 1, wait_time=5)"
   ],
   "metadata": {
    "collapsed": false,
    "pycharm": {
     "name": "#%%\n"
    }
   }
  },
  {
   "cell_type": "code",
   "execution_count": null,
   "outputs": [],
   "source": [],
   "metadata": {
    "collapsed": false,
    "pycharm": {
     "name": "#%%\n"
    }
   }
  },
  {
   "cell_type": "code",
   "execution_count": 44,
   "outputs": [],
   "source": [
    "query = 'Queen Elizabeth'\n",
    "pytrend = TrendReq()\n",
    "pytrend.build_payload(kw_list=[query])"
   ],
   "metadata": {
    "collapsed": false,
    "pycharm": {
     "name": "#%%\n"
    }
   }
  },
  {
   "cell_type": "code",
   "execution_count": 46,
   "outputs": [
    {
     "data": {
      "text/plain": "date\n2017-09-17      1\n2017-09-24      1\n2017-10-01      1\n2017-10-08      1\n2017-10-15      1\n             ... \n2022-08-07      1\n2022-08-14      2\n2022-08-21      1\n2022-08-28      2\n2022-09-04    100\nName: Queen Elizabeth, Length: 260, dtype: int64"
     },
     "execution_count": 46,
     "metadata": {},
     "output_type": "execute_result"
    }
   ],
   "source": [
    "# Historical Interest\n",
    "historical = pytrend.interest_over_time()[query]\n",
    "historical"
   ],
   "metadata": {
    "collapsed": false,
    "pycharm": {
     "name": "#%%\n"
    }
   }
  },
  {
   "cell_type": "code",
   "execution_count": 48,
   "outputs": [
    {
     "data": {
      "text/plain": "                      Queen Elizabeth\ngeoName                              \nBahrain                           100\nCanada                             50\nPuerto Rico                        50\nUnited Arab Emirates               50\nUnited Kingdom                     50\nIreland                            50\nAustralia                          50\nJamaica                            50\nMongolia                           50\nNew Zealand                        50",
      "text/html": "<div>\n<style scoped>\n    .dataframe tbody tr th:only-of-type {\n        vertical-align: middle;\n    }\n\n    .dataframe tbody tr th {\n        vertical-align: top;\n    }\n\n    .dataframe thead th {\n        text-align: right;\n    }\n</style>\n<table border=\"1\" class=\"dataframe\">\n  <thead>\n    <tr style=\"text-align: right;\">\n      <th></th>\n      <th>Queen Elizabeth</th>\n    </tr>\n    <tr>\n      <th>geoName</th>\n      <th></th>\n    </tr>\n  </thead>\n  <tbody>\n    <tr>\n      <th>Bahrain</th>\n      <td>100</td>\n    </tr>\n    <tr>\n      <th>Canada</th>\n      <td>50</td>\n    </tr>\n    <tr>\n      <th>Puerto Rico</th>\n      <td>50</td>\n    </tr>\n    <tr>\n      <th>United Arab Emirates</th>\n      <td>50</td>\n    </tr>\n    <tr>\n      <th>United Kingdom</th>\n      <td>50</td>\n    </tr>\n    <tr>\n      <th>Ireland</th>\n      <td>50</td>\n    </tr>\n    <tr>\n      <th>Australia</th>\n      <td>50</td>\n    </tr>\n    <tr>\n      <th>Jamaica</th>\n      <td>50</td>\n    </tr>\n    <tr>\n      <th>Mongolia</th>\n      <td>50</td>\n    </tr>\n    <tr>\n      <th>New Zealand</th>\n      <td>50</td>\n    </tr>\n  </tbody>\n</table>\n</div>"
     },
     "execution_count": 48,
     "metadata": {},
     "output_type": "execute_result"
    }
   ],
   "source": [
    "# Interest by Region\n",
    "regions = pytrend.interest_by_region()\n",
    "regions = regions.sort_values(by=query, ascending=False)\n",
    "regions = regions[0:10]\n",
    "regions"
   ],
   "metadata": {
    "collapsed": false,
    "pycharm": {
     "name": "#%%\n"
    }
   }
  },
  {
   "cell_type": "code",
   "execution_count": 50,
   "outputs": [
    {
     "data": {
      "text/plain": "                                   query  value\n0                    the queen elizabeth    100\n1                              the queen    100\n2            queen elizabeth nail polish     62\n3                           elizabeth ii     57\n4                     queen elizabeth ii     57\n5                    queen elizabeth age     27\n6             how old is queen elizabeth     25\n7             queen elizabeth nail color     24\n8      queen elizabeth nail polish color     22\n9               queen elizabeth hospital     21\n10                         prince philip     19\n11                            queen mary     18\n12                      queen of england     15\n13            elizabeth queen of england     15\n14  queen elizabeth favorite nail polish     15\n15              queen elizabeth children     15\n16                queen elizabeth mother     14\n17                             the crown     14\n18               queen elizabeth husband     14\n19             the crown queen elizabeth     13\n20                 young queen elizabeth     12\n21        queen elizabeth ii nail polish     12\n22                 queen elizabeth young     12\n23                        prince charles     11\n24                        queen victoria     11",
      "text/html": "<div>\n<style scoped>\n    .dataframe tbody tr th:only-of-type {\n        vertical-align: middle;\n    }\n\n    .dataframe tbody tr th {\n        vertical-align: top;\n    }\n\n    .dataframe thead th {\n        text-align: right;\n    }\n</style>\n<table border=\"1\" class=\"dataframe\">\n  <thead>\n    <tr style=\"text-align: right;\">\n      <th></th>\n      <th>query</th>\n      <th>value</th>\n    </tr>\n  </thead>\n  <tbody>\n    <tr>\n      <th>0</th>\n      <td>the queen elizabeth</td>\n      <td>100</td>\n    </tr>\n    <tr>\n      <th>1</th>\n      <td>the queen</td>\n      <td>100</td>\n    </tr>\n    <tr>\n      <th>2</th>\n      <td>queen elizabeth nail polish</td>\n      <td>62</td>\n    </tr>\n    <tr>\n      <th>3</th>\n      <td>elizabeth ii</td>\n      <td>57</td>\n    </tr>\n    <tr>\n      <th>4</th>\n      <td>queen elizabeth ii</td>\n      <td>57</td>\n    </tr>\n    <tr>\n      <th>5</th>\n      <td>queen elizabeth age</td>\n      <td>27</td>\n    </tr>\n    <tr>\n      <th>6</th>\n      <td>how old is queen elizabeth</td>\n      <td>25</td>\n    </tr>\n    <tr>\n      <th>7</th>\n      <td>queen elizabeth nail color</td>\n      <td>24</td>\n    </tr>\n    <tr>\n      <th>8</th>\n      <td>queen elizabeth nail polish color</td>\n      <td>22</td>\n    </tr>\n    <tr>\n      <th>9</th>\n      <td>queen elizabeth hospital</td>\n      <td>21</td>\n    </tr>\n    <tr>\n      <th>10</th>\n      <td>prince philip</td>\n      <td>19</td>\n    </tr>\n    <tr>\n      <th>11</th>\n      <td>queen mary</td>\n      <td>18</td>\n    </tr>\n    <tr>\n      <th>12</th>\n      <td>queen of england</td>\n      <td>15</td>\n    </tr>\n    <tr>\n      <th>13</th>\n      <td>elizabeth queen of england</td>\n      <td>15</td>\n    </tr>\n    <tr>\n      <th>14</th>\n      <td>queen elizabeth favorite nail polish</td>\n      <td>15</td>\n    </tr>\n    <tr>\n      <th>15</th>\n      <td>queen elizabeth children</td>\n      <td>15</td>\n    </tr>\n    <tr>\n      <th>16</th>\n      <td>queen elizabeth mother</td>\n      <td>14</td>\n    </tr>\n    <tr>\n      <th>17</th>\n      <td>the crown</td>\n      <td>14</td>\n    </tr>\n    <tr>\n      <th>18</th>\n      <td>queen elizabeth husband</td>\n      <td>14</td>\n    </tr>\n    <tr>\n      <th>19</th>\n      <td>the crown queen elizabeth</td>\n      <td>13</td>\n    </tr>\n    <tr>\n      <th>20</th>\n      <td>young queen elizabeth</td>\n      <td>12</td>\n    </tr>\n    <tr>\n      <th>21</th>\n      <td>queen elizabeth ii nail polish</td>\n      <td>12</td>\n    </tr>\n    <tr>\n      <th>22</th>\n      <td>queen elizabeth young</td>\n      <td>12</td>\n    </tr>\n    <tr>\n      <th>23</th>\n      <td>prince charles</td>\n      <td>11</td>\n    </tr>\n    <tr>\n      <th>24</th>\n      <td>queen victoria</td>\n      <td>11</td>\n    </tr>\n  </tbody>\n</table>\n</div>"
     },
     "execution_count": 50,
     "metadata": {},
     "output_type": "execute_result"
    }
   ],
   "source": [
    "# Related Queries\n",
    "related = pytrend.related_queries()\n",
    "related = related[query]['top']\n",
    "related"
   ],
   "metadata": {
    "collapsed": false,
    "pycharm": {
     "name": "#%%\n"
    }
   }
  },
  {
   "cell_type": "code",
   "execution_count": null,
   "outputs": [],
   "source": [],
   "metadata": {
    "collapsed": false,
    "pycharm": {
     "name": "#%%\n"
    }
   }
  }
 ],
 "metadata": {
  "kernelspec": {
   "display_name": "Python 3",
   "language": "python",
   "name": "python3"
  },
  "language_info": {
   "codemirror_mode": {
    "name": "ipython",
    "version": 2
   },
   "file_extension": ".py",
   "mimetype": "text/x-python",
   "name": "python",
   "nbconvert_exporter": "python",
   "pygments_lexer": "ipython2",
   "version": "2.7.6"
  }
 },
 "nbformat": 4,
 "nbformat_minor": 0
}