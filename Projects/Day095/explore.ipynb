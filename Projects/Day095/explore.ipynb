{
 "cells": [
  {
   "cell_type": "code",
   "execution_count": 6,
   "metadata": {
    "collapsed": true
   },
   "outputs": [],
   "source": [
    "import dailydata as dd\n",
    "import pandas as pd\n",
    "from pytrends.request import TrendReq"
   ]
  },
  {
   "cell_type": "code",
   "execution_count": 34,
   "outputs": [
    {
     "name": "stdout",
     "output_type": "stream",
     "text": [
      "python:2021-01-01 2021-01-31\n",
      "python:2021-02-01 2021-02-28\n",
      "python:2021-03-01 2021-03-31\n",
      "python:2021-04-01 2021-04-30\n",
      "python:2021-05-01 2021-05-31\n",
      "python:2021-06-01 2021-06-30\n",
      "python:2021-07-01 2021-07-31\n"
     ]
    },
    {
     "ename": "ResponseError",
     "evalue": "The request failed: Google returned a response with code 429.",
     "output_type": "error",
     "traceback": [
      "\u001B[0;31m---------------------------------------------------------------------------\u001B[0m",
      "\u001B[0;31mResponseError\u001B[0m                             Traceback (most recent call last)",
      "\u001B[0;32m/var/folders/8k/1982q0sd17v8dt4gxj5mqhk80000gn/T/ipykernel_85498/1559362720.py\u001B[0m in \u001B[0;36m<module>\u001B[0;34m\u001B[0m\n\u001B[1;32m      1\u001B[0m \u001B[0;31m# Show one month of daily trends for \"python\"\u001B[0m\u001B[0;34m\u001B[0m\u001B[0;34m\u001B[0m\u001B[0;34m\u001B[0m\u001B[0m\n\u001B[0;32m----> 2\u001B[0;31m \u001B[0mdd\u001B[0m\u001B[0;34m.\u001B[0m\u001B[0mget_daily_data\u001B[0m\u001B[0;34m(\u001B[0m\u001B[0;34m'python'\u001B[0m\u001B[0;34m,\u001B[0m \u001B[0;36m2021\u001B[0m\u001B[0;34m,\u001B[0m \u001B[0;36m1\u001B[0m\u001B[0;34m,\u001B[0m \u001B[0;36m2022\u001B[0m\u001B[0;34m,\u001B[0m \u001B[0;36m1\u001B[0m\u001B[0;34m,\u001B[0m \u001B[0mwait_time\u001B[0m\u001B[0;34m=\u001B[0m\u001B[0;36m5\u001B[0m\u001B[0;34m)\u001B[0m\u001B[0;34m\u001B[0m\u001B[0;34m\u001B[0m\u001B[0m\n\u001B[0m",
      "\u001B[0;32m~/PycharmProjects/100DaysOfCode/Projects/Day095/dailydata.py\u001B[0m in \u001B[0;36mget_daily_data\u001B[0;34m(word, start_year, start_mon, stop_year, stop_mon, geo, verbose, wait_time)\u001B[0m\n\u001B[1;32m    112\u001B[0m         \u001B[0;32mif\u001B[0m \u001B[0mverbose\u001B[0m\u001B[0;34m:\u001B[0m\u001B[0;34m\u001B[0m\u001B[0;34m\u001B[0m\u001B[0m\n\u001B[1;32m    113\u001B[0m             \u001B[0mprint\u001B[0m\u001B[0;34m(\u001B[0m\u001B[0;34mf'{word}:{timeframe}'\u001B[0m\u001B[0;34m)\u001B[0m\u001B[0;34m\u001B[0m\u001B[0;34m\u001B[0m\u001B[0m\n\u001B[0;32m--> 114\u001B[0;31m         \u001B[0mresults\u001B[0m\u001B[0;34m[\u001B[0m\u001B[0mcurrent\u001B[0m\u001B[0;34m]\u001B[0m \u001B[0;34m=\u001B[0m \u001B[0m_fetch_data\u001B[0m\u001B[0;34m(\u001B[0m\u001B[0mpytrends\u001B[0m\u001B[0;34m,\u001B[0m \u001B[0mbuild_payload\u001B[0m\u001B[0;34m,\u001B[0m \u001B[0mtimeframe\u001B[0m\u001B[0;34m)\u001B[0m\u001B[0;34m\u001B[0m\u001B[0;34m\u001B[0m\u001B[0m\n\u001B[0m\u001B[1;32m    115\u001B[0m         \u001B[0mcurrent\u001B[0m \u001B[0;34m=\u001B[0m \u001B[0mlast_date_of_month\u001B[0m \u001B[0;34m+\u001B[0m \u001B[0mtimedelta\u001B[0m\u001B[0;34m(\u001B[0m\u001B[0mdays\u001B[0m\u001B[0;34m=\u001B[0m\u001B[0;36m1\u001B[0m\u001B[0;34m)\u001B[0m\u001B[0;34m\u001B[0m\u001B[0;34m\u001B[0m\u001B[0m\n\u001B[1;32m    116\u001B[0m         \u001B[0msleep\u001B[0m\u001B[0;34m(\u001B[0m\u001B[0mwait_time\u001B[0m\u001B[0;34m)\u001B[0m  \u001B[0;31m# don't go too fast or Google will send 429s\u001B[0m\u001B[0;34m\u001B[0m\u001B[0;34m\u001B[0m\u001B[0m\n",
      "\u001B[0;32m~/PycharmProjects/100DaysOfCode/Projects/Day095/dailydata.py\u001B[0m in \u001B[0;36m_fetch_data\u001B[0;34m(pytrends, build_payload, timeframe)\u001B[0m\n\u001B[1;32m     45\u001B[0m         \u001B[0;32melse\u001B[0m\u001B[0;34m:\u001B[0m\u001B[0;34m\u001B[0m\u001B[0;34m\u001B[0m\u001B[0m\n\u001B[1;32m     46\u001B[0m             \u001B[0mfetched\u001B[0m \u001B[0;34m=\u001B[0m \u001B[0;32mTrue\u001B[0m\u001B[0;34m\u001B[0m\u001B[0;34m\u001B[0m\u001B[0m\n\u001B[0;32m---> 47\u001B[0;31m     \u001B[0;32mreturn\u001B[0m \u001B[0mpytrends\u001B[0m\u001B[0;34m.\u001B[0m\u001B[0minterest_over_time\u001B[0m\u001B[0;34m(\u001B[0m\u001B[0;34m)\u001B[0m\u001B[0;34m\u001B[0m\u001B[0;34m\u001B[0m\u001B[0m\n\u001B[0m\u001B[1;32m     48\u001B[0m \u001B[0;34m\u001B[0m\u001B[0m\n\u001B[1;32m     49\u001B[0m \u001B[0;34m\u001B[0m\u001B[0m\n",
      "\u001B[0;32m~/PycharmProjects/100DaysOfCode/venv/lib/python3.7/site-packages/pytrends/request.py\u001B[0m in \u001B[0;36minterest_over_time\u001B[0;34m(self)\u001B[0m\n\u001B[1;32m    228\u001B[0m             \u001B[0mmethod\u001B[0m\u001B[0;34m=\u001B[0m\u001B[0mTrendReq\u001B[0m\u001B[0;34m.\u001B[0m\u001B[0mGET_METHOD\u001B[0m\u001B[0;34m,\u001B[0m\u001B[0;34m\u001B[0m\u001B[0;34m\u001B[0m\u001B[0m\n\u001B[1;32m    229\u001B[0m             \u001B[0mtrim_chars\u001B[0m\u001B[0;34m=\u001B[0m\u001B[0;36m5\u001B[0m\u001B[0;34m,\u001B[0m\u001B[0;34m\u001B[0m\u001B[0;34m\u001B[0m\u001B[0m\n\u001B[0;32m--> 230\u001B[0;31m             \u001B[0mparams\u001B[0m\u001B[0;34m=\u001B[0m\u001B[0mover_time_payload\u001B[0m\u001B[0;34m,\u001B[0m\u001B[0;34m\u001B[0m\u001B[0;34m\u001B[0m\u001B[0m\n\u001B[0m\u001B[1;32m    231\u001B[0m         )\n\u001B[1;32m    232\u001B[0m \u001B[0;34m\u001B[0m\u001B[0m\n",
      "\u001B[0;32m~/PycharmProjects/100DaysOfCode/venv/lib/python3.7/site-packages/pytrends/request.py\u001B[0m in \u001B[0;36m_get_data\u001B[0;34m(self, url, method, trim_chars, **kwargs)\u001B[0m\n\u001B[1;32m    158\u001B[0m                 \u001B[0;34m'The request failed: Google returned a '\u001B[0m\u001B[0;34m\u001B[0m\u001B[0;34m\u001B[0m\u001B[0m\n\u001B[1;32m    159\u001B[0m                 \u001B[0;34m'response with code {0}.'\u001B[0m\u001B[0;34m.\u001B[0m\u001B[0mformat\u001B[0m\u001B[0;34m(\u001B[0m\u001B[0mresponse\u001B[0m\u001B[0;34m.\u001B[0m\u001B[0mstatus_code\u001B[0m\u001B[0;34m)\u001B[0m\u001B[0;34m,\u001B[0m\u001B[0;34m\u001B[0m\u001B[0;34m\u001B[0m\u001B[0m\n\u001B[0;32m--> 160\u001B[0;31m                 response=response)\n\u001B[0m\u001B[1;32m    161\u001B[0m \u001B[0;34m\u001B[0m\u001B[0m\n\u001B[1;32m    162\u001B[0m     def build_payload(self, kw_list, cat=0, timeframe='today 5-y', geo='',\n",
      "\u001B[0;31mResponseError\u001B[0m: The request failed: Google returned a response with code 429."
     ]
    }
   ],
   "source": [
    "# Show one month of daily trends for \"python\"\n",
    "dd.get_daily_data('python', 2021, 1, 2022, 1, wait_time=5)"
   ],
   "metadata": {
    "collapsed": false,
    "pycharm": {
     "name": "#%%\n"
    }
   }
  },
  {
   "cell_type": "code",
   "execution_count": null,
   "outputs": [],
   "source": [],
   "metadata": {
    "collapsed": false,
    "pycharm": {
     "name": "#%%\n"
    }
   }
  },
  {
   "cell_type": "code",
   "execution_count": 7,
   "outputs": [],
   "source": [
    "query = 'Queen Elizabeth'\n",
    "pytrend = TrendReq()\n",
    "pytrend.build_payload(kw_list=[query])"
   ],
   "metadata": {
    "collapsed": false,
    "pycharm": {
     "name": "#%%\n"
    }
   }
  },
  {
   "cell_type": "code",
   "execution_count": 32,
   "outputs": [],
   "source": [
    "# Interest by Region\n",
    "regions = pytrend.interest_by_region()\n",
    "regions = regions.sort_values(by=query, ascending=False)\n",
    "regions = regions[0:10]\n",
    "regions"
   ],
   "metadata": {
    "collapsed": false,
    "pycharm": {
     "name": "#%%\n"
    }
   }
  },
  {
   "cell_type": "code",
   "execution_count": 24,
   "outputs": [
    {
     "data": {
      "text/plain": "                            query  value\n0             the queen elizabeth    100\n1                       the queen     95\n2              is queen elizabeth     70\n3                    elizabeth ii     60\n4              queen elizabeth ii     60\n5             did queen elizabeth     40\n6        hospital queen elizabeth     23\n7                         charles     22\n8        queen elizabeth children     22\n9   prince philip queen elizabeth     21\n10            queen elizabeth age     21\n11                  prince philip     20\n12                        england     19\n13     how old is queen elizabeth     16\n14                 prince charles     16\n15                     queen mary     14\n16               queen of england     14\n17           queen elizabeth news     14\n18          queen elizabeth death     14\n19          queen elizabeth crown     14\n20                          crown     14\n21     elizabeth queen of england     13\n22         who is queen elizabeth     13\n23                   queen mother     12\n24                 queen victoria     12",
      "text/html": "<div>\n<style scoped>\n    .dataframe tbody tr th:only-of-type {\n        vertical-align: middle;\n    }\n\n    .dataframe tbody tr th {\n        vertical-align: top;\n    }\n\n    .dataframe thead th {\n        text-align: right;\n    }\n</style>\n<table border=\"1\" class=\"dataframe\">\n  <thead>\n    <tr style=\"text-align: right;\">\n      <th></th>\n      <th>query</th>\n      <th>value</th>\n    </tr>\n  </thead>\n  <tbody>\n    <tr>\n      <th>0</th>\n      <td>the queen elizabeth</td>\n      <td>100</td>\n    </tr>\n    <tr>\n      <th>1</th>\n      <td>the queen</td>\n      <td>95</td>\n    </tr>\n    <tr>\n      <th>2</th>\n      <td>is queen elizabeth</td>\n      <td>70</td>\n    </tr>\n    <tr>\n      <th>3</th>\n      <td>elizabeth ii</td>\n      <td>60</td>\n    </tr>\n    <tr>\n      <th>4</th>\n      <td>queen elizabeth ii</td>\n      <td>60</td>\n    </tr>\n    <tr>\n      <th>5</th>\n      <td>did queen elizabeth</td>\n      <td>40</td>\n    </tr>\n    <tr>\n      <th>6</th>\n      <td>hospital queen elizabeth</td>\n      <td>23</td>\n    </tr>\n    <tr>\n      <th>7</th>\n      <td>charles</td>\n      <td>22</td>\n    </tr>\n    <tr>\n      <th>8</th>\n      <td>queen elizabeth children</td>\n      <td>22</td>\n    </tr>\n    <tr>\n      <th>9</th>\n      <td>prince philip queen elizabeth</td>\n      <td>21</td>\n    </tr>\n    <tr>\n      <th>10</th>\n      <td>queen elizabeth age</td>\n      <td>21</td>\n    </tr>\n    <tr>\n      <th>11</th>\n      <td>prince philip</td>\n      <td>20</td>\n    </tr>\n    <tr>\n      <th>12</th>\n      <td>england</td>\n      <td>19</td>\n    </tr>\n    <tr>\n      <th>13</th>\n      <td>how old is queen elizabeth</td>\n      <td>16</td>\n    </tr>\n    <tr>\n      <th>14</th>\n      <td>prince charles</td>\n      <td>16</td>\n    </tr>\n    <tr>\n      <th>15</th>\n      <td>queen mary</td>\n      <td>14</td>\n    </tr>\n    <tr>\n      <th>16</th>\n      <td>queen of england</td>\n      <td>14</td>\n    </tr>\n    <tr>\n      <th>17</th>\n      <td>queen elizabeth news</td>\n      <td>14</td>\n    </tr>\n    <tr>\n      <th>18</th>\n      <td>queen elizabeth death</td>\n      <td>14</td>\n    </tr>\n    <tr>\n      <th>19</th>\n      <td>queen elizabeth crown</td>\n      <td>14</td>\n    </tr>\n    <tr>\n      <th>20</th>\n      <td>crown</td>\n      <td>14</td>\n    </tr>\n    <tr>\n      <th>21</th>\n      <td>elizabeth queen of england</td>\n      <td>13</td>\n    </tr>\n    <tr>\n      <th>22</th>\n      <td>who is queen elizabeth</td>\n      <td>13</td>\n    </tr>\n    <tr>\n      <th>23</th>\n      <td>queen mother</td>\n      <td>12</td>\n    </tr>\n    <tr>\n      <th>24</th>\n      <td>queen victoria</td>\n      <td>12</td>\n    </tr>\n  </tbody>\n</table>\n</div>"
     },
     "execution_count": 24,
     "metadata": {},
     "output_type": "execute_result"
    }
   ],
   "source": [
    "# Related Queries\n",
    "related = pytrend.related_queries()\n",
    "related = related[query]['top']\n",
    "related"
   ],
   "metadata": {
    "collapsed": false,
    "pycharm": {
     "name": "#%%\n"
    }
   }
  },
  {
   "cell_type": "code",
   "execution_count": null,
   "outputs": [],
   "source": [],
   "metadata": {
    "collapsed": false,
    "pycharm": {
     "name": "#%%\n"
    }
   }
  }
 ],
 "metadata": {
  "kernelspec": {
   "display_name": "Python 3",
   "language": "python",
   "name": "python3"
  },
  "language_info": {
   "codemirror_mode": {
    "name": "ipython",
    "version": 2
   },
   "file_extension": ".py",
   "mimetype": "text/x-python",
   "name": "python",
   "nbconvert_exporter": "python",
   "pygments_lexer": "ipython2",
   "version": "2.7.6"
  }
 },
 "nbformat": 4,
 "nbformat_minor": 0
}