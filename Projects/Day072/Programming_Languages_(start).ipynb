{
 "nbformat": 4,
 "nbformat_minor": 0,
 "metadata": {
  "kernelspec": {
   "display_name": "Python 3",
   "language": "python",
   "name": "python3"
  },
  "language_info": {
   "codemirror_mode": {
    "name": "ipython",
    "version": 3
   },
   "file_extension": ".py",
   "mimetype": "text/x-python",
   "name": "python",
   "nbconvert_exporter": "python",
   "pygments_lexer": "ipython3",
   "version": "3.7.3"
  },
  "colab": {
   "name": "Programming Languages (start).ipynb",
   "provenance": []
  }
 },
 "cells": [
  {
   "cell_type": "markdown",
   "metadata": {
    "id": "MAAKxOwsGxuj",
    "colab_type": "text"
   },
   "source": [
    "## Get the Data\n",
    "\n",
    "Either use the provided .csv file or (optionally) get fresh (the freshest?) data from running an SQL query on StackExchange: \n",
    "\n",
    "Follow this link to run the query from [StackExchange](https://data.stackexchange.com/stackoverflow/query/675441/popular-programming-languages-per-over-time-eversql-com) to get your own .csv file\n",
    "\n",
    "<code>\n",
    "select dateadd(month, datediff(month, 0, q.CreationDate), 0) m, TagName, count(*)\n",
    "from PostTags pt\n",
    "join Posts q on q.Id=pt.PostId\n",
    "join Tags t on t.Id=pt.TagId\n",
    "where TagName in ('java','c','c++','python','c#','javascript','assembly','php','perl','ruby','visual basic','swift','r','object-c','scratch','go','swift','delphi')\n",
    "and q.CreationDate < dateadd(month, datediff(month, 0, getdate()), 0)\n",
    "group by dateadd(month, datediff(month, 0, q.CreationDate), 0), TagName\n",
    "order by dateadd(month, datediff(month, 0, q.CreationDate), 0)\n",
    "</code>"
   ]
  },
  {
   "cell_type": "markdown",
   "metadata": {
    "id": "u5KcSXt1Gxuk",
    "colab_type": "text"
   },
   "source": [
    "## Import Statements"
   ]
  },
  {
   "cell_type": "code",
   "metadata": {
    "id": "Ru4Wq-pXGxuk",
    "colab_type": "code",
    "colab": {}
   },
   "source": [
    "import pandas as pd"
   ],
   "execution_count": 11,
   "outputs": []
  },
  {
   "cell_type": "markdown",
   "metadata": {
    "id": "xEP6beuEGxun",
    "colab_type": "text"
   },
   "source": [
    "## Data Exploration"
   ]
  },
  {
   "cell_type": "markdown",
   "metadata": {
    "id": "w3Q75B4CGxun",
    "colab_type": "text"
   },
   "source": [
    "**Challenge**: Read the .csv file and store it in a Pandas dataframe"
   ]
  },
  {
   "cell_type": "code",
   "metadata": {
    "id": "Bm7hQtEGIiri",
    "colab_type": "code",
    "colab": {}
   },
   "source": [
    "df = pd.read_csv('QueryResults.csv')\n",
    "df = df.rename(columns={'m':'DATE', 'TagName':'TAG', 'Unnamed: 2':'POSTS'})"
   ],
   "execution_count": 12,
   "outputs": []
  },
  {
   "cell_type": "markdown",
   "metadata": {
    "id": "x2WnDM75Gxup",
    "colab_type": "text"
   },
   "source": [
    "**Challenge**: Examine the first 5 rows and the last 5 rows of the of the dataframe"
   ]
  },
  {
   "cell_type": "code",
   "metadata": {
    "id": "50oqpUxVIiJf",
    "colab_type": "code",
    "colab": {}
   },
   "source": [
    "df.head()"
   ],
   "execution_count": 13,
   "outputs": [
    {
     "data": {
      "text/plain": "                  DATE       TAG  POSTS\n0  2008-07-01 00:00:00        c#      3\n1  2008-08-01 00:00:00  assembly      8\n2  2008-08-01 00:00:00         c     83\n3  2008-08-01 00:00:00        c#    506\n4  2008-08-01 00:00:00       c++    164",
      "text/html": "<div>\n<style scoped>\n    .dataframe tbody tr th:only-of-type {\n        vertical-align: middle;\n    }\n\n    .dataframe tbody tr th {\n        vertical-align: top;\n    }\n\n    .dataframe thead th {\n        text-align: right;\n    }\n</style>\n<table border=\"1\" class=\"dataframe\">\n  <thead>\n    <tr style=\"text-align: right;\">\n      <th></th>\n      <th>DATE</th>\n      <th>TAG</th>\n      <th>POSTS</th>\n    </tr>\n  </thead>\n  <tbody>\n    <tr>\n      <th>0</th>\n      <td>2008-07-01 00:00:00</td>\n      <td>c#</td>\n      <td>3</td>\n    </tr>\n    <tr>\n      <th>1</th>\n      <td>2008-08-01 00:00:00</td>\n      <td>assembly</td>\n      <td>8</td>\n    </tr>\n    <tr>\n      <th>2</th>\n      <td>2008-08-01 00:00:00</td>\n      <td>c</td>\n      <td>83</td>\n    </tr>\n    <tr>\n      <th>3</th>\n      <td>2008-08-01 00:00:00</td>\n      <td>c#</td>\n      <td>506</td>\n    </tr>\n    <tr>\n      <th>4</th>\n      <td>2008-08-01 00:00:00</td>\n      <td>c++</td>\n      <td>164</td>\n    </tr>\n  </tbody>\n</table>\n</div>"
     },
     "execution_count": 13,
     "metadata": {},
     "output_type": "execute_result"
    }
   ]
  },
  {
   "cell_type": "code",
   "execution_count": 14,
   "outputs": [
    {
     "data": {
      "text/plain": "                     DATE     TAG  POSTS\n2295  2022-05-01 00:00:00     php   4173\n2296  2022-05-01 00:00:00  python  23813\n2297  2022-05-01 00:00:00       r   4916\n2298  2022-05-01 00:00:00    ruby    506\n2299  2022-05-01 00:00:00   swift   1804",
      "text/html": "<div>\n<style scoped>\n    .dataframe tbody tr th:only-of-type {\n        vertical-align: middle;\n    }\n\n    .dataframe tbody tr th {\n        vertical-align: top;\n    }\n\n    .dataframe thead th {\n        text-align: right;\n    }\n</style>\n<table border=\"1\" class=\"dataframe\">\n  <thead>\n    <tr style=\"text-align: right;\">\n      <th></th>\n      <th>DATE</th>\n      <th>TAG</th>\n      <th>POSTS</th>\n    </tr>\n  </thead>\n  <tbody>\n    <tr>\n      <th>2295</th>\n      <td>2022-05-01 00:00:00</td>\n      <td>php</td>\n      <td>4173</td>\n    </tr>\n    <tr>\n      <th>2296</th>\n      <td>2022-05-01 00:00:00</td>\n      <td>python</td>\n      <td>23813</td>\n    </tr>\n    <tr>\n      <th>2297</th>\n      <td>2022-05-01 00:00:00</td>\n      <td>r</td>\n      <td>4916</td>\n    </tr>\n    <tr>\n      <th>2298</th>\n      <td>2022-05-01 00:00:00</td>\n      <td>ruby</td>\n      <td>506</td>\n    </tr>\n    <tr>\n      <th>2299</th>\n      <td>2022-05-01 00:00:00</td>\n      <td>swift</td>\n      <td>1804</td>\n    </tr>\n  </tbody>\n</table>\n</div>"
     },
     "execution_count": 14,
     "metadata": {},
     "output_type": "execute_result"
    }
   ],
   "source": [
    "df.tail()"
   ],
   "metadata": {
    "collapsed": false,
    "pycharm": {
     "name": "#%%\n"
    }
   }
  },
  {
   "cell_type": "markdown",
   "metadata": {
    "id": "0o9hvVgyGxus",
    "colab_type": "text"
   },
   "source": [
    "**Challenge:** Check how many rows and how many columns there are. \n",
    "What are the dimensions of the dataframe?"
   ]
  },
  {
   "cell_type": "code",
   "metadata": {
    "id": "ZUidjCPFIho8",
    "colab_type": "code",
    "colab": {}
   },
   "source": [
    "print(f'Rows: {len(df)}')\n",
    "print(f'Columns: {len(df.columns)}')"
   ],
   "execution_count": 15,
   "outputs": [
    {
     "name": "stdout",
     "output_type": "stream",
     "text": [
      "Rows: 2300\n",
      "Columns: 3\n"
     ]
    }
   ]
  },
  {
   "cell_type": "markdown",
   "metadata": {
    "id": "ybZkNLmxGxuu",
    "colab_type": "text"
   },
   "source": [
    "**Challenge**: Count the number of entries in each column of the dataframe"
   ]
  },
  {
   "cell_type": "code",
   "metadata": {
    "id": "Sc1dmmOoIg2g",
    "colab_type": "code",
    "colab": {}
   },
   "source": [
    "for col in df.columns:\n",
    "    rows = len(df[col].notnull())\n",
    "    print(f'There are {rows} non-empty columns in {col}')"
   ],
   "execution_count": 16,
   "outputs": [
    {
     "name": "stdout",
     "output_type": "stream",
     "text": [
      "There are 2300 non-empty columns in DATE\n",
      "There are 2300 non-empty columns in TAG\n",
      "There are 2300 non-empty columns in POSTS\n"
     ]
    }
   ]
  },
  {
   "cell_type": "markdown",
   "metadata": {
    "id": "hlnfFsscGxuw",
    "colab_type": "text"
   },
   "source": [
    "**Challenge**: Calculate the total number of post per language.\n",
    "Which Programming language has had the highest total number of posts of all time?"
   ]
  },
  {
   "cell_type": "code",
   "metadata": {
    "id": "9-NYFONcIc1X",
    "colab_type": "code",
    "colab": {}
   },
   "source": [
    "df_lang = df.groupby('TAG').sum()\n",
    "df_lang.sort_values('POSTS', ascending=False)"
   ],
   "execution_count": 23,
   "outputs": [
    {
     "data": {
      "text/plain": "              POSTS\nTAG                \njavascript  2375506\npython      1951262\njava        1844695\nc#          1538436\nphp         1434649\nc++          765028\nr            449639\nc            379749\nswift        312886\nruby         224164\nperl          66715\ngo            61568\ndelphi        49601\nassembly      40380",
      "text/html": "<div>\n<style scoped>\n    .dataframe tbody tr th:only-of-type {\n        vertical-align: middle;\n    }\n\n    .dataframe tbody tr th {\n        vertical-align: top;\n    }\n\n    .dataframe thead th {\n        text-align: right;\n    }\n</style>\n<table border=\"1\" class=\"dataframe\">\n  <thead>\n    <tr style=\"text-align: right;\">\n      <th></th>\n      <th>POSTS</th>\n    </tr>\n    <tr>\n      <th>TAG</th>\n      <th></th>\n    </tr>\n  </thead>\n  <tbody>\n    <tr>\n      <th>javascript</th>\n      <td>2375506</td>\n    </tr>\n    <tr>\n      <th>python</th>\n      <td>1951262</td>\n    </tr>\n    <tr>\n      <th>java</th>\n      <td>1844695</td>\n    </tr>\n    <tr>\n      <th>c#</th>\n      <td>1538436</td>\n    </tr>\n    <tr>\n      <th>php</th>\n      <td>1434649</td>\n    </tr>\n    <tr>\n      <th>c++</th>\n      <td>765028</td>\n    </tr>\n    <tr>\n      <th>r</th>\n      <td>449639</td>\n    </tr>\n    <tr>\n      <th>c</th>\n      <td>379749</td>\n    </tr>\n    <tr>\n      <th>swift</th>\n      <td>312886</td>\n    </tr>\n    <tr>\n      <th>ruby</th>\n      <td>224164</td>\n    </tr>\n    <tr>\n      <th>perl</th>\n      <td>66715</td>\n    </tr>\n    <tr>\n      <th>go</th>\n      <td>61568</td>\n    </tr>\n    <tr>\n      <th>delphi</th>\n      <td>49601</td>\n    </tr>\n    <tr>\n      <th>assembly</th>\n      <td>40380</td>\n    </tr>\n  </tbody>\n</table>\n</div>"
     },
     "execution_count": 23,
     "metadata": {},
     "output_type": "execute_result"
    }
   ]
  },
  {
   "cell_type": "markdown",
   "metadata": {
    "id": "iVCesB49Gxuz",
    "colab_type": "text"
   },
   "source": [
    "Some languages are older (e.g., C) and other languages are newer (e.g., Swift). The dataset starts in September 2008.\n",
    "\n",
    "**Challenge**: How many months of data exist per language? Which language had the fewest months with an entry? \n"
   ]
  },
  {
   "cell_type": "code",
   "metadata": {
    "id": "hDT4JlJNJfgQ",
    "colab_type": "code",
    "colab": {}
   },
   "source": [
    "df_date = df.groupby('TAG').count()\n",
    "df_date = df_date[['DATE']]\n",
    "df_date.sort_values('DATE', ascending=False)\n",
    "# df_date"
   ],
   "execution_count": 34,
   "outputs": [
    {
     "data": {
      "text/plain": "            DATE\nTAG             \nc#           167\nassembly     166\nc            166\nc++          166\ndelphi       166\njava         166\njavascript   166\nperl         166\nphp          166\npython       166\nruby         166\nr            164\nswift        158\ngo           151",
      "text/html": "<div>\n<style scoped>\n    .dataframe tbody tr th:only-of-type {\n        vertical-align: middle;\n    }\n\n    .dataframe tbody tr th {\n        vertical-align: top;\n    }\n\n    .dataframe thead th {\n        text-align: right;\n    }\n</style>\n<table border=\"1\" class=\"dataframe\">\n  <thead>\n    <tr style=\"text-align: right;\">\n      <th></th>\n      <th>DATE</th>\n    </tr>\n    <tr>\n      <th>TAG</th>\n      <th></th>\n    </tr>\n  </thead>\n  <tbody>\n    <tr>\n      <th>c#</th>\n      <td>167</td>\n    </tr>\n    <tr>\n      <th>assembly</th>\n      <td>166</td>\n    </tr>\n    <tr>\n      <th>c</th>\n      <td>166</td>\n    </tr>\n    <tr>\n      <th>c++</th>\n      <td>166</td>\n    </tr>\n    <tr>\n      <th>delphi</th>\n      <td>166</td>\n    </tr>\n    <tr>\n      <th>java</th>\n      <td>166</td>\n    </tr>\n    <tr>\n      <th>javascript</th>\n      <td>166</td>\n    </tr>\n    <tr>\n      <th>perl</th>\n      <td>166</td>\n    </tr>\n    <tr>\n      <th>php</th>\n      <td>166</td>\n    </tr>\n    <tr>\n      <th>python</th>\n      <td>166</td>\n    </tr>\n    <tr>\n      <th>ruby</th>\n      <td>166</td>\n    </tr>\n    <tr>\n      <th>r</th>\n      <td>164</td>\n    </tr>\n    <tr>\n      <th>swift</th>\n      <td>158</td>\n    </tr>\n    <tr>\n      <th>go</th>\n      <td>151</td>\n    </tr>\n  </tbody>\n</table>\n</div>"
     },
     "execution_count": 34,
     "metadata": {},
     "output_type": "execute_result"
    }
   ]
  },
  {
   "cell_type": "markdown",
   "metadata": {
    "id": "arguGp3ZGxu1",
    "colab_type": "text"
   },
   "source": [
    "## Data Cleaning\n",
    "\n",
    "Let's fix the date format to make it more readable. We need to use Pandas to change format from a string of \"2008-07-01 00:00:00\" to a datetime object with the format of \"2008-07-01\""
   ]
  },
  {
   "cell_type": "code",
   "metadata": {
    "id": "5nh5a4UtGxu1",
    "colab_type": "code",
    "colab": {}
   },
   "source": [
    "df2 = df.copy()\n",
    "df2['DATE'] = pd.to_datetime(df2['DATE'])\n",
    "df2.head()"
   ],
   "execution_count": 40,
   "outputs": [
    {
     "data": {
      "text/plain": "        DATE       TAG  POSTS\n0 2008-07-01        c#      3\n1 2008-08-01  assembly      8\n2 2008-08-01         c     83\n3 2008-08-01        c#    506\n4 2008-08-01       c++    164",
      "text/html": "<div>\n<style scoped>\n    .dataframe tbody tr th:only-of-type {\n        vertical-align: middle;\n    }\n\n    .dataframe tbody tr th {\n        vertical-align: top;\n    }\n\n    .dataframe thead th {\n        text-align: right;\n    }\n</style>\n<table border=\"1\" class=\"dataframe\">\n  <thead>\n    <tr style=\"text-align: right;\">\n      <th></th>\n      <th>DATE</th>\n      <th>TAG</th>\n      <th>POSTS</th>\n    </tr>\n  </thead>\n  <tbody>\n    <tr>\n      <th>0</th>\n      <td>2008-07-01</td>\n      <td>c#</td>\n      <td>3</td>\n    </tr>\n    <tr>\n      <th>1</th>\n      <td>2008-08-01</td>\n      <td>assembly</td>\n      <td>8</td>\n    </tr>\n    <tr>\n      <th>2</th>\n      <td>2008-08-01</td>\n      <td>c</td>\n      <td>83</td>\n    </tr>\n    <tr>\n      <th>3</th>\n      <td>2008-08-01</td>\n      <td>c#</td>\n      <td>506</td>\n    </tr>\n    <tr>\n      <th>4</th>\n      <td>2008-08-01</td>\n      <td>c++</td>\n      <td>164</td>\n    </tr>\n  </tbody>\n</table>\n</div>"
     },
     "execution_count": 40,
     "metadata": {},
     "output_type": "execute_result"
    }
   ]
  },
  {
   "cell_type": "markdown",
   "metadata": {
    "id": "rWAV6tuzGxu6",
    "colab_type": "text"
   },
   "source": [
    "## Data Manipulation\n",
    "\n"
   ]
  },
  {
   "cell_type": "code",
   "metadata": {
    "id": "aHhbulJaGxu7",
    "colab_type": "code",
    "colab": {}
   },
   "source": [
    ""
   ],
   "execution_count": null,
   "outputs": []
  },
  {
   "cell_type": "markdown",
   "metadata": {
    "id": "RWKcVIyFKwHM",
    "colab_type": "text"
   },
   "source": [
    "**Challenge**: What are the dimensions of our new dataframe? How many rows and columns does it have? Print out the column names and print out the first 5 rows of the dataframe."
   ]
  },
  {
   "cell_type": "code",
   "metadata": {
    "id": "v-u4FcLXGxu9",
    "colab_type": "code",
    "colab": {}
   },
   "source": [
    ""
   ],
   "execution_count": null,
   "outputs": []
  },
  {
   "cell_type": "code",
   "metadata": {
    "id": "NUyBcaMMGxu-",
    "colab_type": "code",
    "colab": {}
   },
   "source": [
    ""
   ],
   "execution_count": null,
   "outputs": []
  },
  {
   "cell_type": "code",
   "metadata": {
    "id": "LnUIOL3LGxvA",
    "colab_type": "code",
    "colab": {}
   },
   "source": [
    ""
   ],
   "execution_count": null,
   "outputs": []
  },
  {
   "cell_type": "markdown",
   "metadata": {
    "id": "BoDCuRU0GxvC",
    "colab_type": "text"
   },
   "source": [
    "**Challenge**: Count the number of entries per programming language. Why might the number of entries be different? "
   ]
  },
  {
   "cell_type": "code",
   "metadata": {
    "id": "-peEFgaMGxvE",
    "colab_type": "code",
    "colab": {}
   },
   "source": [
    ""
   ],
   "execution_count": null,
   "outputs": []
  },
  {
   "cell_type": "code",
   "metadata": {
    "id": "01f2BCF8GxvG",
    "colab_type": "code",
    "colab": {}
   },
   "source": [
    ""
   ],
   "execution_count": null,
   "outputs": []
  },
  {
   "cell_type": "code",
   "metadata": {
    "id": "KooRRxAdGxvI",
    "colab_type": "code",
    "colab": {}
   },
   "source": [
    ""
   ],
   "execution_count": null,
   "outputs": []
  },
  {
   "cell_type": "markdown",
   "metadata": {
    "id": "8xU7l_f4GxvK",
    "colab_type": "text"
   },
   "source": [
    "## Data Visualisaton with with Matplotlib\n"
   ]
  },
  {
   "cell_type": "markdown",
   "metadata": {
    "id": "njnNXTlhGxvK",
    "colab_type": "text"
   },
   "source": [
    "**Challenge**: Use the [matplotlib documentation](https://matplotlib.org/3.2.1/api/_as_gen/matplotlib.pyplot.plot.html#matplotlib.pyplot.plot) to plot a single programming language (e.g., java) on a chart."
   ]
  },
  {
   "cell_type": "code",
   "metadata": {
    "id": "S0OS8T8iGxvL",
    "colab_type": "code",
    "colab": {}
   },
   "source": [
    ""
   ],
   "execution_count": null,
   "outputs": []
  },
  {
   "cell_type": "code",
   "metadata": {
    "id": "EU6AV1l9GxvM",
    "colab_type": "code",
    "colab": {}
   },
   "source": [
    ""
   ],
   "execution_count": null,
   "outputs": []
  },
  {
   "cell_type": "code",
   "metadata": {
    "id": "_Qzzg6b_GxvO",
    "colab_type": "code",
    "colab": {}
   },
   "source": [
    ""
   ],
   "execution_count": null,
   "outputs": []
  },
  {
   "cell_type": "markdown",
   "metadata": {
    "id": "Sm2DL5tZGxvQ",
    "colab_type": "text"
   },
   "source": [
    "**Challenge**: Show two line (e.g. for Java and Python) on the same chart."
   ]
  },
  {
   "cell_type": "code",
   "metadata": {
    "id": "T-0vClQSGxvQ",
    "colab_type": "code",
    "colab": {}
   },
   "source": [
    ""
   ],
   "execution_count": null,
   "outputs": []
  },
  {
   "cell_type": "markdown",
   "metadata": {
    "id": "3jSjfPy7GxvY",
    "colab_type": "text"
   },
   "source": [
    "# Smoothing out Time Series Data\n",
    "\n",
    "Time series data can be quite noisy, with a lot of up and down spikes. To better see a trend we can plot an average of, say 6 or 12 observations. This is called the rolling mean. We calculate the average in a window of time and move it forward by one overservation. Pandas has two handy methods already built in to work this out: [rolling()](https://pandas.pydata.org/pandas-docs/stable/reference/api/pandas.DataFrame.rolling.html) and [mean()](https://pandas.pydata.org/pandas-docs/stable/reference/api/pandas.core.window.rolling.Rolling.mean.html). "
   ]
  },
  {
   "cell_type": "code",
   "metadata": {
    "id": "s3WYd3OgGxvc",
    "colab_type": "code",
    "colab": {}
   },
   "source": [
    ""
   ],
   "execution_count": null,
   "outputs": []
  },
  {
   "cell_type": "code",
   "metadata": {
    "id": "WMJOX8Y2Gxvd",
    "colab_type": "code",
    "colab": {}
   },
   "source": [
    ""
   ],
   "execution_count": null,
   "outputs": []
  },
  {
   "cell_type": "code",
   "metadata": {
    "id": "fAvvarA7Gxvf",
    "colab_type": "code",
    "colab": {}
   },
   "source": [
    ""
   ],
   "execution_count": null,
   "outputs": []
  },
  {
   "cell_type": "code",
   "metadata": {
    "id": "Gm0Ww0S4Gxvg",
    "colab_type": "code",
    "colab": {}
   },
   "source": [
    ""
   ],
   "execution_count": null,
   "outputs": []
  }
 ]
}