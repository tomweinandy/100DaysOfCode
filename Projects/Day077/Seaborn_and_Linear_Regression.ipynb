{
 "nbformat": 4,
 "nbformat_minor": 0,
 "metadata": {
  "colab": {
   "name": "Seaborn and Linear Regression (start).ipynb",
   "provenance": []
  },
  "kernelspec": {
   "name": "python3",
   "display_name": "Python 3"
  }
 },
 "cells": [
  {
   "cell_type": "markdown",
   "metadata": {
    "id": "gltiGJhvrzaL"
   },
   "source": [
    "# Introduction\n",
    "\n",
    "Do higher film budgets lead to more box office revenue? Let's find out if there's a relationship using the movie budgets and financial performance data that I've scraped from [the-numbers.com](https://www.the-numbers.com/movie/budgets) on **May 1st, 2018**. \n",
    "\n",
    "<img src=https://i.imgur.com/kq7hrEh.png>"
   ]
  },
  {
   "cell_type": "markdown",
   "metadata": {
    "id": "zkLrvlKvtdih"
   },
   "source": [
    "# Import Statements"
   ]
  },
  {
   "cell_type": "code",
   "metadata": {
    "id": "NpDk_q_Urroj"
   },
   "source": [
    "import pandas as pd\n",
    "import matplotlib.pyplot as plt\n"
   ],
   "execution_count": 32,
   "outputs": []
  },
  {
   "cell_type": "markdown",
   "metadata": {
    "id": "x5B-UDvXtnC6"
   },
   "source": [
    "# Notebook Presentation"
   ]
  },
  {
   "cell_type": "code",
   "metadata": {
    "id": "nM_otvWztjpT"
   },
   "source": [
    "pd.options.display.float_format = '{:,.2f}'.format\n",
    "\n",
    "from pandas.plotting import register_matplotlib_converters\n",
    "register_matplotlib_converters()"
   ],
   "execution_count": 51,
   "outputs": []
  },
  {
   "cell_type": "markdown",
   "metadata": {
    "id": "v-fnwNYJtthe"
   },
   "source": [
    "# Read the Data"
   ]
  },
  {
   "cell_type": "code",
   "metadata": {
    "id": "xhwvQQWitrf4"
   },
   "source": [
    "data = pd.read_csv('cost_revenue_dirty.csv')"
   ],
   "execution_count": 34,
   "outputs": []
  },
  {
   "cell_type": "markdown",
   "metadata": {
    "id": "tbg8_J5SuHhs"
   },
   "source": [
    "# Explore and Clean the Data"
   ]
  },
  {
   "cell_type": "markdown",
   "metadata": {
    "id": "xAtdcURCuL0Z"
   },
   "source": [
    "**Challenge**: Answer these questions about the dataset:\n",
    "1. How many rows and columns does the dataset contain?\n",
    "2. Are there any NaN values present?\n",
    "3. Are there any duplicate rows?\n",
    "4. What are the data types of the columns?"
   ]
  },
  {
   "cell_type": "code",
   "execution_count": 35,
   "outputs": [
    {
     "data": {
      "text/plain": "(5391, 6)"
     },
     "execution_count": 35,
     "metadata": {},
     "output_type": "execute_result"
    }
   ],
   "source": [
    "data.shape"
   ],
   "metadata": {
    "collapsed": false,
    "pycharm": {
     "name": "#%%\n"
    }
   }
  },
  {
   "cell_type": "code",
   "execution_count": 36,
   "outputs": [
    {
     "data": {
      "text/plain": "False"
     },
     "execution_count": 36,
     "metadata": {},
     "output_type": "execute_result"
    }
   ],
   "source": [
    "data.isna().values.any()"
   ],
   "metadata": {
    "collapsed": false,
    "pycharm": {
     "name": "#%%\n"
    }
   }
  },
  {
   "cell_type": "code",
   "execution_count": 37,
   "outputs": [
    {
     "data": {
      "text/plain": "True"
     },
     "execution_count": 37,
     "metadata": {},
     "output_type": "execute_result"
    }
   ],
   "source": [
    "data_dedupe = data.drop_duplicates()\n",
    "data_dedupe.shape == data.shape"
   ],
   "metadata": {
    "collapsed": false,
    "pycharm": {
     "name": "#%%\n"
    }
   }
  },
  {
   "cell_type": "code",
   "metadata": {
    "id": "PV3KLBSVTMDN"
   },
   "source": [
    "for col in data.columns:\n",
    "    first_entry = data[col][0]\n",
    "    print(type(first_entry))"
   ],
   "execution_count": 38,
   "outputs": [
    {
     "name": "stdout",
     "output_type": "stream",
     "text": [
      "<class 'numpy.int64'>\n",
      "<class 'str'>\n",
      "<class 'str'>\n",
      "<class 'str'>\n",
      "<class 'str'>\n",
      "<class 'str'>\n"
     ]
    }
   ]
  },
  {
   "cell_type": "code",
   "execution_count": 39,
   "outputs": [
    {
     "name": "stdout",
     "output_type": "stream",
     "text": [
      "<class 'pandas.core.frame.DataFrame'>\n",
      "RangeIndex: 5391 entries, 0 to 5390\n",
      "Data columns (total 6 columns):\n",
      " #   Column                 Non-Null Count  Dtype \n",
      "---  ------                 --------------  ----- \n",
      " 0   Rank                   5391 non-null   int64 \n",
      " 1   Release_Date           5391 non-null   object\n",
      " 2   Movie_Title            5391 non-null   object\n",
      " 3   USD_Production_Budget  5391 non-null   object\n",
      " 4   USD_Worldwide_Gross    5391 non-null   object\n",
      " 5   USD_Domestic_Gross     5391 non-null   object\n",
      "dtypes: int64(1), object(5)\n",
      "memory usage: 252.8+ KB\n"
     ]
    }
   ],
   "source": [
    "data.info()"
   ],
   "metadata": {
    "collapsed": false,
    "pycharm": {
     "name": "#%%\n"
    }
   }
  },
  {
   "cell_type": "markdown",
   "metadata": {
    "id": "v8spadDNvpVG"
   },
   "source": [
    "### Data Type Conversions"
   ]
  },
  {
   "cell_type": "markdown",
   "metadata": {
    "id": "9F8KFST4ulrd"
   },
   "source": [
    "**Challenge**: Convert the `USD_Production_Budget`, `USD_Worldwide_Gross`, and `USD_Domestic_Gross` columns to a numeric format by removing `$` signs and `,`.\n",
    "\n",
    "Note that *domestic* in this context refers to the United States."
   ]
  },
  {
   "cell_type": "code",
   "metadata": {
    "id": "BmdCbLf-TPXk"
   },
   "source": [
    "for col in ['USD_Production_Budget', 'USD_Worldwide_Gross', 'USD_Domestic_Gross']:\n",
    "    data[col] = data[col].astype(str).str.replace(',', '')\n",
    "    data[col] = data[col].astype(str).str.replace('$', '')\n",
    "    data[col] = pd.to_numeric(data[col])"
   ],
   "execution_count": 40,
   "outputs": [
    {
     "name": "stderr",
     "output_type": "stream",
     "text": [
      "/Users/mymac/PycharmProjects/100DaysOfCode/venv/lib/python3.7/site-packages/ipykernel_launcher.py:3: FutureWarning: The default value of regex will change from True to False in a future version. In addition, single character regular expressions will *not* be treated as literal strings when regex=True.\n",
      "  This is separate from the ipykernel package so we can avoid doing imports until\n"
     ]
    }
   ]
  },
  {
   "cell_type": "markdown",
   "metadata": {
    "id": "cA01iJHkvWhl"
   },
   "source": [
    "**Challenge**: Convert the `Release_Date` column to a Pandas Datetime type. "
   ]
  },
  {
   "cell_type": "code",
   "metadata": {
    "id": "Pq1WfvRnTRU6"
   },
   "source": [
    "data['Release_Date'] = pd.to_datetime(data['Release_Date'])"
   ],
   "execution_count": 42,
   "outputs": []
  },
  {
   "cell_type": "markdown",
   "metadata": {
    "id": "NkwmJO3tvt5i"
   },
   "source": [
    "### Descriptive Statistics"
   ]
  },
  {
   "cell_type": "markdown",
   "metadata": {
    "id": "bnb54thrvx5r"
   },
   "source": [
    "**Challenge**: \n",
    "\n",
    "1. What is the average production budget of the films in the data set?\n",
    "2. What is the average worldwide gross revenue of films?\n",
    "3. What were the minimums for worldwide and domestic revenue?\n",
    "4. Are the bottom 25% of films actually profitable or do they lose money?\n",
    "5. What are the highest production budget and highest worldwide gross revenue of any film?\n",
    "6. How much revenue did the lowest and highest budget films make?"
   ]
  },
  {
   "cell_type": "code",
   "metadata": {
    "id": "8G5_FATFTTtb"
   },
   "source": [
    "# What is the average production budget of the films in the data set?\n",
    "\n",
    "mean_budget = data['USD_Production_Budget'].mean()\n",
    "'$' + '{:,.2f}'.format(mean_budget)"
   ],
   "execution_count": 58,
   "outputs": [
    {
     "data": {
      "text/plain": "'$31,113,737.58'"
     },
     "execution_count": 58,
     "metadata": {},
     "output_type": "execute_result"
    }
   ]
  },
  {
   "cell_type": "code",
   "execution_count": 59,
   "outputs": [
    {
     "data": {
      "text/plain": "'$88,855,421.96'"
     },
     "execution_count": 59,
     "metadata": {},
     "output_type": "execute_result"
    }
   ],
   "source": [
    "# What is the average worldwide gross revenue of films?\n",
    "mean_worldwide_revenue = data['USD_Worldwide_Gross'].mean()\n",
    "'$' + '{:,.2f}'.format(mean_worldwide_revenue)"
   ],
   "metadata": {
    "collapsed": false,
    "pycharm": {
     "name": "#%%\n"
    }
   }
  },
  {
   "cell_type": "code",
   "execution_count": 60,
   "outputs": [
    {
     "name": "stdout",
     "output_type": "stream",
     "text": [
      "$ 0.00\n",
      "$ 0.00\n"
     ]
    }
   ],
   "source": [
    "# What were the minimums for worldwide and domestic revenue?\n",
    "min_worldwide_revenue = data['USD_Worldwide_Gross'].min()\n",
    "print('$', '{:,.2f}'.format(min_worldwide_revenue))\n",
    "\n",
    "min_domestic_revenue = data['USD_Domestic_Gross'].min()\n",
    "print('$', '{:,.2f}'.format(min_domestic_revenue))"
   ],
   "metadata": {
    "collapsed": false,
    "pycharm": {
     "name": "#%%\n"
    }
   }
  },
  {
   "cell_type": "code",
   "execution_count": 68,
   "outputs": [
    {
     "name": "stdout",
     "output_type": "stream",
     "text": [
      "The 25th percentile movie is not profitable\n"
     ]
    },
    {
     "data": {
      "text/plain": "Rank                                                                  4671\nRelease_Date                                           2011-04-22 00:00:00\nMovie_Title              POM Wonderful Presents: The Greatest Movie Eve...\nUSD_Production_Budget                                              1800000\nUSD_Worldwide_Gross                                                 783733\nUSD_Domestic_Gross                                                  638476\nProfit                                                             -377791\nName: 1347, dtype: object"
     },
     "execution_count": 68,
     "metadata": {},
     "output_type": "execute_result"
    }
   ],
   "source": [
    "# Are the bottom 25% of films actually profitable or do they lose money?\n",
    "\n",
    "data['Profit'] = data['USD_Worldwide_Gross'] - data['USD_Production_Budget']\n",
    "\n",
    "profitability = data.sort_values('Profit').reset_index(drop=True)\n",
    "print('The 25th percentile movie is not profitable')\n",
    "\n",
    "quarter_percentile = len(data)//4\n",
    "profitability.loc[quarter_percentile]"
   ],
   "metadata": {
    "collapsed": false,
    "pycharm": {
     "name": "#%%\n"
    }
   }
  },
  {
   "cell_type": "code",
   "execution_count": 69,
   "outputs": [
    {
     "name": "stdout",
     "output_type": "stream",
     "text": [
      "$ 425,000,000.00\n",
      "$ 2,783,918,982.00\n"
     ]
    }
   ],
   "source": [
    "# What are the highest production budget and highest worldwide gross revenue of any film?\n",
    "max_budget = data['USD_Production_Budget'].max()\n",
    "print('$', '{:,.2f}'.format(max_budget))\n",
    "\n",
    "max_worldwide_revenue = data['USD_Worldwide_Gross'].max()\n",
    "print('$', '{:,.2f}'.format(max_worldwide_revenue))"
   ],
   "metadata": {
    "collapsed": false,
    "pycharm": {
     "name": "#%%\n"
    }
   }
  },
  {
   "cell_type": "code",
   "execution_count": 78,
   "outputs": [
    {
     "name": "stdout",
     "output_type": "stream",
     "text": [
      "Avatar cost $425,000,000.00 and made $2,783,918,982.00\n",
      "My Date With Drew cost $1,100.00 and made $181,041.00\n"
     ]
    }
   ],
   "source": [
    "# How much revenue did the lowest and highest budget films make?\n",
    "max_budget = data['USD_Production_Budget'].max()\n",
    "max_budget_idx = data['USD_Production_Budget'].idxmax()\n",
    "max_budget_name = data['Movie_Title'][max_budget_idx]\n",
    "rev_of_max_budget = data['USD_Worldwide_Gross'][max_budget_idx]\n",
    "print(f'{max_budget_name} cost ${\"{:,.2f}\".format(max_budget)} and made ${\"{:,.2f}\".format(rev_of_max_budget)}')\n",
    "\n",
    "min_budget = data['USD_Production_Budget'].min()\n",
    "min_budget_idx = data['USD_Production_Budget'].idxmin()\n",
    "min_budget_name = data['Movie_Title'][min_budget_idx]\n",
    "rev_of_min_budget = data['USD_Worldwide_Gross'][min_budget_idx]\n",
    "print(f'{min_budget_name} cost ${\"{:,.2f}\".format(min_budget)} and made ${\"{:,.2f}\".format(rev_of_min_budget)}')"
   ],
   "metadata": {
    "collapsed": false,
    "pycharm": {
     "name": "#%%\n"
    }
   }
  },
  {
   "cell_type": "markdown",
   "metadata": {
    "id": "Cj-ug32JyEhp"
   },
   "source": [
    "# Investigating the Zero Revenue Films"
   ]
  },
  {
   "cell_type": "markdown",
   "metadata": {
    "id": "U9hm-pb4xTjY"
   },
   "source": [
    "**Challenge** How many films grossed $0 domestically (i.e., in the United States)? What were the highest budget films that grossed nothing?"
   ]
  },
  {
   "cell_type": "code",
   "metadata": {
    "id": "MXuRYdy0TWkt"
   },
   "source": [
    "no_domestic_gross = data[data['USD_Domestic_Gross']==0]\n",
    "print(f'{len(no_domestic_gross)} films had $0 domestic gross')\n",
    "\n",
    "no_domestic_gross.sort_values('USD_Production_Budget', ascending=False)"
   ],
   "execution_count": 86,
   "outputs": [
    {
     "name": "stdout",
     "output_type": "stream",
     "text": [
      "512 films had $0 domestic gross\n"
     ]
    },
    {
     "data": {
      "text/plain": "      Rank Release_Date                         Movie_Title  \\\n5388    96   2020-12-31                         Singularity   \n5387   126   2018-12-18                             Aquaman   \n5384   321   2018-09-03                   A Wrinkle in Time   \n5385   366   2018-10-08                      Amusement Park   \n5090   556   2015-12-31  Don Gato, el inicio de la pandilla   \n...    ...          ...                                 ...   \n4787  5371   2014-12-31                Stories of Our Lives   \n3056  5374   2007-12-31                         Tin Can Man   \n4907  5381   2015-05-19                    Family Motocross   \n5006  5389   2015-09-29             Signed Sealed Delivered   \n5007  5390   2015-09-29                A Plague So Pleasant   \n\n      USD_Production_Budget  USD_Worldwide_Gross  USD_Domestic_Gross  \\\n5388              175000000                    0                   0   \n5387              160000000                    0                   0   \n5384              103000000                    0                   0   \n5385              100000000                    0                   0   \n5090               80000000              4547660                   0   \n...                     ...                  ...                 ...   \n4787                  15000                    0                   0   \n3056                  12000                    0                   0   \n4907                  10000                    0                   0   \n5006                   5000                    0                   0   \n5007                   1400                    0                   0   \n\n         Profit  \n5388 -175000000  \n5387 -160000000  \n5384 -103000000  \n5385 -100000000  \n5090  -75452340  \n...         ...  \n4787     -15000  \n3056     -12000  \n4907     -10000  \n5006      -5000  \n5007      -1400  \n\n[512 rows x 7 columns]",
      "text/html": "<div>\n<style scoped>\n    .dataframe tbody tr th:only-of-type {\n        vertical-align: middle;\n    }\n\n    .dataframe tbody tr th {\n        vertical-align: top;\n    }\n\n    .dataframe thead th {\n        text-align: right;\n    }\n</style>\n<table border=\"1\" class=\"dataframe\">\n  <thead>\n    <tr style=\"text-align: right;\">\n      <th></th>\n      <th>Rank</th>\n      <th>Release_Date</th>\n      <th>Movie_Title</th>\n      <th>USD_Production_Budget</th>\n      <th>USD_Worldwide_Gross</th>\n      <th>USD_Domestic_Gross</th>\n      <th>Profit</th>\n    </tr>\n  </thead>\n  <tbody>\n    <tr>\n      <th>5388</th>\n      <td>96</td>\n      <td>2020-12-31</td>\n      <td>Singularity</td>\n      <td>175000000</td>\n      <td>0</td>\n      <td>0</td>\n      <td>-175000000</td>\n    </tr>\n    <tr>\n      <th>5387</th>\n      <td>126</td>\n      <td>2018-12-18</td>\n      <td>Aquaman</td>\n      <td>160000000</td>\n      <td>0</td>\n      <td>0</td>\n      <td>-160000000</td>\n    </tr>\n    <tr>\n      <th>5384</th>\n      <td>321</td>\n      <td>2018-09-03</td>\n      <td>A Wrinkle in Time</td>\n      <td>103000000</td>\n      <td>0</td>\n      <td>0</td>\n      <td>-103000000</td>\n    </tr>\n    <tr>\n      <th>5385</th>\n      <td>366</td>\n      <td>2018-10-08</td>\n      <td>Amusement Park</td>\n      <td>100000000</td>\n      <td>0</td>\n      <td>0</td>\n      <td>-100000000</td>\n    </tr>\n    <tr>\n      <th>5090</th>\n      <td>556</td>\n      <td>2015-12-31</td>\n      <td>Don Gato, el inicio de la pandilla</td>\n      <td>80000000</td>\n      <td>4547660</td>\n      <td>0</td>\n      <td>-75452340</td>\n    </tr>\n    <tr>\n      <th>...</th>\n      <td>...</td>\n      <td>...</td>\n      <td>...</td>\n      <td>...</td>\n      <td>...</td>\n      <td>...</td>\n      <td>...</td>\n    </tr>\n    <tr>\n      <th>4787</th>\n      <td>5371</td>\n      <td>2014-12-31</td>\n      <td>Stories of Our Lives</td>\n      <td>15000</td>\n      <td>0</td>\n      <td>0</td>\n      <td>-15000</td>\n    </tr>\n    <tr>\n      <th>3056</th>\n      <td>5374</td>\n      <td>2007-12-31</td>\n      <td>Tin Can Man</td>\n      <td>12000</td>\n      <td>0</td>\n      <td>0</td>\n      <td>-12000</td>\n    </tr>\n    <tr>\n      <th>4907</th>\n      <td>5381</td>\n      <td>2015-05-19</td>\n      <td>Family Motocross</td>\n      <td>10000</td>\n      <td>0</td>\n      <td>0</td>\n      <td>-10000</td>\n    </tr>\n    <tr>\n      <th>5006</th>\n      <td>5389</td>\n      <td>2015-09-29</td>\n      <td>Signed Sealed Delivered</td>\n      <td>5000</td>\n      <td>0</td>\n      <td>0</td>\n      <td>-5000</td>\n    </tr>\n    <tr>\n      <th>5007</th>\n      <td>5390</td>\n      <td>2015-09-29</td>\n      <td>A Plague So Pleasant</td>\n      <td>1400</td>\n      <td>0</td>\n      <td>0</td>\n      <td>-1400</td>\n    </tr>\n  </tbody>\n</table>\n<p>512 rows × 7 columns</p>\n</div>"
     },
     "execution_count": 86,
     "metadata": {},
     "output_type": "execute_result"
    }
   ]
  },
  {
   "cell_type": "markdown",
   "metadata": {
    "id": "mY8SAwI0x73b"
   },
   "source": [
    "**Challenge**: How many films grossed $0 worldwide? What are the highest budget films that had no revenue internationally?"
   ]
  },
  {
   "cell_type": "code",
   "metadata": {
    "id": "VpfocexxTXym"
   },
   "source": [
    "no_world_gross = data[data['USD_Worldwide_Gross']==0]\n",
    "print(f'{len(no_world_gross)} films had $0 domestic gross')\n",
    "\n",
    "no_world_gross.sort_values('USD_Production_Budget', ascending=False)"
   ],
   "execution_count": 88,
   "outputs": [
    {
     "name": "stdout",
     "output_type": "stream",
     "text": [
      "357 films had $0 domestic gross\n"
     ]
    },
    {
     "data": {
      "text/plain": "      Rank Release_Date              Movie_Title  USD_Production_Budget  \\\n5388    96   2020-12-31              Singularity              175000000   \n5387   126   2018-12-18                  Aquaman              160000000   \n5384   321   2018-09-03        A Wrinkle in Time              103000000   \n5385   366   2018-10-08           Amusement Park              100000000   \n5058   880   2015-11-12         The Ridiculous 6               60000000   \n...    ...          ...                      ...                    ...   \n4787  5371   2014-12-31     Stories of Our Lives                  15000   \n3056  5374   2007-12-31              Tin Can Man                  12000   \n4907  5381   2015-05-19         Family Motocross                  10000   \n5006  5389   2015-09-29  Signed Sealed Delivered                   5000   \n5007  5390   2015-09-29     A Plague So Pleasant                   1400   \n\n      USD_Worldwide_Gross  USD_Domestic_Gross     Profit  \n5388                    0                   0 -175000000  \n5387                    0                   0 -160000000  \n5384                    0                   0 -103000000  \n5385                    0                   0 -100000000  \n5058                    0                   0  -60000000  \n...                   ...                 ...        ...  \n4787                    0                   0     -15000  \n3056                    0                   0     -12000  \n4907                    0                   0     -10000  \n5006                    0                   0      -5000  \n5007                    0                   0      -1400  \n\n[357 rows x 7 columns]",
      "text/html": "<div>\n<style scoped>\n    .dataframe tbody tr th:only-of-type {\n        vertical-align: middle;\n    }\n\n    .dataframe tbody tr th {\n        vertical-align: top;\n    }\n\n    .dataframe thead th {\n        text-align: right;\n    }\n</style>\n<table border=\"1\" class=\"dataframe\">\n  <thead>\n    <tr style=\"text-align: right;\">\n      <th></th>\n      <th>Rank</th>\n      <th>Release_Date</th>\n      <th>Movie_Title</th>\n      <th>USD_Production_Budget</th>\n      <th>USD_Worldwide_Gross</th>\n      <th>USD_Domestic_Gross</th>\n      <th>Profit</th>\n    </tr>\n  </thead>\n  <tbody>\n    <tr>\n      <th>5388</th>\n      <td>96</td>\n      <td>2020-12-31</td>\n      <td>Singularity</td>\n      <td>175000000</td>\n      <td>0</td>\n      <td>0</td>\n      <td>-175000000</td>\n    </tr>\n    <tr>\n      <th>5387</th>\n      <td>126</td>\n      <td>2018-12-18</td>\n      <td>Aquaman</td>\n      <td>160000000</td>\n      <td>0</td>\n      <td>0</td>\n      <td>-160000000</td>\n    </tr>\n    <tr>\n      <th>5384</th>\n      <td>321</td>\n      <td>2018-09-03</td>\n      <td>A Wrinkle in Time</td>\n      <td>103000000</td>\n      <td>0</td>\n      <td>0</td>\n      <td>-103000000</td>\n    </tr>\n    <tr>\n      <th>5385</th>\n      <td>366</td>\n      <td>2018-10-08</td>\n      <td>Amusement Park</td>\n      <td>100000000</td>\n      <td>0</td>\n      <td>0</td>\n      <td>-100000000</td>\n    </tr>\n    <tr>\n      <th>5058</th>\n      <td>880</td>\n      <td>2015-11-12</td>\n      <td>The Ridiculous 6</td>\n      <td>60000000</td>\n      <td>0</td>\n      <td>0</td>\n      <td>-60000000</td>\n    </tr>\n    <tr>\n      <th>...</th>\n      <td>...</td>\n      <td>...</td>\n      <td>...</td>\n      <td>...</td>\n      <td>...</td>\n      <td>...</td>\n      <td>...</td>\n    </tr>\n    <tr>\n      <th>4787</th>\n      <td>5371</td>\n      <td>2014-12-31</td>\n      <td>Stories of Our Lives</td>\n      <td>15000</td>\n      <td>0</td>\n      <td>0</td>\n      <td>-15000</td>\n    </tr>\n    <tr>\n      <th>3056</th>\n      <td>5374</td>\n      <td>2007-12-31</td>\n      <td>Tin Can Man</td>\n      <td>12000</td>\n      <td>0</td>\n      <td>0</td>\n      <td>-12000</td>\n    </tr>\n    <tr>\n      <th>4907</th>\n      <td>5381</td>\n      <td>2015-05-19</td>\n      <td>Family Motocross</td>\n      <td>10000</td>\n      <td>0</td>\n      <td>0</td>\n      <td>-10000</td>\n    </tr>\n    <tr>\n      <th>5006</th>\n      <td>5389</td>\n      <td>2015-09-29</td>\n      <td>Signed Sealed Delivered</td>\n      <td>5000</td>\n      <td>0</td>\n      <td>0</td>\n      <td>-5000</td>\n    </tr>\n    <tr>\n      <th>5007</th>\n      <td>5390</td>\n      <td>2015-09-29</td>\n      <td>A Plague So Pleasant</td>\n      <td>1400</td>\n      <td>0</td>\n      <td>0</td>\n      <td>-1400</td>\n    </tr>\n  </tbody>\n</table>\n<p>357 rows × 7 columns</p>\n</div>"
     },
     "execution_count": 88,
     "metadata": {},
     "output_type": "execute_result"
    }
   ]
  },
  {
   "cell_type": "markdown",
   "metadata": {
    "id": "eXUDzWpeyV2f"
   },
   "source": [
    "### Filtering on Multiple Conditions"
   ]
  },
  {
   "cell_type": "code",
   "metadata": {
    "id": "dLd3eeD9TZZ9"
   },
   "source": [
    "international_releases = data.loc[\n",
    "    (data.USD_Domestic_Gross == 0) &\n",
    "    (data.USD_Worldwide_Gross != 0)]\n",
    "international_releases"
   ],
   "execution_count": 91,
   "outputs": [
    {
     "data": {
      "text/plain": "      Rank Release_Date              Movie_Title  USD_Production_Budget  \\\n71    4310   1956-02-16                 Carousel                3380000   \n1579  5087   2001-02-11  Everything Put Together                 500000   \n1744  3695   2001-12-31                 The Hole                7500000   \n2155  4236   2003-12-31                  Nothing                4000000   \n2203  2513   2004-03-31                The Touch               20000000   \n...    ...          ...                      ...                    ...   \n5340  1506   2017-04-14      Queen of the Desert               36000000   \n5348  2225   2017-05-05        Chāi dàn zhuānjiā               23000000   \n5360  4832   2017-07-03                Departure                1100000   \n5372  1856   2017-08-25                Ballerina               30000000   \n5374  4237   2017-08-25     Polina danser sa vie                4000000   \n\n      USD_Worldwide_Gross  USD_Domestic_Gross    Profit  \n71                   3220                   0  -3376780  \n1579                 7890                   0   -492110  \n1744             10834406                   0   3334406  \n2155                63180                   0  -3936820  \n2203              5918742                   0 -14081258  \n...                   ...                 ...       ...  \n5340              1480089                   0 -34519911  \n5348             58807172                   0  35807172  \n5360                27561                   0  -1072439  \n5372             48048527                   0  18048527  \n5374                36630                   0  -3963370  \n\n[155 rows x 7 columns]",
      "text/html": "<div>\n<style scoped>\n    .dataframe tbody tr th:only-of-type {\n        vertical-align: middle;\n    }\n\n    .dataframe tbody tr th {\n        vertical-align: top;\n    }\n\n    .dataframe thead th {\n        text-align: right;\n    }\n</style>\n<table border=\"1\" class=\"dataframe\">\n  <thead>\n    <tr style=\"text-align: right;\">\n      <th></th>\n      <th>Rank</th>\n      <th>Release_Date</th>\n      <th>Movie_Title</th>\n      <th>USD_Production_Budget</th>\n      <th>USD_Worldwide_Gross</th>\n      <th>USD_Domestic_Gross</th>\n      <th>Profit</th>\n    </tr>\n  </thead>\n  <tbody>\n    <tr>\n      <th>71</th>\n      <td>4310</td>\n      <td>1956-02-16</td>\n      <td>Carousel</td>\n      <td>3380000</td>\n      <td>3220</td>\n      <td>0</td>\n      <td>-3376780</td>\n    </tr>\n    <tr>\n      <th>1579</th>\n      <td>5087</td>\n      <td>2001-02-11</td>\n      <td>Everything Put Together</td>\n      <td>500000</td>\n      <td>7890</td>\n      <td>0</td>\n      <td>-492110</td>\n    </tr>\n    <tr>\n      <th>1744</th>\n      <td>3695</td>\n      <td>2001-12-31</td>\n      <td>The Hole</td>\n      <td>7500000</td>\n      <td>10834406</td>\n      <td>0</td>\n      <td>3334406</td>\n    </tr>\n    <tr>\n      <th>2155</th>\n      <td>4236</td>\n      <td>2003-12-31</td>\n      <td>Nothing</td>\n      <td>4000000</td>\n      <td>63180</td>\n      <td>0</td>\n      <td>-3936820</td>\n    </tr>\n    <tr>\n      <th>2203</th>\n      <td>2513</td>\n      <td>2004-03-31</td>\n      <td>The Touch</td>\n      <td>20000000</td>\n      <td>5918742</td>\n      <td>0</td>\n      <td>-14081258</td>\n    </tr>\n    <tr>\n      <th>...</th>\n      <td>...</td>\n      <td>...</td>\n      <td>...</td>\n      <td>...</td>\n      <td>...</td>\n      <td>...</td>\n      <td>...</td>\n    </tr>\n    <tr>\n      <th>5340</th>\n      <td>1506</td>\n      <td>2017-04-14</td>\n      <td>Queen of the Desert</td>\n      <td>36000000</td>\n      <td>1480089</td>\n      <td>0</td>\n      <td>-34519911</td>\n    </tr>\n    <tr>\n      <th>5348</th>\n      <td>2225</td>\n      <td>2017-05-05</td>\n      <td>Chāi dàn zhuānjiā</td>\n      <td>23000000</td>\n      <td>58807172</td>\n      <td>0</td>\n      <td>35807172</td>\n    </tr>\n    <tr>\n      <th>5360</th>\n      <td>4832</td>\n      <td>2017-07-03</td>\n      <td>Departure</td>\n      <td>1100000</td>\n      <td>27561</td>\n      <td>0</td>\n      <td>-1072439</td>\n    </tr>\n    <tr>\n      <th>5372</th>\n      <td>1856</td>\n      <td>2017-08-25</td>\n      <td>Ballerina</td>\n      <td>30000000</td>\n      <td>48048527</td>\n      <td>0</td>\n      <td>18048527</td>\n    </tr>\n    <tr>\n      <th>5374</th>\n      <td>4237</td>\n      <td>2017-08-25</td>\n      <td>Polina danser sa vie</td>\n      <td>4000000</td>\n      <td>36630</td>\n      <td>0</td>\n      <td>-3963370</td>\n    </tr>\n  </tbody>\n</table>\n<p>155 rows × 7 columns</p>\n</div>"
     },
     "execution_count": 91,
     "metadata": {},
     "output_type": "execute_result"
    }
   ]
  },
  {
   "cell_type": "markdown",
   "metadata": {
    "id": "YruPjqLVPuiB"
   },
   "source": [
    "**Challenge**: Use the [`.query()` function](https://pandas.pydata.org/pandas-docs/stable/reference/api/pandas.DataFrame.query.html) to accomplish the same thing. Create a subset for international releases that had some worldwide gross revenue, but made zero revenue in the United States. \n",
    "\n",
    "Hint: This time you'll have to use the `and` keyword."
   ]
  },
  {
   "cell_type": "code",
   "metadata": {
    "id": "Xvu-jTCwTavg"
   },
   "source": [
    "data.query('USD_Domestic_Gross == 0 and USD_Worldwide_Gross != 0')"
   ],
   "execution_count": 90,
   "outputs": [
    {
     "data": {
      "text/plain": "      Rank Release_Date              Movie_Title  USD_Production_Budget  \\\n71    4310   1956-02-16                 Carousel                3380000   \n1579  5087   2001-02-11  Everything Put Together                 500000   \n1744  3695   2001-12-31                 The Hole                7500000   \n2155  4236   2003-12-31                  Nothing                4000000   \n2203  2513   2004-03-31                The Touch               20000000   \n...    ...          ...                      ...                    ...   \n5340  1506   2017-04-14      Queen of the Desert               36000000   \n5348  2225   2017-05-05        Chāi dàn zhuānjiā               23000000   \n5360  4832   2017-07-03                Departure                1100000   \n5372  1856   2017-08-25                Ballerina               30000000   \n5374  4237   2017-08-25     Polina danser sa vie                4000000   \n\n      USD_Worldwide_Gross  USD_Domestic_Gross    Profit  \n71                   3220                   0  -3376780  \n1579                 7890                   0   -492110  \n1744             10834406                   0   3334406  \n2155                63180                   0  -3936820  \n2203              5918742                   0 -14081258  \n...                   ...                 ...       ...  \n5340              1480089                   0 -34519911  \n5348             58807172                   0  35807172  \n5360                27561                   0  -1072439  \n5372             48048527                   0  18048527  \n5374                36630                   0  -3963370  \n\n[155 rows x 7 columns]",
      "text/html": "<div>\n<style scoped>\n    .dataframe tbody tr th:only-of-type {\n        vertical-align: middle;\n    }\n\n    .dataframe tbody tr th {\n        vertical-align: top;\n    }\n\n    .dataframe thead th {\n        text-align: right;\n    }\n</style>\n<table border=\"1\" class=\"dataframe\">\n  <thead>\n    <tr style=\"text-align: right;\">\n      <th></th>\n      <th>Rank</th>\n      <th>Release_Date</th>\n      <th>Movie_Title</th>\n      <th>USD_Production_Budget</th>\n      <th>USD_Worldwide_Gross</th>\n      <th>USD_Domestic_Gross</th>\n      <th>Profit</th>\n    </tr>\n  </thead>\n  <tbody>\n    <tr>\n      <th>71</th>\n      <td>4310</td>\n      <td>1956-02-16</td>\n      <td>Carousel</td>\n      <td>3380000</td>\n      <td>3220</td>\n      <td>0</td>\n      <td>-3376780</td>\n    </tr>\n    <tr>\n      <th>1579</th>\n      <td>5087</td>\n      <td>2001-02-11</td>\n      <td>Everything Put Together</td>\n      <td>500000</td>\n      <td>7890</td>\n      <td>0</td>\n      <td>-492110</td>\n    </tr>\n    <tr>\n      <th>1744</th>\n      <td>3695</td>\n      <td>2001-12-31</td>\n      <td>The Hole</td>\n      <td>7500000</td>\n      <td>10834406</td>\n      <td>0</td>\n      <td>3334406</td>\n    </tr>\n    <tr>\n      <th>2155</th>\n      <td>4236</td>\n      <td>2003-12-31</td>\n      <td>Nothing</td>\n      <td>4000000</td>\n      <td>63180</td>\n      <td>0</td>\n      <td>-3936820</td>\n    </tr>\n    <tr>\n      <th>2203</th>\n      <td>2513</td>\n      <td>2004-03-31</td>\n      <td>The Touch</td>\n      <td>20000000</td>\n      <td>5918742</td>\n      <td>0</td>\n      <td>-14081258</td>\n    </tr>\n    <tr>\n      <th>...</th>\n      <td>...</td>\n      <td>...</td>\n      <td>...</td>\n      <td>...</td>\n      <td>...</td>\n      <td>...</td>\n      <td>...</td>\n    </tr>\n    <tr>\n      <th>5340</th>\n      <td>1506</td>\n      <td>2017-04-14</td>\n      <td>Queen of the Desert</td>\n      <td>36000000</td>\n      <td>1480089</td>\n      <td>0</td>\n      <td>-34519911</td>\n    </tr>\n    <tr>\n      <th>5348</th>\n      <td>2225</td>\n      <td>2017-05-05</td>\n      <td>Chāi dàn zhuānjiā</td>\n      <td>23000000</td>\n      <td>58807172</td>\n      <td>0</td>\n      <td>35807172</td>\n    </tr>\n    <tr>\n      <th>5360</th>\n      <td>4832</td>\n      <td>2017-07-03</td>\n      <td>Departure</td>\n      <td>1100000</td>\n      <td>27561</td>\n      <td>0</td>\n      <td>-1072439</td>\n    </tr>\n    <tr>\n      <th>5372</th>\n      <td>1856</td>\n      <td>2017-08-25</td>\n      <td>Ballerina</td>\n      <td>30000000</td>\n      <td>48048527</td>\n      <td>0</td>\n      <td>18048527</td>\n    </tr>\n    <tr>\n      <th>5374</th>\n      <td>4237</td>\n      <td>2017-08-25</td>\n      <td>Polina danser sa vie</td>\n      <td>4000000</td>\n      <td>36630</td>\n      <td>0</td>\n      <td>-3963370</td>\n    </tr>\n  </tbody>\n</table>\n<p>155 rows × 7 columns</p>\n</div>"
     },
     "execution_count": 90,
     "metadata": {},
     "output_type": "execute_result"
    }
   ]
  },
  {
   "cell_type": "markdown",
   "metadata": {
    "id": "EM-FTE4OZhfr"
   },
   "source": [
    "### Unreleased Films\n",
    "\n",
    "**Challenge**:\n",
    "* Identify which films were not released yet as of the time of data collection (May 1st, 2018).\n",
    "* How many films are included in the dataset that have not yet had a chance to be screened in the box office? \n",
    "* Create another DataFrame called data_clean that does not include these films. "
   ]
  },
  {
   "cell_type": "code",
   "metadata": {
    "id": "PIukYVY9Zpxu"
   },
   "source": [
    "# Date of Data Collection\n",
    "scrape_date = pd.Timestamp('2018-5-1')\n",
    "data_clean = data[data['Release_Date']<scrape_date]\n",
    "\n",
    "not_released = data[data['Release_Date']>scrape_date]\n",
    "print(f'{len(not_released)} films were not yet released at the time of this scrape')\n",
    "not_released"
   ],
   "execution_count": 100,
   "outputs": [
    {
     "name": "stdout",
     "output_type": "stream",
     "text": [
      "7 films were not yet released at the time of this scrape\n"
     ]
    },
    {
     "data": {
      "text/plain": "      Rank Release_Date                       Movie_Title  \\\n0     5293   1915-08-02             The Birth of a Nation   \n1     5140   1916-05-09                       Intolerance   \n2     5230   1916-12-24      20,000 Leagues Under the Sea   \n3     5299   1920-09-17    Over the Hill to the Poorhouse   \n4     5222   1925-01-01                    The Big Parade   \n...    ...          ...                               ...   \n5379  1295   2017-10-02            John Wick: Chapter Two   \n5380    70   2017-10-03                Kong: Skull Island   \n5381    94   2017-12-05  King Arthur: Legend of the Sword   \n5382  1254   2017-12-05                          Snatched   \n5383  2521   2017-12-31                The Thousand Miles   \n\n      USD_Production_Budget  USD_Worldwide_Gross  USD_Domestic_Gross  \\\n0                    110000             11000000            10000000   \n1                    385907                    0                   0   \n2                    200000              8000000             8000000   \n3                    100000              3000000             3000000   \n4                    245000             22000000            11000000   \n...                     ...                  ...                 ...   \n5379               40000000            166893990            92029184   \n5380              185000000            561137727           168052812   \n5381              175000000            140012608            39175066   \n5382               42000000             57850343            45850343   \n5383               20000000                    0                   0   \n\n         Profit  \n0      20890000  \n1       -385907  \n2      15800000  \n3       5900000  \n4      32755000  \n...         ...  \n5379  218923174  \n5380  544190539  \n5381    4187674  \n5382   61700686  \n5383  -20000000  \n\n[5384 rows x 7 columns]",
      "text/html": "<div>\n<style scoped>\n    .dataframe tbody tr th:only-of-type {\n        vertical-align: middle;\n    }\n\n    .dataframe tbody tr th {\n        vertical-align: top;\n    }\n\n    .dataframe thead th {\n        text-align: right;\n    }\n</style>\n<table border=\"1\" class=\"dataframe\">\n  <thead>\n    <tr style=\"text-align: right;\">\n      <th></th>\n      <th>Rank</th>\n      <th>Release_Date</th>\n      <th>Movie_Title</th>\n      <th>USD_Production_Budget</th>\n      <th>USD_Worldwide_Gross</th>\n      <th>USD_Domestic_Gross</th>\n      <th>Profit</th>\n    </tr>\n  </thead>\n  <tbody>\n    <tr>\n      <th>0</th>\n      <td>5293</td>\n      <td>1915-08-02</td>\n      <td>The Birth of a Nation</td>\n      <td>110000</td>\n      <td>11000000</td>\n      <td>10000000</td>\n      <td>20890000</td>\n    </tr>\n    <tr>\n      <th>1</th>\n      <td>5140</td>\n      <td>1916-05-09</td>\n      <td>Intolerance</td>\n      <td>385907</td>\n      <td>0</td>\n      <td>0</td>\n      <td>-385907</td>\n    </tr>\n    <tr>\n      <th>2</th>\n      <td>5230</td>\n      <td>1916-12-24</td>\n      <td>20,000 Leagues Under the Sea</td>\n      <td>200000</td>\n      <td>8000000</td>\n      <td>8000000</td>\n      <td>15800000</td>\n    </tr>\n    <tr>\n      <th>3</th>\n      <td>5299</td>\n      <td>1920-09-17</td>\n      <td>Over the Hill to the Poorhouse</td>\n      <td>100000</td>\n      <td>3000000</td>\n      <td>3000000</td>\n      <td>5900000</td>\n    </tr>\n    <tr>\n      <th>4</th>\n      <td>5222</td>\n      <td>1925-01-01</td>\n      <td>The Big Parade</td>\n      <td>245000</td>\n      <td>22000000</td>\n      <td>11000000</td>\n      <td>32755000</td>\n    </tr>\n    <tr>\n      <th>...</th>\n      <td>...</td>\n      <td>...</td>\n      <td>...</td>\n      <td>...</td>\n      <td>...</td>\n      <td>...</td>\n      <td>...</td>\n    </tr>\n    <tr>\n      <th>5379</th>\n      <td>1295</td>\n      <td>2017-10-02</td>\n      <td>John Wick: Chapter Two</td>\n      <td>40000000</td>\n      <td>166893990</td>\n      <td>92029184</td>\n      <td>218923174</td>\n    </tr>\n    <tr>\n      <th>5380</th>\n      <td>70</td>\n      <td>2017-10-03</td>\n      <td>Kong: Skull Island</td>\n      <td>185000000</td>\n      <td>561137727</td>\n      <td>168052812</td>\n      <td>544190539</td>\n    </tr>\n    <tr>\n      <th>5381</th>\n      <td>94</td>\n      <td>2017-12-05</td>\n      <td>King Arthur: Legend of the Sword</td>\n      <td>175000000</td>\n      <td>140012608</td>\n      <td>39175066</td>\n      <td>4187674</td>\n    </tr>\n    <tr>\n      <th>5382</th>\n      <td>1254</td>\n      <td>2017-12-05</td>\n      <td>Snatched</td>\n      <td>42000000</td>\n      <td>57850343</td>\n      <td>45850343</td>\n      <td>61700686</td>\n    </tr>\n    <tr>\n      <th>5383</th>\n      <td>2521</td>\n      <td>2017-12-31</td>\n      <td>The Thousand Miles</td>\n      <td>20000000</td>\n      <td>0</td>\n      <td>0</td>\n      <td>-20000000</td>\n    </tr>\n  </tbody>\n</table>\n<p>5384 rows × 7 columns</p>\n</div>"
     },
     "execution_count": 100,
     "metadata": {},
     "output_type": "execute_result"
    }
   ]
  },
  {
   "cell_type": "markdown",
   "metadata": {
    "id": "khrJcXlGZWZO"
   },
   "source": [
    "### Films that Lost Money\n",
    "\n",
    "**Challenge**: \n",
    "What is the percentage of films where the production costs exceeded the worldwide gross revenue? "
   ]
  },
  {
   "cell_type": "code",
   "metadata": {
    "id": "7uW_U9StTgvZ"
   },
   "source": [
    "len(data_clean[data_clean['Profit']<0]) / len(data_clean)"
   ],
   "execution_count": 105,
   "outputs": [
    {
     "data": {
      "text/plain": "0.2810178306092125"
     },
     "execution_count": 105,
     "metadata": {},
     "output_type": "execute_result"
    }
   ]
  },
  {
   "cell_type": "markdown",
   "metadata": {
    "id": "cfJUL3WwyiDy"
   },
   "source": [
    "# Seaborn for Data Viz: Bubble Charts"
   ]
  },
  {
   "cell_type": "code",
   "metadata": {
    "id": "YXa3bp1uTiSS"
   },
   "source": [
    ""
   ],
   "execution_count": 41,
   "outputs": []
  },
  {
   "cell_type": "markdown",
   "metadata": {
    "id": "e7NIOiL2y3en"
   },
   "source": [
    "### Plotting Movie Releases over Time\n",
    "\n",
    "**Challenge**: Try to create the following Bubble Chart:\n",
    "\n",
    "<img src=https://i.imgur.com/8fUn9T6.png>\n",
    "\n"
   ]
  },
  {
   "cell_type": "code",
   "metadata": {
    "id": "OT0D-i3HTmsB"
   },
   "source": [
    ""
   ],
   "execution_count": 41,
   "outputs": []
  },
  {
   "cell_type": "markdown",
   "metadata": {
    "id": "r_2hFz9py84b"
   },
   "source": [
    "# Converting Years to Decades Trick\n",
    "\n",
    "**Challenge**: Create a column in `data_clean` that has the decade of the release. \n",
    "\n",
    "<img src=https://i.imgur.com/0VEfagw.png width=650> \n",
    "\n",
    "Here's how: \n",
    "1. Create a [`DatetimeIndex` object](https://pandas.pydata.org/pandas-docs/stable/reference/api/pandas.DatetimeIndex.html) from the Release_Date column. \n",
    "2. Grab all the years from the `DatetimeIndex` object using the `.year` property.\n",
    "<img src=https://i.imgur.com/5m06Ach.png width=650>\n",
    "3. Use floor division `//` to convert the year data to the decades of the films.\n",
    "4. Add the decades as a `Decade` column to the `data_clean` DataFrame."
   ]
  },
  {
   "cell_type": "code",
   "metadata": {
    "id": "lak08IPMTn-j"
   },
   "source": [
    ""
   ],
   "execution_count": 41,
   "outputs": []
  },
  {
   "cell_type": "markdown",
   "metadata": {
    "id": "q-X7NK_9zIz9"
   },
   "source": [
    "### Separate the \"old\" (before 1969) and \"New\" (1970s onwards) Films\n",
    "\n",
    "**Challenge**: Create two new DataFrames: `old_films` and `new_films`\n",
    "* `old_films` should include all the films before 1969 (up to and including 1969)\n",
    "* `new_films` should include all the films from 1970 onwards\n",
    "* How many films were released prior to 1970?\n",
    "* What was the most expensive film made prior to 1970?"
   ]
  },
  {
   "cell_type": "code",
   "metadata": {
    "id": "qe93nMcBTqQz"
   },
   "source": [
    ""
   ],
   "execution_count": 41,
   "outputs": []
  },
  {
   "cell_type": "markdown",
   "metadata": {
    "id": "msXABzF3zW7e"
   },
   "source": [
    "# Seaborn Regression Plots"
   ]
  },
  {
   "cell_type": "code",
   "metadata": {
    "id": "2ajPcWMJTsom"
   },
   "source": [
    ""
   ],
   "execution_count": 41,
   "outputs": []
  },
  {
   "cell_type": "markdown",
   "metadata": {
    "id": "6k4MeLmxWFwX"
   },
   "source": [
    "**Challenge**: Use Seaborn's `.regplot()` to show the scatter plot and linear regression line against the `new_films`. \n",
    "<br>\n",
    "<br>\n",
    "Style the chart\n",
    "\n",
    "* Put the chart on a `'darkgrid'`.\n",
    "* Set limits on the axes so that they don't show negative values.\n",
    "* Label the axes on the plot \"Revenue in \\$ billions\" and \"Budget in \\$ millions\".\n",
    "* Provide HEX colour codes for the plot and the regression line. Make the dots dark blue (#2f4b7c) and the line orange (#ff7c43).\n",
    "\n",
    "Interpret the chart\n",
    "\n",
    "* Do our data points for the new films align better or worse with the linear regression than for our older films?\n",
    "* Roughly how much would a film with a budget of $150 million make according to the regression line?"
   ]
  },
  {
   "cell_type": "code",
   "metadata": {
    "id": "6cOVsxqvTui2"
   },
   "source": [
    ""
   ],
   "execution_count": 41,
   "outputs": []
  },
  {
   "cell_type": "markdown",
   "metadata": {
    "id": "Q1SUPPMAzlVK"
   },
   "source": [
    "# Run Your Own Regression with scikit-learn\n",
    "\n",
    "$$ REV \\hat ENUE = \\theta _0 + \\theta _1 BUDGET$$"
   ]
  },
  {
   "cell_type": "code",
   "metadata": {
    "id": "QmX-wMMLTwBW"
   },
   "source": [
    ""
   ],
   "execution_count": 41,
   "outputs": []
  },
  {
   "cell_type": "markdown",
   "metadata": {
    "id": "o23E9iT1RHQ1"
   },
   "source": [
    "**Challenge**: Run a linear regression for the `old_films`. Calculate the intercept, slope and r-squared. How much of the variance in movie revenue does the linear model explain in this case?"
   ]
  },
  {
   "cell_type": "code",
   "metadata": {
    "id": "Sd43DJNDT0yQ"
   },
   "source": [
    ""
   ],
   "execution_count": 41,
   "outputs": []
  },
  {
   "cell_type": "code",
   "metadata": {
    "id": "ygKsLBx5Rs7t"
   },
   "source": [
    ""
   ],
   "execution_count": 41,
   "outputs": []
  },
  {
   "cell_type": "markdown",
   "metadata": {
    "id": "hoD3PeG75p78"
   },
   "source": [
    "# Use Your Model to Make a Prediction\n",
    "\n",
    "We just estimated the slope and intercept! Remember that our Linear Model has the following form:\n",
    "\n",
    "$$ REV \\hat ENUE = \\theta _0 + \\theta _1 BUDGET$$\n",
    "\n",
    "**Challenge**:  How much global revenue does our model estimate for a film with a budget of $350 million? "
   ]
  },
  {
   "cell_type": "code",
   "metadata": {
    "id": "fX4I4h5i5rgF"
   },
   "source": [
    ""
   ],
   "execution_count": 41,
   "outputs": []
  },
  {
   "cell_type": "code",
   "metadata": {
    "id": "fB2Yp8ln5qfO"
   },
   "source": [
    ""
   ],
   "execution_count": 41,
   "outputs": []
  }
 ]
}