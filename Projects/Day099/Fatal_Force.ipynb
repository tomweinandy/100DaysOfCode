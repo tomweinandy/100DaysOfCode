{
 "nbformat": 4,
 "nbformat_minor": 0,
 "metadata": {
  "kernelspec": {
   "display_name": "Python 3",
   "language": "python",
   "name": "python3"
  },
  "language_info": {
   "codemirror_mode": {
    "name": "ipython",
    "version": 3
   },
   "file_extension": ".py",
   "mimetype": "text/x-python",
   "name": "python",
   "nbconvert_exporter": "python",
   "pygments_lexer": "ipython3",
   "version": "3.7.9"
  },
  "colab": {
   "name": "Fatal Force (start).ipynb",
   "provenance": []
  }
 },
 "cells": [
  {
   "cell_type": "markdown",
   "metadata": {
    "id": "0KrR-Qd_wXf-"
   },
   "source": [
    "# Introduction"
   ]
  },
  {
   "cell_type": "markdown",
   "metadata": {
    "id": "I6e2m4XsuRoL"
   },
   "source": [
    "Since Jan. 1, 2015, [The Washington Post](https://www.washingtonpost.com/) has been compiling a database of every fatal shooting in the US by a police officer in the line of duty. \n",
    "\n",
    "<center><img src=https://i.imgur.com/sX3K62b.png></center>\n",
    "\n",
    "While there are many challenges regarding data collection and reporting, The Washington Post has been tracking more than a dozen details about each killing. This includes the race, age and gender of the deceased, whether the person was armed, and whether the victim was experiencing a mental-health crisis. The Washington Post has gathered this supplemental information from law enforcement websites, local new reports, social media, and by monitoring independent databases such as \"Killed by police\" and \"Fatal Encounters\". The Post has also conducted additional reporting in many cases.\n",
    "\n",
    "There are 4 additional datasets: US census data on poverty rate, high school graduation rate, median household income, and racial demographics. [Source of census data](https://factfinder.census.gov/faces/nav/jsf/pages/community_facts.xhtml)."
   ]
  },
  {
   "cell_type": "markdown",
   "metadata": {
    "id": "jqXsMLNJxELp"
   },
   "source": [
    "## Import Statements"
   ]
  },
  {
   "cell_type": "code",
   "metadata": {
    "id": "TPhEXC2FxGSr"
   },
   "source": [
    "import numpy as np\n",
    "import pandas as pd\n",
    "import plotly.express as px\n",
    "import matplotlib.pyplot as plt\n",
    "import seaborn as sns\n",
    "\n",
    "# This might be helpful:\n",
    "from collections import Counter"
   ],
   "execution_count": 201,
   "outputs": []
  },
  {
   "cell_type": "markdown",
   "metadata": {
    "id": "SwKGmmaLxS2s"
   },
   "source": [
    "## Notebook Presentation"
   ]
  },
  {
   "cell_type": "code",
   "metadata": {
    "id": "ayQQqhKtxBxj"
   },
   "source": [
    "pd.options.display.float_format = '{:,.2f}'.format"
   ],
   "execution_count": 202,
   "outputs": []
  },
  {
   "cell_type": "markdown",
   "metadata": {
    "id": "nKxJMOiMyAUF"
   },
   "source": [
    "## Load the Data"
   ]
  },
  {
   "cell_type": "code",
   "metadata": {
    "_cell_guid": "abb0685f-f844-43f8-84c0-4cd54361c7bf",
    "_uuid": "9c06ed7c41db79ae9d940f2d52aeff23621b3037",
    "id": "8KmGeg6ouRoP"
   },
   "source": [
    "df_hh_income = pd.read_csv('Median_Household_Income_2015.csv', encoding=\"windows-1252\")\n",
    "df_pct_poverty = pd.read_csv('Pct_People_Below_Poverty_Level.csv', encoding=\"windows-1252\")\n",
    "df_pct_completed_hs = pd.read_csv('Pct_Over_25_Completed_High_School.csv', encoding=\"windows-1252\")\n",
    "df_share_race_city = pd.read_csv('Share_of_Race_By_City.csv', encoding=\"windows-1252\")\n",
    "df_fatalities = pd.read_csv('Deaths_by_Police_US.csv', encoding=\"windows-1252\")"
   ],
   "execution_count": 203,
   "outputs": []
  },
  {
   "cell_type": "markdown",
   "metadata": {
    "id": "6RuA5SvUyEaB"
   },
   "source": [
    "# Preliminary Data Exploration\n",
    "\n",
    "* What is the shape of the DataFrames? \n",
    "* How many rows and columns do they have?\n",
    "* What are the column names?\n",
    "* Are there any NaN values or duplicates?"
   ]
  },
  {
   "cell_type": "code",
   "metadata": {
    "id": "3U9RcS1WyrRJ"
   },
   "source": [
    "print('Household income shape:', df_hh_income.shape)\n",
    "print('Poverty share shape:', df_pct_poverty.shape)\n",
    "print('High school graduation shape:', df_pct_completed_hs.shape)\n",
    "print('Racial distribution shape:', df_share_race_city.shape)\n",
    "print('Fatalities shape:', df_fatalities.shape)"
   ],
   "execution_count": 204,
   "outputs": [
    {
     "name": "stdout",
     "output_type": "stream",
     "text": [
      "Household income shape: (29322, 3)\n",
      "Poverty share shape: (29329, 3)\n",
      "High school graduation shape: (29329, 3)\n",
      "Racial distribution shape: (29268, 7)\n",
      "Fatalities shape: (2535, 14)\n"
     ]
    }
   ]
  },
  {
   "cell_type": "code",
   "metadata": {
    "id": "DmIARadGyrgs"
   },
   "source": [
    "print('Household income columns:', df_hh_income.columns)\n",
    "print('Poverty share columns:', df_pct_poverty.columns)\n",
    "print('High school graduation columns:', df_pct_completed_hs.columns)\n",
    "print('Racial distribution columns:', df_share_race_city.columns)\n",
    "print('Fatalities columns:', df_fatalities.columns)"
   ],
   "execution_count": 205,
   "outputs": [
    {
     "name": "stdout",
     "output_type": "stream",
     "text": [
      "Household income columns: Index(['Geographic Area', 'City', 'Median Income'], dtype='object')\n",
      "Poverty share columns: Index(['Geographic Area', 'City', 'poverty_rate'], dtype='object')\n",
      "High school graduation columns: Index(['Geographic Area', 'City', 'percent_completed_hs'], dtype='object')\n",
      "Racial distribution columns: Index(['Geographic area', 'City', 'share_white', 'share_black',\n",
      "       'share_native_american', 'share_asian', 'share_hispanic'],\n",
      "      dtype='object')\n",
      "Fatalities columns: Index(['id', 'name', 'date', 'manner_of_death', 'armed', 'age', 'gender',\n",
      "       'race', 'city', 'state', 'signs_of_mental_illness', 'threat_level',\n",
      "       'flee', 'body_camera'],\n",
      "      dtype='object')\n"
     ]
    }
   ]
  },
  {
   "cell_type": "code",
   "metadata": {
    "id": "OSgTJoX7yrcS"
   },
   "source": [
    "print('Household income NA values:', df_hh_income.isna().sum())\n",
    "print('\\nPoverty share NA values:', df_pct_poverty.isna().sum())\n",
    "print('\\nHigh school graduation NA values:', df_pct_completed_hs.isna().sum())\n",
    "print('\\nRacial distribution NA values:', df_share_race_city.isna().sum())\n",
    "print('\\nFatalities NA values:', df_fatalities.isna().sum())"
   ],
   "execution_count": 206,
   "outputs": [
    {
     "name": "stdout",
     "output_type": "stream",
     "text": [
      "Household income NA values: Geographic Area     0\n",
      "City                0\n",
      "Median Income      51\n",
      "dtype: int64\n",
      "\n",
      "Poverty share NA values: Geographic Area    0\n",
      "City               0\n",
      "poverty_rate       0\n",
      "dtype: int64\n",
      "\n",
      "High school graduation NA values: Geographic Area         0\n",
      "City                    0\n",
      "percent_completed_hs    0\n",
      "dtype: int64\n",
      "\n",
      "Racial distribution NA values: Geographic area          0\n",
      "City                     0\n",
      "share_white              0\n",
      "share_black              0\n",
      "share_native_american    0\n",
      "share_asian              0\n",
      "share_hispanic           0\n",
      "dtype: int64\n",
      "\n",
      "Fatalities NA values: id                           0\n",
      "name                         0\n",
      "date                         0\n",
      "manner_of_death              0\n",
      "armed                        9\n",
      "age                         77\n",
      "gender                       0\n",
      "race                       195\n",
      "city                         0\n",
      "state                        0\n",
      "signs_of_mental_illness      0\n",
      "threat_level                 0\n",
      "flee                        65\n",
      "body_camera                  0\n",
      "dtype: int64\n"
     ]
    }
   ]
  },
  {
   "cell_type": "code",
   "execution_count": 207,
   "outputs": [
    {
     "name": "stdout",
     "output_type": "stream",
     "text": [
      "Household income duplicates: 0\n",
      "Poverty share duplicates: 0\n",
      "High school graduation duplicates: 0\n",
      "Racial distribution duplicates: 0\n",
      "Fatalities duplicates: 0\n"
     ]
    }
   ],
   "source": [
    "print('Household income duplicates:', df_hh_income.duplicated().sum())\n",
    "print('Poverty share duplicates:', df_pct_poverty.duplicated().sum())\n",
    "print('High school graduation duplicates:', df_pct_completed_hs.duplicated().sum())\n",
    "print('Racial distribution duplicates:', df_share_race_city.duplicated().sum())\n",
    "print('Fatalities duplicates:', df_fatalities.duplicated().sum())"
   ],
   "metadata": {
    "collapsed": false,
    "pycharm": {
     "name": "#%%\n"
    }
   }
  },
  {
   "cell_type": "markdown",
   "source": [
    "# Merge Datasets"
   ],
   "metadata": {
    "collapsed": false
   }
  },
  {
   "cell_type": "code",
   "execution_count": 208,
   "outputs": [
    {
     "name": "stdout",
     "output_type": "stream",
     "text": [
      "Length of dataframes before merges: 29329 29322 29268 29329\n",
      "Length of dataframe after merges: 29477\n"
     ]
    }
   ],
   "source": [
    "df_demographics = df_pct_poverty.merge(df_hh_income, how='outer', on=['City', 'Geographic Area'])\n",
    "df_demographics = df_demographics.merge(df_share_race_city, how='outer', left_on=['City', 'Geographic Area'], right_on=['City', 'Geographic area'])\n",
    "df_demographics = df_demographics.merge(df_pct_completed_hs, how='outer', on=['City', 'Geographic Area'])\n",
    "\n",
    "len1, len2, len3, len4, len5 = len(df_pct_poverty), len(df_hh_income), len(df_share_race_city), len(df_pct_completed_hs), len(df_demographics)\n",
    "print('Length of dataframes before merges:', len1, len2, len3, len4)\n",
    "print('Length of dataframe after merges:', len5)"
   ],
   "metadata": {
    "collapsed": false,
    "pycharm": {
     "name": "#%%\n"
    }
   }
  },
  {
   "cell_type": "markdown",
   "metadata": {
    "id": "p72TfMvayr2C"
   },
   "source": [
    "## Data Cleaning - Check for Missing Values and Duplicates\n",
    "\n",
    "Consider how to deal with the NaN values. Perhaps substituting 0 is appropriate. "
   ]
  },
  {
   "cell_type": "code",
   "execution_count": 209,
   "outputs": [
    {
     "data": {
      "text/plain": "  Geographic Area                 City poverty_rate Median Income  \\\n0              AL           Abanda CDP         78.8         11207   \n1              AL       Abbeville city         29.1         25615   \n2              AL      Adamsville city         25.5         42575   \n3              AL         Addison town         30.7         37083   \n4              AL           Akron town           42         21667   \n5              AL       Alabaster city         11.2         71816   \n6              AL     Albertville city         26.7         32911   \n7              AL  Alexander City city         30.4         29874   \n8              AL       Alexandria CDP          9.7         56058   \n9              AL      Aliceville city         41.3         21131   \n\n  Geographic area share_white share_black share_native_american share_asian  \\\n0              AL        67.2        30.2                     0           0   \n1              AL        54.4        41.4                   0.1           1   \n2              AL        52.3        44.9                   0.5         0.3   \n3              AL        99.1         0.1                     0         0.1   \n4              AL        13.2        86.5                     0           0   \n5              AL        79.4        13.5                   0.4         0.9   \n6              AL        75.9         1.9                   0.8         0.5   \n7              AL        62.2          32                   0.2         0.9   \n8              AL        87.4        10.2                   0.3         0.5   \n9              AL        22.6        74.9                   0.1           0   \n\n  share_hispanic percent_completed_hs  \n0            1.6                 21.2  \n1            3.1                 69.1  \n2            2.3                 78.9  \n3            0.4                 81.4  \n4            0.3                 68.6  \n5              9                 89.3  \n6           27.9                 72.7  \n7            4.8                 78.1  \n8            0.9                 88.8  \n9            1.2                 74.3  ",
      "text/html": "<div>\n<style scoped>\n    .dataframe tbody tr th:only-of-type {\n        vertical-align: middle;\n    }\n\n    .dataframe tbody tr th {\n        vertical-align: top;\n    }\n\n    .dataframe thead th {\n        text-align: right;\n    }\n</style>\n<table border=\"1\" class=\"dataframe\">\n  <thead>\n    <tr style=\"text-align: right;\">\n      <th></th>\n      <th>Geographic Area</th>\n      <th>City</th>\n      <th>poverty_rate</th>\n      <th>Median Income</th>\n      <th>Geographic area</th>\n      <th>share_white</th>\n      <th>share_black</th>\n      <th>share_native_american</th>\n      <th>share_asian</th>\n      <th>share_hispanic</th>\n      <th>percent_completed_hs</th>\n    </tr>\n  </thead>\n  <tbody>\n    <tr>\n      <th>0</th>\n      <td>AL</td>\n      <td>Abanda CDP</td>\n      <td>78.8</td>\n      <td>11207</td>\n      <td>AL</td>\n      <td>67.2</td>\n      <td>30.2</td>\n      <td>0</td>\n      <td>0</td>\n      <td>1.6</td>\n      <td>21.2</td>\n    </tr>\n    <tr>\n      <th>1</th>\n      <td>AL</td>\n      <td>Abbeville city</td>\n      <td>29.1</td>\n      <td>25615</td>\n      <td>AL</td>\n      <td>54.4</td>\n      <td>41.4</td>\n      <td>0.1</td>\n      <td>1</td>\n      <td>3.1</td>\n      <td>69.1</td>\n    </tr>\n    <tr>\n      <th>2</th>\n      <td>AL</td>\n      <td>Adamsville city</td>\n      <td>25.5</td>\n      <td>42575</td>\n      <td>AL</td>\n      <td>52.3</td>\n      <td>44.9</td>\n      <td>0.5</td>\n      <td>0.3</td>\n      <td>2.3</td>\n      <td>78.9</td>\n    </tr>\n    <tr>\n      <th>3</th>\n      <td>AL</td>\n      <td>Addison town</td>\n      <td>30.7</td>\n      <td>37083</td>\n      <td>AL</td>\n      <td>99.1</td>\n      <td>0.1</td>\n      <td>0</td>\n      <td>0.1</td>\n      <td>0.4</td>\n      <td>81.4</td>\n    </tr>\n    <tr>\n      <th>4</th>\n      <td>AL</td>\n      <td>Akron town</td>\n      <td>42</td>\n      <td>21667</td>\n      <td>AL</td>\n      <td>13.2</td>\n      <td>86.5</td>\n      <td>0</td>\n      <td>0</td>\n      <td>0.3</td>\n      <td>68.6</td>\n    </tr>\n    <tr>\n      <th>5</th>\n      <td>AL</td>\n      <td>Alabaster city</td>\n      <td>11.2</td>\n      <td>71816</td>\n      <td>AL</td>\n      <td>79.4</td>\n      <td>13.5</td>\n      <td>0.4</td>\n      <td>0.9</td>\n      <td>9</td>\n      <td>89.3</td>\n    </tr>\n    <tr>\n      <th>6</th>\n      <td>AL</td>\n      <td>Albertville city</td>\n      <td>26.7</td>\n      <td>32911</td>\n      <td>AL</td>\n      <td>75.9</td>\n      <td>1.9</td>\n      <td>0.8</td>\n      <td>0.5</td>\n      <td>27.9</td>\n      <td>72.7</td>\n    </tr>\n    <tr>\n      <th>7</th>\n      <td>AL</td>\n      <td>Alexander City city</td>\n      <td>30.4</td>\n      <td>29874</td>\n      <td>AL</td>\n      <td>62.2</td>\n      <td>32</td>\n      <td>0.2</td>\n      <td>0.9</td>\n      <td>4.8</td>\n      <td>78.1</td>\n    </tr>\n    <tr>\n      <th>8</th>\n      <td>AL</td>\n      <td>Alexandria CDP</td>\n      <td>9.7</td>\n      <td>56058</td>\n      <td>AL</td>\n      <td>87.4</td>\n      <td>10.2</td>\n      <td>0.3</td>\n      <td>0.5</td>\n      <td>0.9</td>\n      <td>88.8</td>\n    </tr>\n    <tr>\n      <th>9</th>\n      <td>AL</td>\n      <td>Aliceville city</td>\n      <td>41.3</td>\n      <td>21131</td>\n      <td>AL</td>\n      <td>22.6</td>\n      <td>74.9</td>\n      <td>0.1</td>\n      <td>0</td>\n      <td>1.2</td>\n      <td>74.3</td>\n    </tr>\n  </tbody>\n</table>\n</div>"
     },
     "execution_count": 209,
     "metadata": {},
     "output_type": "execute_result"
    }
   ],
   "source": [
    "# Not sure why the City column is like that\n",
    "df_demographics.head(10)"
   ],
   "metadata": {
    "collapsed": false,
    "pycharm": {
     "name": "#%%\n"
    }
   }
  },
  {
   "cell_type": "code",
   "execution_count": 210,
   "outputs": [
    {
     "data": {
      "text/plain": "  Geographic Area             City poverty_rate Median Income Geographic area  \\\n0              AL       Abanda CDP         78.8         11207              AL   \n1              AL   Abbeville city         29.1         25615              AL   \n2              AL  Adamsville city         25.5         42575              AL   \n3              AL     Addison town         30.7         37083              AL   \n4              AL       Akron town           42         21667              AL   \n\n  share_white share_black share_native_american share_asian share_hispanic  \\\n0        67.2        30.2                     0           0            1.6   \n1        54.4        41.4                   0.1           1            3.1   \n2        52.3        44.9                   0.5         0.3            2.3   \n3        99.1         0.1                     0         0.1            0.4   \n4        13.2        86.5                     0           0            0.3   \n\n  percent_completed_hs Trimmed City  \n0                 21.2       Abanda  \n1                 69.1    Abbeville  \n2                 78.9   Adamsville  \n3                 81.4      Addison  \n4                 68.6        Akron  ",
      "text/html": "<div>\n<style scoped>\n    .dataframe tbody tr th:only-of-type {\n        vertical-align: middle;\n    }\n\n    .dataframe tbody tr th {\n        vertical-align: top;\n    }\n\n    .dataframe thead th {\n        text-align: right;\n    }\n</style>\n<table border=\"1\" class=\"dataframe\">\n  <thead>\n    <tr style=\"text-align: right;\">\n      <th></th>\n      <th>Geographic Area</th>\n      <th>City</th>\n      <th>poverty_rate</th>\n      <th>Median Income</th>\n      <th>Geographic area</th>\n      <th>share_white</th>\n      <th>share_black</th>\n      <th>share_native_american</th>\n      <th>share_asian</th>\n      <th>share_hispanic</th>\n      <th>percent_completed_hs</th>\n      <th>Trimmed City</th>\n    </tr>\n  </thead>\n  <tbody>\n    <tr>\n      <th>0</th>\n      <td>AL</td>\n      <td>Abanda CDP</td>\n      <td>78.8</td>\n      <td>11207</td>\n      <td>AL</td>\n      <td>67.2</td>\n      <td>30.2</td>\n      <td>0</td>\n      <td>0</td>\n      <td>1.6</td>\n      <td>21.2</td>\n      <td>Abanda</td>\n    </tr>\n    <tr>\n      <th>1</th>\n      <td>AL</td>\n      <td>Abbeville city</td>\n      <td>29.1</td>\n      <td>25615</td>\n      <td>AL</td>\n      <td>54.4</td>\n      <td>41.4</td>\n      <td>0.1</td>\n      <td>1</td>\n      <td>3.1</td>\n      <td>69.1</td>\n      <td>Abbeville</td>\n    </tr>\n    <tr>\n      <th>2</th>\n      <td>AL</td>\n      <td>Adamsville city</td>\n      <td>25.5</td>\n      <td>42575</td>\n      <td>AL</td>\n      <td>52.3</td>\n      <td>44.9</td>\n      <td>0.5</td>\n      <td>0.3</td>\n      <td>2.3</td>\n      <td>78.9</td>\n      <td>Adamsville</td>\n    </tr>\n    <tr>\n      <th>3</th>\n      <td>AL</td>\n      <td>Addison town</td>\n      <td>30.7</td>\n      <td>37083</td>\n      <td>AL</td>\n      <td>99.1</td>\n      <td>0.1</td>\n      <td>0</td>\n      <td>0.1</td>\n      <td>0.4</td>\n      <td>81.4</td>\n      <td>Addison</td>\n    </tr>\n    <tr>\n      <th>4</th>\n      <td>AL</td>\n      <td>Akron town</td>\n      <td>42</td>\n      <td>21667</td>\n      <td>AL</td>\n      <td>13.2</td>\n      <td>86.5</td>\n      <td>0</td>\n      <td>0</td>\n      <td>0.3</td>\n      <td>68.6</td>\n      <td>Akron</td>\n    </tr>\n  </tbody>\n</table>\n</div>"
     },
     "execution_count": 210,
     "metadata": {},
     "output_type": "execute_result"
    }
   ],
   "source": [
    "# Add 'city' to Carson City so name is preserved in next step\n",
    "for idx, row in df_demographics.iterrows():\n",
    "    if row['City'] == 'Carson City':\n",
    "        row['City'] = 'Carson City drop_this_string'\n",
    "\n",
    "# Clean City column\n",
    "#   Note: There are edge cases in the column that still need to be cleaned; however, I ignore these since they are dropped after the merge\n",
    "trimmed_city = [' '.join(city.split(' ')[:-1]) for city in df_demographics['City']]\n",
    "df_demographics['Trimmed City'] = trimmed_city\n",
    "df_demographics.head()"
   ],
   "metadata": {
    "collapsed": false,
    "pycharm": {
     "name": "#%%\n"
    }
   }
  },
  {
   "cell_type": "code",
   "metadata": {
    "id": "550aSczryx01"
   },
   "source": [
    "# Merge fatalities and income datasets\n",
    "df = df_fatalities.merge(df_demographics, how='left', left_on=['city', 'state'], right_on=['Trimmed City', 'Geographic Area'], )\n",
    "df = df.drop(columns=['id', 'Geographic Area', 'Geographic area', 'City', 'Trimmed City'])\n",
    "df = df.rename(columns={'Median Income': 'median_income'})"
   ],
   "execution_count": 211,
   "outputs": []
  },
  {
   "cell_type": "code",
   "execution_count": 212,
   "outputs": [
    {
     "name": "stdout",
     "output_type": "stream",
     "text": [
      "name 0\n",
      "date 0\n",
      "manner_of_death 0\n",
      "armed 9\n",
      "age 78\n",
      "gender 0\n",
      "race 196\n",
      "city 0\n",
      "state 0\n",
      "signs_of_mental_illness 0\n",
      "threat_level 0\n",
      "flee 65\n",
      "body_camera 0\n",
      "poverty_rate 289\n",
      "median_income 303\n",
      "share_white 291\n",
      "share_black 291\n",
      "share_native_american 291\n",
      "share_asian 291\n",
      "share_hispanic 291\n",
      "percent_completed_hs 289\n"
     ]
    }
   ],
   "source": [
    "for col in df.columns:\n",
    "    print(col, (df[col].isna().sum()))"
   ],
   "metadata": {
    "collapsed": false,
    "pycharm": {
     "name": "#%%\n"
    }
   }
  },
  {
   "cell_type": "code",
   "execution_count": 213,
   "outputs": [],
   "source": [
    "# Convert column of strings (with NaN and '(X)' values) to integers.\n",
    "income_str_list = df['median_income']\n",
    "income_list = []\n",
    "for income in income_str_list:\n",
    "    try:\n",
    "        income_int = int(income)\n",
    "    except ValueError:\n",
    "        income_int = np.nan\n",
    "    income_list.append(income_int)\n",
    "\n",
    "# Impute missing values with median income\n",
    "df['median_income'] = income_list\n",
    "median_income = df['median_income'].median()\n",
    "df['median_income'] = df['median_income'].fillna(median_income)"
   ],
   "metadata": {
    "collapsed": false,
    "pycharm": {
     "name": "#%%\n"
    }
   }
  },
  {
   "cell_type": "code",
   "execution_count": 214,
   "outputs": [],
   "source": [
    "# Cast string columns as floats\n",
    "df['poverty_rate'] = [float(i) for i in df['poverty_rate']]\n",
    "df['share_white'] = [float(i) for i in df['share_white']]\n",
    "df['share_black'] = [float(i) for i in df['share_black']]\n",
    "df['share_native_american'] = [float(i) for i in df['share_native_american']]\n",
    "df['share_asian'] = [float(i) for i in df['share_asian']]\n",
    "df['share_hispanic'] = [float(i) for i in df['share_hispanic']]\n",
    "df['percent_completed_hs'] = [float(i) for i in df['percent_completed_hs']]\n",
    "\n",
    "# While at it, fill NaN in continuous variables with median value\n",
    "df['age'] = df['age'].fillna(df['age'].median())\n",
    "df['poverty_rate'] = df['poverty_rate'].fillna(df['poverty_rate'].median())\n",
    "df['share_white'] = df['share_white'].fillna(df['share_white'].median())\n",
    "df['share_black'] = df['share_black'].fillna(df['share_black'].median())\n",
    "df['share_native_american'] = df['share_native_american'].fillna(df['share_native_american'].median())\n",
    "df['share_asian'] = df['share_asian'].fillna(df['share_asian'].median())\n",
    "df['share_hispanic'] = df['share_hispanic'].fillna(df['share_hispanic'].median())\n",
    "df['percent_completed_hs'] = df['percent_completed_hs'].fillna(df['percent_completed_hs'].median())"
   ],
   "metadata": {
    "collapsed": false,
    "pycharm": {
     "name": "#%%\n"
    }
   }
  },
  {
   "cell_type": "code",
   "execution_count": 218,
   "outputs": [
    {
     "data": {
      "text/plain": "                    name      date   manner_of_death       armed   age gender  \\\n0             Tim Elliot  02/01/15              shot         gun 53.00      M   \n1       Lewis Lee Lembke  02/01/15              shot         gun 47.00      M   \n2     John Paul Quintero  03/01/15  shot and Tasered     unarmed 23.00      M   \n3        Matthew Hoffman  04/01/15              shot  toy weapon 32.00      M   \n4      Michael Rodriguez  04/01/15              shot    nail gun 39.00      M   \n...                  ...       ...               ...         ...   ...    ...   \n2530   Kesharn K. Burney  26/07/17              shot     vehicle 25.00      M   \n2532    Deltra Henderson  27/07/17              shot         gun 39.00      M   \n2535  Alejandro Alvarado  27/07/17              shot       knife 34.00      M   \n2540       Isaiah Tucker  31/07/17              shot     vehicle 28.00      M   \n2541        Dwayne Jeune  31/07/17              shot       knife 32.00      M   \n\n     race           city state  signs_of_mental_illness  ...         flee  \\\n0       A        Shelton    WA                     True  ...  Not fleeing   \n1       W          Aloha    OR                    False  ...  Not fleeing   \n2       H        Wichita    KS                    False  ...  Not fleeing   \n3       W  San Francisco    CA                     True  ...  Not fleeing   \n4       H          Evans    CO                    False  ...  Not fleeing   \n...   ...            ...   ...                      ...  ...          ...   \n2530    B         Dayton    OH                    False  ...          Car   \n2532    B          Homer    LA                    False  ...          Car   \n2535    H     Chowchilla    CA                    False  ...  Not fleeing   \n2540    B        Oshkosh    WI                    False  ...          Car   \n2541    B       Brooklyn    NY                     True  ...  Not fleeing   \n\n     body_camera  poverty_rate  median_income  share_white  share_black  \\\n0          False         28.60      37,072.00        78.90         0.80   \n1          False         14.90      65,765.00        70.90         2.60   \n2          False         17.30      45,947.00        71.90        11.50   \n3          False         13.20      81,294.00        48.50         6.10   \n4          False         16.60      47,791.00        76.50         0.90   \n...          ...           ...            ...          ...          ...   \n2530       False         35.50      27,683.00        51.70        42.90   \n2532       False         40.00      27,050.00        33.00        64.30   \n2535       False         32.10      34,559.00        61.60        12.60   \n2540        True         17.90      42,650.00        90.50         3.10   \n2541       False         19.50      46,770.00        68.30         8.20   \n\n      share_native_american  share_asian  share_hispanic  percent_completed_hs  \n0                      3.70         1.10           19.20                 80.10  \n1                      1.00         8.90           21.10                 88.10  \n2                      1.20         4.80           15.30                 87.50  \n3                      0.50        33.30           15.10                 87.00  \n4                      1.20         0.90           43.10                 76.30  \n...                     ...          ...             ...                   ...  \n2530                   0.30         0.90            3.00                 82.10  \n2532                   0.10         0.80            1.40                 79.00  \n2535                   2.00         2.10           37.80                 68.30  \n2540                   0.80         3.20            2.70                 89.30  \n2541                   0.60         2.50           12.80                 85.20  \n\n[2288 rows x 21 columns]",
      "text/html": "<div>\n<style scoped>\n    .dataframe tbody tr th:only-of-type {\n        vertical-align: middle;\n    }\n\n    .dataframe tbody tr th {\n        vertical-align: top;\n    }\n\n    .dataframe thead th {\n        text-align: right;\n    }\n</style>\n<table border=\"1\" class=\"dataframe\">\n  <thead>\n    <tr style=\"text-align: right;\">\n      <th></th>\n      <th>name</th>\n      <th>date</th>\n      <th>manner_of_death</th>\n      <th>armed</th>\n      <th>age</th>\n      <th>gender</th>\n      <th>race</th>\n      <th>city</th>\n      <th>state</th>\n      <th>signs_of_mental_illness</th>\n      <th>...</th>\n      <th>flee</th>\n      <th>body_camera</th>\n      <th>poverty_rate</th>\n      <th>median_income</th>\n      <th>share_white</th>\n      <th>share_black</th>\n      <th>share_native_american</th>\n      <th>share_asian</th>\n      <th>share_hispanic</th>\n      <th>percent_completed_hs</th>\n    </tr>\n  </thead>\n  <tbody>\n    <tr>\n      <th>0</th>\n      <td>Tim Elliot</td>\n      <td>02/01/15</td>\n      <td>shot</td>\n      <td>gun</td>\n      <td>53.00</td>\n      <td>M</td>\n      <td>A</td>\n      <td>Shelton</td>\n      <td>WA</td>\n      <td>True</td>\n      <td>...</td>\n      <td>Not fleeing</td>\n      <td>False</td>\n      <td>28.60</td>\n      <td>37,072.00</td>\n      <td>78.90</td>\n      <td>0.80</td>\n      <td>3.70</td>\n      <td>1.10</td>\n      <td>19.20</td>\n      <td>80.10</td>\n    </tr>\n    <tr>\n      <th>1</th>\n      <td>Lewis Lee Lembke</td>\n      <td>02/01/15</td>\n      <td>shot</td>\n      <td>gun</td>\n      <td>47.00</td>\n      <td>M</td>\n      <td>W</td>\n      <td>Aloha</td>\n      <td>OR</td>\n      <td>False</td>\n      <td>...</td>\n      <td>Not fleeing</td>\n      <td>False</td>\n      <td>14.90</td>\n      <td>65,765.00</td>\n      <td>70.90</td>\n      <td>2.60</td>\n      <td>1.00</td>\n      <td>8.90</td>\n      <td>21.10</td>\n      <td>88.10</td>\n    </tr>\n    <tr>\n      <th>2</th>\n      <td>John Paul Quintero</td>\n      <td>03/01/15</td>\n      <td>shot and Tasered</td>\n      <td>unarmed</td>\n      <td>23.00</td>\n      <td>M</td>\n      <td>H</td>\n      <td>Wichita</td>\n      <td>KS</td>\n      <td>False</td>\n      <td>...</td>\n      <td>Not fleeing</td>\n      <td>False</td>\n      <td>17.30</td>\n      <td>45,947.00</td>\n      <td>71.90</td>\n      <td>11.50</td>\n      <td>1.20</td>\n      <td>4.80</td>\n      <td>15.30</td>\n      <td>87.50</td>\n    </tr>\n    <tr>\n      <th>3</th>\n      <td>Matthew Hoffman</td>\n      <td>04/01/15</td>\n      <td>shot</td>\n      <td>toy weapon</td>\n      <td>32.00</td>\n      <td>M</td>\n      <td>W</td>\n      <td>San Francisco</td>\n      <td>CA</td>\n      <td>True</td>\n      <td>...</td>\n      <td>Not fleeing</td>\n      <td>False</td>\n      <td>13.20</td>\n      <td>81,294.00</td>\n      <td>48.50</td>\n      <td>6.10</td>\n      <td>0.50</td>\n      <td>33.30</td>\n      <td>15.10</td>\n      <td>87.00</td>\n    </tr>\n    <tr>\n      <th>4</th>\n      <td>Michael Rodriguez</td>\n      <td>04/01/15</td>\n      <td>shot</td>\n      <td>nail gun</td>\n      <td>39.00</td>\n      <td>M</td>\n      <td>H</td>\n      <td>Evans</td>\n      <td>CO</td>\n      <td>False</td>\n      <td>...</td>\n      <td>Not fleeing</td>\n      <td>False</td>\n      <td>16.60</td>\n      <td>47,791.00</td>\n      <td>76.50</td>\n      <td>0.90</td>\n      <td>1.20</td>\n      <td>0.90</td>\n      <td>43.10</td>\n      <td>76.30</td>\n    </tr>\n    <tr>\n      <th>...</th>\n      <td>...</td>\n      <td>...</td>\n      <td>...</td>\n      <td>...</td>\n      <td>...</td>\n      <td>...</td>\n      <td>...</td>\n      <td>...</td>\n      <td>...</td>\n      <td>...</td>\n      <td>...</td>\n      <td>...</td>\n      <td>...</td>\n      <td>...</td>\n      <td>...</td>\n      <td>...</td>\n      <td>...</td>\n      <td>...</td>\n      <td>...</td>\n      <td>...</td>\n      <td>...</td>\n    </tr>\n    <tr>\n      <th>2530</th>\n      <td>Kesharn K. Burney</td>\n      <td>26/07/17</td>\n      <td>shot</td>\n      <td>vehicle</td>\n      <td>25.00</td>\n      <td>M</td>\n      <td>B</td>\n      <td>Dayton</td>\n      <td>OH</td>\n      <td>False</td>\n      <td>...</td>\n      <td>Car</td>\n      <td>False</td>\n      <td>35.50</td>\n      <td>27,683.00</td>\n      <td>51.70</td>\n      <td>42.90</td>\n      <td>0.30</td>\n      <td>0.90</td>\n      <td>3.00</td>\n      <td>82.10</td>\n    </tr>\n    <tr>\n      <th>2532</th>\n      <td>Deltra Henderson</td>\n      <td>27/07/17</td>\n      <td>shot</td>\n      <td>gun</td>\n      <td>39.00</td>\n      <td>M</td>\n      <td>B</td>\n      <td>Homer</td>\n      <td>LA</td>\n      <td>False</td>\n      <td>...</td>\n      <td>Car</td>\n      <td>False</td>\n      <td>40.00</td>\n      <td>27,050.00</td>\n      <td>33.00</td>\n      <td>64.30</td>\n      <td>0.10</td>\n      <td>0.80</td>\n      <td>1.40</td>\n      <td>79.00</td>\n    </tr>\n    <tr>\n      <th>2535</th>\n      <td>Alejandro Alvarado</td>\n      <td>27/07/17</td>\n      <td>shot</td>\n      <td>knife</td>\n      <td>34.00</td>\n      <td>M</td>\n      <td>H</td>\n      <td>Chowchilla</td>\n      <td>CA</td>\n      <td>False</td>\n      <td>...</td>\n      <td>Not fleeing</td>\n      <td>False</td>\n      <td>32.10</td>\n      <td>34,559.00</td>\n      <td>61.60</td>\n      <td>12.60</td>\n      <td>2.00</td>\n      <td>2.10</td>\n      <td>37.80</td>\n      <td>68.30</td>\n    </tr>\n    <tr>\n      <th>2540</th>\n      <td>Isaiah Tucker</td>\n      <td>31/07/17</td>\n      <td>shot</td>\n      <td>vehicle</td>\n      <td>28.00</td>\n      <td>M</td>\n      <td>B</td>\n      <td>Oshkosh</td>\n      <td>WI</td>\n      <td>False</td>\n      <td>...</td>\n      <td>Car</td>\n      <td>True</td>\n      <td>17.90</td>\n      <td>42,650.00</td>\n      <td>90.50</td>\n      <td>3.10</td>\n      <td>0.80</td>\n      <td>3.20</td>\n      <td>2.70</td>\n      <td>89.30</td>\n    </tr>\n    <tr>\n      <th>2541</th>\n      <td>Dwayne Jeune</td>\n      <td>31/07/17</td>\n      <td>shot</td>\n      <td>knife</td>\n      <td>32.00</td>\n      <td>M</td>\n      <td>B</td>\n      <td>Brooklyn</td>\n      <td>NY</td>\n      <td>True</td>\n      <td>...</td>\n      <td>Not fleeing</td>\n      <td>False</td>\n      <td>19.50</td>\n      <td>46,770.00</td>\n      <td>68.30</td>\n      <td>8.20</td>\n      <td>0.60</td>\n      <td>2.50</td>\n      <td>12.80</td>\n      <td>85.20</td>\n    </tr>\n  </tbody>\n</table>\n<p>2288 rows × 21 columns</p>\n</div>"
     },
     "execution_count": 218,
     "metadata": {},
     "output_type": "execute_result"
    }
   ],
   "source": [
    "# Drop all remaining NaN values in categorical columns\n",
    "df = df.dropna()\n",
    "df"
   ],
   "metadata": {
    "collapsed": false,
    "pycharm": {
     "name": "#%%\n"
    }
   }
  },
  {
   "cell_type": "markdown",
   "metadata": {
    "_uuid": "52b308c936f5835c5cd186497fe3f96e96372483",
    "id": "n3DrcXVQuRoZ"
   },
   "source": [
    "# Chart the Poverty Rate in each US State\n",
    "\n",
    "Create a bar chart that ranks the poverty rate from highest to lowest by US state. Which state has the highest poverty rate? Which state has the lowest poverty rate?  Bar Plot"
   ]
  },
  {
   "cell_type": "code",
   "metadata": {
    "id": "mGxEzMDqzqmn"
   },
   "source": [
    ""
   ],
   "execution_count": null,
   "outputs": []
  },
  {
   "cell_type": "code",
   "metadata": {
    "id": "B3AM6oJQ1D_P"
   },
   "source": [
    ""
   ],
   "execution_count": null,
   "outputs": []
  },
  {
   "cell_type": "markdown",
   "metadata": {
    "id": "GhUibVz5z4sn"
   },
   "source": [
    "# Chart the High School Graduation Rate by US State\n",
    "\n",
    "Show the High School Graduation Rate in ascending order of US States. Which state has the lowest high school graduation rate? Which state has the highest?"
   ]
  },
  {
   "cell_type": "code",
   "metadata": {
    "id": "laD6W9eG0JFR"
   },
   "source": [
    ""
   ],
   "execution_count": null,
   "outputs": []
  },
  {
   "cell_type": "markdown",
   "metadata": {
    "id": "ENGTEmPQ0Rvt"
   },
   "source": [
    "# Visualise the Relationship between Poverty Rates and High School Graduation Rates\n",
    "\n",
    "#### Create a line chart with two y-axes to show if the rations of poverty and high school graduation move together.  "
   ]
  },
  {
   "cell_type": "code",
   "metadata": {
    "id": "MkNk5U8v0JPB"
   },
   "source": [
    ""
   ],
   "execution_count": null,
   "outputs": []
  },
  {
   "cell_type": "code",
   "metadata": {
    "id": "urRMqQG_0Nmo"
   },
   "source": [
    ""
   ],
   "execution_count": null,
   "outputs": []
  },
  {
   "cell_type": "markdown",
   "metadata": {
    "id": "Zavx_8PL1Jy9"
   },
   "source": [
    "#### Now use a Seaborn .jointplot() with a Kernel Density Estimate (KDE) and/or scatter plot to visualise the same relationship"
   ]
  },
  {
   "cell_type": "code",
   "metadata": {
    "id": "u77CHfdX0pjW"
   },
   "source": [
    ""
   ],
   "execution_count": null,
   "outputs": []
  },
  {
   "cell_type": "code",
   "metadata": {
    "id": "CYy89o-u1zu0"
   },
   "source": [
    ""
   ],
   "execution_count": null,
   "outputs": []
  },
  {
   "cell_type": "markdown",
   "metadata": {
    "id": "PXNFQmHl10Fx"
   },
   "source": [
    "#### Seaborn's `.lmplot()` or `.regplot()` to show a linear regression between the poverty ratio and the high school graduation ratio. "
   ]
  },
  {
   "cell_type": "code",
   "metadata": {
    "id": "F1xrjFgT1znI"
   },
   "source": [
    ""
   ],
   "execution_count": null,
   "outputs": []
  },
  {
   "cell_type": "markdown",
   "metadata": {
    "id": "QJTbZZKg0p6i"
   },
   "source": [
    "# Create a Bar Chart with Subsections Showing the Racial Makeup of Each US State\n",
    "\n",
    "Visualise the share of the white, black, hispanic, asian and native american population in each US State using a bar chart with sub sections. "
   ]
  },
  {
   "cell_type": "code",
   "metadata": {
    "id": "YQbXb6Ex09D9"
   },
   "source": [
    ""
   ],
   "execution_count": null,
   "outputs": []
  },
  {
   "cell_type": "code",
   "metadata": {
    "id": "LqrimlLo09Na"
   },
   "source": [
    ""
   ],
   "execution_count": null,
   "outputs": []
  },
  {
   "cell_type": "markdown",
   "metadata": {
    "_uuid": "77493cfd86a031612be8fb8d60f27713e74e6d80",
    "id": "K7xvQXkjuRo7"
   },
   "source": [
    "# Create Donut Chart by of People Killed by Race\n",
    "\n",
    "Hint: Use `.value_counts()`"
   ]
  },
  {
   "cell_type": "code",
   "metadata": {
    "id": "1nOafPdy1u9Z"
   },
   "source": [
    ""
   ],
   "execution_count": null,
   "outputs": []
  },
  {
   "cell_type": "code",
   "metadata": {
    "id": "YN3hzJTe1vHJ"
   },
   "source": [
    ""
   ],
   "execution_count": null,
   "outputs": []
  },
  {
   "cell_type": "markdown",
   "metadata": {
    "id": "kr-8Rezn3Bep"
   },
   "source": [
    "# Create a Chart Comparing the Total Number of Deaths of Men and Women\n",
    "\n",
    "Use `df_fatalities` to illustrate how many more men are killed compared to women. "
   ]
  },
  {
   "cell_type": "code",
   "metadata": {
    "id": "joH1L4303BsJ"
   },
   "source": [
    ""
   ],
   "execution_count": null,
   "outputs": []
  },
  {
   "cell_type": "code",
   "metadata": {
    "id": "X4MrMkVa3MTk"
   },
   "source": [
    ""
   ],
   "execution_count": null,
   "outputs": []
  },
  {
   "cell_type": "markdown",
   "metadata": {
    "_uuid": "cd1531c8421bfb6967cebf7039056779f9b960a6",
    "id": "ZxbBdvM0uRpQ"
   },
   "source": [
    "# Create a Box Plot Showing the Age and Manner of Death\n",
    "\n",
    "Break out the data by gender using `df_fatalities`. Is there a difference between men and women in the manner of death? "
   ]
  },
  {
   "cell_type": "code",
   "metadata": {
    "id": "WdPPZLJY2shA"
   },
   "source": [
    ""
   ],
   "execution_count": null,
   "outputs": []
  },
  {
   "cell_type": "code",
   "metadata": {
    "id": "tpPq4uFc2sql"
   },
   "source": [
    ""
   ],
   "execution_count": null,
   "outputs": []
  },
  {
   "cell_type": "code",
   "metadata": {
    "id": "EnFbXlRm3XK6"
   },
   "source": [
    ""
   ],
   "execution_count": null,
   "outputs": []
  },
  {
   "cell_type": "markdown",
   "metadata": {
    "id": "h1pAgkyb3Xb0"
   },
   "source": [
    "# Were People Armed? \n",
    "\n",
    "In what percentage of police killings were people armed? Create chart that show what kind of weapon (if any) the deceased was carrying. How many of the people killed by police were armed with guns versus unarmed? "
   ]
  },
  {
   "cell_type": "code",
   "metadata": {
    "id": "0d9B3Pec4TdM"
   },
   "source": [
    ""
   ],
   "execution_count": null,
   "outputs": []
  },
  {
   "cell_type": "code",
   "metadata": {
    "id": "vdGTO3pW4Tp5"
   },
   "source": [
    ""
   ],
   "execution_count": null,
   "outputs": []
  },
  {
   "cell_type": "code",
   "metadata": {
    "id": "qnO_rckl4WuJ"
   },
   "source": [
    ""
   ],
   "execution_count": null,
   "outputs": []
  },
  {
   "cell_type": "markdown",
   "metadata": {
    "id": "IgD2a5-L4W_I"
   },
   "source": [
    "# How Old Were the People Killed?"
   ]
  },
  {
   "cell_type": "markdown",
   "metadata": {
    "id": "BNPrdT-W9lf3"
   },
   "source": [
    "Work out what percentage of people killed were under 25 years old.  "
   ]
  },
  {
   "cell_type": "code",
   "metadata": {
    "id": "zSyDgzb542O9"
   },
   "source": [
    ""
   ],
   "execution_count": null,
   "outputs": []
  },
  {
   "cell_type": "markdown",
   "metadata": {
    "id": "5XrAD_ey9qBB"
   },
   "source": [
    "Create a histogram and KDE plot that shows the distribution of ages of the people killed by police. "
   ]
  },
  {
   "cell_type": "code",
   "metadata": {
    "id": "U6B1Qp7l42H8"
   },
   "source": [
    ""
   ],
   "execution_count": null,
   "outputs": []
  },
  {
   "cell_type": "markdown",
   "metadata": {
    "id": "zcqqPDo79rTx"
   },
   "source": [
    "Create a seperate KDE plot for each race. Is there a difference between the distributions? "
   ]
  },
  {
   "cell_type": "code",
   "metadata": {
    "id": "ubUnMjok43Zo"
   },
   "source": [
    ""
   ],
   "execution_count": null,
   "outputs": []
  },
  {
   "cell_type": "markdown",
   "metadata": {
    "id": "JkcHvMUt43uE"
   },
   "source": [
    "# Race of People Killed\n",
    "\n",
    "Create a chart that shows the total number of people killed by race. "
   ]
  },
  {
   "cell_type": "code",
   "metadata": {
    "id": "e8wZvBrt5BEb"
   },
   "source": [
    ""
   ],
   "execution_count": null,
   "outputs": []
  },
  {
   "cell_type": "code",
   "metadata": {
    "id": "_aqN0wC45BOl"
   },
   "source": [
    ""
   ],
   "execution_count": null,
   "outputs": []
  },
  {
   "cell_type": "markdown",
   "metadata": {
    "id": "SJaNm4rC5nWm"
   },
   "source": [
    "# Mental Illness and Police Killings\n",
    "\n",
    "What percentage of people killed by police have been diagnosed with a mental illness?"
   ]
  },
  {
   "cell_type": "code",
   "metadata": {
    "id": "dbuGvCnN5ytC"
   },
   "source": [
    ""
   ],
   "execution_count": null,
   "outputs": []
  },
  {
   "cell_type": "code",
   "metadata": {
    "id": "BsKDVLiY5CP_"
   },
   "source": [
    ""
   ],
   "execution_count": null,
   "outputs": []
  },
  {
   "cell_type": "markdown",
   "metadata": {
    "id": "R0WSPeKD5Cir"
   },
   "source": [
    "# In Which Cities Do the Most Police Killings Take Place?\n",
    "\n",
    "Create a chart ranking the top 10 cities with the most police killings. Which cities are the most dangerous?  "
   ]
  },
  {
   "cell_type": "code",
   "metadata": {
    "id": "NYVwo3qy5UV3"
   },
   "source": [
    ""
   ],
   "execution_count": null,
   "outputs": []
  },
  {
   "cell_type": "code",
   "metadata": {
    "id": "T_FU4GFk5Upa"
   },
   "source": [
    ""
   ],
   "execution_count": null,
   "outputs": []
  },
  {
   "cell_type": "markdown",
   "metadata": {
    "id": "AqcOW6ca8JMD"
   },
   "source": [
    "# Rate of Death by Race\n",
    "\n",
    "Find the share of each race in the top 10 cities. Contrast this with the top 10 cities of police killings to work out the rate at which people are killed by race for each city. "
   ]
  },
  {
   "cell_type": "code",
   "metadata": {
    "id": "FkjAUlKy8I2g"
   },
   "source": [
    ""
   ],
   "execution_count": null,
   "outputs": []
  },
  {
   "cell_type": "code",
   "metadata": {
    "id": "dA3Hs9b55V59"
   },
   "source": [
    ""
   ],
   "execution_count": null,
   "outputs": []
  },
  {
   "cell_type": "markdown",
   "metadata": {
    "id": "1HUJksrI5WFb"
   },
   "source": [
    "# Create a Choropleth Map of Police Killings by US State\n",
    "\n",
    "Which states are the most dangerous? Compare your map with your previous chart. Are these the same states with high degrees of poverty? "
   ]
  },
  {
   "cell_type": "code",
   "metadata": {
    "id": "u3UuX4Yo5dBA"
   },
   "source": [
    ""
   ],
   "execution_count": null,
   "outputs": []
  },
  {
   "cell_type": "code",
   "metadata": {
    "id": "Y6VLPDeN5dKO"
   },
   "source": [
    ""
   ],
   "execution_count": null,
   "outputs": []
  },
  {
   "cell_type": "markdown",
   "metadata": {
    "id": "37UsmVYF6hA2"
   },
   "source": [
    "# Number of Police Killings Over Time\n",
    "\n",
    "Analyse the Number of Police Killings over Time. Is there a trend in the data? "
   ]
  },
  {
   "cell_type": "code",
   "metadata": {
    "id": "nITf1IhP6gpI"
   },
   "source": [
    ""
   ],
   "execution_count": null,
   "outputs": []
  },
  {
   "cell_type": "code",
   "metadata": {
    "id": "Q_vxjD_A7JRh"
   },
   "source": [
    ""
   ],
   "execution_count": null,
   "outputs": []
  },
  {
   "cell_type": "code",
   "metadata": {
    "id": "mOqtie707JU8"
   },
   "source": [
    ""
   ],
   "execution_count": null,
   "outputs": []
  },
  {
   "cell_type": "code",
   "metadata": {
    "id": "5fjhL8Lk7JKa"
   },
   "source": [
    ""
   ],
   "execution_count": null,
   "outputs": []
  },
  {
   "cell_type": "markdown",
   "metadata": {
    "id": "9o6uLFpS61nw"
   },
   "source": [
    "# Epilogue\n",
    "\n",
    "Now that you have analysed the data yourself, read [The Washington Post's analysis here](https://www.washingtonpost.com/graphics/investigations/police-shootings-database/)."
   ]
  },
  {
   "cell_type": "code",
   "metadata": {
    "id": "8PjgzuNa61I1"
   },
   "source": [
    ""
   ],
   "execution_count": null,
   "outputs": []
  }
 ]
}